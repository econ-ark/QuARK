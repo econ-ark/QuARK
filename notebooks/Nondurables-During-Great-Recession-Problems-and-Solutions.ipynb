{
 "cells": [
  {
   "cell_type": "markdown",
   "metadata": {},
   "source": [
    "# Spending on Nondurables During the Great \n",
    "\n",
    "<p style=\"text-align: center;\"><small><small><small>Generator: QuARK-make/notebooks_byname</small></small></small></p>"
   ]
  },
  {
   "cell_type": "code",
   "execution_count": 1,
   "metadata": {
    "code_folding": [
     0
    ]
   },
   "outputs": [],
   "source": [
    "# Initial imports and notebook setup, click arrow to show\n",
    "\n",
    "import matplotlib.pyplot as plt\n",
    "\n",
    "## Import some things from cstwMPC\n",
    "\n",
    "from tqdm import tqdm\n",
    "\n",
    "import numpy as np\n",
    "from copy import deepcopy\n",
    "\n",
    "import HARK # Prevents import error from Demos repo\n",
    "from HARK.utilities import plotFuncs"
   ]
  },
  {
   "cell_type": "markdown",
   "metadata": {},
   "source": [
    "### There Was a Big Drop in Consumption ... \n",
    "Between the second and fourth quarters of 2008, nondurables consumption spending in the U.S. dropped by an unprecedented 6.4 percent.  High frequency data show a drop in retail sales of something like 10 percent between the weekend before the Lehmann collapse and the weekend after Lehmann.  "
   ]
  },
  {
   "cell_type": "markdown",
   "metadata": {},
   "source": [
    "### ... and Uncertainty Could Induce A Drop In Consumption ...  \n",
    "Increased \"uncertainty\" has become a popular explanation of much of what happened in the Great Recession -- including this drop.  Qualitatively, it is well known that a perceived increase in labor income uncertainty should induce more saving (less consumption) for precautionary reasons.\n",
    "\n",
    "### ... But Is the Story _Quantitatively_ Plausible?\n",
    "But if explaining a 6.4 percent drop in consumption would require an implausibly large increase in uncertainty, the story that uncertainty explains the consumption drop is implausible.  \n",
    "\n",
    "### Transitory Shocks, Permanent Shocks, or Unemployment\n",
    "The $\\texttt{ConsIndShockConsumerType}$ model incorporates three kinds of uncertainty: Unemployment spells, during which income is reduced to some small proportion of its normal level; and, for consumers who remain employed, transitory and permanent shocks with standard deviations $\\sigma_{\\theta}$ and $\\sigma_{\\psi}$.  \n",
    "\n",
    "### The Question:\n",
    "How large an increase in the standard deviation of $\\sigma_{\\psi}$ would be necessary to induce a 6.4 percent drop in consumption in one quarter?  What about $\\sigma_{\\theta}$?  How high would the perceived unemployment probability have to be?\n",
    "\n",
    "The first step is to create the agents we want to solve the model for.\n",
    "\n",
    "Model set up:\n",
    "- \"Standard\" infinite horizon consumption/savings model, with mortality and permanent and temporary shocks to income\n",
    "- Ex-ante heterogeneity in consumers' discount factors\n",
    "    \n",
    "With this basic setup, HARK's IndShockConsumerType is the appropriate subclass of $\\texttt{AgentType}$. So we need to prepare the parameters to create instances of that class.\n"
   ]
  },
  {
   "cell_type": "code",
   "execution_count": 2,
   "metadata": {
    "code_folding": [
     1
    ]
   },
   "outputs": [],
   "source": [
    "# Choose some calibrated parameters that roughly match steady state \n",
    "init_infinite = {\n",
    "    \"CRRA\":1.0,                    # Coefficient of relative risk aversion \n",
    "    \"Rfree\":1.01/(1.0 - 1.0/240.0), # Survival probability,\n",
    "    \"PermGroFac\":[1.000**0.25], # Permanent income growth factor (no perm growth),\n",
    "    \"PermGroFacAgg\":1.0,\n",
    "    \"BoroCnstArt\":0.0,\n",
    "    \"CubicBool\":False,\n",
    "    \"vFuncBool\":False,\n",
    "    \"PermShkStd\":[(0.01*4/11)**0.5],  # Standard deviation of permanent shocks to income\n",
    "    \"PermShkCount\":7,  # Number of points in permanent income shock grid\n",
    "    \"TranShkStd\":[(0.01*4)**0.5],  # Standard deviation of transitory shocks to income,\n",
    "    \"TranShkCount\":5,  # Number of points in transitory income shock grid\n",
    "    \"UnempPrb\":0.07,  # Probability of unemployment while working\n",
    "    \"IncUnemp\":0.15,  # Unemployment benefit replacement rate\n",
    "    \"UnempPrbRet\":None,\n",
    "    \"IncUnempRet\":None,\n",
    "    \"aXtraMin\":0.00001,  # Minimum end-of-period assets in grid\n",
    "    \"aXtraMax\":20,  # Maximum end-of-period assets in grid\n",
    "    \"aXtraCount\":20,  # Number of points in assets grid,\n",
    "    \"aXtraExtra\":[None],\n",
    "    \"aXtraNestFac\":3,  # Number of times to 'exponentially nest' when constructing assets grid\n",
    "    \"LivPrb\":[1.0 - 1.0/240.0],  # Survival probability\n",
    "    \"DiscFac\":0.97,             # Default intertemporal discount factor, # dummy value, will be overwritten\n",
    "    \"cycles\":0,\n",
    "    \"T_cycle\":1,\n",
    "    \"T_retire\":0,\n",
    "    'T_sim':2000,  # Number of periods to simulate (idiosyncratic shocks model, perpetual youth)\n",
    "    'T_age':1000,\n",
    "    'IndL': 10.0/9.0,  # Labor supply per individual (constant),\n",
    "    'aNrmInitMean':np.log(0.00001),\n",
    "    'aNrmInitStd':0.0,\n",
    "    'pLvlInitMean':0.0,\n",
    "    'pLvlInitStd':0.0,\n",
    "    'AgentCount':10000,\n",
    "}"
   ]
  },
  {
   "cell_type": "markdown",
   "metadata": {},
   "source": [
    "Now we import the class itself and make a baseline type."
   ]
  },
  {
   "cell_type": "code",
   "execution_count": 3,
   "metadata": {},
   "outputs": [],
   "source": [
    "from HARK.ConsumptionSaving.ConsIndShockModel import IndShockConsumerType\n",
    "BaselineType = IndShockConsumerType(**init_infinite)"
   ]
  },
  {
   "cell_type": "markdown",
   "metadata": {},
   "source": [
    "For this exercise, we will introduce _ex ante_ heterogeneity, so the baseline type will be copied several times.\n",
    "\n",
    "First, let's create a list with seven copies of our baseline type."
   ]
  },
  {
   "cell_type": "code",
   "execution_count": 4,
   "metadata": {
    "code_folding": [
     0
    ]
   },
   "outputs": [],
   "source": [
    "# A list in python can contain anything -- including consumers\n",
    "num_consumer_types   = 7 # declare the number of types we want\n",
    "ConsumerTypes = [] # initialize an empty list\n",
    "\n",
    "for nn in range(num_consumer_types):\n",
    "    # Now create the types, and append them to the list ConsumerTypes\n",
    "    NewType = deepcopy(BaselineType)\n",
    "    NewType.seed = nn # give each consumer type a different RNG seed\n",
    "    ConsumerTypes.append(NewType)"
   ]
  },
  {
   "cell_type": "markdown",
   "metadata": {},
   "source": [
    "Now we can give each of the consumer types their own discount factor. (This approximates the distribution of parameters estimated in [\"The Distribution of Wealth and the Marginal Propensity to Consume\"](http://econ.jhu.edu/people/ccarroll/papers/cstwMPC)). "
   ]
  },
  {
   "cell_type": "code",
   "execution_count": 5,
   "metadata": {
    "code_folding": [
     0
    ]
   },
   "outputs": [],
   "source": [
    "# Seven types is enough to approximate the uniform distribution (5 is not quite enough)\n",
    "from HARK.utilities import approxUniform\n",
    "\n",
    "# Calibrations from cstwMPC\n",
    "bottomDiscFac  = 0.9800\n",
    "topDiscFac     = 0.9934\n",
    "DiscFac_list   = approxUniform(N=num_consumer_types,bot=bottomDiscFac,top=topDiscFac)[1]\n",
    "\n",
    "# Now, assign the discount factors\n",
    "for j in range(num_consumer_types):\n",
    "    ConsumerTypes[j].DiscFac = DiscFac_list[j]\n",
    "    ConsumerTypes[j].quiet   = True # Turn off some output"
   ]
  },
  {
   "cell_type": "markdown",
   "metadata": {},
   "source": [
    "Our agents now exist and have a concept of the problem they face, but we still need them to solve that problem.\n",
    "\n",
    "Once we have solved each type of consumer's individual problem, we need to know the distribution of wealth (and permanent income) that the population would achieve in the long run.\n",
    "\n",
    "The cell below does both of those tasks, looping through the consumer types. For each one, it solves that type's infinite horizon model, then simulates 1000 periods to generate an approximation to the long run distribution of wealth."
   ]
  },
  {
   "cell_type": "code",
   "execution_count": 6,
   "metadata": {
    "code_folding": [
     0
    ],
    "lines_to_next_cell": 1
   },
   "outputs": [
    {
     "name": "stderr",
     "output_type": "stream",
     "text": [
      "100%|████████████████████████████████████████████| 7/7 [00:53<00:00,  7.73s/it]\n"
     ]
    }
   ],
   "source": [
    "# tqdm presents a pretty bar that interactively shows how far the calculations have gotten\n",
    "for ConsumerType in tqdm(ConsumerTypes):\n",
    "    ## We configured their discount factor above.  Now solve\n",
    "    ConsumerType.solve(verbose=False)\n",
    "    \n",
    "    # Now simulate many periods to get to the stationary distribution\n",
    "    ConsumerType.T_sim = 2000\n",
    "    ConsumerType.initializeSim()\n",
    "    ConsumerType.simulate()"
   ]
  },
  {
   "cell_type": "markdown",
   "metadata": {},
   "source": [
    "With all of that setup taken care of, let's write some functions to run our counterfactual exercise and extract the information we want.\n",
    "\n",
    "First, let's define a simple function that merely calculates the average consumption level across the entire population in the most recent simulated period."
   ]
  },
  {
   "cell_type": "code",
   "execution_count": 7,
   "metadata": {
    "code_folding": [
     0
    ],
    "lines_to_next_cell": 1
   },
   "outputs": [],
   "source": [
    "# We just merge the cNrm and pNrm lists already constructed for each ConsumerType\n",
    "def calcAvgC(ConsumerTypes):\n",
    "    \"\"\"\n",
    "    This function calculates average consumption in the economy in last simulated period,\n",
    "    averaging across ConsumerTypes.\n",
    "    \"\"\"\n",
    "    # Make arrays with all types' (normalized) consumption and permanent income level\n",
    "    # The brackets indicate that the contents will be a list (in this case, of lists)\n",
    "    cNrm = np.concatenate([ThisType.cNrmNow for ThisType in ConsumerTypes])\n",
    "    pLvl = np.concatenate([ThisType.pLvlNow for ThisType in ConsumerTypes])\n",
    "    \n",
    "    # Calculate and return average consumption level in the economy\n",
    "    avgC = np.mean(cNrm*pLvl) # c is the ratio to p, so C = c*p\n",
    "    return avgC"
   ]
  },
  {
   "cell_type": "markdown",
   "metadata": {},
   "source": [
    "Now let's create a function to run the experiment we want -- change income uncertainty, and see how consumption changes.\n",
    "To keep the code block below (mostly) clean, we'll describe the procedure below step by step here, with accompanying annotations in the codeblock.\n",
    "\n",
    "1. Initialize an empty list to hold the changes in consumption that happen after parameters change, and calculate average consumption before the change in uncertainty.\n",
    "2. Loop through the new uncertainty parameter values to assign. For each parameter value:\n",
    " 1. Assign the parameter value to the agents\n",
    " 2. Re-solve the agent's model under that degree of uncertainty\n",
    " 3. Construct a population of agents distributed according to the pre-crisis steady state\n",
    " 4. Simulate one more period-- the first period after the change in risk.\n",
    " 5. Calculate the population average consumption level given the new consumption rule\n",
    " 6. Calculate the new average consumption level as percentage change vs the prior level.\n",
    "3. Return the list of percentage changes"
   ]
  },
  {
   "cell_type": "code",
   "execution_count": 8,
   "metadata": {
    "code_folding": [
     0
    ],
    "lines_to_next_cell": 1
   },
   "outputs": [],
   "source": [
    "# Whenever you define a function, you should describe it (with a \"docstring\")\n",
    "def calcConsChangeAfterUncertaintyChange(OriginalTypes,NewVals,ParamToChange):\n",
    "    '''\n",
    "    Calculate the change in aggregate consumption for a list of values that a \n",
    "    parameter will take on.\n",
    "    \n",
    "    Parameters\n",
    "    ----------\n",
    "    OriginalTypes : [IndShockConsumerType]\n",
    "        List of consumer types, who have already had their \"pre-shock\" problem solved and simulated.\n",
    "    NewVals : np.array\n",
    "        List or array of new values that the parameter of interest will take on.\n",
    "    ParamToChange : str\n",
    "        Name of the income distribution parameter that will be changed.\n",
    "        \n",
    "    Returns\n",
    "    -------\n",
    "    ChangesInConsumption : [float]\n",
    "        List of changes in aggregate consumption corresponding to the values in NewVals, as a percentage\n",
    "        of the original aggregate consumption level.\n",
    "    '''\n",
    "    ChangesInConsumption = [] # Step 1 \n",
    "    OldAvgC = calcAvgC(OriginalTypes)\n",
    "\n",
    "    # Step 2 (the loop over counterfactual parameter values)\n",
    "    for NewVal in tqdm(NewVals):\n",
    "        if ParamToChange in [\"PermShkStd\",\"TranShkStd\"]:\n",
    "            ThisVal = [NewVal]\n",
    "        else:\n",
    "            ThisVal = NewVal\n",
    "\n",
    "        ConsumerTypesNew = deepcopy(OriginalTypes)          \n",
    "        for index,ConsumerTypeNew in enumerate(ConsumerTypesNew):\n",
    "            setattr(ConsumerTypeNew,ParamToChange,ThisVal) # Step 2A   \n",
    "            ConsumerTypeNew.updateIncomeProcess()\n",
    "            ConsumerTypeNew.solve(verbose=False) # Step 2B\n",
    "            \n",
    "            ConsumerTypeNew.initializeSim() # Step 2C\n",
    "            ConsumerTypeNew.aNrmNow = OriginalTypes[index].aNrmNow\n",
    "            ConsumerTypeNew.pLvlNow = OriginalTypes[index].pLvlNow\n",
    "            \n",
    "            ConsumerTypeNew.simOnePeriod() # Step 2D\n",
    "\n",
    "        NewAvgC = calcAvgC(ConsumerTypesNew) # Step 2E\n",
    "        ChangeInConsumption = 100. * (NewAvgC - OldAvgC) / OldAvgC # Step 2F\n",
    "        ChangesInConsumption.append(ChangeInConsumption)\n",
    "\n",
    "    return ChangesInConsumption # Step 3, returning the output"
   ]
  },
  {
   "cell_type": "markdown",
   "metadata": {},
   "source": [
    "Our counterfactual experiment function takes three inputs-- consumer types, counterfactual values, and the name of the parameter we want to change. For the sake of convenience, let's define small functions to run the experiment for each parameter with just a single input."
   ]
  },
  {
   "cell_type": "code",
   "execution_count": 9,
   "metadata": {
    "code_folding": [
     0
    ],
    "lines_to_next_cell": 1
   },
   "outputs": [],
   "source": [
    "# Trivial functions can be useful in making the logic of your program clear\n",
    "def calcConsChangeAfterPermShkChange(newVals):\n",
    "    return calcConsChangeAfterUncertaintyChange(ConsumerTypes,newVals,\"PermShkStd\")\n",
    "\n",
    "def calcConsChangeAfterTranShkChange(newVals):\n",
    "    return calcConsChangeAfterUncertaintyChange(ConsumerTypes,newVals,\"TranShkStd\")\n",
    "\n",
    "def calcConsChangeAfterUnempPrbChange(newVals):\n",
    "    return calcConsChangeAfterUncertaintyChange(ConsumerTypes,newVals,\"UnempPrb\")"
   ]
  },
  {
   "cell_type": "markdown",
   "metadata": {},
   "source": [
    "Now we can finally run our experiment.  In the cell below, we generate a plot of the change in aggregate consumption vs the (underlying) standard deviation of permanent income shocks."
   ]
  },
  {
   "cell_type": "code",
   "execution_count": 10,
   "metadata": {
    "code_folding": [
     0
    ]
   },
   "outputs": [
    {
     "name": "stderr",
     "output_type": "stream",
     "text": [
      "100%|██████████████████████████████████████████| 10/10 [00:24<00:00,  2.48s/it]\n"
     ]
    },
    {
     "data": {
      "image/png": "[encoded data removed]",
      "text/plain": [
       "<Figure size 432x288 with 1 Axes>"
      ]
     },
     "metadata": {
      "needs_background": "light"
     },
     "output_type": "display_data"
    }
   ],
   "source": [
    "# Calculate the consequences of an \"MIT shock\" to the standard deviation of permanent shocks\n",
    "ratio_min = 0.8 # minimum number to multiply uncertainty parameter by\n",
    "TargetChangeInC = -6.3 # Source: FRED\n",
    "num_points = 10 # number of parameter values to plot in graphs. More=slower\n",
    "\n",
    "# First change the variance of the permanent income shock\n",
    "perm_ratio_max = 2.5 # Put whatever value in you want!  maximum number to multiply var of perm income shock by\n",
    "\n",
    "perm_min = BaselineType.PermShkStd[0] * ratio_min\n",
    "perm_max = BaselineType.PermShkStd[0] * perm_ratio_max\n",
    "\n",
    "plt.ylabel('% Change in Consumption')\n",
    "plt.xlabel('Std. Dev. of Perm. Income Shock (Baseline = ' + str(round(BaselineType.PermShkStd[0],2)) + ')')\n",
    "plt.title('Change in Cons. Following Increase in Perm. Income Uncertainty')\n",
    "plt.ylim(-20.,5.)\n",
    "plt.hlines(TargetChangeInC,perm_min,perm_max)\n",
    "# The expression below shows the power of python\n",
    "plotFuncs([calcConsChangeAfterPermShkChange],perm_min,perm_max,N=num_points)"
   ]
  },
  {
   "cell_type": "markdown",
   "metadata": {},
   "source": [
    "The figure shows that if people's beliefs about the standard deviation of permanent shocks to their incomes had changed from 0.06 (the default value) to about 0.012, the model would predict an immediate drop in consumption spending of about the magnitude seen in 2008.  \n",
    "\n",
    "The question is whether this is a reasonable or an unreasonable magnitude for a change in uncertainty.  Some perspective on that question is offered by the large literature that attempts to estimate the magnitude of persistent or permanent shocks to household income.  The answer varies substantially across household types, countries, and time periods, but our sense of the literature is that the whole span of the territory between 0.04 and ranging nearly up to 0.20 is well populated (in the sense that substantial populations of people or countries have been estimated to experience shocks of this magnitude).\n",
    "\n",
    "So, the degree to which income uncertainty would have had to rise in order to explain the drop in consumption in the Great Recession is quite moderate, compared to the variation that is estimated already to exist across people, places, times, and countries."
   ]
  },
  {
   "cell_type": "markdown",
   "metadata": {},
   "source": [
    "### PROBLEM\n",
    "\n",
    "Compute the change in transitory uncertainty and of unemployment risk that would be sufficient to make consumption fall by the appropriate amount (by making a figure similar to the one above). Brifely explain your results in intuitive terms, and discuss the implications for the measurement and interpretation of measures of \"uncertainty\" in consumer surveys."
   ]
  },
  {
   "cell_type": "markdown",
   "metadata": {},
   "source": [
    "### SOLUTION"
   ]
  },
  {
   "cell_type": "markdown",
   "metadata": {},
   "source": [
    "Q1. Compute the change in transitory uncertainty and of unemployment risk that would be sufficient to make consumption fall by the appropriate amount (by making a figure similar to the one above)."
   ]
  },
  {
   "cell_type": "code",
   "execution_count": 12,
   "metadata": {},
   "outputs": [
    {
     "name": "stderr",
     "output_type": "stream",
     "text": [
      "100%|██████████████████████████████████████████| 10/10 [00:21<00:00,  2.23s/it]\n"
     ]
    },
    {
     "data": {
      "image/png": "[encoded data removed]",
      "text/plain": [
       "<Figure size 432x288 with 1 Axes>"
      ]
     },
     "metadata": {
      "needs_background": "light"
     },
     "output_type": "display_data"
    }
   ],
   "source": [
    "# Calculate the consequences of an \"MIT shock\" to the standard deviation of transitory shocks\n",
    "ratio_min = 0.8 # minimum number to multiply uncertainty parameter by\n",
    "TargetChangeInC = -6.3 # Source: FRED\n",
    "num_points = 10 # number of parameter values to plot in graphs. More=slower\n",
    "\n",
    "# First change the variance of the permanent income shock\n",
    "tran_ratio_max = 10 # Put whatever value in you want!  maximum number to multiply var of perm income shock by\n",
    "\n",
    "tran_min = BaselineType.TranShkStd[0] * ratio_min\n",
    "tran_max = BaselineType.TranShkStd[0] * tran_ratio_max\n",
    "\n",
    "plt.ylabel('% Change in Consumption')\n",
    "plt.xlabel('Std. Dev. of Tran. Income Shock (Baseline = ' + str(round(BaselineType.TranShkStd[0],2)) + ')')\n",
    "plt.title('Change in Cons. Following Increase in Tran. Income Uncertainty')\n",
    "plt.ylim(-20.,5.)\n",
    "plt.hlines(TargetChangeInC,tran_min,tran_max)\n",
    "# The expression below shows the power of python\n",
    "plotFuncs([calcConsChangeAfterTranShkChange],tran_min,tran_max,N=num_points)"
   ]
  },
  {
   "cell_type": "code",
   "execution_count": 15,
   "metadata": {},
   "outputs": [
    {
     "name": "stderr",
     "output_type": "stream",
     "text": [
      "100%|██████████████████████████████████████████| 10/10 [00:22<00:00,  2.21s/it]\n"
     ]
    },
    {
     "data": {
      "image/png": "[encoded data removed]",
      "text/plain": [
       "<Figure size 432x288 with 1 Axes>"
      ]
     },
     "metadata": {
      "needs_background": "light"
     },
     "output_type": "display_data"
    }
   ],
   "source": [
    "# Calculate the consequences of an \"MIT shock\" to the unemployment probability shocks\n",
    "ratio_min = 0.8 # minimum number to multiply uncertainty parameter by\n",
    "TargetChangeInC = -6.3 # Source: FRED\n",
    "num_points = 10 # number of parameter values to plot in graphs. More=slower\n",
    "\n",
    "# First change the variance of the permanent income shock\n",
    "unemp_ratio_max = 10 # Put whatever value in you want!  maximum number to multiply var of perm income shock by\n",
    "\n",
    "unemp_min = 0.05\n",
    "unemp_max = 0.5\n",
    "\n",
    "plt.ylabel('% Change in Consumption')\n",
    "plt.xlabel('Unemployment probabilility (Baseline = ' + str(round(BaselineType.UnempPrb,2)) + ')')\n",
    "plt.title('Change in Cons. Following Increase in Unemp. Probability')\n",
    "plt.ylim(-20.,5.)\n",
    "plt.hlines(TargetChangeInC,unemp_min,unemp_max)\n",
    "# The expression below shows the power of python\n",
    "plotFuncs([calcConsChangeAfterUnempPrbChange],unemp_min,unemp_max,N=num_points)"
   ]
  },
  {
   "cell_type": "markdown",
   "metadata": {},
   "source": [
    "Q2. Brifely explain your results in intuitive terms, and discuss the implications for the measurement and interpretation of measures of \"uncertainty\" in consumer surveys."
   ]
  },
  {
   "cell_type": "markdown",
   "metadata": {},
   "source": [
    "**To justify the drop in consumption by a change in unemployment probability alone, the unemployment probability would need to jump from 0.07 to 0.35. My guess is that in reality, the unemployment probability may have increased from 0.07 to somewhere in the range 0.1-0.15, which is much less than 0.35.**\n",
    "\n",
    "\n",
    "**Similarly, to justify the drop in consumption by change in std. of transitory income shocks, the standard deviation would need to increase from 0.2 to around 0.8, i.e. a lot.**\n",
    "\n",
    "\n",
    "<span style=\"color:red\">\n",
    "    \n",
    "    \n",
    "**The extra calculation below demonstrates that if all three types of uncertainty increase by 50 % (factor 1.5), we obtain 6.3 % drop in consumption. Moreover, if the uncertainty would increase most for uneducated low income workers, the average factor would be still smaller.**\n",
    "\n",
    "\n",
    "**Bottomline is that we need to consider heterogeneity of agents and heterogeneity of uncertainty, and have to consider carefully what type of uncertainty e.g. the consumer surveys reflect.**\n",
    "</span>"
   ]
  },
  {
   "cell_type": "markdown",
   "metadata": {},
   "source": [
    "### Extra calculation\n",
    "Try scaling up all three uncertainty types by a common factor."
   ]
  },
  {
   "cell_type": "code",
   "execution_count": 41,
   "metadata": {},
   "outputs": [],
   "source": [
    "def calcConsChangeAfterUncertaintyChangeScale(OriginalTypes,NewScales):\n",
    "\n",
    "    ChangesInConsumption = [] # Step 1 \n",
    "    OldAvgC = calcAvgC(OriginalTypes)\n",
    "\n",
    "    # Step 2 (the loop over counterfactual parameter values)\n",
    "    for NewScale in tqdm(NewScales):\n",
    " \n",
    "        ConsumerTypesNew = deepcopy(OriginalTypes)          \n",
    "        for index,ConsumerTypeNew in enumerate(ConsumerTypesNew):\n",
    "            \n",
    "            ConsumerTypeNew.PermShkStd=[ConsumerTypeNew.PermShkStd[0]*NewScale] # Step 2A   \n",
    "            ConsumerTypeNew.TranShkStd=[ConsumerTypeNew.TranShkStd[0]*NewScale]\n",
    "            ConsumerTypeNew.UnempPrb=ConsumerTypeNew.UnempPrb*NewScale\n",
    "            ConsumerTypeNew.updateIncomeProcess()\n",
    "            ConsumerTypeNew.solve(verbose=False) # Step 2B\n",
    "            \n",
    "            ConsumerTypeNew.initializeSim() # Step 2C\n",
    "            ConsumerTypeNew.aNrmNow = OriginalTypes[index].aNrmNow\n",
    "            ConsumerTypeNew.pLvlNow = OriginalTypes[index].pLvlNow\n",
    "            \n",
    "            ConsumerTypeNew.simOnePeriod() # Step 2D\n",
    "\n",
    "        NewAvgC = calcAvgC(ConsumerTypesNew) # Step 2E\n",
    "        ChangeInConsumption = 100. * (NewAvgC - OldAvgC) / OldAvgC # Step 2F\n",
    "        ChangesInConsumption.append(ChangeInConsumption)\n",
    "\n",
    "    return ChangesInConsumption # Step 3, returning the output"
   ]
  },
  {
   "cell_type": "code",
   "execution_count": 36,
   "metadata": {},
   "outputs": [],
   "source": [
    "def calcConsChangeAfterUnempPrbChange(newVals):\n",
    "    return calcConsChangeAfterUncertaintyChangeScale(ConsumerTypes,newVals)"
   ]
  },
  {
   "cell_type": "code",
   "execution_count": 43,
   "metadata": {},
   "outputs": [
    {
     "name": "stderr",
     "output_type": "stream",
     "text": [
      "100%|██████████████████████████████████████████| 10/10 [00:22<00:00,  2.33s/it]\n"
     ]
    },
    {
     "data": {
      "image/png": "[encoded data removed]",
      "text/plain": [
       "<Figure size 432x288 with 1 Axes>"
      ]
     },
     "metadata": {
      "needs_background": "light"
     },
     "output_type": "display_data"
    }
   ],
   "source": [
    "TargetChangeInC = -6.3 # Source: FRED\n",
    "plt.ylabel('% Change in Consumption')\n",
    "plt.xlabel('Uncertainty scale up')\n",
    "plt.title('Equally scaling up all types of uncertainty')\n",
    "plt.ylim(-20.,5.)\n",
    "plt.hlines(TargetChangeInC,1.,2.)\n",
    "scale_min = 1\n",
    "scale_max = 2\n",
    "# The expression below shows the power of python\n",
    "plotFuncs([calcConsChangeAfterUnempPrbChange],scale_min,scale_max,N=10)"
   ]
  },
  {
   "cell_type": "code",
   "execution_count": null,
   "metadata": {},
   "outputs": [],
   "source": []
  }
 ],
 "metadata": {
  "jupytext": {
   "cell_metadata_filter": "collapsed,code_folding",
   "formats": "ipynb,py:percent"
  },
  "kernelspec": {
   "display_name": "Python 3",
   "language": "python",
   "name": "python3"
  },
  "language_info": {
   "codemirror_mode": {
    "name": "ipython",
    "version": 3
   },
   "file_extension": ".py",
   "mimetype": "text/x-python",
   "name": "python",
   "nbconvert_exporter": "python",
   "pygments_lexer": "ipython3",
   "version": "3.7.1"
  },
  "varInspector": {
   "cols": {
    "lenName": 16,
    "lenType": 16,
    "lenVar": 40
   },
   "kernels_config": {
    "python": {
     "delete_cmd_postfix": "",
     "delete_cmd_prefix": "del ",
     "library": "var_list.py",
     "varRefreshCmd": "print(var_dic_list())"
    },
    "r": {
     "delete_cmd_postfix": ") ",
     "delete_cmd_prefix": "rm(",
     "library": "var_list.r",
     "varRefreshCmd": "cat(var_dic_list()) "
    }
   },
   "types_to_exclude": [
    "module",
    "function",
    "builtin_function_or_method",
    "instance",
    "_Feature"
   ],
   "window_display": false
  }
 },
 "nbformat": 4,
 "nbformat_minor": 4
}
