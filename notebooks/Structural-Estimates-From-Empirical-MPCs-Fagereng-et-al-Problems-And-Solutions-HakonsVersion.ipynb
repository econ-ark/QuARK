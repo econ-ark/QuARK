{
 "cells": [
  {
   "cell_type": "markdown",
   "metadata": {},
   "source": [
    "# Making Structural Estimates From Empirical Results\n",
    "\n",
    "This notebook conducts a quick and dirty structural estimation based on Table 9 of \"MPC Heterogeneity and Household Balance Sheets\" by Fagereng, Holm, and Natvik <cite data-cite=\"6202365/SUE56C4B\"></cite>, who use Norweigian administrative data on income, household assets, and lottery winnings to examine the MPC from transitory income shocks (lottery prizes).  Their Table 9 reports an estimated MPC broken down by quartiles of bank deposits and\n",
    "prize size; this table is reproduced here as $\\texttt{MPC_target_base}$.  In this demo, we use the Table 9 estimates as targets in a simple structural estimation, seeking to minimize the sum of squared differences between simulated and estimated MPCs by changing the (uniform) distribution of discount factors.  The essential question is how well their results be rationalized by a simple one-asset consumption-saving model.  \n",
    "\n",
    "\n",
    "The function that estimates discount factors includes several options for estimating different specifications:\n",
    "\n",
    "1. TypeCount : Integer number of discount factors in discrete distribution; can be set to 1 to turn off _ex ante_ heterogeneity (and to discover that the model has no chance to fit the data well without such heterogeneity).\n",
    "2. AdjFactor : Scaling factor for the target MPCs; user can try to fit estimated MPCs scaled down by (e.g.) 50%.\n",
    "3. T_kill    : Maximum number of years the (perpetually young) agents are allowed to live.  Because this is quick and dirty, it's also the number of periods to simulate.\n",
    "4. Splurge   : Amount of lottery prize that an individual will automatically spend in a moment of excitement (perhaps ancient tradition in Norway requires a big party when you win the lottery), before beginning to behave according to the optimal consumption function.  The patterns in Table 9 can be fit much better when this is set around \\$700 --> 0.7.  That doesn't seem like an unreasonable amount of money to spend on a memorable party.\n",
    "5. do_secant : Boolean indicator for whether to use \"secant MPC\", which is average MPC over the range of the prize.  MNW believes authors' regressions are estimating this rather than point MPC.  When False, structural estimation uses point MPC after receiving prize.  NB: This is incompatible with Splurge > 0.\n",
    "6. drop_corner : Boolean for whether to include target MPC in the top left corner, which is greater than 1.  Authors discuss reasons why the MPC from a transitory shock *could* exceed 1.  Option is included here because this target tends to push the estimate around a bit."
   ]
  },
  {
   "cell_type": "code",
   "execution_count": 1,
   "metadata": {
    "code_folding": []
   },
   "outputs": [],
   "source": [
    "# Import python tools\n",
    "\n",
    "import sys\n",
    "import os\n",
    "\n",
    "import numpy as np\n",
    "from copy import deepcopy"
   ]
  },
  {
   "cell_type": "code",
   "execution_count": 2,
   "metadata": {
    "code_folding": []
   },
   "outputs": [],
   "source": [
    "# Import needed tools from HARK\n",
    "\n",
    "from HARK.utilities import approxUniform, getPercentiles\n",
    "from HARK.parallel import multiThreadCommands\n",
    "from HARK.estimation import minimizeNelderMead\n",
    "from HARK.ConsumptionSaving.ConsIndShockModel import *\n",
    "from HARK.cstwMPC.SetupParamsCSTW import init_infinite"
   ]
  },
  {
   "cell_type": "code",
   "execution_count": 3,
   "metadata": {
    "code_folding": []
   },
   "outputs": [],
   "source": [
    "# Set key problem-specific parameters\n",
    "\n",
    "TypeCount = 8    # Number of consumer types with heterogeneous discount factors\n",
    "AdjFactor = 1.0  # Factor by which to scale all of MPCs in Table 9\n",
    "T_kill = 100     # Don't let agents live past this age\n",
    "Splurge = 0.7    # Consumers automatically spend this amount of any lottery prize\n",
    "do_secant = True # If True, calculate MPC by secant, else point MPC\n",
    "drop_corner = True # If True, ignore upper left corner when calculating distance"
   ]
  },
  {
   "cell_type": "code",
   "execution_count": 4,
   "metadata": {
    "code_folding": []
   },
   "outputs": [],
   "source": [
    "# Set standard HARK parameter values\n",
    "\n",
    "base_params = deepcopy(init_infinite)\n",
    "base_params['LivPrb'] = [0.975]\n",
    "base_params['Rfree'] = 1.04/base_params['LivPrb'][0]\n",
    "base_params['PermShkStd'] = [0.1]\n",
    "base_params['TranShkStd'] = [0.1]\n",
    "base_params['T_age'] = T_kill # Kill off agents if they manage to achieve T_kill working years\n",
    "base_params['AgentCount'] = 10000\n",
    "base_params['pLvlInitMean'] = np.log(23.72) # From Table 1, in thousands of USD\n",
    "base_params['T_sim'] = T_kill  # No point simulating past when agents would be killed off"
   ]
  },
  {
   "cell_type": "code",
   "execution_count": 5,
   "metadata": {
    "code_folding": []
   },
   "outputs": [],
   "source": [
    "# Define the MPC targets from Fagereng et al Table 9; element i,j is lottery quartile i, deposit quartile j\n",
    "\n",
    "MPC_target_base = np.array([[1.047, 0.745, 0.720, 0.490],\n",
    "                            [0.762, 0.640, 0.559, 0.437],\n",
    "                            [0.663, 0.546, 0.390, 0.386],\n",
    "                            [0.354, 0.325, 0.242, 0.216]])\n",
    "MPC_target = AdjFactor*MPC_target_base"
   ]
  },
  {
   "cell_type": "code",
   "execution_count": 6,
   "metadata": {
    "code_folding": []
   },
   "outputs": [],
   "source": [
    "# Define the four lottery sizes, in thousands of USD; these are eyeballed centers/averages\n",
    "\n",
    "lottery_size = np.array([1.625, 3.3741, 7.129, 40.0])"
   ]
  },
  {
   "cell_type": "code",
   "execution_count": 7,
   "metadata": {
    "code_folding": [],
    "lines_to_next_cell": 1
   },
   "outputs": [],
   "source": [
    "# Make several consumer types to be used during estimation\n",
    "\n",
    "BaseType = IndShockConsumerType(**base_params)\n",
    "EstTypeList = []\n",
    "for j in range(TypeCount):\n",
    "    EstTypeList.append(deepcopy(BaseType))\n",
    "    EstTypeList[-1](seed = j)"
   ]
  },
  {
   "cell_type": "code",
   "execution_count": 8,
   "metadata": {
    "code_folding": []
   },
   "outputs": [],
   "source": [
    "# Define the objective function\n",
    "\n",
    "def FagerengObjFunc(center,spread,verbose=False):\n",
    "    '''\n",
    "    Objective function for the quick and dirty structural estimation to fit\n",
    "    Fagereng, Holm, and Natvik's Table 9 results with a basic infinite horizon\n",
    "    consumption-saving model (with permanent and transitory income shocks).\n",
    "\n",
    "    Parameters\n",
    "    ----------\n",
    "    center : float\n",
    "        Center of the uniform distribution of discount factors.\n",
    "    spread : float\n",
    "        Width of the uniform distribution of discount factors.\n",
    "    verbose : bool\n",
    "        When True, print to screen MPC table for these parameters.  When False,\n",
    "        print (center, spread, distance).\n",
    "\n",
    "    Returns\n",
    "    -------\n",
    "    distance : float\n",
    "        Euclidean distance between simulated MPCs and (adjusted) Table 9 MPCs.\n",
    "    '''\n",
    "    # Give our consumer types the requested discount factor distribution\n",
    "    beta_set = approxUniform(N=TypeCount,bot=center-spread,top=center+spread)[1]\n",
    "    for j in range(TypeCount):\n",
    "        EstTypeList[j](DiscFac = beta_set[j])\n",
    "\n",
    "    # Solve and simulate all consumer types, then gather their wealth levels\n",
    "    multiThreadCommands(EstTypeList,['solve()','initializeSim()','simulate()','unpackcFunc()'])\n",
    "    WealthNow = np.concatenate([ThisType.aLvlNow for ThisType in EstTypeList])\n",
    "\n",
    "    # Get wealth quartile cutoffs and distribute them to each consumer type\n",
    "    quartile_cuts = getPercentiles(WealthNow,percentiles=[0.25,0.50,0.75])\n",
    "    for ThisType in EstTypeList:\n",
    "        WealthQ = np.zeros(ThisType.AgentCount,dtype=int)\n",
    "        for n in range(3):\n",
    "            WealthQ[ThisType.aLvlNow > quartile_cuts[n]] += 1\n",
    "        ThisType(WealthQ = WealthQ)\n",
    "\n",
    "    # Keep track of MPC sets in lists of lists of arrays\n",
    "    MPC_set_list = [ [[],[],[],[]],\n",
    "                     [[],[],[],[]],\n",
    "                     [[],[],[],[]],\n",
    "                     [[],[],[],[]] ]\n",
    "\n",
    "    # Calculate the MPC for each of the four lottery sizes for all agents\n",
    "    for ThisType in EstTypeList:\n",
    "        ThisType.simulate(1)\n",
    "        c_base = ThisType.cNrmNow\n",
    "        MPC_this_type = np.zeros((ThisType.AgentCount,4))\n",
    "        for k in range(4): # Get MPC for all agents of this type\n",
    "            Llvl = lottery_size[k]\n",
    "            Lnrm = Llvl/ThisType.pLvlNow\n",
    "            if do_secant:\n",
    "                SplurgeNrm = Splurge/ThisType.pLvlNow\n",
    "                mAdj = ThisType.mNrmNow + Lnrm - SplurgeNrm\n",
    "                cAdj = ThisType.cFunc[0](mAdj) + SplurgeNrm\n",
    "                MPC_this_type[:,k] = (cAdj - c_base)/Lnrm\n",
    "            else:\n",
    "                mAdj = ThisType.mNrmNow + Lnrm\n",
    "                MPC_this_type[:,k] = cAdj = ThisType.cFunc[0].derivative(mAdj)\n",
    "\n",
    "        # Sort the MPCs into the proper MPC sets\n",
    "        for q in range(4):\n",
    "            these = ThisType.WealthQ == q\n",
    "            for k in range(4):\n",
    "                MPC_set_list[k][q].append(MPC_this_type[these,k])\n",
    "\n",
    "    # Calculate average within each MPC set\n",
    "    simulated_MPC_means = np.zeros((4,4))\n",
    "    for k in range(4):\n",
    "        for q in range(4):\n",
    "            MPC_array = np.concatenate(MPC_set_list[k][q])\n",
    "            simulated_MPC_means[k,q] = np.mean(MPC_array)\n",
    "\n",
    "    # Calculate Euclidean distance between simulated MPC averages and Table 9 targets\n",
    "    diff = simulated_MPC_means - MPC_target\n",
    "    if drop_corner:\n",
    "        diff[0,0] = 0.0\n",
    "    distance = np.sqrt(np.sum((diff)**2))\n",
    "    if verbose:\n",
    "        print(simulated_MPC_means)\n",
    "    else:\n",
    "        print (center, spread, distance)\n",
    "    return distance"
   ]
  },
  {
   "cell_type": "code",
   "execution_count": 9,
   "metadata": {
    "code_folding": [],
    "scrolled": true
   },
   "outputs": [
    {
     "name": "stdout",
     "output_type": "stream",
     "text": [
      "0.86 0.09 0.27241259579700133\n",
      "0.903 0.09 0.38194704269423835\n",
      "0.86 0.0945 0.2595896473492727\n",
      "0.817 0.0945 0.4693136169405813\n",
      "0.8815 0.091125 0.25455911357070304\n",
      "0.8814999999999998 0.09562499999999999 0.25980354599503014\n",
      "0.8761249999999998 0.09421875 0.2429598008152171\n",
      "0.8976249999999998 0.09084375 0.3449412070243577\n",
      "0.8694062499999999 0.0935859375 0.23745756257727538\n",
      "0.8640312499999998 0.09667968750000001 0.24169333798807494\n",
      "0.8573124999999999 0.09604687499999999 0.2664561666780328\n",
      "0.8714218749999998 0.09467578125000001 0.23711149626461797\n",
      "0.8767968749999999 0.09158203124999999 0.24290091628520527\n",
      "0.8672226562499998 0.09540527343750001 0.2379206737502208\n",
      "0.8736054687499999 0.0928564453125 0.23862171108100785\n",
      "0.8688183593749998 0.09476806640625 0.23700687498348497\n",
      "0.8708339843749997 0.09585791015625 0.2369064481020436\n",
      "0.8715478515624997 0.09699389648437501 0.23759509176499125\n",
      "0.8682304687499998 0.09595019531250001 0.2366352068138906\n",
      "0.8666347656249997 0.09658740234375002 0.23739394759879984\n",
      "0.8702460937499996 0.09704003906250001 0.2367027219922535\n",
      "0.8676425781249997 0.09713232421875001 0.23651159282325868\n",
      "0.8660468749999999 0.09776953124999999 0.23705044494205021\n",
      "0.8656269531249998 0.09604248046875001 0.23960973176025058\n",
      "0.8690913085937497 0.09679064941406251 0.23633625586147677\n",
      "0.8685034179687496 0.09797277832031251 0.23599523654927274\n",
      "0.8686398925781247 0.09898406982421876 0.23636341150349835\n",
      "0.8699521484374997 0.09763110351562501 0.2364761691743695\n",
      "0.8693747558593746 0.09750640869140625 0.23634717183868773\n",
      "0.8682199707031247 0.09725701904296877 0.23624720042849792\n",
      "0.8676320800781245 0.09843914794921876 0.2359910665337985\n",
      "0.8669024658203117 0.09926339721679689 0.2362521354445832\n",
      "0.8679155273437494 0.0991549072265625 0.23611602326763723\n",
      "0.8679916381835933 0.09868043518066406 0.23599666944369402\n",
      "0.8681438598632809 0.09773149108886721 0.23604556016043673\n",
      "0.8680296936035152 0.09844319915771485 0.23597313593865624\n",
      "0.8671583557128901 0.0989095687866211 0.23607054772021147\n",
      "0.8681671524047847 0.09820697593688965 0.23592989429741668\n",
      "0.8685647659301754 0.09821102714538574 0.23600188316899104\n",
      "0.8678652515411373 0.0983821177482605 0.23598600749712895\n",
      "0.8683315944671627 0.098268057346344 0.23591052446375343\n",
      "0.8685647659301756 0.09821102714538577 0.23600188316899093\n",
      "0.8684690532684323 0.0980318341255188 0.23599819140384437\n",
      "0.8681395335197445 0.09834035789966583 0.23595311729234256\n",
      "0.868359213352203 0.09813467538356782 0.23596938839914966\n",
      "0.8681944534778592 0.09828893727064134 0.2359284475558041\n",
      "0.868358895540237 0.09835001868009569 0.2358890026280835\n",
      "0.8684547671079632 0.09842154005169867 0.23601908322182721\n",
      "0.8684960365295407 0.09832913875579835 0.23599018397834334\n",
      "0.8682698492407795 0.0982989876419306 0.2358994962767861\n",
      "Optimization terminated successfully.\n",
      "         Current function value: 0.235889\n",
      "         Iterations: 26\n",
      "         Function evaluations: 50\n",
      "Time to estimate is 214.11683011054993 seconds.\n",
      "Finished estimating for scaling factor of 1.0 and \"splurge amount\" of $700.0\n",
      "Optimal (beta,nabla) is [0.8683589  0.09835002], simulated MPCs are:\n",
      "[[0.76151999 0.73298046 0.68864956 0.58006627]\n",
      " [0.65413467 0.61885419 0.55851358 0.41024209]\n",
      " [0.57849521 0.5453823  0.47929304 0.31907809]\n",
      " [0.40379988 0.38415114 0.33102358 0.20557137]]\n",
      "Distance from Fagereng et al Table 9 is 0.2358890026280835\n"
     ]
    }
   ],
   "source": [
    "# Conduct the estimation\n",
    "\n",
    "guess = [0.86,0.09]\n",
    "f_temp = lambda x : FagerengObjFunc(x[0],x[1])\n",
    "opt_params = minimizeNelderMead(f_temp, guess, verbose=True)\n",
    "print('Finished estimating for scaling factor of ' + str(AdjFactor) + ' and \"splurge amount\" of $' + str(1000*Splurge))\n",
    "print('Optimal (beta,nabla) is ' + str(opt_params) + ', simulated MPCs are:')\n",
    "dist = FagerengObjFunc(opt_params[0],opt_params[1],True)\n",
    "print('Distance from Fagereng et al Table 9 is ' + str(dist))"
   ]
  },
  {
   "cell_type": "markdown",
   "metadata": {},
   "source": [
    "### PROBLEM\n",
    "\n",
    "See what happens if you do not allow a splurge amount at all.  Hint: Think about how this question relates to the `drop_corner` option.\n",
    "\n",
    "Explain why you get the results you do, and comment on possible interpretations of the \"splurge\" that might be consistent with economic theory.    \n",
    "Hint: What the authors are able to measure is actually the marginal propensity to EXPEND, not the marginal propensity to CONSUME as it is defined in our benchmark model."
   ]
  },
  {
   "cell_type": "markdown",
   "metadata": {},
   "source": [
    "## Put your solution here\n",
    "\n",
    "1. No splurge drop_corner=False: Gives optimal $\\beta=0.7898$ and $\\nabla=0.1610$. Simulated MPCs are:\n",
    "<table style=\"width:20%\">\n",
    "    <tr>    <td>0.7736</td><td>0.6832</td><td>0.5646</td><td>0.4048</td>  </tr>\n",
    "    <tr>    <td>0.7435</td><td>0.6648</td><td>0.5530</td><td>0.3963</td>  </tr> \n",
    "    <tr>    <td>0.7035</td><td>0.6351</td><td>0.5305</td><td>0.3793</td>  </tr>\n",
    "    <tr>    <td>0.5613</td><td>0.5043</td><td>0.4126</td><td>0.2926</td>  </tr>\n",
    "</table>\n",
    "Distance from Fagereng et al Table 9 is 0.5021.\n",
    "\n",
    "2. No splurge, drop_corner=True: Gives optimal $\\beta=0.8144$ and $\\nabla=0.1254$. Simulated MPCs are:\n",
    "<table style=\"width:20%\">\n",
    "    <tr>    <td>0.6784</td><td>0.6236</td><td>0.5411</td><td>0.4202</td>  </tr> \n",
    "    <tr>    <td>0.6590</td><td>0.6097</td><td>0.5304</td><td>0.4116</td>  </tr>\n",
    "    <tr>    <td>0.6275</td><td>0.5843</td><td>0.5088</td><td>0.3944</td>  </tr>\n",
    "    <tr>    <td>0.4912</td><td>0.4583</td><td>0.3935</td><td>0.3058</td>  </tr>\n",
    "</table> \n",
    "Distance from Fagereng et al Table 9 is 0.3862.\n",
    "\n",
    "3. Splurge=0.7, drop_corner=False: Gives optimal $\\beta=0.8572$ and $\\nabla=0.1163$. Simulated MPCs are:\n",
    "<table style=\"width:25%\">\n",
    "    <tr>    <td>0.7813</td><td>0.7490</td><td>0.6977</td><td>0.5700</td>  </tr>\n",
    "    <tr>    <td>0.6817</td><td>0.6409</td><td>0.5710</td><td>0.3973</td>  </tr>\n",
    "    <tr>    <td>0.6100</td><td>0.5703</td><td>0.4933</td><td>0.3049</td>  </tr>\n",
    "    <tr>    <td>0.4383</td><td>0.4106</td><td>0.3440</td><td>0.1940</td>  </tr>\n",
    "</table> \n",
    "Distance from Fagereng et al Table 9 is 0.3629.\n",
    "\n",
    "4. Splurge=0.7, drop_corner=True: Gives optimal $\\beta=0.8683$ and $\\nabla=0.0983$. Simulated MPCs are:\n",
    "<table style=\"width:25%\">\n",
    "    <tr>    <td>0.7615</td><td>0.7330</td><td>0.6888</td><td>0.5805</td>  </tr>\n",
    "    <tr>    <td>0.6541</td><td>0.6189</td><td>0.5587</td><td>0.4108</td>  </tr>\n",
    "    <tr>    <td>0.5785</td><td>0.5455</td><td>0.4795</td><td>0.3197</td>  </tr>\n",
    "    <tr>    <td>0.4038</td><td>0.3842</td><td>0.3312</td><td>0.2061</td>  </tr>\n",
    "</table>\n",
    "Distance from Fagereng et al Table 9 is 0.2359.\n",
    "\n",
    "## Discussion\n",
    "\n",
    "The first thing to note about these results is the large drop in the distance from Table 9 in Fagereng et al when setting drop_corner=True (compare results 1 vs 2 and results 3 vs 4). In the table the MPC for the lowest lottery size and lowest wealth quartile is 1.047. Even with splurge=0.7 the model cannot generate an MPC close to (and certainly not above) 1. The deviation between the model MPC and the value in the data will therefore be considerable, contributing to a larger distance. Given that the model cannot generate an MPC > 1, it makes sense to drop that value, but the improvement in the distance is to some extent mechanical. Ignoring that value yields higher estimates of $\\beta$ however, since lowering $\\beta$ is the model's best attempt at increasing the MPC. \n",
    "\n",
    "Focusing rather on the splurge component, we compare results 2 (without a splurge) vs 4 (with a splurge included). Setting splurge=0.7 gives an automatic increase in spending after the lottery which is not generated by the model. In the real world such an increase in spending makes sense if, for example, the lottery win enables a purchase of a durable good that a consumer was saving for. Such a mechanism is not included in the model. \n",
    "\n",
    "With the splurge fixed and independent of wealth and lottery sizes, the inclusion of the splurge increases MPCs for the smallest lottery wins and reduces it for the larger wins. This enables the model to generate a larger difference in MPCs for different lottery sizes, and improves the fit with the data. The improved fit is achieved with $\\beta$ centered around $0.87$ rather than $0.81$ since the splurge enables the model to imply high MPCs for the smallest lottery wins without needing to reduce $\\beta$. The higher $\\beta$ then enables lower MPCs for the larger lottery wins. \n"
   ]
  },
  {
   "cell_type": "markdown",
   "metadata": {},
   "source": [
    "### PROBLEM\n",
    "\n",
    "Call the _Marginal Propensity to Continue Consuming_ (MPCC) in year `t+n` the proportion of lottery winnings that get spent in year `t+n`.  That is, if consumption is higher in year `t+2` by an amount corresponding to 14 percent of lottery winnings, we would say  _the MPCC in t+2 is 14 percent.\n",
    "\n",
    "For the baseline version of the model with the \"splurge\" component, calculate the MPCC's for years `t+1` through `t+3` and plot them together with the MPC in the first year (including the splurge component)\n"
   ]
  },
  {
   "cell_type": "code",
   "execution_count": 10,
   "metadata": {},
   "outputs": [
    {
     "name": "stdout",
     "output_type": "stream",
     "text": [
      "Done assigning wealth quartiles\n"
     ]
    }
   ],
   "source": [
    "# Put your solution here\n",
    "\n",
    "# Use estimated beta range from case 4 above (splurge + drop_corner=True)\n",
    "center = opt_params[0]\n",
    "spread = opt_params[1]\n",
    "\n",
    "# Give our consumer types the estimated discount factor distribution\n",
    "beta_set = approxUniform(N=TypeCount,bot=center-spread,top=center+spread)[1]\n",
    "for j in range(TypeCount):\n",
    "    EstTypeList[j](DiscFac = beta_set[j])\n",
    "    #EstTypeList[j].track_vars = ['mNrmNow', 'cNrmNow', 'pLvlNow']\n",
    "\n",
    "# Solve and simulate all consumer types, then gather their wealth levels\n",
    "multiThreadCommands(EstTypeList,['solve()','initializeSim()','simulate()','unpackcFunc()'])\n",
    "WealthNow = np.concatenate([ThisType.aLvlNow for ThisType in EstTypeList])\n",
    "\n",
    "# Get wealth quartile cutoffs and distribute them to each consumer type\n",
    "quartile_cuts = getPercentiles(WealthNow,percentiles=[0.25,0.50,0.75])\n",
    "for ThisType in EstTypeList:\n",
    "    WealthQ = np.zeros(ThisType.AgentCount,dtype=int)\n",
    "    for n in range(3):\n",
    "        WealthQ[ThisType.aLvlNow > quartile_cuts[n]] += 1\n",
    "    ThisType(WealthQ = WealthQ)\n",
    "\n",
    "print('Done assigning wealth quartiles')"
   ]
  },
  {
   "cell_type": "code",
   "execution_count": 13,
   "metadata": {},
   "outputs": [
    {
     "name": "stdout",
     "output_type": "stream",
     "text": [
      "The MPC for t+0 is \n",
      " [[0.74833991 0.73064054 0.68780729 0.58372576]\n",
      " [0.63722291 0.61559769 0.5574549  0.41568309]\n",
      " [0.56163735 0.54158694 0.47854467 0.32477331]\n",
      " [0.39545884 0.38236334 0.33061264 0.20751553]]\n",
      "\n",
      "\n",
      "The MPCC for t+1 is \n",
      " [[0.18530711 0.18706143 0.19655785 0.20235439]\n",
      " [0.2279251  0.22491684 0.22394888 0.18887014]\n",
      " [0.25323252 0.2465847  0.2378824  0.18074179]\n",
      " [0.26801595 0.25791383 0.23329237 0.15793976]]\n",
      "\n",
      "\n",
      "The MPCC for t+2 is \n",
      " [[0.1288356  0.13855847 0.17127878 0.24380637]\n",
      " [0.13260479 0.13742298 0.15890968 0.18393275]\n",
      " [0.14214544 0.14253161 0.15662819 0.15541036]\n",
      " [0.18144763 0.17442858 0.17041619 0.13331058]]\n",
      "\n",
      "\n",
      "The MPCC for t+3 is \n",
      " [[0.10295604 0.11424483 0.15915858 0.26918345]\n",
      " [0.0861973  0.09315381 0.12354401 0.18041371]\n",
      " [0.08413233 0.08735972 0.10993616 0.13837196]\n",
      " [0.11848662 0.1145507  0.12281311 0.11307857]]\n"
     ]
    }
   ],
   "source": [
    "# Now for each type we want to simulate 4 periods and calculate MPCCs \n",
    "# from consumptions with and without lottery winnings\n",
    "numPeriods = 4\n",
    "\n",
    "simulated_MPC_means = np.zeros((4,4,numPeriods))    # 3d array to store MPC matrices for t to t+n\n",
    "\n",
    "# Need a structure to keep track of how wealth evolves after the lottery win\n",
    "lotteryWealthMat = np.zeros((base_params['AgentCount'],4,numPeriods))\n",
    "lotteryWealthList = []\n",
    "for j in range(TypeCount):\n",
    "    lotteryWealthList.append(deepcopy(lotteryWealthMat))\n",
    "\n",
    "for n in range(numPeriods):\n",
    "    # Keep track of MPC sets in lists of lists of arrays\n",
    "    MPC_set_list = [ [[],[],[],[]],\n",
    "                     [[],[],[],[]],\n",
    "                     [[],[],[],[]],\n",
    "                     [[],[],[],[]] ]\n",
    "\n",
    "    for ThisType in EstTypeList:\n",
    "        ThisType.simulate(1)\n",
    "        c_base = ThisType.cNrmNow\n",
    "        MPC_this_type = np.zeros((ThisType.AgentCount,4))\n",
    "        for k in range(4): \n",
    "            if n == 0: # Calculate the initial period MPCs \n",
    "                Llvl = lottery_size[k]\n",
    "                Lnrm = Llvl/ThisType.pLvlNow\n",
    "                SplurgeNrm = Splurge/ThisType.pLvlNow\n",
    "                mAdj = ThisType.mNrmNow + Lnrm - SplurgeNrm\n",
    "                cAdj = ThisType.cFunc[0](mAdj) + SplurgeNrm\n",
    "                MPC_this_type[:,k] = (cAdj - c_base)/Lnrm\n",
    "                # Store the resulting wealth after the lottery win\n",
    "                lotteryWealthList[ThisType.seed][:,k,n] = ThisType.mNrmNow + Lnrm - cAdj\n",
    "            else:      # Calculate MPCC after initial lottery win\n",
    "                       # by iterating last period's lottery wealth one period forward\n",
    "                Llvl = lottery_size[k]\n",
    "                Lnrm = Llvl/ThisType.pLvlNow\n",
    "                mAdjPrev = lotteryWealthList[ThisType.seed][:,k,n-1]\n",
    "                mAdjNew = mAdjPrev*base_params['Rfree']/ThisType.PermShkNow + ThisType.TranShkNow\n",
    "                cAdj = ThisType.cFunc[0](mAdjNew)\n",
    "                MPC_this_type[:,k] = (cAdj - c_base)/Lnrm            \n",
    "                lotteryWealthList[ThisType.seed][:,k,n] = mAdjNew-cAdj\n",
    "                \n",
    "        # Sort the MPCs into the proper MPC sets\n",
    "        for q in range(4):\n",
    "            these = ThisType.WealthQ == q\n",
    "            for k in range(4):\n",
    "                MPC_set_list[k][q].append(MPC_this_type[these,k])\n",
    "\n",
    "    # Calculate average within each MPC set\n",
    "    for k in range(4):\n",
    "        for q in range(4):\n",
    "            MPC_array = np.concatenate(MPC_set_list[k][q])\n",
    "            simulated_MPC_means[k,q, n] = np.mean(MPC_array)\n",
    "            \n",
    "\n",
    "print('The MPC for t+0 is \\n', simulated_MPC_means[:,:,0])\n",
    "print('\\n')\n",
    "print('The MPCC for t+1 is \\n', simulated_MPC_means[:,:,1])\n",
    "print('\\n')\n",
    "print('The MPCC for t+2 is \\n', simulated_MPC_means[:,:,2])\n",
    "print('\\n')\n",
    "print('The MPCC for t+3 is \\n', simulated_MPC_means[:,:,3])"
   ]
  },
  {
   "cell_type": "code",
   "execution_count": 12,
   "metadata": {
    "scrolled": false
   },
   "outputs": [
    {
     "data": {
      "image/png": "[encoded data removed]",
      "text/plain": [
       "<Figure size 432x288 with 4 Axes>"
      ]
     },
     "metadata": {
      "needs_background": "light"
     },
     "output_type": "display_data"
    }
   ],
   "source": [
    "import matplotlib.pyplot as plt\n",
    "\n",
    "for lottSize in range(4):\n",
    "    plt.subplot(2,2,lottSize+1)\n",
    "    for q in range(4):\n",
    "        labStr = \"Wealth Q=\" + str(q)\n",
    "        plt.plot(simulated_MPC_means[lottSize,q,:], label=labStr)\n",
    "        plt.xticks(ticks=range(4))\n",
    "    plt.title('Lottery size = %d' %lottSize)\n",
    "plt.subplots_adjust(hspace=0.6, wspace=0.4)\n",
    "# plt.legend(loc='best')\n",
    "plt.show()"
   ]
  }
 ],
 "metadata": {
  "cite2c": {
   "citations": {
    "6202365/SUE56C4B": {
     "author": [
      {
       "family": "Fagereng",
       "given": "Andreas"
      },
      {
       "family": "Holm",
       "given": "Martin B."
      },
      {
       "family": "Natvik",
       "given": "Gisle J."
      }
     ],
     "genre": "discussion paper",
     "id": "6202365/SUE56C4B",
     "issued": {
      "year": 2017
     },
     "publisher": "Statistics Norway",
     "title": "MPC Heterogeneity and Household Balance Sheets",
     "type": "report"
    }
   }
  },
  "jupytext": {
   "cell_metadata_filter": "collapsed,code_folding",
   "formats": "ipynb,py:percent"
  },
  "kernelspec": {
   "display_name": "Python 3",
   "language": "python",
   "name": "python3"
  },
  "language_info": {
   "codemirror_mode": {
    "name": "ipython",
    "version": 3
   },
   "file_extension": ".py",
   "mimetype": "text/x-python",
   "name": "python",
   "nbconvert_exporter": "python",
   "pygments_lexer": "ipython3",
   "version": "3.7.4"
  },
  "toc": {
   "base_numbering": 1,
   "nav_menu": {},
   "number_sections": true,
   "sideBar": true,
   "skip_h1_title": false,
   "title_cell": "Table of Contents",
   "title_sidebar": "Contents",
   "toc_cell": false,
   "toc_position": {},
   "toc_section_display": true,
   "toc_window_display": false
  },
  "varInspector": {
   "cols": {
    "lenName": 16,
    "lenType": 16,
    "lenVar": 40
   },
   "kernels_config": {
    "python": {
     "delete_cmd_postfix": "",
     "delete_cmd_prefix": "del ",
     "library": "var_list.py",
     "varRefreshCmd": "print(var_dic_list())"
    },
    "r": {
     "delete_cmd_postfix": ") ",
     "delete_cmd_prefix": "rm(",
     "library": "var_list.r",
     "varRefreshCmd": "cat(var_dic_list()) "
    }
   },
   "types_to_exclude": [
    "module",
    "function",
    "builtin_function_or_method",
    "instance",
    "_Feature"
   ],
   "window_display": false
  }
 },
 "nbformat": 4,
 "nbformat_minor": 4
}
