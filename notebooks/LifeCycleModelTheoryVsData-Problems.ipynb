{
 "cells": [
  {
   "cell_type": "markdown",
   "id": "f7aa3757",
   "metadata": {},
   "source": [
    "# The Life Cycle Model: Theory vs Data\n",
    "\n",
    "[![badge](https://img.shields.io/badge/Launch%20using%20-Econ--ARK-blue)](https://econ-ark.org/materials/lifecyclemodeltheoryvsdata#launch)\n",
    "\n",
    "National registry data on income and wealth from Scandinavian countries (esp. Norway) have recently become available (with a lot of security) to some (lucky!) researchers.   These data offer a uniquely powerful tool for testing (and improving) our models of consumption and saving behavior over the life cycle.\n",
    "\n",
    "This notebook is an example of how to construct a life cycle model with the HARK toolkit that makes predictions that can be compared to the raw data statistics=.\n",
    "\n",
    "For example, some papers have tabulated information about the **growth rate** of assets at different ages over the life cycle. \n",
    "\n",
    "The default parameters of the HARK life cycle model have not been optmized to match features of the Norwegian data; a first step in a real \"structural\" estimation would be to use Norwegian calibrate the inputs to the model (like the profile of income, and the magnitude of income shocks, over the life cycle), and then to find the values of parameters like the time preference rate that allow the model to fit the data best.  (See [SolvingMicroDSOPs](https://www.econ2.jhu.edu/people/ccarroll/SolvingMicroDSOPs) for how this can be done, and search for the corresponding HARK content using [our documentation](https://hark.readthedocs.io))."
   ]
  },
  {
   "cell_type": "code",
   "execution_count": 1,
   "id": "40023351",
   "metadata": {
    "code_folding": [],
    "lines_to_next_cell": 2
   },
   "outputs": [],
   "source": [
    "# Initial imports and notebook setup, click arrow to show\n",
    "\n",
    "import HARK.ConsumptionSaving.ConsIndShockModel as cShksModl        # The consumption-saving micro model\n",
    "from HARK.utilities import plot_funcs_der, plot_funcs              # Some tools\n",
    "import pandas as pd \n",
    "\n",
    "import numpy as np"
   ]
  },
  {
   "cell_type": "code",
   "execution_count": 3,
   "id": "77a41e5e",
   "metadata": {},
   "outputs": [],
   "source": [
    "# ---------------------------------------------------------------------------------\n",
    "# - Define all of the model parameters for SolvingMicroDSOPs and ConsumerExamples -\n",
    "# ---------------------------------------------------------------------------------\n",
    "\n",
    "exp_nest = 3                        # Number of times to \"exponentially nest\" when constructing a_grid\n",
    "aXtraMin = 0.001                    # Minimum end-of-period \"assets above minimum\" value\n",
    "aXtraMax = 20                       # Maximum end-of-period \"assets above minimum\" value\n",
    "aXtraHuge = None                    # A very large value of assets to add to the grid, not used\n",
    "aXtraExtra = None                   # Some other value of assets to add to the grid, not used\n",
    "aXtraCount = 8                      # Number of points in the grid of \"assets above minimum\"\n",
    "\n",
    "BoroCnstArt = 0.0                   # Artificial borrowing constraint; imposed minimum level of end-of period assets\n",
    "CubicBool = True                    # Use cubic spline interpolation when True, linear interpolation when False\n",
    "vFuncBool = False                   # Whether to calculate the value function during solution\n",
    "\n",
    "Rfree = 1.03                        # Interest factor on assets\n",
    "PermShkCount = 7                    # Number of points in discrete approximation to permanent income shocks\n",
    "TranShkCount = 7                    # Number of points in discrete approximation to transitory income shocks\n",
    "UnempPrb = 0.005                     # Probability of unemployment while working\n",
    "UnempPrbRet = 0.000                 # Probability of \"unemployment\" while retired\n",
    "IncUnemp = 0.0                      # Unemployment benefits replacement rate\n",
    "IncUnempRet = 0.0                   # \"Unemployment\" benefits when retired\n",
    "\n",
    "final_age = 90                      # Age at which the problem ends (die with certainty)\n",
    "retirement_age = 65                 # Age at which the consumer retires\n",
    "initial_age = 25                    # Age at which the consumer enters the model\n",
    "TT = final_age - initial_age        # Total number of periods in the model\n",
    "retirement_t = retirement_age - initial_age - 1\n",
    "\n",
    "CRRA_start = 4.0                    # Initial guess of the coefficient of relative risk aversion during estimation (rho)\n",
    "DiscFacAdj_start = 0.99             # Initial guess of the adjustment to the discount factor during estimation (beth)\n",
    "DiscFacAdj_bound = [0.0001,15.0]    # Bounds for beth; if violated, objective function returns \"penalty value\"\n",
    "CRRA_bound = [0.0001,15.0]          # Bounds for rho; if violated, objective function returns \"penalty value\"\n",
    "\n",
    "# Expected growth rates of permanent income over the lifecycle, starting from age 25\n",
    "PermGroFac = [ 1.025,  1.025,  1.025,  1.025,  1.025,  1.025,  1.025,  1.025,\n",
    "        1.025,  1.025,  1.025,  1.025,  1.025,  1.025,  1.025,  1.025,\n",
    "        1.025,  1.025,  1.025,  1.025,  1.025,  1.025,  1.025,  1.025,\n",
    "        1.025,  1.01 ,  1.01 ,  1.01 ,  1.01 ,  1.01 ,  1.01 ,  1.01 ,\n",
    "        1.01 ,  1.01 ,  1.01 ,  1.01 ,  1.01 ,  1.01 ,  1.01 ,  0.7 , # <-- This represents retirement\n",
    "        1.  ,  1.   ,  1.   ,  1.   ,  1.   ,  1.   ,  1.   ,  1.   ,\n",
    "        1.   ,  1.   ,  1.   ,  1.   ,  1.   ,  1.   ,  1.   ,  1.   ,\n",
    "        1.   ,  1.   ,  1.   ,  1.   ,  1.   ,  1.   ,  1.   ,  1.   ,  1.   ]\n",
    "\n",
    "# Age-varying discount factors over the lifecycle, lifted from Cagetti (2003)\n",
    "DiscFac_timevary = [1.064914 ,  1.057997 ,  1.051422 ,  1.045179 ,  1.039259 ,\n",
    "        1.033653 ,  1.028352 ,  1.023348 ,  1.018632 ,  1.014198 ,\n",
    "        1.010037 ,  1.006143 ,  1.002509 ,  0.9991282,  0.9959943,\n",
    "        0.9931012,  0.9904431,  0.9880143,  0.9858095,  0.9838233,\n",
    "        0.9820506,  0.9804866,  0.9791264,  0.9779656,  0.9769995,\n",
    "        0.9762239,  0.9756346,  0.9752274,  0.9749984,  0.9749437,\n",
    "        0.9750595,  0.9753422,  0.9757881,  0.9763936,  0.9771553,\n",
    "        0.9780698,  0.9791338,  0.9803439,  0.981697 ,  0.8287214,\n",
    "        0.9902111,  0.9902111,  0.9902111,  0.9902111,  0.9902111,\n",
    "        0.9902111,  0.9902111,  0.9902111,  0.9902111,  0.9902111,\n",
    "        0.9902111,  0.9902111,  0.9902111,  0.9902111,  0.9902111,\n",
    "        0.9902111,  0.9902111,  0.9902111,  0.9902111,  0.9902111,\n",
    "        0.9902111,  0.9902111,  0.9902111,  0.9902111,  0.9902111]\n",
    "\n",
    "# Survival probabilities over the lifecycle, starting from age 25\n",
    "LivPrb = [ 1.        ,  1.        ,  1.        ,  1.        ,  1.        ,\n",
    "           1.        ,  1.        ,  1.        ,  1.        ,  1.        ,\n",
    "           1.        ,  1.        ,  1.        ,  1.        ,  1.        ,\n",
    "           1.        ,  1.        ,  1.        ,  1.        ,  1.        ,\n",
    "           1.        ,  1.        ,  1.        ,  1.        ,  1.        ,\n",
    "           1.        ,  1.        ,  1.        ,  1.        ,  1.        ,\n",
    "           1.        ,  1.        ,  1.        ,  1.        ,  1.        ,\n",
    "           1.        ,  1.        ,  1.        ,  1.        ,  1.        , # <-- automatic survival to age 65\n",
    "           0.98438596,  0.98438596,  0.98438596,  0.98438596,  0.98438596,\n",
    "           0.97567062,  0.97567062,  0.97567062,  0.97567062,  0.97567062,\n",
    "           0.96207901,  0.96207901,  0.96207901,  0.96207901,  0.96207901,\n",
    "           0.93721595,  0.93721595,  0.93721595,  0.93721595,  0.93721595,\n",
    "           0.63095734,  0.63095734,  0.63095734,  0.63095734,  0.63095734]\n",
    "\n",
    "\n",
    "# Standard deviations of permanent income shocks by age, starting from age 25\n",
    "PermShkStd = [0.1, 0.1, 0.1, 0.1, 0.1, 0.1, 0.1, 0.1, 0.1, 0.1, 0.1, 0.1, 0.1, 0.1,\n",
    "0.1, 0.1, 0.1, 0.1, 0.1, 0.1, 0.1, 0.1, 0.1, 0.1, 0.1, 0.1, 0.1, 0.1,\n",
    "0.1, 0.1, 0.1, 0.1, 0.1, 0.1, 0.1, 0.1, 0.1, 0.1, 0.1, 0.0, 0.0, 0.0, # <-- no permanent income shocks after retirement\n",
    "0.0, 0.0, 0.0, 0.0, 0.0, 0.0, 0.0, 0.0, 0.0, 0.0, 0.0, 0.0, 0.0, 0.0,\n",
    "0.0, 0.0, 0.0, 0.0, 0.0, 0.0, 0.0, 0.0, 0.0]\n",
    "\n",
    "# Standard deviations of transitory income shocks by age, starting from age 25\n",
    "TranShkStd =  [0.1, 0.1, 0.1, 0.1, 0.1, 0.1, 0.1, 0.1, 0.1, 0.1, 0.1, 0.1, 0.1, 0.1,\n",
    "0.1, 0.1, 0.1, 0.1, 0.1, 0.1, 0.1, 0.1, 0.1, 0.1, 0.1, 0.1, 0.1, 0.1,\n",
    "0.1, 0.1, 0.1, 0.1, 0.1, 0.1, 0.1, 0.1, 0.1, 0.1, 0.1, 0.0, 0.0, 0.0, # <-- no transitory income shocs after retirement\n",
    "0.0, 0.0, 0.0, 0.0, 0.0, 0.0, 0.0, 0.0, 0.0, 0.0, 0.0, 0.0, 0.0, 0.0,\n",
    "0.0, 0.0, 0.0, 0.0, 0.0, 0.0, 0.0, 0.0, 0.0]\n",
    "\n",
    "# Age groups for the estimation: calculate average wealth-to-permanent income ratio\n",
    "# for consumers within each of these age groups, compare actual to simulated data\n",
    "empirical_cohort_age_groups = [[ 26,27,28,29,30 ],\n",
    "                     [ 31,32,33,34,35 ],\n",
    "                     [ 36,37,38,39,40 ],\n",
    "                     [ 41,42,43,44,45 ],\n",
    "                     [ 46,47,48,49,50 ],\n",
    "                     [ 51,52,53,54,55 ],\n",
    "                     [ 56,57,58,59,60 ]]\n",
    "\n",
    "initial_wealth_income_ratio_vals = [0.17, 0.5, 0.83]            # Three point discrete distribution of initial w\n",
    "initial_wealth_income_ratio_probs = [0.33333, 0.33333, 0.33334] # Equiprobable discrete distribution of initial w\n",
    "num_agents = 10000                                              # Number of agents to simulate\n",
    "bootstrap_size = 50                                             # Number of re-estimations to do during bootstrap\n",
    "seed = 31382                                                    # Just an integer to seed the estimation\n",
    "\n",
    "\n",
    "# Dictionary that can be passed to ConsumerType to instantiate\n",
    "init_consumer_objects = {\"CRRA\":CRRA_start,\n",
    "                        \"Rfree\":Rfree,\n",
    "                        \"PermGroFac\":PermGroFac,\n",
    "                        \"BoroCnstArt\":BoroCnstArt,\n",
    "                        \"PermShkStd\":PermShkStd,\n",
    "                        \"PermShkCount\":PermShkCount,\n",
    "                        \"TranShkStd\":TranShkStd,\n",
    "                        \"TranShkCount\":TranShkCount,\n",
    "                        \"T_cycle\":TT,\n",
    "                        \"UnempPrb\":UnempPrb,\n",
    "                        \"UnempPrbRet\":UnempPrbRet,\n",
    "                        \"T_retire\":retirement_t,\n",
    "                        \"T_age\":TT+1,\n",
    "                        \"IncUnemp\":IncUnemp,\n",
    "                        \"IncUnempRet\":IncUnempRet,\n",
    "                        \"aXtraMin\":aXtraMin,\n",
    "                        \"aXtraMax\":aXtraMax,\n",
    "                        \"aXtraCount\":aXtraCount,\n",
    "                        \"aXtraExtra\":[aXtraExtra,aXtraHuge],\n",
    "                        \"aXtraNestFac\":exp_nest,\n",
    "                        \"LivPrb\":LivPrb,\n",
    "                        \"DiscFac\":DiscFac_timevary,\n",
    "                        'AgentCount':num_agents,\n",
    "                        'seed':seed,\n",
    "                        'tax_rte':0.0,\n",
    "                        'vFuncBool':vFuncBool,\n",
    "                        'CubicBool':CubicBool\n",
    "                        }"
   ]
  },
  {
   "cell_type": "code",
   "execution_count": 4,
   "id": "288abe3d",
   "metadata": {
    "code_folding": [],
    "lines_to_next_cell": 2
   },
   "outputs": [],
   "source": [
    "# Set up default values for CRRA, DiscFac, and simulation variables in the dictionary \n",
    "init_consumer_objects[\"CRRA\"]= 2.00            # Default coefficient of relative risk aversion (rho)\n",
    "init_consumer_objects[\"DiscFac\"]= 0.97         # Default intertemporal discount factor (beta)\n",
    "init_consumer_objects[\"PermGroFacAgg\"]= 1.0    # Aggregate permanent income growth factor \n",
    "init_consumer_objects[\"aNrmInitMean\"]= -10.0   # Mean of log initial assets \n",
    "init_consumer_objects[\"aNrmInitStd\"]= 1.0      # Standard deviation of log initial assets\n",
    "init_consumer_objects[\"pLvlInitMean\"]= 0.0     # Mean of log initial permanent income \n",
    "init_consumer_objects[\"pLvlInitStd\"]= 0.0      # Standard deviation of log initial permanent income"
   ]
  },
  {
   "cell_type": "code",
   "execution_count": 5,
   "id": "1d2fdc5e",
   "metadata": {
    "lines_to_next_cell": 2
   },
   "outputs": [],
   "source": [
    "# Make an instance of a lifecycle consumer to be used for estimation\n",
    "LifeCyclePop = cShksModl.IndShockConsumerType(**init_consumer_objects)"
   ]
  },
  {
   "cell_type": "code",
   "execution_count": 7,
   "id": "fb71801f",
   "metadata": {
    "code_folding": [],
    "lines_to_next_cell": 2
   },
   "outputs": [
    {
     "data": {
      "text/plain": [
       "{'aNrm': array([[0.15127186, 0.15125337, 0.15137639, ..., 0.15125232, 0.15129283,\n",
       "         0.15126489],\n",
       "        [0.15720283, 0.2640323 , 0.27109329, ..., 0.2484313 , 0.24846159,\n",
       "         0.22613419],\n",
       "        [0.29023075, 0.27589679, 0.45803117, ..., 0.34902784, 0.29628105,\n",
       "         0.21172888],\n",
       "        ...,\n",
       "        [0.        , 0.3464155 , 0.49892497, ..., 0.33524317, 0.15485401,\n",
       "         0.40136673],\n",
       "        [0.15125389, 0.41011742, 0.7044481 , ..., 0.49148864, 0.10016124,\n",
       "         0.39917186],\n",
       "        [0.27813171, 0.36985598, 0.61672583, ..., 0.46655336, 0.05614685,\n",
       "         0.39320286]]),\n",
       " 'aLvl': array([[0.18085553, 0.13184619, 0.1425343 , ..., 0.14869039, 0.15431001,\n",
       "         0.16007211],\n",
       "        [0.18476294, 0.21671094, 0.30517834, ..., 0.21288725, 0.22090092,\n",
       "         0.20859615],\n",
       "        [0.34791542, 0.23963374, 0.48550224, ..., 0.31650528, 0.2686692 ,\n",
       "         0.23350374],\n",
       "        ...,\n",
       "        [0.        , 0.55354082, 0.60636705, ..., 0.3272484 , 0.1127017 ,\n",
       "         0.41864968],\n",
       "        [0.16006047, 0.64423066, 0.74629729, ..., 0.48933561, 0.07289667,\n",
       "         0.44060239],\n",
       "        [0.32520793, 0.64194659, 0.72191836, ..., 0.45664162, 0.0408633 ,\n",
       "         0.42666246]]),\n",
       " 'pLvl': array([[1.19556632, 0.87169091, 0.94158876, ..., 0.98306182, 1.01994264,\n",
       "         1.05822383],\n",
       "        [1.17531561, 0.82077437, 1.12573181, ..., 0.85692606, 0.88907473,\n",
       "         0.9224441 ],\n",
       "        [1.1987545 , 0.868563  , 1.05997643, ..., 0.90681958, 0.90680522,\n",
       "         1.1028431 ],\n",
       "        ...,\n",
       "        [1.50144644, 1.59791009, 1.21534715, ..., 0.97615233, 0.72779323,\n",
       "         1.04306025],\n",
       "        [1.05822383, 1.5708444 , 1.05940707, ..., 0.99561938, 0.72779323,\n",
       "         1.10379122],\n",
       "        [1.16925872, 1.73566637, 1.17056611, ..., 0.9787554 , 0.72779323,\n",
       "         1.08509501]]),\n",
       " 'mNrm': array([[1.00006893, 1.00002717, 1.00030507, ..., 1.0000248 , 1.00011634,\n",
       "         1.00005319],\n",
       "        [1.0131983 , 1.20305693, 1.21380651, ..., 1.1787878 , 1.17883567,\n",
       "         1.14264056],\n",
       "        [1.24214623, 1.22089454, 1.46881532, ..., 1.32519867, 1.25097791,\n",
       "         1.1180577 ],\n",
       "        ...,\n",
       "        [1.01134323, 1.31772662, 1.5172135 , ..., 1.30621764, 1.23465048,\n",
       "         1.3942102 ],\n",
       "        [1.00002834, 1.40055728, 1.76180299, ..., 1.51081641, 1.15949963,\n",
       "         1.39072821],\n",
       "        [1.22439054, 1.34621133, 1.65674534, ..., 1.47885994, 1.10316608,\n",
       "         1.38213531]]),\n",
       " 'cNrm': array([[0.84879708, 0.8487738 , 0.84892869, ..., 0.84877248, 0.8488235 ,\n",
       "         0.84878831],\n",
       "        [0.85599547, 0.93902463, 0.94271322, ..., 0.9303565 , 0.93037408,\n",
       "         0.91650637],\n",
       "        [0.95191548, 0.94499775, 1.01078415, ..., 0.97617083, 0.95469687,\n",
       "         0.90632881],\n",
       "        ...,\n",
       "        [1.01134323, 0.97131112, 1.01828852, ..., 0.97097446, 1.07979647,\n",
       "         0.99284347],\n",
       "        [0.84877445, 0.99043985, 1.05735489, ..., 1.01932777, 1.05933838,\n",
       "         0.99155636],\n",
       "        [0.94625882, 0.97635535, 1.04001951, ..., 1.01230658, 1.04701923,\n",
       "         0.98893245]]),\n",
       " 'TranShk': array([[1.        , 1.        , 1.        , ..., 1.        , 1.        ,\n",
       "         1.        ],\n",
       "        [0.85470368, 1.0376015 , 1.08339327, ..., 1.00006632, 1.00006632,\n",
       "         0.96390423],\n",
       "        [1.08339327, 0.96390423, 1.1722675 , ..., 1.08339327, 1.00006632,\n",
       "         0.92323938],\n",
       "        ...,\n",
       "        [1.        , 0.85470368, 1.08339327, ..., 1.08339327, 1.        ,\n",
       "         1.00006632],\n",
       "        [1.        , 1.0376015 , 1.1722675 , ..., 1.1722675 , 1.        ,\n",
       "         1.00006632],\n",
       "        [1.08339327, 0.96390423, 1.00006632, ..., 0.96390423, 1.        ,\n",
       "         0.96390423]])}"
      ]
     },
     "execution_count": 7,
     "metadata": {},
     "output_type": "execute_result"
    }
   ],
   "source": [
    "# Solve and simulate the model (ignore the \"warning\" message)\n",
    "LifeCyclePop.solve()                            # Obtain consumption rules by age \n",
    "LifeCyclePop.unpack('cFunc')                      # Expose the consumption rules\n",
    "\n",
    "# Which variables do we want to track\n",
    "LifeCyclePop.track_vars = ['aNrm','aLvl','pLvl','mNrm','cNrm','TranShk']\n",
    "\n",
    "LifeCyclePop.T_sim = 120                        # Nobody lives to be older than 145 years (=25+120)\n",
    "LifeCyclePop.initialize_sim()                    # Construct the age-25 distribution of income and assets\n",
    "LifeCyclePop.simulate()                         # Simulate a population behaving according to this model"
   ]
  },
  {
   "cell_type": "code",
   "execution_count": 8,
   "id": "4b826f6c",
   "metadata": {
    "code_folding": []
   },
   "outputs": [
    {
     "name": "stdout",
     "output_type": "stream",
     "text": [
      "Consumption as a function of market resources while working:\n"
     ]
    },
    {
     "data": {
      "image/png": "[encoded data removed]",
      "text/plain": [
       "<Figure size 432x288 with 1 Axes>"
      ]
     },
     "metadata": {
      "needs_background": "light"
     },
     "output_type": "display_data"
    }
   ],
   "source": [
    "# Plot the consumption functions during working life\n",
    "\n",
    "print('Consumption as a function of market resources while working:')\n",
    "mMin = min([LifeCyclePop.solution[t].mNrmMin for t in range(LifeCyclePop.T_cycle)])\n",
    "plot_funcs(LifeCyclePop.cFunc[:LifeCyclePop.T_retire],mMin,5)"
   ]
  },
  {
   "cell_type": "code",
   "execution_count": 9,
   "id": "696f13fb",
   "metadata": {
    "code_folding": []
   },
   "outputs": [],
   "source": [
    "# Define the saving rate function\n",
    "def savRteFunc(SomeType, m, t):\n",
    "    \"\"\"\n",
    "    Parameters:\n",
    "    ----------\n",
    "        SomeType: \n",
    "             Agent type that has been solved and simulated.\n",
    "        m:\n",
    "            normalized market resources of agent\n",
    "        t:\n",
    "            age of agent (from starting in the workforce)\n",
    "        \n",
    "        \n",
    "    Returns:\n",
    "    --------\n",
    "        savRte: float\n",
    "    \n",
    "    \"\"\"\n",
    "    inc = (SomeType.Rfree -1.)*(m-1.)+1. # Normalized by permanent labor income\n",
    "    cns = SomeType.solution[t].cFunc(m)  # Consumption (normalized)\n",
    "    sav = inc - cns                      # Flow of saving this period\n",
    "    savRte = sav / inc                   # Saving Rate\n",
    "    return savRte  "
   ]
  },
  {
   "cell_type": "code",
   "execution_count": 10,
   "id": "a5ef117a",
   "metadata": {
    "code_folding": []
   },
   "outputs": [],
   "source": [
    "# Create a matrix gathering useful data:\n",
    "# 't_now', 'aNrm_hist', 'cNrm_hist', employment-status in date t and date t-1,\n",
    "# aLvlGro_hist, Saving rate\n",
    "\n",
    "w, h = 1, LifeCyclePop.T_cycle\n",
    "giant_list = [[0 for x in range(w)] for y in range(h)]\n",
    "savRte_list = []\n",
    "\n",
    "import warnings\n",
    "warnings.filterwarnings(\"ignore\") # Suppress some disturbing but harmless warnings\n",
    "\n",
    "for t in range(1,LifeCyclePop.T_cycle+1):\n",
    "    #aLvlGro[0] = 0 # set the first growth rate to 0, since there is no data for period 0\n",
    "    aLvlGroNow = np.log((LifeCyclePop.history['aNrm'][t]   *LifeCyclePop.history['pLvl'][t])/ \\\n",
    "                         LifeCyclePop.history['aNrm'][t-1] *LifeCyclePop.history['pLvl'][t-1]) # (10000,)\n",
    "\n",
    "    # Call the saving rate function defined above \n",
    "    savRte = savRteFunc(LifeCyclePop, LifeCyclePop.history['mNrm'][t] , t)\n",
    "      \n",
    "    savRte_list.append(savRte) # Add this period's saving rate to the list \n",
    "\n",
    "    # Create elements of matrix list\n",
    "    matrix_list = [0 for number in range(7)]\n",
    "    matrix_list[0] = t\n",
    "    matrix_list[1] = LifeCyclePop.history['aNrm'][t]\n",
    "    matrix_list[2] = LifeCyclePop.history['cNrm'][t]\n",
    "    matrix_list[3] = LifeCyclePop.history['TranShk'][t]\n",
    "    matrix_list[4] = LifeCyclePop.history['TranShk'][t-1]\n",
    "    matrix_list[5] = aLvlGroNow\n",
    "    matrix_list[6] = savRte\n",
    "    \n",
    "    giant_list[t-1] = matrix_list"
   ]
  },
  {
   "cell_type": "code",
   "execution_count": 11,
   "id": "860dac0c",
   "metadata": {
    "code_folding": [],
    "lines_to_next_cell": 2
   },
   "outputs": [],
   "source": [
    "# Construct the level of assets A from a*p where a is the ratio to permanent income p\n",
    "# Remember 41 is \"years after entering workforce\" (=age 25); 66 is the year right after retirement\n",
    "LifeCyclePop.history['aLvl'] = LifeCyclePop.history['aNrm']*LifeCyclePop.history['pLvl']\n",
    "aGro41=LifeCyclePop.history['aLvl'][41]/LifeCyclePop.history['aLvl'][40]\n",
    "aGro41NoU=aGro41[aGro41[:]>0.2] # Throw out extreme outliers; don't want growth rates relative to 0 income!"
   ]
  },
  {
   "cell_type": "code",
   "execution_count": 12,
   "id": "fbdee4c7",
   "metadata": {
    "code_folding": [
     0
    ],
    "lines_to_next_cell": 2
   },
   "outputs": [
    {
     "data": {
      "image/png": "[encoded data removed]",
      "text/plain": [
       "<Figure size 432x288 with 1 Axes>"
      ]
     },
     "metadata": {
      "needs_background": "light"
     },
     "output_type": "display_data"
    }
   ],
   "source": [
    "# Plot the (truncated) distribution of growth rates of wealth between age 65 and 66 (=25 + 41)\n",
    "from matplotlib import pyplot as plt\n",
    "n, bins, patches = plt.hist(aGro41NoU,50,density=True)"
   ]
  },
  {
   "cell_type": "markdown",
   "id": "d2b4ced0",
   "metadata": {},
   "source": [
    "# PROBLEM : Distribution of aNrm and aLev\n",
    "\n",
    "Perhaps more interesting than the distribution of asset growth rates over the life cycle is the distribution of the level of assets, or the ratio of assets to permanent income.\n",
    "\n",
    "Construct a plot similar to the one above for the disributions of $\\texttt{aNrm}$ and $\\texttt{aLev}$ in the period just BEFORE retirement (44 periods from the start).\n"
   ]
  },
  {
   "cell_type": "code",
   "execution_count": null,
   "id": "321891cd",
   "metadata": {},
   "outputs": [],
   "source": [
    "# PROBLEM: soln here \n",
    "# (rename all-caps problem in line above to all-caps solution)"
   ]
  },
  {
   "cell_type": "markdown",
   "id": "dcfdbba6",
   "metadata": {},
   "source": [
    "# PROBLEM : \"Luck\" and Saving\n",
    "\n",
    "In this model, each consumer experiences a set of draws of permanent income shocks over their lifetime.  Some will be lucky and draw a mostly positive series of shocks (and unlucky people experience negative shocks).\n",
    "\n",
    "This problem asks you to examine the consequences of these shocks for the lifetime pattern of saving.\n",
    "\n",
    "The first step is to recalibrate the model so that there is no difference in initial assets, then reconstruct the initial conditions and simulate the model:"
   ]
  },
  {
   "cell_type": "code",
   "execution_count": null,
   "id": "b63935cc",
   "metadata": {},
   "outputs": [],
   "source": [
    "# PROBLEM: soln here \n",
    "# (rename all-caps problem in line above to all-caps solution)"
   ]
  },
  {
   "cell_type": "markdown",
   "id": "940b28b7",
   "metadata": {},
   "source": [
    "# PROBLEM : \"Luck\" and Saving (cont)\n",
    "\n",
    "Now we are interested in comparing the people who were \"lucky\" vs those who were \"unlucky\"\n",
    "\n",
    "The easiest way to measure this is by the cumulated level of noncapital (labor) income they have experienced over their working life.\n",
    "\n",
    "For consumer in period 41 (age 66), calculate this object, then plot it against the $\\texttt{aNrm}$ ratio at age 66."
   ]
  },
  {
   "cell_type": "code",
   "execution_count": null,
   "id": "1fdfbebc",
   "metadata": {},
   "outputs": [],
   "source": [
    "# PROBLEM: soln here \n",
    "# (rename all-caps problem in line above to all-caps solution)"
   ]
  },
  {
   "cell_type": "markdown",
   "id": "ecfa62fe",
   "metadata": {},
   "source": [
    "# PROBLEM : \"Luck\" and Saving (cont)\n",
    "\n",
    "You can have luck in transitory income shocks or in permanent income shocks.  Their consequences are quite different.  With a permanent shock, you expect your (noncapital) income to change forever, and (according to Friedman (1957)) you should adjust your consumption nearly one-for-one.  With a transitory shock, you expect your income to return to its \"permanent\" level so you do not consume. So if you get a positive transitory shock, you will mostly save it.\n",
    "\n",
    "The existence of transitory shocks therefore means that people who have on average experienced positive transitory shocks over their lifetimes should have higher saving rates.  That would bias the relationship between lifetime income and the $\\texttt{aNrm}$ ratio upward.\n",
    "\n",
    "To see how important this might be, redo the same exercise as before, but using the level of (noncapital) permanent income (rather than overall income including transitory and permanent) over the lifetime.  Comment on the result"
   ]
  },
  {
   "cell_type": "code",
   "execution_count": null,
   "id": "044896a5",
   "metadata": {},
   "outputs": [],
   "source": [
    "# PROBLEM: soln here \n",
    "# (rename all-caps problem in line above to all-caps solution)"
   ]
  },
  {
   "cell_type": "markdown",
   "id": "a5c2fa6e",
   "metadata": {},
   "source": [
    "# PROBLEM : Saving Rates and Wealth Ratios\n",
    "\n",
    "The [Haig-Simons definition of \"saving\"](https://en.wikipedia.org/wiki/Haig%E2%80%93Simons_income) is basically the amount by which your wealth changes from one period to the next. This definition includes the consequences of any capital gains (or losses) for your wealth.  \n",
    "\n",
    "In recent work, [Faegering, Holm, Natvik, and Moll](http://www.nber.org/papers/w26588) have proposed that instead households largely ignore the consequences of capital gains and losses.  That is, their consumption is largely unchanged by asset price movements.\n",
    "\n",
    "Specifically, they define \"active saving\" as the difference between income and consumption _neglecting_ any contriubutions from \"buy and hold\" assets like houses or stocks.  The \"active saving rate\" is the quantity of active saving divided by the level of income. They find that the \"active saving rate\" is remarkably stable over the range from roughly the 20th percentile to the 95th percentile of the wealth distribution (see the figures below from their paper).\n",
    "\n",
    "The basic model considered above does not allow for capital gains or losses, so it can be used to calculate directly the saving behavior of people who do not anticipate capital gains and losses.  So, the saving rate computed by the $\\texttt{savRte}$ function above should correspond to their \"active saving rate.\"\n",
    "\n",
    "Your problem: For the entire population simulated above, calculate what the model predicts about the saving rate they measure.  You will do this by grouping the population into vigntile bins, and calculating the average active saving rate for all the households in each vigntile, and then plotting the wealth vigntiles against their saving rates.\n",
    "\n",
    "![fbbn-sav-by-age-and-ed.jpg](https://github.com/llorracc/Figures/blob/master/fbbn-sav-by-age-and-ed.jpg?raw=true)\n"
   ]
  },
  {
   "cell_type": "code",
   "execution_count": null,
   "id": "ff7b15f1",
   "metadata": {},
   "outputs": [],
   "source": [
    "# PROBLEM: soln here \n",
    "# (rename all-caps problem in line above to all-caps solution)"
   ]
  },
  {
   "cell_type": "markdown",
   "id": "ad55152c",
   "metadata": {},
   "source": [
    "# Saving Rates and Lifetime Income Growth\n",
    "\n",
    "We are interested in how income growth over the lifetime of the agent affects their saving rate and asset ratio $a=A/P$.\n"
   ]
  },
  {
   "cell_type": "code",
   "execution_count": null,
   "id": "3275d14f",
   "metadata": {},
   "outputs": [],
   "source": [
    "cumulative_income_first_half = np.sum(LifeCyclePop.history['pLvl'][0:20,:]*LifeCyclePop.history['TranShk'][0:20,:],0)\n",
    "cumulative_income_second_half = np.sum(LifeCyclePop.history['pLvl'][20:40,:]*LifeCyclePop.history['TranShk'][20:40,:],0)\n",
    "lifetime_growth = cumulative_income_second_half/cumulative_income_first_half\n",
    "\n",
    "t=39\n",
    "vigntiles = pd.qcut(lifetime_growth,20,labels=False)\n",
    "savRte = savRteFunc(LifeCyclePop, LifeCyclePop.history['mNrm'][t] , t)\n",
    "savRtgueseByVigtile = np.zeros(20)\n",
    "assetsByVigtile = np.zeros(20)\n",
    "assetsNrmByVigtile = np.zeros(20)\n",
    "savRteByVigtile = np.zeros(20)\n",
    "for i in range(20):\n",
    "    savRteByVigtile[i] = np.mean(savRte[vigntiles==i])\n",
    "    assetsByVigtile[i] = np.mean(LifeCyclePop.history['aLvl'][t][vigntiles==i])\n",
    "    assetsNrmByVigtile[i] = np.mean(LifeCyclePop.history['aNrm'][t][vigntiles==i])\n",
    "plt.plot(np.array(range(20)), savRteByVigtile)\n",
    "plt.title(\"Saving Rate at age 65, by Vigntile of Lifetime Income Growth\")\n",
    "plt.xlabel(\"Vigntile of Lifetime Income Growth\")\n",
    "plt.ylabel(\"Savings Rate\")\n",
    "\n",
    "plt.figure()\n",
    "plt.plot(np.array(range(20)), assetsByVigtile)\n",
    "plt.title(\"Assets at age 65, by Vigntile of Lifetime Income Growth\")\n",
    "plt.xlabel(\"Vigntile of Lifetime Income Growth\")\n",
    "plt.ylabel(\"Assets\")\n",
    "\n",
    "plt.figure()\n",
    "plt.plot(np.array(range(20)), assetsNrmByVigtile)\n",
    "plt.title(\"Normalized Assets at age 65, by Vigntile of Lifetime Income Growth\")\n",
    "plt.xlabel(\"Vigntile of Lifetime Income Growth\")\n",
    "plt.ylabel(\"Normalized Assets\")"
   ]
  }
 ],
 "metadata": {
  "jupytext": {
   "cell_metadata_filter": "ExecuteTime,collapsed,code_folding,-autoscroll",
   "cell_metadata_json": true,
   "formats": "ipynb,py:percent",
   "notebook_metadata_filter": "all,-widgets,-varInspector"
  },
  "kernelspec": {
   "display_name": "Python 3 (ipykernel)",
   "language": "python",
   "name": "python3"
  },
  "language_info": {
   "codemirror_mode": {
    "name": "ipython",
    "version": 3
   },
   "file_extension": ".py",
   "mimetype": "text/x-python",
   "name": "python",
   "nbconvert_exporter": "python",
   "pygments_lexer": "ipython3",
   "version": "3.8.8"
  },
  "latex_envs": {
   "LaTeX_envs_menu_present": true,
   "autoclose": false,
   "autocomplete": false,
   "bibliofile": "biblio.bib",
   "cite_by": "apalike",
   "current_citInitial": 1,
   "eqLabelWithNumbers": true,
   "eqNumInitial": 1,
   "hotkeys": {
    "equation": "Ctrl-E",
    "itemize": "Ctrl-I"
   },
   "labels_anchors": false,
   "latex_user_defs": false,
   "report_style_numbering": false,
   "user_envs_cfg": false
  },
  "toc": {
   "base_numbering": 1,
   "nav_menu": {},
   "number_sections": true,
   "sideBar": true,
   "skip_h1_title": false,
   "title_cell": "Table of Contents",
   "title_sidebar": "Contents",
   "toc_cell": false,
   "toc_position": {},
   "toc_section_display": true,
   "toc_window_display": false
  }
 },
 "nbformat": 4,
 "nbformat_minor": 5
}
