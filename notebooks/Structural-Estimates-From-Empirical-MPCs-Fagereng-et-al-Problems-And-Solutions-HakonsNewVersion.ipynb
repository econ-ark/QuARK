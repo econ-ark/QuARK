{
 "cells": [
  {
   "cell_type": "markdown",
   "metadata": {},
   "source": [
    "# Making Structural Estimates From Empirical Results\n",
    "\n",
    "This notebook conducts a quick and dirty structural estimation based on Table 9 of \"MPC Heterogeneity and Household Balance Sheets\" by Fagereng, Holm, and Natvik <cite data-cite=\"6202365/SUE56C4B\"></cite>, who use Norweigian administrative data on income, household assets, and lottery winnings to examine the MPC from transitory income shocks (lottery prizes).  Their Table 9 reports an estimated MPC broken down by quartiles of bank deposits and\n",
    "prize size; this table is reproduced here as $\\texttt{MPC_target_base}$.  In this demo, we use the Table 9 estimates as targets in a simple structural estimation, seeking to minimize the sum of squared differences between simulated and estimated MPCs by changing the (uniform) distribution of discount factors.  The essential question is how well their results be rationalized by a simple one-asset consumption-saving model.  \n",
    "\n",
    "\n",
    "The function that estimates discount factors includes several options for estimating different specifications:\n",
    "\n",
    "1. TypeCount : Integer number of discount factors in discrete distribution; can be set to 1 to turn off _ex ante_ heterogeneity (and to discover that the model has no chance to fit the data well without such heterogeneity).\n",
    "2. AdjFactor : Scaling factor for the target MPCs; user can try to fit estimated MPCs scaled down by (e.g.) 50%.\n",
    "3. T_kill    : Maximum number of years the (perpetually young) agents are allowed to live.  Because this is quick and dirty, it's also the number of periods to simulate.\n",
    "4. Splurge   : Amount of lottery prize that an individual will automatically spend in a moment of excitement (perhaps ancient tradition in Norway requires a big party when you win the lottery), before beginning to behave according to the optimal consumption function.  The patterns in Table 9 can be fit much better when this is set around \\$700 --> 0.7.  That doesn't seem like an unreasonable amount of money to spend on a memorable party.\n",
    "5. do_secant : Boolean indicator for whether to use \"secant MPC\", which is average MPC over the range of the prize.  MNW believes authors' regressions are estimating this rather than point MPC.  When False, structural estimation uses point MPC after receiving prize.  NB: This is incompatible with Splurge > 0.\n",
    "6. drop_corner : Boolean for whether to include target MPC in the top left corner, which is greater than 1.  Authors discuss reasons why the MPC from a transitory shock *could* exceed 1.  Option is included here because this target tends to push the estimate around a bit."
   ]
  },
  {
   "cell_type": "code",
   "execution_count": 1,
   "metadata": {
    "code_folding": []
   },
   "outputs": [],
   "source": [
    "# Import python tools\n",
    "\n",
    "import sys\n",
    "import os\n",
    "\n",
    "import numpy as np\n",
    "from copy import deepcopy"
   ]
  },
  {
   "cell_type": "code",
   "execution_count": 2,
   "metadata": {
    "code_folding": []
   },
   "outputs": [],
   "source": [
    "# Import needed tools from HARK\n",
    "\n",
    "from HARK.utilities import approxUniform, getPercentiles\n",
    "from HARK.parallel import multiThreadCommands\n",
    "from HARK.estimation import minimizeNelderMead\n",
    "from HARK.ConsumptionSaving.ConsIndShockModel import *\n",
    "from HARK.cstwMPC.SetupParamsCSTW import init_infinite"
   ]
  },
  {
   "cell_type": "code",
   "execution_count": 3,
   "metadata": {
    "code_folding": []
   },
   "outputs": [],
   "source": [
    "# Set key problem-specific parameters\n",
    "\n",
    "TypeCount = 8    # Number of consumer types with heterogeneous discount factors\n",
    "AdjFactor = 1.0  # Factor by which to scale all of MPCs in Table 9\n",
    "T_kill = 100     # Don't let agents live past this age\n",
    "Splurge = 0.7    # Consumers automatically spend this amount of any lottery prize\n",
    "do_secant = True # If True, calculate MPC by secant, else point MPC\n",
    "drop_corner = True # If True, ignore upper left corner when calculating distance"
   ]
  },
  {
   "cell_type": "code",
   "execution_count": 4,
   "metadata": {
    "code_folding": []
   },
   "outputs": [],
   "source": [
    "# Set standard HARK parameter values\n",
    "\n",
    "base_params = deepcopy(init_infinite)\n",
    "base_params['LivPrb'] = [0.975]\n",
    "base_params['Rfree'] = 1.04/base_params['LivPrb'][0]\n",
    "base_params['PermShkStd'] = [0.1]\n",
    "base_params['TranShkStd'] = [0.1]\n",
    "base_params['T_age'] = T_kill # Kill off agents if they manage to achieve T_kill working years\n",
    "base_params['AgentCount'] = 10000\n",
    "base_params['pLvlInitMean'] = np.log(23.72) # From Table 1, in thousands of USD\n",
    "base_params['T_sim'] = T_kill  # No point simulating past when agents would be killed off"
   ]
  },
  {
   "cell_type": "code",
   "execution_count": 5,
   "metadata": {
    "code_folding": []
   },
   "outputs": [],
   "source": [
    "# Define the MPC targets from Fagereng et al Table 9; element i,j is lottery quartile i, deposit quartile j\n",
    "\n",
    "MPC_target_base = np.array([[1.047, 0.745, 0.720, 0.490],\n",
    "                            [0.762, 0.640, 0.559, 0.437],\n",
    "                            [0.663, 0.546, 0.390, 0.386],\n",
    "                            [0.354, 0.325, 0.242, 0.216]])\n",
    "MPC_target = AdjFactor*MPC_target_base"
   ]
  },
  {
   "cell_type": "code",
   "execution_count": 6,
   "metadata": {
    "code_folding": []
   },
   "outputs": [],
   "source": [
    "# Define the four lottery sizes, in thousands of USD; these are eyeballed centers/averages\n",
    "\n",
    "lottery_size = np.array([1.625, 3.3741, 7.129, 40.0])"
   ]
  },
  {
   "cell_type": "code",
   "execution_count": 7,
   "metadata": {
    "code_folding": [],
    "lines_to_next_cell": 1
   },
   "outputs": [],
   "source": [
    "# Make several consumer types to be used during estimation\n",
    "\n",
    "BaseType = IndShockConsumerType(**base_params)\n",
    "EstTypeList = []\n",
    "for j in range(TypeCount):\n",
    "    EstTypeList.append(deepcopy(BaseType))\n",
    "    EstTypeList[-1](seed = j)"
   ]
  },
  {
   "cell_type": "code",
   "execution_count": 8,
   "metadata": {
    "code_folding": []
   },
   "outputs": [],
   "source": [
    "# Define the objective function\n",
    "\n",
    "def FagerengObjFunc(center,spread,verbose=False):\n",
    "    '''\n",
    "    Objective function for the quick and dirty structural estimation to fit\n",
    "    Fagereng, Holm, and Natvik's Table 9 results with a basic infinite horizon\n",
    "    consumption-saving model (with permanent and transitory income shocks).\n",
    "\n",
    "    Parameters\n",
    "    ----------\n",
    "    center : float\n",
    "        Center of the uniform distribution of discount factors.\n",
    "    spread : float\n",
    "        Width of the uniform distribution of discount factors.\n",
    "    verbose : bool\n",
    "        When True, print to screen MPC table for these parameters.  When False,\n",
    "        print (center, spread, distance).\n",
    "\n",
    "    Returns\n",
    "    -------\n",
    "    distance : float\n",
    "        Euclidean distance between simulated MPCs and (adjusted) Table 9 MPCs.\n",
    "    '''\n",
    "    # Give our consumer types the requested discount factor distribution\n",
    "    beta_set = approxUniform(N=TypeCount,bot=center-spread,top=center+spread)[1]\n",
    "    for j in range(TypeCount):\n",
    "        EstTypeList[j](DiscFac = beta_set[j])\n",
    "\n",
    "    # Solve and simulate all consumer types, then gather their wealth levels\n",
    "    multiThreadCommands(EstTypeList,['solve()','initializeSim()','simulate(95)','unpackcFunc()'])\n",
    "    WealthNow = np.concatenate([ThisType.aLvlNow for ThisType in EstTypeList])\n",
    "\n",
    "    # Get wealth quartile cutoffs and distribute them to each consumer type\n",
    "    quartile_cuts = getPercentiles(WealthNow,percentiles=[0.25,0.50,0.75])\n",
    "    for ThisType in EstTypeList:\n",
    "        WealthQ = np.zeros(ThisType.AgentCount,dtype=int)\n",
    "        for n in range(3):\n",
    "            WealthQ[ThisType.aLvlNow > quartile_cuts[n]] += 1\n",
    "        ThisType(WealthQ = WealthQ)\n",
    "\n",
    "    # Keep track of MPC sets in lists of lists of arrays\n",
    "    MPC_set_list = [ [[],[],[],[]],\n",
    "                     [[],[],[],[]],\n",
    "                     [[],[],[],[]],\n",
    "                     [[],[],[],[]] ]\n",
    "\n",
    "    # Calculate the MPC for each of the four lottery sizes for all agents\n",
    "    for ThisType in EstTypeList:\n",
    "        ThisType.simulate(1)\n",
    "        c_base = ThisType.cNrmNow\n",
    "        MPC_this_type = np.zeros((ThisType.AgentCount,4))\n",
    "        for k in range(4): # Get MPC for all agents of this type\n",
    "            Llvl = lottery_size[k]\n",
    "            Lnrm = Llvl/ThisType.pLvlNow\n",
    "            if do_secant:\n",
    "                SplurgeNrm = Splurge/ThisType.pLvlNow\n",
    "                mAdj = ThisType.mNrmNow + Lnrm - SplurgeNrm\n",
    "                cAdj = ThisType.cFunc[0](mAdj) + SplurgeNrm\n",
    "                MPC_this_type[:,k] = (cAdj - c_base)/Lnrm\n",
    "            else:\n",
    "                mAdj = ThisType.mNrmNow + Lnrm\n",
    "                MPC_this_type[:,k] = cAdj = ThisType.cFunc[0].derivative(mAdj)\n",
    "\n",
    "        # Sort the MPCs into the proper MPC sets\n",
    "        for q in range(4):\n",
    "            these = ThisType.WealthQ == q\n",
    "            for k in range(4):\n",
    "                MPC_set_list[k][q].append(MPC_this_type[these,k])\n",
    "\n",
    "    # Calculate average within each MPC set\n",
    "    simulated_MPC_means = np.zeros((4,4))\n",
    "    for k in range(4):\n",
    "        for q in range(4):\n",
    "            MPC_array = np.concatenate(MPC_set_list[k][q])\n",
    "            simulated_MPC_means[k,q] = np.mean(MPC_array)\n",
    "\n",
    "    # Calculate Euclidean distance between simulated MPC averages and Table 9 targets\n",
    "    diff = simulated_MPC_means - MPC_target\n",
    "    if drop_corner:\n",
    "        diff[0,0] = 0.0\n",
    "    distance = np.sqrt(np.sum((diff)**2))\n",
    "    if verbose:\n",
    "        print(simulated_MPC_means)\n",
    "    else:\n",
    "        print (center, spread, distance)\n",
    "    return distance"
   ]
  },
  {
   "cell_type": "code",
   "execution_count": 9,
   "metadata": {
    "code_folding": [],
    "scrolled": false
   },
   "outputs": [
    {
     "name": "stdout",
     "output_type": "stream",
     "text": [
      "0.85 0.1 0.27883408895212314\n",
      "0.8925 0.1 0.35390998260541334\n",
      "0.85 0.10500000000000001 0.26530798881461\n",
      "0.8075 0.10500000000000001 0.4828691242118494\n",
      "0.87125 0.10125 0.24781113982995787\n",
      "0.87125 0.10625000000000001 0.25345270114240204\n",
      "0.8925 0.10250000000000001 0.36118246270165194\n",
      "0.860625 0.10437500000000001 0.23718447511093388\n",
      "0.8606250000000001 0.09937499999999999 0.24045925226231343\n",
      "0.85 0.10249999999999998 0.2719428828293148\n",
      "0.8659375 0.1015625 0.23839175723952177\n",
      "0.8659374999999999 0.1065625 0.24353360989230485\n",
      "0.8619531250000001 0.101171875 0.23680890871777144\n",
      "0.856640625 0.10398437500000002 0.24314617851292902\n",
      "0.86361328125 0.10216796875 0.23668478648914162\n",
      "0.86494140625 0.09896484374999999 0.23608009325426257\n",
      "0.8670996093750003 0.09625976562499997 0.23673771218313686\n",
      "0.8666015624999999 0.09996093749999999 0.23778868289006297\n",
      "0.863115234375 0.10086914062499999 0.23623538987333287\n",
      "0.8644433593750002 0.09766601562499999 0.23665686788297197\n",
      "0.86423583984375 0.09879150390625 0.23632419873536445\n",
      "0.8638208007812502 0.10104248046875 0.236453875659263\n",
      "0.864132080078125 0.099354248046875 0.2361458789493217\n",
      "0.8659582519531249 0.097449951171875 0.23627833280090677\n",
      "0.8638259887695312 0.10001434326171874 0.23600405679010458\n",
      "0.8646353149414062 0.09962493896484374 0.2361332692808619\n",
      "0.8645095062255859 0.09955726623535155 0.23609442182217139\n",
      "0.8642578887939454 0.09942192077636719 0.23612018803036852\n",
      "0.8644466018676757 0.09952342987060546 0.23600623870482612\n",
      "0.8633311843872069 0.10057292938232419 0.2361255111620774\n",
      "0.8645388507843017 0.09936686515808105 0.23606568371352615\n",
      "0.8637337398529052 0.10017090797424313 0.23600829840255386\n",
      "0.8639350175857543 0.0999698972702026 0.23603588396919856\n",
      "0.8641362953186035 0.09976888656616209 0.23598479183125098\n",
      "0.8641824197769165 0.09969060420989989 0.23600954438940197\n",
      "0.8637798643112181 0.10009262561798093 0.23601754015774298\n",
      "0.8640817809104919 0.09979110956192015 0.2360160378094304\n",
      "0.8639811420440673 0.09989161491394041 0.23603241058830587\n",
      "0.86415935754776 0.09972974538803099 0.23601876461504\n",
      "0.864314510822296 0.09960701704025268 0.2360110301525716\n",
      "0.8642914485931394 0.09964615821838378 0.23601679233832187\n",
      "0.8642584258317946 0.09966705501079559 0.2360143418777654\n",
      "0.8641923803091048 0.09970884859561918 0.23598896945161313\n",
      "0.8640141648054123 0.09987071812152859 0.23603291159120565\n",
      "0.8642394243180751 0.09967294231057167 0.2359993229033908\n",
      "0.8640892513096332 0.0998047928512096 0.23602384526864414\n",
      "0.8642018810659646 0.09970590494573114 0.235982691548442\n",
      "Optimization terminated successfully.\n",
      "         Current function value: 0.235983\n",
      "         Iterations: 23\n",
      "         Function evaluations: 47\n",
      "Time to estimate is 192.3493173122406 seconds.\n",
      "Finished estimating for scaling factor of 1.0 and \"splurge amount\" of $700.0\n",
      "Optimal (beta,nabla) is [0.86420188 0.0997059 ], simulated MPCs are:\n",
      "[[0.76319463 0.73520229 0.68946622 0.58239921]\n",
      " [0.65543163 0.62175622 0.55992585 0.41440615]\n",
      " [0.57804563 0.54806506 0.48115428 0.32465235]\n",
      " [0.40226637 0.38649713 0.33427427 0.21517005]]\n",
      "Distance from Fagereng et al Table 9 is 0.235982691548442\n"
     ]
    }
   ],
   "source": [
    "# Conduct the estimation\n",
    "\n",
    "guess = [0.85,0.1]\n",
    "f_temp = lambda x : FagerengObjFunc(x[0],x[1])\n",
    "opt_params = minimizeNelderMead(f_temp, guess, verbose=True)\n",
    "print('Finished estimating for scaling factor of ' + str(AdjFactor) + ' and \"splurge amount\" of $' + str(1000*Splurge))\n",
    "print('Optimal (beta,nabla) is ' + str(opt_params) + ', simulated MPCs are:')\n",
    "dist = FagerengObjFunc(opt_params[0],opt_params[1],True)\n",
    "print('Distance from Fagereng et al Table 9 is ' + str(dist))"
   ]
  },
  {
   "cell_type": "markdown",
   "metadata": {},
   "source": [
    "### PROBLEM\n",
    "\n",
    "See what happens if you do not allow a splurge amount at all.  Hint: Think about how this question relates to the `drop_corner` option.\n",
    "\n",
    "Explain why you get the results you do, and comment on possible interpretations of the \"splurge\" that might be consistent with economic theory.    \n",
    "Hint: What the authors are able to measure is actually the marginal propensity to EXPEND, not the marginal propensity to CONSUME as it is defined in our benchmark model."
   ]
  },
  {
   "cell_type": "markdown",
   "metadata": {},
   "source": [
    "## Put your solution here\n",
    "\n",
    "<!-- Results with simulate(100):\n",
    "1. No splurge drop_corner=False: Gives optimal $\\beta=0.7898$ and $\\nabla=0.1610$. Simulated MPCs are:\n",
    "<table style=\"width:20%\">\n",
    "    <tr>    <td>0.7736</td><td>0.6832</td><td>0.5646</td><td>0.4048</td>  </tr>\n",
    "    <tr>    <td>0.7435</td><td>0.6648</td><td>0.5530</td><td>0.3963</td>  </tr> \n",
    "    <tr>    <td>0.7035</td><td>0.6351</td><td>0.5305</td><td>0.3793</td>  </tr>\n",
    "    <tr>    <td>0.5613</td><td>0.5043</td><td>0.4126</td><td>0.2926</td>  </tr>\n",
    "</table>\n",
    "Distance from Fagereng et al Table 9 is 0.5021.\n",
    " -->\n",
    "<!-- Results with simulate(95): -->\n",
    "1. No splurge drop_corner=False: Gives optimal $\\beta=0.7874$ and $\\nabla=0.1602$. Simulated MPCs are:\n",
    "<table style=\"width:20%\">\n",
    "    <tr><td>0.7730</td><td>0.6817</td><td>0.5629</td><td>0.4085</td></tr>\n",
    "    <tr><td>0.7441</td><td>0.6629</td><td>0.5512</td><td>0.4003</td></tr>\n",
    "    <tr><td>0.7031</td><td>0.6322</td><td>0.5286</td><td>0.3838</td></tr>\n",
    "    <tr><td>0.5589</td><td>0.5011</td><td>0.4117</td><td>0.2994</td></tr>\n",
    "</table>\n",
    "Distance from Fagereng et al Table 9 is 0.4997.\n",
    "<!-- * * * * * * * * * * * * * * * * * * * * * * * * * * * * * * * * * * * * * * * * -->\n",
    "<!-- Results with simulate(100):\n",
    "2. No splurge, drop_corner=True: Gives optimal $\\beta=0.8144$ and $\\nabla=0.1254$. Simulated MPCs are:\n",
    "<table style=\"width:20%\">\n",
    "    <tr>    <td>0.6784</td><td>0.6236</td><td>0.5411</td><td>0.4202</td>  </tr> \n",
    "    <tr>    <td>0.6590</td><td>0.6097</td><td>0.5304</td><td>0.4116</td>  </tr>\n",
    "    <tr>    <td>0.6275</td><td>0.5843</td><td>0.5088</td><td>0.3944</td>  </tr>\n",
    "    <tr>    <td>0.4912</td><td>0.4583</td><td>0.3935</td><td>0.3058</td>  </tr>\n",
    "</table> \n",
    "Distance from Fagereng et al Table 9 is 0.3862.\n",
    " -->\n",
    "<!-- Results with simulate(95): -->\n",
    "2. No splurge, drop_corner=True: Gives optimal $\\beta=0.8111$ and $\\nabla=0.1266$. Simulated MPCs are:\n",
    "<table style=\"width:20%\">\n",
    "    <tr><td>0.6842</td><td>0.6257</td><td>0.5408</td><td>0.4214</td></tr>\n",
    "    <tr><td>0.6623</td><td>0.6112</td><td>0.5299</td><td>0.4130</td></tr>\n",
    "    <tr><td>0.6285</td><td>0.5849</td><td>0.5084</td><td>0.3963</td></tr>\n",
    "    <tr><td>0.4897</td><td>0.4584</td><td>0.3944</td><td>0.3105</td></tr>\n",
    "</table> \n",
    "Distance from Fagereng et al Table 9 is 0.3853.\n",
    "<!-- * * * * * * * * * * * * * * * * * * * * * * * * * * * * * * * * * * * * * * * * -->\n",
    "<!-- Results with simulate(100):\n",
    "3. Splurge=0.7, drop_corner=False: Gives optimal $\\beta=0.8572$ and $\\nabla=0.1163$. Simulated MPCs are:\n",
    "<table style=\"width:25%\">\n",
    "    <tr>    <td>0.7813</td><td>0.7490</td><td>0.6977</td><td>0.5700</td>  </tr>\n",
    "    <tr>    <td>0.6817</td><td>0.6409</td><td>0.5710</td><td>0.3973</td>  </tr>\n",
    "    <tr>    <td>0.6100</td><td>0.5703</td><td>0.4933</td><td>0.3049</td>  </tr>\n",
    "    <tr>    <td>0.4383</td><td>0.4106</td><td>0.3440</td><td>0.1940</td>  </tr>\n",
    "</table> \n",
    "Distance from Fagereng et al Table 9 is 0.3629.\n",
    "-->\n",
    "<!-- Results with simulate(95): -->\n",
    "3. Splurge=0.7, drop_corner=False: Gives optimal $\\beta=0.8532$ and $\\nabla=0.1138$. Simulated MPCs are:\n",
    "<table style=\"width:25%\">\n",
    "    <tr><td>0.7809</td><td>0.7503</td><td>0.6993</td><td>0.5808</td></tr>\n",
    "    <tr><td>0.6799</td><td>0.6424</td><td>0.5735</td><td>0.4120</td></tr>\n",
    "    <tr><td>0.6062</td><td>0.5713</td><td>0.4964</td><td>0.3220</td></tr>\n",
    "    <tr><td>0.4329</td><td>0.4106</td><td>0.3481</td><td>0.2128</td></tr>\n",
    "</table>        \n",
    "Distance from Fagereng et al Table 9 is 0.3622.\n",
    "<!-- * * * * * * * * * * * * * * * * * * * * * * * * * * * * * * * * * * * * * * * * -->\n",
    "<!-- Results with simulate(100):\n",
    "4. Splurge=0.7, drop_corner=True: Gives optimal $\\beta=0.8683$ and $\\nabla=0.0983$. Simulated MPCs are:\n",
    "<table style=\"width:25%\">\n",
    "    <tr>    <td>0.7615</td><td>0.7330</td><td>0.6888</td><td>0.5805</td>  </tr>\n",
    "    <tr>    <td>0.6541</td><td>0.6189</td><td>0.5587</td><td>0.4108</td>  </tr>\n",
    "    <tr>    <td>0.5785</td><td>0.5455</td><td>0.4795</td><td>0.3197</td>  </tr>\n",
    "    <tr>    <td>0.4038</td><td>0.3842</td><td>0.3312</td><td>0.2061</td>  </tr>\n",
    "</table>\n",
    "Distance from Fagereng et al Table 9 is 0.2359.\n",
    "-->\n",
    "<!-- Results with simulate(95): -->\n",
    "4. Splurge=0.7, drop_corner=True: Gives optimal $\\beta=0.8642$ and $\\nabla=0.0997$. Simulated MPCs are:\n",
    "<table style=\"width:25%\">\n",
    "    <tr>  <td>0.7632</td><td>0.7352</td><td>0.6895</td><td>0.5824</td></tr>\n",
    "    <tr>  <td>0.6554</td><td>0.6218</td><td>0.5599</td><td>0.4144</td></tr>\n",
    "    <tr>  <td>0.5780</td><td>0.5481</td><td>0.4812</td><td>0.3247</td></tr>\n",
    "    <tr>  <td>0.4023</td><td>0.3865</td><td>0.3343</td><td>0.2152</td></tr>\n",
    "</table>\n",
    "Distance from Fagereng et al Table 9 is 0.2360.\n",
    "\n",
    "## Discussion\n",
    "\n",
    "The first thing to note about these results is the large drop in the distance from Table 9 in Fagereng et al when setting drop_corner=True (compare results 1 vs 2 and results 3 vs 4). In the table the MPC for the lowest lottery size and lowest wealth quartile is 1.047. Even with splurge=0.7 the model cannot generate an MPC close to (and certainly not above) 1. The deviation between the model MPC and the value in the data will therefore be considerable, contributing to a larger distance. Given that the model cannot generate an MPC > 1, it makes sense to drop that value, but the improvement in the distance is to some extent mechanical. Ignoring that value yields higher estimates of $\\beta$ however, since lowering $\\beta$ is the model's best attempt at increasing the MPC. \n",
    "\n",
    "Focusing rather on the splurge component, we compare results 2 (without a splurge) vs 4 (with a splurge included). Setting splurge=0.7 gives an automatic increase in spending after the lottery which is not generated by the model. In the real world such an increase in spending makes sense if, for example, the lottery win enables a purchase of a durable good that a consumer was saving for. Such a mechanism is not included in the model. \n",
    "\n",
    "With the splurge fixed and independent of wealth and lottery sizes, the inclusion of the splurge increases MPCs for the smallest lottery wins and reduces it for the larger wins. This enables the model to generate a larger difference in MPCs for different lottery sizes, and improves the fit with the data. The improved fit is achieved with $\\beta$ centered around $0.86$ rather than $0.81$ since the splurge enables the model to imply high MPCs for the smallest lottery wins without needing to reduce $\\beta$. The higher $\\beta$ then enables lower MPCs for the larger lottery wins. \n"
   ]
  },
  {
   "cell_type": "markdown",
   "metadata": {},
   "source": [
    "### PROBLEM\n",
    "\n",
    "Call the _Marginal Propensity to Continue Consuming_ (MPCC) in year `t+n` the proportion of lottery winnings that get spent in year `t+n`.  That is, if consumption is higher in year `t+2` by an amount corresponding to 14 percent of lottery winnings, we would say  _the MPCC in t+2 is 14 percent.\n",
    "\n",
    "For the baseline version of the model with the \"splurge\" component, calculate the MPCC's for years `t+1` through `t+3` and plot them together with the MPC in the first year (including the splurge component)\n"
   ]
  },
  {
   "cell_type": "code",
   "execution_count": 10,
   "metadata": {},
   "outputs": [
    {
     "name": "stdout",
     "output_type": "stream",
     "text": [
      "Done assigning wealth quartiles\n"
     ]
    }
   ],
   "source": [
    "# Put your solution here\n",
    "\n",
    "# Use estimated beta range from case 4 above (splurge + drop_corner=True)\n",
    "center = opt_params[0]\n",
    "spread = opt_params[1]\n",
    "\n",
    "# Give our consumer types the estimated discount factor distribution\n",
    "beta_set = approxUniform(N=TypeCount,bot=center-spread,top=center+spread)[1]\n",
    "for j in range(TypeCount):\n",
    "    EstTypeList[j](DiscFac = beta_set[j])\n",
    "    #EstTypeList[j].track_vars = ['mNrmNow', 'cNrmNow', 'pLvlNow']\n",
    "\n",
    "# Solve and simulate all consumer types, then gather their wealth levels\n",
    "multiThreadCommands(EstTypeList,['solve()','initializeSim()','simulate(95)','unpackcFunc()'])\n",
    "WealthNow = np.concatenate([ThisType.aLvlNow for ThisType in EstTypeList])\n",
    "\n",
    "# Get wealth quartile cutoffs and distribute them to each consumer type\n",
    "quartile_cuts = getPercentiles(WealthNow,percentiles=[0.25,0.50,0.75])\n",
    "for ThisType in EstTypeList:\n",
    "    WealthQ = np.zeros(ThisType.AgentCount,dtype=int)\n",
    "    for n in range(3):\n",
    "        WealthQ[ThisType.aLvlNow > quartile_cuts[n]] += 1\n",
    "    ThisType(WealthQ = WealthQ)\n",
    "\n",
    "print('Done assigning wealth quartiles')"
   ]
  },
  {
   "cell_type": "code",
   "execution_count": 19,
   "metadata": {},
   "outputs": [],
   "source": [
    "# Now for each type we want to simulate 4 periods and calculate MPCCs \n",
    "# from consumptions with and without lottery winnings\n",
    "numPeriods = 4\n",
    "\n",
    "simulated_MPC_means = np.zeros((4,4,numPeriods))    # 3d array to store MPC matrices for t to t+n\n",
    "\n",
    "# Need a structure to keep track of how wealth evolves after the lottery win\n",
    "lotteryWealthMat = np.zeros((base_params['AgentCount'],4,numPeriods))\n",
    "lotteryWealthList = []\n",
    "for j in range(TypeCount):\n",
    "    lotteryWealthList.append(deepcopy(lotteryWealthMat))\n",
    "\n",
    "for n in range(numPeriods):\n",
    "    # Keep track of MPC sets in lists of lists of arrays\n",
    "    MPC_set_list = [ [[],[],[],[]],\n",
    "                     [[],[],[],[]],\n",
    "                     [[],[],[],[]],\n",
    "                     [[],[],[],[]] ]\n",
    "\n",
    "    for ThisType in EstTypeList:\n",
    "        ThisType.simulate(1)\n",
    "        c_base = ThisType.cNrmNow\n",
    "        MPC_this_type = np.zeros((ThisType.AgentCount,4))\n",
    "        for k in range(4): \n",
    "            if n == 0: # Calculate the initial period MPCs \n",
    "                Llvl = lottery_size[k]*0\n",
    "                Lnrm = Llvl/ThisType.pLvlNow\n",
    "                SplurgeNrm = Splurge/ThisType.pLvlNow\n",
    "                mAdj = ThisType.mNrmNow + Lnrm - SplurgeNrm\n",
    "                cAdj = ThisType.cFunc[0](mAdj) + SplurgeNrm\n",
    "                MPC_this_type[:,k] = (cAdj - c_base)#/Lnrm\n",
    "                # Store the resulting wealth after the lottery win\n",
    "                lotteryWealthList[ThisType.seed][:,k,n] = ThisType.mNrmNow + Lnrm - cAdj\n",
    "            else:      # Calculate MPCC after initial lottery win\n",
    "                       # by iterating last period's lottery wealth one period forward\n",
    "                Llvl = lottery_size[k]*0\n",
    "                Lnrm = Llvl/ThisType.pLvlNow\n",
    "                mAdjPrev = lotteryWealthList[ThisType.seed][:,k,n-1]\n",
    "                mAdjNew = mAdjPrev*base_params['Rfree']/ThisType.PermShkNow + ThisType.TranShkNow\n",
    "                cAdj = ThisType.cFunc[0](mAdjNew)\n",
    "                MPC_this_type[:,k] = (cAdj - c_base)#/Lnrm            \n",
    "                lotteryWealthList[ThisType.seed][:,k,n] = mAdjNew-cAdj\n",
    "                \n",
    "        # Sort the MPCs into the proper MPC sets\n",
    "        for q in range(4):\n",
    "            these = ThisType.WealthQ == q\n",
    "            for k in range(4):\n",
    "                MPC_set_list[k][q].append(MPC_this_type[these,k])\n",
    "\n",
    "    # Calculate average within each MPC set\n",
    "    for k in range(4):\n",
    "        for q in range(4):\n",
    "            MPC_array = np.concatenate(MPC_set_list[k][q])\n",
    "            simulated_MPC_means[k,q, n] = np.mean(MPC_array)"
   ]
  },
  {
   "cell_type": "code",
   "execution_count": 20,
   "metadata": {
    "scrolled": true
   },
   "outputs": [
    {
     "name": "stdout",
     "output_type": "stream",
     "text": [
      "[[   nan 0.019  0.0195 0.0244]\n",
      " [   nan 0.019  0.0195 0.0244]\n",
      " [   nan 0.019  0.0195 0.0244]\n",
      " [   nan 0.019  0.0195 0.0244]]\n",
      "[[    nan -0.0072 -0.0043 -0.    ]\n",
      " [    nan -0.0072 -0.0043 -0.    ]\n",
      " [    nan -0.0072 -0.0043 -0.    ]\n",
      " [    nan -0.0072 -0.0043 -0.    ]]\n",
      "[[    nan -0.0007  0.0012  0.0063]\n",
      " [    nan -0.0007  0.0012  0.0063]\n",
      " [    nan -0.0007  0.0012  0.0063]\n",
      " [    nan -0.0007  0.0012  0.0063]]\n",
      "[[   nan 0.0025 0.0042 0.01  ]\n",
      " [   nan 0.0025 0.0042 0.01  ]\n",
      " [   nan 0.0025 0.0042 0.01  ]\n",
      " [   nan 0.0025 0.0042 0.01  ]]\n"
     ]
    }
   ],
   "source": [
    "print(np.round(simulated_MPC_means[:,:,0],4))\n",
    "print(np.round(simulated_MPC_means[:,:,1],4))\n",
    "print(np.round(simulated_MPC_means[:,:,2],4))\n",
    "print(np.round(simulated_MPC_means[:,:,3],4))\n"
   ]
  },
  {
   "cell_type": "code",
   "execution_count": 13,
   "metadata": {
    "scrolled": false
   },
   "outputs": [
    {
     "data": {
      "image/png": "[encoded data removed]",
      "text/plain": [
       "<Figure size 432x288 with 4 Axes>"
      ]
     },
     "metadata": {
      "needs_background": "light"
     },
     "output_type": "display_data"
    }
   ],
   "source": [
    "import matplotlib.pyplot as plt\n",
    "\n",
    "for lottSize in range(4):\n",
    "    plt.subplot(2,2,lottSize+1)\n",
    "    for q in range(4):\n",
    "        labStr = \"Wealth Q=\" + str(q)\n",
    "        plt.plot(simulated_MPC_means[lottSize,q,:], label=labStr)\n",
    "        plt.xticks(ticks=range(4))\n",
    "    plt.title('Lottery size = %d' %lottSize)\n",
    "plt.subplots_adjust(hspace=0.6, wspace=0.4)\n",
    "# plt.legend(loc='best')\n",
    "plt.show()"
   ]
  }
 ],
 "metadata": {
  "cite2c": {
   "citations": {
    "6202365/SUE56C4B": {
     "author": [
      {
       "family": "Fagereng",
       "given": "Andreas"
      },
      {
       "family": "Holm",
       "given": "Martin B."
      },
      {
       "family": "Natvik",
       "given": "Gisle J."
      }
     ],
     "genre": "discussion paper",
     "id": "6202365/SUE56C4B",
     "issued": {
      "year": 2017
     },
     "publisher": "Statistics Norway",
     "title": "MPC Heterogeneity and Household Balance Sheets",
     "type": "report"
    }
   }
  },
  "jupytext": {
   "cell_metadata_filter": "collapsed,code_folding",
   "formats": "ipynb,py:percent"
  },
  "kernelspec": {
   "display_name": "Python 3",
   "language": "python",
   "name": "python3"
  },
  "language_info": {
   "codemirror_mode": {
    "name": "ipython",
    "version": 3
   },
   "file_extension": ".py",
   "mimetype": "text/x-python",
   "name": "python",
   "nbconvert_exporter": "python",
   "pygments_lexer": "ipython3",
   "version": "3.7.4"
  },
  "toc": {
   "base_numbering": 1,
   "nav_menu": {},
   "number_sections": true,
   "sideBar": true,
   "skip_h1_title": false,
   "title_cell": "Table of Contents",
   "title_sidebar": "Contents",
   "toc_cell": false,
   "toc_position": {},
   "toc_section_display": true,
   "toc_window_display": false
  },
  "varInspector": {
   "cols": {
    "lenName": 16,
    "lenType": 16,
    "lenVar": 40
   },
   "kernels_config": {
    "python": {
     "delete_cmd_postfix": "",
     "delete_cmd_prefix": "del ",
     "library": "var_list.py",
     "varRefreshCmd": "print(var_dic_list())"
    },
    "r": {
     "delete_cmd_postfix": ") ",
     "delete_cmd_prefix": "rm(",
     "library": "var_list.r",
     "varRefreshCmd": "cat(var_dic_list()) "
    }
   },
   "types_to_exclude": [
    "module",
    "function",
    "builtin_function_or_method",
    "instance",
    "_Feature"
   ],
   "window_display": false
  }
 },
 "nbformat": 4,
 "nbformat_minor": 4
}
