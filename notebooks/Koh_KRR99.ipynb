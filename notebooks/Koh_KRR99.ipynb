{
 "cells": [
  {
   "cell_type": "markdown",
   "id": "d00bc7f1",
   "metadata": {},
   "source": [
    "# Replication Plans for Krusell and Rios-Rull (1999)\n",
    "### \"On the Size of U.S. Government: Political Economy in the Neoclassical Growth Model\", AER 89 (5) p.1156-1181, 1999\n",
    "\n",
    "## Kyung Woong Koh (March 15, 2022)"
   ]
  },
  {
   "cell_type": "markdown",
   "id": "266ca20b",
   "metadata": {},
   "source": [
    "### Introduction: A Serious Attempt at Political Economy and Macroeconomics\n",
    "\n",
    "- Political economy: \"How does the macroeconomy how are policies affected?\"\n",
    "- Macroeconomics: \"How do policies affect the macroeconomy?\"\n",
    "- A serious discussion in each discipline eventually requires a dynamic model that answers the other discipline's questions (ex. \"Is this tax cut exogenous?\")\n",
    "\n",
    "Krusell and Rios-Rull 1999 (henceforth KRR): Dynamic macroeconomic model with political economic mechanism for determining income tax rate\n",
    "- Income tax rate is determined by votes of all agents in the economy, as in Meltzer and Richard (1981)\n",
    "\n",
    "Original goal of KRR, inspired from Meltzer and Richard (1981), is to predict the size of total transfers (to GDP ratio) and therefore the \"size of the U.S. government\" from political economy theory\n",
    "- \"The total size of transfers predicted by our political-economy model is quite close to the size of transfers in the data.\" [About 30\\% in the data and KRR's dynamic model]\n",
    "\n",
    "Since then, this strand of literature (ex. political business cycles) has focused on the political economy question rather than the macroeconomic question\n",
    "- Most of macroeconomics and its modelling until now has been homogeneous agents\n",
    "- But politics can't exist among homogeneous agents (especially with homogeneous preferences)\n",
    "- Macro deals in means, but political economy deals in medians\n",
    "\n",
    "With heterogeneous agent macro, now we can discuss models with different agents, with different levels of income/wealth and therefore different preferred levels of taxation (poor people want more taxation and more redistribution than rich people do)\n",
    "\n",
    "With HARK, we can go further!"
   ]
  },
  {
   "cell_type": "markdown",
   "id": "c72eefeb",
   "metadata": {},
   "source": [
    "### My Goals from Replication of KRR\n",
    "1. Compare resulting size of transfers (\"size of government\") from replication with KRR\n",
    "2. Look at effects of parameter shocks (permanent income, transitory income, etc.) to size of transfers\n",
    "- Does a higher standard deviation of permanent or transitory income lead to a greater size of transfers preferred by the \"median\" voter? (\"Social insurance\")\n",
    "- Does a negative aggregate productivity shock lead to a greater size of transfers preferred by the \"median\" voter? Does the existence of idiosyncratic shocks change this result?"
   ]
  },
  {
   "cell_type": "markdown",
   "id": "bc77d326",
   "metadata": {},
   "source": [
    "### Description of the KRR Economy\n",
    "\n",
    "1. Economy is composed of heterogeneous consumers with individual labor productivity $\\varepsilon_{t}$ and assets $a_[t}$, receive at labor wage rate $w_{t}$ and capital rental rate $r_{t}$, pay $\\tau_{t}$ of their total income in tax, consume $c_{t}$ and save income towards individual wealth $a_{t+1}$\n",
    "\\begin{align}\n",
    "    &\\max \\sum_{t=0}^{\\infty} \\beta^{t} u(c_{t}, l_{t}) \\text{ s.t. } \\\\\n",
    "    c_{t} + a_{t+1} &= a_{t}(1+r_{t}(1-\\tau_{t})) + w_{t}\\varepsilon_{t}(1-l_{t})(1-\\tau_{t}) + T_{t} \\\\\n",
    "    u(c,l) &= ((c^{\\alpha}l^{1-\\alpha})^{1-\\sigma}-1)/(1-\\sigma)\n",
    "\\end{align}\n",
    "\n",
    "\n",
    "2. Aggregate labor and aggregate capital are normalized as follows:\n",
    "\\begin{align}\n",
    "    \\sum_{i}\\varepsilon_{it} &= N \\\\\n",
    "    \\sum_{i}a_{it} &= K\n",
    "\\end{align}\n",
    "\n",
    "\n",
    "3. Resource constraint of economy is\n",
    "\\begin{equation}\n",
    "    C_{t} + K_{t+1} - K_{t}(1-\\delta) + g_{t} = F(K_{t},N_{t})\n",
    "\\end{equation}\n",
    "where $F(K,N)$ is the aggregate production function\n",
    "\n",
    "\n",
    "4. Income taxation is redistributed as equal lump-sum transfers (after accounting for government consumption $g_{t}$)\n",
    "\\begin{equation}\n",
    "    g_{t} + T_{t} = \\tau_{t}(K_{t}r_{t} + N_{t}w_{t})\n",
    "\\end{equation}\n",
    "\n",
    "\n",
    "5. Each consumer periodically votes for the tax rate $\\tau_{t}$ that maximizes his/her equilibrium utility, given the asset (\"wealth\") distribution $A_{t}=\\{a_{it}\\}$:\n",
    "\\begin{align}\n",
    "    \\tau_{t+1} &= \\Psi(A_{t},\\tau_{t}) \\\\\n",
    "    A_{t+1} &= H(A_{t},\\tau_{t})\n",
    "\\end{align}\n",
    "where $\\Psi(A,\\tau)$ is the transition function of current asset distribution $A_{t}$ and tax rate $\\tau_{t}$ to the new politically determined tax rate $\\tau_{t+1}$ (political equilibrium), and $H(A,\\tau)$ is the transition function to the next period's asset distribution $A_{t+1}$ (economic equilibrium).\n",
    "\n",
    "Our goal is to find the politico-economic equilibrium $\\tau  =\\Psi(A,\\tau)$ and $A = H(A,\\tau)$"
   ]
  },
  {
   "cell_type": "markdown",
   "id": "51a7993d",
   "metadata": {},
   "source": [
    "### What is already possible in HARK\n",
    "\n",
    "I would use $\\texttt{HARK.ConsumptionSaving.ConsAggShockModel.CobbDouglasEconomy}$, which provides the tools to compute  both consumption and labor choices in an economy with Cobb-Douglas production of aggregate labor and aggregate capital\n",
    "\n",
    "\n",
    "### Challenges\n",
    "- Is it possible to introduce new income tax rates after each period (or each 2 periods for elections in successive period, etc.)?\n",
    "- How to calculate the preferred taxation rate of each voter, then aggregate the tax rate choices into the political equilibriumt tax rate?"
   ]
  }
 ],
 "metadata": {
  "kernelspec": {
   "display_name": "Python 3 (ipykernel)",
   "language": "python",
   "name": "python3"
  },
  "language_info": {
   "codemirror_mode": {
    "name": "ipython",
    "version": 3
   },
   "file_extension": ".py",
   "mimetype": "text/x-python",
   "name": "python",
   "nbconvert_exporter": "python",
   "pygments_lexer": "ipython3",
   "version": "3.9.7"
  }
 },
 "nbformat": 4,
 "nbformat_minor": 5
}
