{
 "cells": [
  {
   "cell_type": "markdown",
   "metadata": {},
   "source": [
    "# Making Structural Estimates From Empirical Results\n",
    "\n",
    "This notebook conducts a quick and dirty structural estimation based on Table 9 of \"MPC Heterogeneity and Household Balance Sheets\" by Fagereng, Holm, and Natvik <cite data-cite=\"6202365/SUE56C4B\"></cite>, who use Norweigian administrative data on income, household assets, and lottery winnings to examine the MPC from transitory income shocks (lottery prizes).  Their Table 9 reports an estimated MPC broken down by quartiles of bank deposits and\n",
    "prize size; this table is reproduced here as $\\texttt{MPC_target_base}$.  In this demo, we use the Table 9 estimates as targets in a simple structural estimation, seeking to minimize the sum of squared differences between simulated and estimated MPCs by changing the (uniform) distribution of discount factors.  The essential question is how well their results be rationalized by a simple one-asset consumption-saving model.  \n",
    "\n",
    "\n",
    "The function that estimates discount factors includes several options for estimating different specifications:\n",
    "\n",
    "1. TypeCount : Integer number of discount factors in discrete distribution; can be set to 1 to turn off _ex ante_ heterogeneity (and to discover that the model has no chance to fit the data well without such heterogeneity).\n",
    "2. AdjFactor : Scaling factor for the target MPCs; user can try to fit estimated MPCs scaled down by (e.g.) 50%.\n",
    "3. T_kill    : Maximum number of years the (perpetually young) agents are allowed to live.  Because this is quick and dirty, it's also the number of periods to simulate.\n",
    "4. Splurge   : Amount of lottery prize that an individual will automatically spend in a moment of excitement (perhaps ancient tradition in Norway requires a big party when you win the lottery), before beginning to behave according to the optimal consumption function.  The patterns in Table 9 can be fit much better when this is set around \\$700 --> 0.7.  That doesn't seem like an unreasonable amount of money to spend on a memorable party.\n",
    "5. do_secant : Boolean indicator for whether to use \"secant MPC\", which is average MPC over the range of the prize.  MNW believes authors' regressions are estimating this rather than point MPC.  When False, structural estimation uses point MPC after receiving prize.  NB: This is incompatible with Splurge > 0.\n",
    "6. drop_corner : Boolean for whether to include target MPC in the top left corner, which is greater than 1.  Authors discuss reasons why the MPC from a transitory shock *could* exceed 1.  Option is included here because this target tends to push the estimate around a bit."
   ]
  },
  {
   "cell_type": "code",
   "execution_count": 1,
   "metadata": {
    "code_folding": []
   },
   "outputs": [],
   "source": [
    "# Import python tools\n",
    "\n",
    "import sys\n",
    "import os\n",
    "\n",
    "import numpy as np\n",
    "from copy import deepcopy"
   ]
  },
  {
   "cell_type": "code",
   "execution_count": 2,
   "metadata": {
    "code_folding": []
   },
   "outputs": [],
   "source": [
    "# Import needed tools from HARK\n",
    "\n",
    "from HARK.utilities import approxUniform, getPercentiles\n",
    "from HARK.parallel import multiThreadCommands\n",
    "from HARK.estimation import minimizeNelderMead\n",
    "from HARK.ConsumptionSaving.ConsIndShockModel import *\n",
    "from HARK.cstwMPC.SetupParamsCSTW import init_infinite"
   ]
  },
  {
   "cell_type": "code",
   "execution_count": 3,
   "metadata": {
    "code_folding": []
   },
   "outputs": [],
   "source": [
    "# Set key problem-specific parameters\n",
    "\n",
    "TypeCount = 8    # Number of consumer types with heterogeneous discount factors\n",
    "AdjFactor = 1.0  # Factor by which to scale all of MPCs in Table 9\n",
    "T_kill = 100     # Don't let agents live past this age\n",
    "Splurge = 0.7    # Consumers automatically spend this amount of any lottery prize\n",
    "do_secant = True # If True, calculate MPC by secant, else point MPC\n",
    "drop_corner = True # If True, ignore upper left corner when calculating distance"
   ]
  },
  {
   "cell_type": "code",
   "execution_count": 4,
   "metadata": {
    "code_folding": []
   },
   "outputs": [],
   "source": [
    "# Set standard HARK parameter values\n",
    "\n",
    "base_params = deepcopy(init_infinite)\n",
    "base_params['LivPrb'] = [0.975]\n",
    "base_params['Rfree'] = 1.04/base_params['LivPrb'][0]\n",
    "base_params['PermShkStd'] = [0.1]\n",
    "base_params['TranShkStd'] = [0.1]\n",
    "base_params['T_age'] = T_kill # Kill off agents if they manage to achieve T_kill working years\n",
    "base_params['AgentCount'] = 10000\n",
    "base_params['pLvlInitMean'] = np.log(23.72) # From Table 1, in thousands of USD\n",
    "base_params['T_sim'] = T_kill  # No point simulating past when agents would be killed off"
   ]
  },
  {
   "cell_type": "code",
   "execution_count": 5,
   "metadata": {
    "code_folding": []
   },
   "outputs": [],
   "source": [
    "# Define the MPC targets from Fagereng et al Table 9; element i,j is lottery quartile i, deposit quartile j\n",
    "\n",
    "MPC_target_base = np.array([[1.047, 0.745, 0.720, 0.490],\n",
    "                            [0.762, 0.640, 0.559, 0.437],\n",
    "                            [0.663, 0.546, 0.390, 0.386],\n",
    "                            [0.354, 0.325, 0.242, 0.216]])\n",
    "MPC_target = AdjFactor*MPC_target_base"
   ]
  },
  {
   "cell_type": "code",
   "execution_count": 6,
   "metadata": {
    "code_folding": []
   },
   "outputs": [],
   "source": [
    "# Define the four lottery sizes, in thousands of USD; these are eyeballed centers/averages\n",
    "\n",
    "lottery_size = np.array([1.625, 3.3741, 7.129, 40.0])"
   ]
  },
  {
   "cell_type": "code",
   "execution_count": 7,
   "metadata": {
    "code_folding": [],
    "lines_to_next_cell": 1
   },
   "outputs": [],
   "source": [
    "# Make several consumer types to be used during estimation\n",
    "\n",
    "BaseType = IndShockConsumerType(**base_params)\n",
    "EstTypeList = []\n",
    "for j in range(TypeCount):\n",
    "    EstTypeList.append(deepcopy(BaseType))\n",
    "    EstTypeList[-1](seed = j)"
   ]
  },
  {
   "cell_type": "code",
   "execution_count": 8,
   "metadata": {
    "code_folding": []
   },
   "outputs": [],
   "source": [
    "# Define the objective function\n",
    "\n",
    "def FagerengObjFunc(center,spread,verbose=False):\n",
    "    '''\n",
    "    Objective function for the quick and dirty structural estimation to fit\n",
    "    Fagereng, Holm, and Natvik's Table 9 results with a basic infinite horizon\n",
    "    consumption-saving model (with permanent and transitory income shocks).\n",
    "\n",
    "    Parameters\n",
    "    ----------\n",
    "    center : float\n",
    "        Center of the uniform distribution of discount factors.\n",
    "    spread : float\n",
    "        Width of the uniform distribution of discount factors.\n",
    "    verbose : bool\n",
    "        When True, print to screen MPC table for these parameters.  When False,\n",
    "        print (center, spread, distance).\n",
    "\n",
    "    Returns\n",
    "    -------\n",
    "    distance : float\n",
    "        Euclidean distance between simulated MPCs and (adjusted) Table 9 MPCs.\n",
    "    '''\n",
    "    # Give our consumer types the requested discount factor distribution\n",
    "    beta_set = approxUniform(N=TypeCount,bot=center-spread,top=center+spread)[1]\n",
    "    for j in range(TypeCount):\n",
    "        EstTypeList[j](DiscFac = beta_set[j])\n",
    "\n",
    "    # Solve and simulate all consumer types, then gather their wealth levels\n",
    "    multiThreadCommands(EstTypeList,['solve()','initializeSim()','simulate()','unpackcFunc()'])\n",
    "    WealthNow = np.concatenate([ThisType.aLvlNow for ThisType in EstTypeList])\n",
    "\n",
    "    # Get wealth quartile cutoffs and distribute them to each consumer type\n",
    "    quartile_cuts = getPercentiles(WealthNow,percentiles=[0.25,0.50,0.75])\n",
    "    for ThisType in EstTypeList:\n",
    "        WealthQ = np.zeros(ThisType.AgentCount,dtype=int)\n",
    "        for n in range(3):\n",
    "            WealthQ[ThisType.aLvlNow > quartile_cuts[n]] += 1\n",
    "        ThisType(WealthQ = WealthQ)\n",
    "\n",
    "    # Keep track of MPC sets in lists of lists of arrays\n",
    "    MPC_set_list = [ [[],[],[],[]],\n",
    "                     [[],[],[],[]],\n",
    "                     [[],[],[],[]],\n",
    "                     [[],[],[],[]] ]\n",
    "\n",
    "    # Calculate the MPC for each of the four lottery sizes for all agents\n",
    "    for ThisType in EstTypeList:\n",
    "        ThisType.simulate(1)\n",
    "        c_base = ThisType.cNrmNow\n",
    "        MPC_this_type = np.zeros((ThisType.AgentCount,4))\n",
    "        for k in range(4): # Get MPC for all agents of this type\n",
    "            Llvl = lottery_size[k]\n",
    "            Lnrm = Llvl/ThisType.pLvlNow\n",
    "            if do_secant:\n",
    "                SplurgeNrm = Splurge/ThisType.pLvlNow\n",
    "                mAdj = ThisType.mNrmNow + Lnrm - SplurgeNrm\n",
    "                cAdj = ThisType.cFunc[0](mAdj) + SplurgeNrm\n",
    "                MPC_this_type[:,k] = (cAdj - c_base)/Lnrm\n",
    "            else:\n",
    "                mAdj = ThisType.mNrmNow + Lnrm\n",
    "                MPC_this_type[:,k] = cAdj = ThisType.cFunc[0].derivative(mAdj)\n",
    "\n",
    "        # Sort the MPCs into the proper MPC sets\n",
    "        for q in range(4):\n",
    "            these = ThisType.WealthQ == q\n",
    "            for k in range(4):\n",
    "                MPC_set_list[k][q].append(MPC_this_type[these,k])\n",
    "\n",
    "    # Calculate average within each MPC set\n",
    "    simulated_MPC_means = np.zeros((4,4))\n",
    "    for k in range(4):\n",
    "        for q in range(4):\n",
    "            MPC_array = np.concatenate(MPC_set_list[k][q])\n",
    "            simulated_MPC_means[k,q] = np.mean(MPC_array)\n",
    "\n",
    "    # Calculate Euclidean distance between simulated MPC averages and Table 9 targets\n",
    "    diff = simulated_MPC_means - MPC_target\n",
    "    if drop_corner:\n",
    "        diff[0,0] = 0.0\n",
    "    distance = np.sqrt(np.sum((diff)**2))\n",
    "    if verbose:\n",
    "        print(simulated_MPC_means)\n",
    "    else:\n",
    "        print (center, spread, distance)\n",
    "    return distance"
   ]
  },
  {
   "cell_type": "code",
   "execution_count": 9,
   "metadata": {
    "code_folding": []
   },
   "outputs": [
    {
     "name": "stdout",
     "output_type": "stream",
     "text": [
      "0.78981881 0.16098057 0.5012760541944505\n",
      "0.8293097505 0.16098057 0.33775634322883963\n",
      "0.78981881 0.1690295985 0.4944225625531723\n",
      "0.8293097505000001 0.1690295985 0.35015044929265005\n",
      "0.868800691 0.16098057 0.3852711169420015\n",
      "0.84905522075 0.162992827125 0.34412866137314435\n",
      "0.8490552207499998 0.15494379862499996 0.3148642935903224\n",
      "0.8589279558749998 0.14790089868749995 0.31961336010805097\n",
      "0.8293097504999998 0.15293154149999996 0.3284528016953897\n",
      "0.8490552207499997 0.14689477012499996 0.2944457424593012\n",
      "0.8589279558749996 0.13985187018749995 0.29101695159750707\n",
      "0.8786734261249998 0.14186412731249995 0.3693659259239629\n",
      "0.8416506694062498 0.15016468795312496 0.30289195433157085\n",
      "0.8515234045312495 0.13507275951562492 0.27235668269745966\n",
      "0.8527574964218745 0.1251372399609374 0.25862435815969076\n",
      "0.8700347828906243 0.11482442219531239 0.2558107790928702\n",
      "0.8842268396328117 0.09715428931640607 0.27327689778168285\n",
      "0.8638643234374992 0.10010979196874983 0.23826310160244782\n",
      "0.8663325072187491 0.08023875285937476 0.2778294484652899\n",
      "0.881141609906249 0.08979697420312482 0.25231346585474174\n",
      "0.8749711504531239 0.07508234397656227 0.2677545149576177\n",
      "0.8712688747812491 0.10488890264062486 0.24273587743838385\n",
      "0.8539915883124993 0.11520172040624987 0.25058304878958376\n",
      "0.8607790937109367 0.10885053385546861 0.24049439755287724\n",
      "0.8533745423671868 0.10407142318359358 0.2633489463538489\n",
      "0.8667952916777335 0.10468453277636705 0.23807865725323904\n",
      "0.869880521404296 0.09594379088964827 0.23648835989368258\n",
      "0.8744312352509755 0.08949041940673808 0.23968796615458038\n",
      "0.8728114896445303 0.10051853169726549 0.24152403554941965\n",
      "0.866101114989257 0.10021197690087874 0.2365116773602535\n",
      "0.8691863447158195 0.09147123501415996 0.24018670250845997\n",
      "0.867393054937255 0.10138120833581528 0.2367474179296708\n",
      "0.8685885814562979 0.09477455945471173 0.23712253626277824\n",
      "0.8676919365670157 0.09972954611553939 0.23629699262441242\n",
      "0.8714713429820546 0.09546136010430892 0.23724812692523595\n",
      "0.8674436719874564 0.09902432270173628 0.23605835811230097\n",
      "0.8652550871501763 0.10281007792762739 0.2370503248835691\n",
      "0.868724162840766 0.09766036264914305 0.2360774243783109\n",
      "0.8684758982612069 0.09695513923533994 0.2363138653718094\n",
      "0.8678879269905635 0.09903594439548952 0.23604856198566596\n",
      "0.866607436137254 0.10039990444808275 0.23634941799054626\n",
      "0.868194981164888 0.09834524809887797 0.23594207127911637\n",
      "0.868639236167995 0.0983568697926312 0.2360604905476143\n",
      "0.867742563032591 0.09885745947446001 0.2360292447220189\n",
      "0.8680496172069154 0.09816676317784845 0.23596308350787654\n",
      "0.8685020353392123 0.0976545518022664 0.2360867544337008\n",
      "0.8679324311092463 0.0985567325564116 0.23597728125983333\n",
      "0.868312167262557 0.0979552787203148 0.23602704822039466\n",
      "0.8680273651475741 0.0984063690973874 0.23596980831110356\n",
      "0.8682172332242293 0.09810564217933901 0.23595262696784824\n",
      "0.8683625971822018 0.09828412710036855 0.23590644986575712\n",
      "0.8685190871698447 0.09834280906162862 0.23599676731475983\n",
      "0.8683403451228604 0.0985237330199075 0.23605454970693654\n",
      "0.8682480111988871 0.09821016488948113 0.23593004602244463\n",
      "0.8684156272162008 0.09814904389097172 0.2359143799689279\n",
      "0.8685302131995156 0.09822300610185915 0.235998813822884\n",
      "0.8683185616990442 0.09821337519257564 0.23594604666060134\n",
      "0.8683891121992013 0.09821658549567014 0.23592656851377913\n",
      "0.8683053041905444 0.09824714599492484 0.23592076296962794\n",
      "Optimization terminated successfully.\n",
      "         Current function value: 0.235906\n",
      "         Iterations: 31\n",
      "         Function evaluations: 59\n",
      "Time to estimate is 279.20434498786926 seconds.\n",
      "Finished estimating for scaling factor of 1.0 and \"splurge amount\" of $700.0\n",
      "Optimal (beta,nabla) is [0.8683626  0.09828413], simulated MPCs are:\n",
      "[[0.76146837 0.73294988 0.68867587 0.58023753]\n",
      " [0.65406631 0.61881131 0.55855225 0.41047637]\n",
      " [0.5784164  0.54533118 0.47933813 0.31933032]\n",
      " [0.4037176  0.38408734 0.33105934 0.20577312]]\n",
      "Distance from Fagereng et al Table 9 is 0.23590644986575712\n"
     ]
    }
   ],
   "source": [
    "# Conduct the estimation\n",
    "\n",
    "guess = [0.92,0.03]\n",
    "guess = [0.78981881,0.16098057]\n",
    "f_temp = lambda x : FagerengObjFunc(x[0],x[1])\n",
    "opt_params = minimizeNelderMead(f_temp, guess, verbose=True)\n",
    "print('Finished estimating for scaling factor of ' + str(AdjFactor) + ' and \"splurge amount\" of $' + str(1000*Splurge))\n",
    "print('Optimal (beta,nabla) is ' + str(opt_params) + ', simulated MPCs are:')\n",
    "dist = FagerengObjFunc(opt_params[0],opt_params[1],True)\n",
    "print('Distance from Fagereng et al Table 9 is ' + str(dist))"
   ]
  },
  {
   "cell_type": "markdown",
   "metadata": {},
   "source": [
    "### PROBLEM\n",
    "\n",
    "See what happens if you do not allow a splurge amount at all.  Hint: Think about how this question relates to the `drop_corner` option.\n",
    "\n",
    "Explain why you get the results you do, and comment on possible interpretations of the \"splurge\" that might be consistent with economic theory.    \n",
    "Hint: What the authors are able to measure is actually the marginal propensity to EXPEND, not the marginal propensity to CONSUME as it is defined in our benchmark model."
   ]
  },
  {
   "cell_type": "markdown",
   "metadata": {},
   "source": [
    "MPC distribution for `splurge=0.7` and `drop_corner=0` is  \n",
    "0.78058645 0.74852543 0.69758672  0.57062401  \n",
    "0.68077668 0.64027802 0.57082729  0.39800477  \n",
    "0.60892177 0.5696061 0.4929874   0.30577941  \n",
    "0.43708697 0.40971915 0.34376774  0.1947101  \n",
    "Estimation: beta-point =0.86, nabla =12   \n",
    "The distance is 0.36  \n",
    "The estimator choses a relatively low beta and high nabla when `drop_corner` is set to zero. This is because it puts high importance on matching the MPC value in the upper left corner of the target matrix as the distance to the target is large. The low beta, however, deteriorates matches with the MPC target in other lottery / wealth quartiles. \n",
    "\n",
    "\n",
    "MPC distribution for `splurge=0.7` and `drop_corner=1` is  \n",
    "0.76146837 0.73294988 0.68867587 0.58023753  \n",
    "0.65406631 0.61881131 0.55855225 0.41047637  \n",
    "0.5784164  0.54533118 0.47933813 0.31933032  \n",
    "0.4037176  0.38408734 0.33105934 0.20577312   \n",
    "Estimation: beta-point = 0.87, nabla = 0.10  \n",
    "The distance is 0.24  \n",
    "With `drop_corner` switched on, the distance is lower. This happens (i) mechanically since one difference is excluded from the euclidean distance, but also (ii) because the now higher beta-point value, allows to match other MPC targets of lower values much easier. The point estimate of beta-point is higher, the nabla becomes smaller, another indicator that the model does a better job to replicate the data as it needs less ex-ante heterogeneity. \n",
    "\n",
    "\n",
    "MPC distribution for `splurge=0.0` and `drop_corner=0` is  \n",
    "0.77363444 0.68301477 0.56440589 0.40411035  \n",
    "0.74357098 0.66467557 0.55281926 0.39561326  \n",
    "0.70355573 0.6349713  0.53035817 0.37868694  \n",
    "0.56134351 0.5041643  0.41242587 0.29210923    \n",
    "Estimation: beta-point = 0.79, nabla = 0.16  \n",
    "The distance is 0.50.  \n",
    "With both options set to zero, we obtain the worst fit. This indicates that removing the splurge makes it more difficult for the model to match the relative high MPC for lower wealth quartiles. This is compensated by a lower beta-point estimate. However, this goes at the cost of other, lower values of the MPC targets. \n",
    "\n"
   ]
  },
  {
   "cell_type": "markdown",
   "metadata": {},
   "source": [
    "### PROBLEM\n",
    "\n",
    "Call the _Marginal Propensity to Continue Consuming_ (MPCC) in year `t+n` the proportion of lottery winnings that get spent in year `t+n`.  That is, if consumption is higher in year `t+2` by an amount corresponding to 14 percent of lottery winnings, we would say  _the MPCC in t+2 is 14 percent.\n",
    "\n",
    "For the baseline version of the model with the \"splurge\" component, calculate the MPCC's for years `t+1` through `t+3` and plot them together with the MPC in the first year (including the splurge component)\n"
   ]
  },
  {
   "cell_type": "code",
   "execution_count": 12,
   "metadata": {},
   "outputs": [
    {
     "name": "stdout",
     "output_type": "stream",
     "text": [
      "The MPC for t+0 is \n",
      " [[0.75901674 0.73093395 0.68513046 0.56941437]\n",
      " [0.64963757 0.61585932 0.55399076 0.396774  ]\n",
      " [0.57144354 0.5415279  0.47449941 0.30573316]\n",
      " [0.39534851 0.38006371 0.3285823  0.20043827]]\n",
      "\n",
      "\n",
      "The MPC for t+1 is \n",
      " [[0.16211846 0.18182203 0.202201   0.20380795]\n",
      " [0.21224423 0.22381417 0.22949082 0.18924249]\n",
      " [0.24156619 0.2464894  0.24251469 0.18027436]\n",
      " [0.25806314 0.25628364 0.23498123 0.15793748]]\n",
      "\n",
      "\n",
      "The MPC for t+2 is \n",
      " [[0.09539689 0.12255452 0.16832233 0.24480841]\n",
      " [0.11077037 0.12985528 0.16007544 0.18686811]\n",
      " [0.12653197 0.13913268 0.15968671 0.15867777]\n",
      " [0.17091122 0.17311122 0.17217872 0.13416782]]\n",
      "\n",
      "\n",
      "The MPC for t+3 is \n",
      " [[0.06811416 0.0928095  0.144913   0.28139763]\n",
      " [0.06503532 0.08221241 0.11810482 0.18906359]\n",
      " [0.06982751 0.08173156 0.10891671 0.14477837]\n",
      " [0.10915508 0.11271743 0.12380282 0.11508206]]\n",
      "\n",
      " I plot as an example the evolution of the MPC in the 2nd quartile of wealth and lottery win.\n"
     ]
    },
    {
     "data": {
      "image/png": "[encoded data removed]",
      "text/plain": [
       "<Figure size 432x288 with 1 Axes>"
      ]
     },
     "metadata": {
      "needs_background": "light"
     },
     "output_type": "display_data"
    }
   ],
   "source": [
    "def FagerengFutureObjFunc(center,spread,verbose=False):\n",
    "\n",
    "    # Give our consumer types the requested discount factor distribution\n",
    "    beta_set = approxUniform(N=TypeCount,bot=center-spread,top=center+spread)[1]\n",
    "    for j in range(TypeCount):\n",
    "        EstTypeList[j](DiscFac = beta_set[j])\n",
    "        # add tracking vars to each Type\n",
    "        EstTypeList[j].track_vars = ['aNrmNow','mNrmNow','cNrmNow','pLvlNow','PermShkNow','TranShkNow']\n",
    "\n",
    "    # Solve and simulate all consumer types, then gather their wealth levels\n",
    "    StartPeriod = 95;\n",
    "    multiThreadCommands(EstTypeList,['solve()','initializeSim()','simulate(95)','unpackcFunc()'])\n",
    "    WealthNow = np.concatenate([ThisType.aLvlNow for ThisType in EstTypeList])\n",
    "\n",
    "    # Get wealth quartile cutoffs and distribute them to each consumer type\n",
    "    quartile_cuts = getPercentiles(WealthNow,percentiles=[0.25,0.50,0.75])\n",
    "    for ThisType in EstTypeList:\n",
    "        WealthQ = np.zeros(ThisType.AgentCount,dtype=int)\n",
    "        for n in range(3):\n",
    "            WealthQ[ThisType.aLvlNow > quartile_cuts[n]] += 1\n",
    "        ThisType(WealthQ = WealthQ)\n",
    "\n",
    "    # Keep track of MPC sets in lists of lists of arrays\n",
    "    MPC_set_list = [ [[],[],[],[]],\n",
    "                     [[],[],[],[]],\n",
    "                     [[],[],[],[]],\n",
    "                     [[],[],[],[]] ]\n",
    "    MPC_set_list_t1 = deepcopy(MPC_set_list)\n",
    "    MPC_set_list_t2 = deepcopy(MPC_set_list)\n",
    "    MPC_set_list_t3 = deepcopy(MPC_set_list)\n",
    "\n",
    "    Rfree = base_params['Rfree']\n",
    "    # Calculate the MPC for each of the four lottery sizes for all agents\n",
    "    for ThisType in EstTypeList:\n",
    "        ThisType.simulate(4)\n",
    "        c_base_0 = ThisType.cNrmNow_hist[StartPeriod]\n",
    "        c_base_t1 = ThisType.cNrmNow_hist[StartPeriod+1]\n",
    "        c_base_t2 = ThisType.cNrmNow_hist[StartPeriod+2]\n",
    "        c_base_t3 = ThisType.cNrmNow_hist[StartPeriod+3]\n",
    "        \n",
    "        MPC_this_type = np.zeros((ThisType.AgentCount,4))\n",
    "        MPC_this_type_t1 = np.zeros((ThisType.AgentCount,4))\n",
    "        MPC_this_type_t2 = np.zeros((ThisType.AgentCount,4))\n",
    "        MPC_this_type_t3 = np.zeros((ThisType.AgentCount,4))\n",
    "    \n",
    "        for k in range(4): # Get MPC for all agents of this type\n",
    "            Llvl = lottery_size[k]\n",
    "            Lnrm = Llvl/ThisType.pLvlNow\n",
    "            \n",
    "            Llvl = lottery_size[k]\n",
    "            Lnrm = Llvl/ThisType.pLvlNow_hist[StartPeriod]     \n",
    "            SplurgeNrm = Splurge/ThisType.pLvlNow_hist[StartPeriod]\n",
    "            mAdj = ThisType.mNrmNow_hist[StartPeriod] + Lnrm - SplurgeNrm\n",
    "            cAdj = ThisType.cFunc[0](mAdj) + SplurgeNrm\n",
    "            MPC_this_type[:,k] = (cAdj - c_base_0) /Lnrm\n",
    "            \n",
    "            # Calculate normalized market resources in t+1 (varnames t1)\n",
    "            Llvl = lottery_size[k]\n",
    "            Lnrm = Llvl/ThisType.pLvlNow_hist[StartPeriod+1]\n",
    "            aNrm_t0 = ThisType.mNrmNow_hist[StartPeriod] + Lnrm - cAdj\n",
    "            aLvl_t0 = aNrm_t0*ThisType.pLvlNow_hist[StartPeriod]\n",
    "            mLvl_t1 = aLvl_t0*Rfree + ThisType.TranShkNow_hist[StartPeriod+1]*ThisType.pLvlNow_hist[StartPeriod+1]\n",
    "            mNrm_t1 = mLvl_t1/ThisType.pLvlNow_hist[StartPeriod+1]\n",
    "            cNrm_t1 = ThisType.cFunc[0](mNrm_t1)\n",
    "            MPC_this_type_t1[:,k] = (cNrm_t1 - c_base_t1) /Lnrm\n",
    "\n",
    "            # Calculate normalized market resources in t+2 (varnames t2)\n",
    "            Llvl = lottery_size[k]\n",
    "            Lnrm = Llvl/ThisType.pLvlNow_hist[StartPeriod+2]\n",
    "            aNrm_t1 = mNrm_t1 - cNrm_t1;\n",
    "            aLvl_t1 = aNrm_t1*ThisType.pLvlNow_hist[StartPeriod+1]\n",
    "            mLvl_t2 = aLvl_t1*Rfree + ThisType.TranShkNow_hist[StartPeriod+2]*ThisType.pLvlNow_hist[StartPeriod+2]\n",
    "            mNrm_t2 = mLvl_t2/ThisType.pLvlNow_hist[StartPeriod+2]\n",
    "            cNrm_t2 = ThisType.cFunc[0](mNrm_t2)\n",
    "            MPC_this_type_t2[:,k] = (cNrm_t2 - c_base_t2) /Lnrm\n",
    "\n",
    "            # Calculate normalized market resources in t+3 (varnames t3)\n",
    "            Llvl = lottery_size[k]\n",
    "            Lnrm = Llvl/ThisType.pLvlNow_hist[StartPeriod+3]\n",
    "            aNrm_t2 = mNrm_t2 - cNrm_t2;\n",
    "            aLvl_t2 = aNrm_t2*ThisType.pLvlNow_hist[StartPeriod+2]\n",
    "            mLvl_t3 = aLvl_t2*Rfree + ThisType.TranShkNow_hist[StartPeriod+3]*ThisType.pLvlNow_hist[StartPeriod+3]\n",
    "            mNrm_t3 = mLvl_t3/ThisType.pLvlNow_hist[StartPeriod+3]\n",
    "            cNrm_t3 = ThisType.cFunc[0](mNrm_t3)\n",
    "            MPC_this_type_t3[:,k] = (cNrm_t3 - c_base_t3) /Lnrm\n",
    "            \n",
    "\n",
    "        # Sort the MPCs into the proper MPC sets\n",
    "        for q in range(4):\n",
    "            these = ThisType.WealthQ == q\n",
    "            for k in range(4):\n",
    "                MPC_set_list[k][q].append(MPC_this_type[these,k])\n",
    "                MPC_set_list_t1[k][q].append(MPC_this_type_t1[these,k])\n",
    "                MPC_set_list_t2[k][q].append(MPC_this_type_t2[these,k])\n",
    "                MPC_set_list_t3[k][q].append(MPC_this_type_t3[these,k])\n",
    "\n",
    "    # Calculate average within each MPC set\n",
    "    simulated_MPC_means = np.zeros((4,4))\n",
    "    simulated_MPC_means_t1 = np.zeros((4,4))\n",
    "    simulated_MPC_means_t2 = np.zeros((4,4))\n",
    "    simulated_MPC_means_t3 = np.zeros((4,4))\n",
    "    for k in range(4):\n",
    "        for q in range(4):\n",
    "            MPC_array = np.concatenate(MPC_set_list[k][q])\n",
    "            simulated_MPC_means[k,q] = np.mean(MPC_array)\n",
    "            simulated_MPC_means_t1[k,q] = np.mean(np.concatenate(MPC_set_list_t1[k][q]))\n",
    "            simulated_MPC_means_t2[k,q] = np.mean(np.concatenate(MPC_set_list_t2[k][q]))\n",
    "            simulated_MPC_means_t3[k,q] = np.mean(np.concatenate(MPC_set_list_t3[k][q]))\n",
    "            \n",
    "    print('The MPC for t+0 is \\n', simulated_MPC_means)\n",
    "    print('\\n')\n",
    "    print('The MPC for t+1 is \\n', simulated_MPC_means_t1)\n",
    "    print('\\n')\n",
    "    print('The MPC for t+2 is \\n', simulated_MPC_means_t2)\n",
    "    print('\\n')\n",
    "    print('The MPC for t+3 is \\n', simulated_MPC_means_t3)\n",
    "    \n",
    "    import matplotlib.pyplot as plt\n",
    "    print('\\n I plot as an example the evolution of the MPC in the 2nd quartile of wealth and lottery win.')\n",
    "    plt.plot([0, 1, 2, 3],[simulated_MPC_means[2,2],simulated_MPC_means_t1[2,2],simulated_MPC_means_t2[2,2],simulated_MPC_means_t3[2,2]])\n",
    "    plt.xlabel('Year')\n",
    "    plt.ylabel('MPCC')\n",
    "    plt.show(block=False)\n",
    "\n",
    "    # Calculate Euclidean distance between simulated MPC averages and Table 9 targets\n",
    "    diff = simulated_MPC_means - MPC_target\n",
    "    if drop_corner:\n",
    "        diff[0,0] = 0.0\n",
    "    distance = np.sqrt(np.sum((diff)**2))\n",
    "    return distance\n",
    "\n",
    "dist = FagerengFutureObjFunc(opt_params[0],opt_params[1],True)"
   ]
  },
  {
   "cell_type": "code",
   "execution_count": null,
   "metadata": {},
   "outputs": [],
   "source": []
  }
 ],
 "metadata": {
  "cite2c": {
   "citations": {
    "6202365/SUE56C4B": {
     "author": [
      {
       "family": "Fagereng",
       "given": "Andreas"
      },
      {
       "family": "Holm",
       "given": "Martin B."
      },
      {
       "family": "Natvik",
       "given": "Gisle J."
      }
     ],
     "genre": "discussion paper",
     "id": "6202365/SUE56C4B",
     "issued": {
      "year": 2017
     },
     "publisher": "Statistics Norway",
     "title": "MPC Heterogeneity and Household Balance Sheets",
     "type": "report"
    }
   }
  },
  "jupytext": {
   "cell_metadata_filter": "collapsed,code_folding",
   "formats": "ipynb,py:percent"
  },
  "kernelspec": {
   "display_name": "Python 3",
   "language": "python",
   "name": "python3"
  },
  "language_info": {
   "codemirror_mode": {
    "name": "ipython",
    "version": 3
   },
   "file_extension": ".py",
   "mimetype": "text/x-python",
   "name": "python",
   "nbconvert_exporter": "python",
   "pygments_lexer": "ipython3",
   "version": "3.7.4"
  },
  "toc": {
   "base_numbering": 1,
   "nav_menu": {},
   "number_sections": true,
   "sideBar": true,
   "skip_h1_title": false,
   "title_cell": "Table of Contents",
   "title_sidebar": "Contents",
   "toc_cell": false,
   "toc_position": {},
   "toc_section_display": true,
   "toc_window_display": false
  },
  "varInspector": {
   "cols": {
    "lenName": 16,
    "lenType": 16,
    "lenVar": 40
   },
   "kernels_config": {
    "python": {
     "delete_cmd_postfix": "",
     "delete_cmd_prefix": "del ",
     "library": "var_list.py",
     "varRefreshCmd": "print(var_dic_list())"
    },
    "r": {
     "delete_cmd_postfix": ") ",
     "delete_cmd_prefix": "rm(",
     "library": "var_list.r",
     "varRefreshCmd": "cat(var_dic_list()) "
    }
   },
   "types_to_exclude": [
    "module",
    "function",
    "builtin_function_or_method",
    "instance",
    "_Feature"
   ],
   "window_display": false
  }
 },
 "nbformat": 4,
 "nbformat_minor": 4
}
