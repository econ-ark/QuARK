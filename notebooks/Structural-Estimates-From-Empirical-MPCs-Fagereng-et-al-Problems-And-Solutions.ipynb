{
 "cells": [
  {
   "cell_type": "markdown",
   "metadata": {},
   "source": [
    "# Making Structural Estimates From Empirical Results\n",
    "\n",
    "This notebook conducts a quick and dirty structural estimation based on Table 9 of \"MPC Heterogeneity and Household Balance Sheets\" by Fagereng, Holm, and Natvik <cite data-cite=\"6202365/SUE56C4B\"></cite>, who use Norweigian administrative data on income, household assets, and lottery winnings to examine the MPC from transitory income shocks (lottery prizes).  Their Table 9 reports an estimated MPC broken down by quartiles of bank deposits and\n",
    "prize size; this table is reproduced here as $\\texttt{MPC_target_base}$.  In this demo, we use the Table 9 estimates as targets in a simple structural estimation, seeking to minimize the sum of squared differences between simulated and estimated MPCs by changing the (uniform) distribution of discount factors.  The essential question is how well their results be rationalized by a simple one-asset consumption-saving model.  \n",
    "\n",
    "\n",
    "The function that estimates discount factors includes several options for estimating different specifications:\n",
    "\n",
    "1. TypeCount : Integer number of discount factors in discrete distribution; can be set to 1 to turn off _ex ante_ heterogeneity (and to discover that the model has no chance to fit the data well without such heterogeneity).\n",
    "2. AdjFactor : Scaling factor for the target MPCs; user can try to fit estimated MPCs scaled down by (e.g.) 50%.\n",
    "3. T_kill    : Maximum number of years the (perpetually young) agents are allowed to live.  Because this is quick and dirty, it's also the number of periods to simulate.\n",
    "4. Splurge   : Amount of lottery prize that an individual will automatically spend in a moment of excitement (perhaps ancient tradition in Norway requires a big party when you win the lottery), before beginning to behave according to the optimal consumption function.  The patterns in Table 9 can be fit much better when this is set around \\$700 --> 0.7.  That doesn't seem like an unreasonable amount of money to spend on a memorable party.\n",
    "5. do_secant : Boolean indicator for whether to use \"secant MPC\", which is average MPC over the range of the prize.  MNW believes authors' regressions are estimating this rather than point MPC.  When False, structural estimation uses point MPC after receiving prize.  NB: This is incompatible with Splurge > 0.\n",
    "6. drop_corner : Boolean for whether to include target MPC in the top left corner, which is greater than 1.  Authors discuss reasons why the MPC from a transitory shock *could* exceed 1.  Option is included here because this target tends to push the estimate around a bit."
   ]
  },
  {
   "cell_type": "code",
   "execution_count": 1,
   "metadata": {
    "code_folding": []
   },
   "outputs": [],
   "source": [
    "# Import python tools\n",
    "\n",
    "import sys\n",
    "import os\n",
    "\n",
    "import numpy as np\n",
    "from copy import deepcopy"
   ]
  },
  {
   "cell_type": "code",
   "execution_count": 2,
   "metadata": {
    "code_folding": []
   },
   "outputs": [],
   "source": [
    "# Import needed tools from HARK\n",
    "\n",
    "from HARK.utilities import approxUniform, getPercentiles\n",
    "from HARK.parallel import multiThreadCommands\n",
    "from HARK.estimation import minimizeNelderMead\n",
    "from HARK.ConsumptionSaving.ConsIndShockModel import *\n",
    "from HARK.cstwMPC.SetupParamsCSTW import init_infinite"
   ]
  },
  {
   "cell_type": "code",
   "execution_count": 3,
   "metadata": {
    "code_folding": []
   },
   "outputs": [],
   "source": [
    "# Set key problem-specific parameters\n",
    "\n",
    "TypeCount = 8    # Number of consumer types with heterogeneous discount factors\n",
    "AdjFactor = 1.0  # Factor by which to scale all of MPCs in Table 9\n",
    "T_kill = 100     # Don't let agents live past this age\n",
    "Splurge = 0.0    # Consumers automatically spend this amount of any lottery prize\n",
    "do_secant = True # If True, calculate MPC by secant, else point MPC\n",
    "drop_corner = True # If True, ignore upper left corner when calculating distance"
   ]
  },
  {
   "cell_type": "code",
   "execution_count": 4,
   "metadata": {
    "code_folding": []
   },
   "outputs": [],
   "source": [
    "# Set standard HARK parameter values\n",
    "\n",
    "base_params = deepcopy(init_infinite)\n",
    "base_params['LivPrb'] = [0.975]\n",
    "base_params['Rfree'] = 1.04/base_params['LivPrb'][0]\n",
    "base_params['PermShkStd'] = [0.1]\n",
    "base_params['TranShkStd'] = [0.1]\n",
    "base_params['T_age'] = T_kill # Kill off agents if they manage to achieve T_kill working years\n",
    "base_params['AgentCount'] = 10000\n",
    "base_params['pLvlInitMean'] = np.log(23.72) # From Table 1, in thousands of USD\n",
    "base_params['T_sim'] = T_kill  # No point simulating past when agents would be killed off"
   ]
  },
  {
   "cell_type": "code",
   "execution_count": 5,
   "metadata": {
    "code_folding": []
   },
   "outputs": [],
   "source": [
    "# Define the MPC targets from Fagereng et al Table 9; element i,j is lottery quartile i, deposit quartile j\n",
    "\n",
    "MPC_target_base = np.array([[1.047, 0.745, 0.720, 0.490],\n",
    "                            [0.762, 0.640, 0.559, 0.437],\n",
    "                            [0.663, 0.546, 0.390, 0.386],\n",
    "                            [0.354, 0.325, 0.242, 0.216]])\n",
    "MPC_target = AdjFactor*MPC_target_base"
   ]
  },
  {
   "cell_type": "code",
   "execution_count": 6,
   "metadata": {
    "code_folding": []
   },
   "outputs": [],
   "source": [
    "# Define the four lottery sizes, in thousands of USD; these are eyeballed centers/averages\n",
    "\n",
    "lottery_size = np.array([1.625, 3.3741, 7.129, 40.0])"
   ]
  },
  {
   "cell_type": "code",
   "execution_count": 7,
   "metadata": {
    "code_folding": [],
    "lines_to_next_cell": 1
   },
   "outputs": [],
   "source": [
    "# Make several consumer types to be used during estimation\n",
    "\n",
    "BaseType = IndShockConsumerType(**base_params)\n",
    "EstTypeList = []\n",
    "for j in range(TypeCount):\n",
    "    EstTypeList.append(deepcopy(BaseType))\n",
    "    EstTypeList[-1](seed = j)"
   ]
  },
  {
   "cell_type": "code",
   "execution_count": 8,
   "metadata": {
    "code_folding": []
   },
   "outputs": [],
   "source": [
    "# Define the objective function\n",
    "\n",
    "def FagerengObjFunc(center,spread,verbose=False):\n",
    "    '''\n",
    "    Objective function for the quick and dirty structural estimation to fit\n",
    "    Fagereng, Holm, and Natvik's Table 9 results with a basic infinite horizon\n",
    "    consumption-saving model (with permanent and transitory income shocks).\n",
    "\n",
    "    Parameters\n",
    "    ----------\n",
    "    center : float\n",
    "        Center of the uniform distribution of discount factors.\n",
    "    spread : float\n",
    "        Width of the uniform distribution of discount factors.\n",
    "    verbose : bool\n",
    "        When True, print to screen MPC table for these parameters.  When False,\n",
    "        print (center, spread, distance).\n",
    "\n",
    "    Returns\n",
    "    -------\n",
    "    distance : float\n",
    "        Euclidean distance between simulated MPCs and (adjusted) Table 9 MPCs.\n",
    "    '''\n",
    "    # Give our consumer types the requested discount factor distribution\n",
    "    beta_set = approxUniform(N=TypeCount,bot=center-spread,top=center+spread)[1]\n",
    "    for j in range(TypeCount):\n",
    "        EstTypeList[j](DiscFac = beta_set[j])\n",
    "\n",
    "    # Solve and simulate all consumer types, then gather their wealth levels\n",
    "    multiThreadCommands(EstTypeList,['solve()','initializeSim()','simulate()','unpackcFunc()'])\n",
    "    WealthNow = np.concatenate([ThisType.aLvlNow for ThisType in EstTypeList])\n",
    "\n",
    "    # Get wealth quartile cutoffs and distribute them to each consumer type\n",
    "    quartile_cuts = getPercentiles(WealthNow,percentiles=[0.25,0.50,0.75])\n",
    "    for ThisType in EstTypeList:\n",
    "        WealthQ = np.zeros(ThisType.AgentCount,dtype=int)\n",
    "        for n in range(3):\n",
    "            WealthQ[ThisType.aLvlNow > quartile_cuts[n]] += 1\n",
    "        ThisType(WealthQ = WealthQ)\n",
    "\n",
    "    # Keep track of MPC sets in lists of lists of arrays\n",
    "    MPC_set_list = [ [[],[],[],[]],\n",
    "                     [[],[],[],[]],\n",
    "                     [[],[],[],[]],\n",
    "                     [[],[],[],[]] ]\n",
    "\n",
    "    # Calculate the MPC for each of the four lottery sizes for all agents\n",
    "    for ThisType in EstTypeList:\n",
    "        ThisType.simulate(1)\n",
    "        c_base = ThisType.cNrmNow\n",
    "        MPC_this_type = np.zeros((ThisType.AgentCount,4))\n",
    "        for k in range(4): # Get MPC for all agents of this type\n",
    "            Llvl = lottery_size[k]\n",
    "            Lnrm = Llvl/ThisType.pLvlNow\n",
    "            if do_secant:\n",
    "                SplurgeNrm = Splurge/ThisType.pLvlNow\n",
    "                mAdj = ThisType.mNrmNow + Lnrm - SplurgeNrm\n",
    "                cAdj = ThisType.cFunc[0](mAdj) + SplurgeNrm\n",
    "                MPC_this_type[:,k] = (cAdj - c_base)/Lnrm\n",
    "            else:\n",
    "                mAdj = ThisType.mNrmNow + Lnrm\n",
    "                MPC_this_type[:,k] = cAdj = ThisType.cFunc[0].derivative(mAdj)\n",
    "\n",
    "        # Sort the MPCs into the proper MPC sets\n",
    "        for q in range(4):\n",
    "            these = ThisType.WealthQ == q\n",
    "            for k in range(4):\n",
    "                MPC_set_list[k][q].append(MPC_this_type[these,k])\n",
    "\n",
    "    # Calculate average within each MPC set\n",
    "    simulated_MPC_means = np.zeros((4,4))\n",
    "    for k in range(4):\n",
    "        for q in range(4):\n",
    "            MPC_array = np.concatenate(MPC_set_list[k][q])\n",
    "            simulated_MPC_means[k,q] = np.mean(MPC_array)\n",
    "\n",
    "    # Calculate Euclidean distance between simulated MPC averages and Table 9 targets\n",
    "    diff = simulated_MPC_means - MPC_target\n",
    "    if drop_corner:\n",
    "        diff[0,0] = 0.0\n",
    "    distance = np.sqrt(np.sum((diff)**2))\n",
    "    if verbose:\n",
    "        print(simulated_MPC_means)\n",
    "    else:\n",
    "        print (center, spread, distance)\n",
    "    return distance"
   ]
  },
  {
   "cell_type": "code",
   "execution_count": 9,
   "metadata": {
    "code_folding": []
   },
   "outputs": [
    {
     "name": "stdout",
     "output_type": "stream",
     "text": [
      "0.78981881 0.16098057 0.4211492698449629\n",
      "0.8293097505 0.16098057 0.5456671859582171\n",
      "0.78981881 0.1690295985 0.43380559086593573\n",
      "0.7503278695 0.1690295985 0.5458881755688935\n",
      "0.80956428025 0.162992827125 0.4582351025384687\n",
      "0.7700733397499999 0.167017341375 0.4721768867209277\n",
      "0.799691545125 0.1639989556875 0.4281653170958091\n",
      "0.7996915451249998 0.1559499271875 0.40950042980777707\n",
      "0.8046279126874996 0.14941009153125 0.40103464686219303\n",
      "0.7947551775624997 0.14639170584375 0.40425368012170615\n",
      "0.8095642802499993 0.13482122737500002 0.3884864645986976\n",
      "0.819437015374999 0.12174155606250003 0.387519246413482\n",
      "0.8293097504999989 0.12475994175000005 0.4078022687350874\n",
      "0.8033938207968745 0.1409837648203125 0.39294717641844124\n",
      "0.818202923484374 0.11331522935156252 0.3894057011519334\n",
      "0.8342461180624985 0.09407302059375006 0.4096703488191564\n",
      "0.8111068951132805 0.1292560787636719 0.3867988613791466\n",
      "0.8123409870039056 0.13768240547460942 0.3918200345530758\n",
      "0.8167374393642568 0.11940702338232424 0.38693497762253654\n",
      "0.8084073191025383 0.1269215460834961 0.3884629251342087\n",
      "0.8166795913068838 0.12303655356774905 0.38641054714481726\n",
      "0.8110490470559075 0.13288560894909673 0.38780067639005966\n",
      "0.8153153412871694 0.12277666977401736 0.3863169974473299\n",
      "0.8208880374807728 0.11655714457809452 0.388391577756976\n",
      "0.8135521807051536 0.12608134521727754 0.38621012218115375\n",
      "0.8121879306854392 0.12582146142354583 0.3864894305967663\n",
      "0.8155566761515227 0.12373278053169826 0.38623276926024347\n",
      "0.8137935155695069 0.12703745597495844 0.38629629753162187\n",
      "0.8141739719989224 0.12597225942472318 0.38619659723329164\n",
      "0.8121694765525533 0.12832082411030246 0.38653992027576756\n",
      "0.8147098762517804 0.12487979142634931 0.3861819340213165\n",
      "0.8153316675455491 0.12477070563379494 0.3862122914638225\n",
      "0.8139970524152524 0.1257536853214069 0.3861818789505141\n",
      "0.8145329566681104 0.12466121732303304 0.3861814635428672\n",
      "0.8147124490027047 0.12400569627218794 0.3861984061771716\n",
      "0.8138201328315826 0.12553511121809063 0.386197158515483\n",
      "0.8144874403967309 0.12504362137428465 0.386173785409938\n",
      "0.8150233446495889 0.12395115337591078 0.3861946237798134\n",
      "0.8142536254738366 0.12530305233503286 0.386170062598521\n",
      "0.814208109202457 0.12568545638628448 0.3861839723709779\n",
      "0.814451744801697 0.1249172770888459 0.3861766274975121\n",
      "0.8142893210688704 0.12542939662047162 0.38616256256958664\n",
      "0.8142081092024571 0.12568545638628448 0.38618397237097807\n",
      "0.8140555061459761 0.12568882758121985 0.386186364445851\n",
      "0.8143794568340422 0.12520492292601845 0.38616748228453185\n",
      "0.8144151524290759 0.1253312672114572 0.3861630294297304\n",
      "0.8143250166639041 0.1255557409059104 0.38617801155959214\n",
      "0.8143658467915077 0.12529262742099145 0.38616326655086347\n",
      "0.8143386267064386 0.1254680364109374 0.38616726901312853\n",
      "0.8143590417702404 0.12533647966847794 0.3861642288021083\n",
      "0.8143522367489732 0.12538033191596443 0.386159640398751\n",
      "0.8143275839301891 0.12536101202073152 0.38616614220076384\n",
      "Optimization terminated successfully.\n",
      "         Current function value: 0.386160\n",
      "         Iterations: 26\n",
      "         Function evaluations: 52\n",
      "Time to estimate is 197.5146107673645 seconds.\n",
      "Finished estimating for scaling factor of 1.0 and \"splurge amount\" of $0.0\n",
      "Optimal (beta,nabla) is [0.81435224 0.12538033], simulated MPCs are:\n",
      "[[0.67850983 0.62360187 0.54128509 0.42043241]\n",
      " [0.65906551 0.60975644 0.5305276  0.41184847]\n",
      " [0.62755836 0.58431215 0.50894877 0.39459305]\n",
      " [0.49126494 0.45833151 0.39364984 0.30592454]]\n",
      "Distance from Fagereng et al Table 9 is 0.386159640398751\n"
     ]
    }
   ],
   "source": [
    "# Conduct the estimation\n",
    "\n",
    "guess = [0.92,0.03]\n",
    "guess = [0.78981881,0.16098057]\n",
    "f_temp = lambda x : FagerengObjFunc(x[0],x[1])\n",
    "opt_params = minimizeNelderMead(f_temp, guess, verbose=True)\n",
    "print('Finished estimating for scaling factor of ' + str(AdjFactor) + ' and \"splurge amount\" of $' + str(1000*Splurge))\n",
    "print('Optimal (beta,nabla) is ' + str(opt_params) + ', simulated MPCs are:')\n",
    "dist = FagerengObjFunc(opt_params[0],opt_params[1],True)\n",
    "print('Distance from Fagereng et al Table 9 is ' + str(dist))"
   ]
  },
  {
   "cell_type": "markdown",
   "metadata": {},
   "source": [
    "### PROBLEM\n",
    "\n",
    "See what happens if you do not allow a splurge amount at all.  Hint: Think about how this question relates to the `drop_corner` option.\n",
    "\n",
    "Explain why you get the results you do, and comment on possible interpretations of the \"splurge\" that might be consistent with economic theory.    \n",
    "Hint: What the authors are able to measure is actually the marginal propensity to EXPEND, not the marginal propensity to CONSUME as it is defined in our benchmark model."
   ]
  },
  {
   "cell_type": "markdown",
   "metadata": {},
   "source": [
    "MPC distribution for `splurge=0.7` and `drop_corner=0` is  \n",
    "0.78058645 0.74852543 0.69758672  0.57062401  \n",
    "0.68077668 0.64027802 0.57082729  0.39800477  \n",
    "0.60892177 0.5696061 0.4929874   0.30577941  \n",
    "0.43708697 0.40971915 0.34376774  0.1947101  \n",
    "Estimation: beta-point =0.86, nabla =12   \n",
    "The distance is 0.36  \n",
    "The estimator choses a relatively low beta and high nabla when `drop_corner` is set to zero. This is because it puts high importance on matching the MPC value in the upper left corner of the target matrix as the distance to the target is large. The low beta, however, deteriorates matches with the MPC target in other lottery / wealth quartiles. \n",
    "\n",
    "\n",
    "MPC distribution for `splurge=0.7` and `drop_corner=1` is  \n",
    "0.76146837 0.73294988 0.68867587 0.58023753  \n",
    "0.65406631 0.61881131 0.55855225 0.41047637  \n",
    "0.5784164  0.54533118 0.47933813 0.31933032  \n",
    "0.4037176  0.38408734 0.33105934 0.20577312   \n",
    "Estimation: beta-point = 0.87, nabla = 0.10  \n",
    "The distance is 0.24  \n",
    "With `drop_corner` switched on, the distance is lower. This happens (i) mechanically since one difference is excluded from the euclidean distance, but also (ii) because the now higher beta-point value, allows to match other MPC targets of lower values much easier. The point estimate of beta-point is higher, the nabla becomes smaller, another indicator that the model does a better job to replicate the data as it needs less ex-ante heterogeneity. \n",
    "\n",
    "\n",
    "MPC distribution for `splurge=0.0` and `drop_corner=0` is  \n",
    "0.77363444 0.68301477 0.56440589 0.40411035  \n",
    "0.74357098 0.66467557 0.55281926 0.39561326  \n",
    "0.70355573 0.6349713  0.53035817 0.37868694  \n",
    "0.56134351 0.5041643  0.41242587 0.29210923    \n",
    "Estimation: beta-point = 0.79, nabla = 0.16  \n",
    "The distance is 0.50.  \n",
    "With both options set to zero, we obtain the worst fit. This indicates that removing the splurge makes it more difficult for the model to match the relative high MPC for lower wealth quartiles. This is compensated by a lower beta-point estimate. However, this goes at the cost of other, lower values of the MPC targets. \n",
    "\n"
   ]
  },
  {
   "cell_type": "markdown",
   "metadata": {},
   "source": [
    "### PROBLEM\n",
    "\n",
    "Call the _Marginal Propensity to Continue Consuming_ (MPCC) in year `t+n` the proportion of lottery winnings that get spent in year `t+n`.  That is, if consumption is higher in year `t+2` by an amount corresponding to 14 percent of lottery winnings, we would say  _the MPCC in t+2 is 14 percent.\n",
    "\n",
    "For the baseline version of the model with the \"splurge\" component, calculate the MPCC's for years `t+1` through `t+3` and plot them together with the MPC in the first year (including the splurge component)\n"
   ]
  },
  {
   "cell_type": "code",
   "execution_count": 10,
   "metadata": {},
   "outputs": [
    {
     "name": "stdout",
     "output_type": "stream",
     "text": [
      "The MPC for t+0 is \n",
      " [[0.6777011  0.61977142 0.5355849  0.41345464]\n",
      " [0.65619482 0.60562843 0.52475704 0.40534313]\n",
      " [0.62266031 0.57961339 0.5033845  0.38890113]\n",
      " [0.48402754 0.45365463 0.38990943 0.30475323]]\n",
      "\n",
      "\n",
      "The MPCC for t+1 is \n",
      " [[0.2378012  0.26769245 0.29727587 0.32739048]\n",
      " [0.24316123 0.26343865 0.28074037 0.288388  ]\n",
      " [0.25428624 0.26676148 0.27467248 0.26836556]\n",
      " [0.28090802 0.27993269 0.26516775 0.23543946]]\n",
      "\n",
      "\n",
      "The MPCC for t+2 is \n",
      " [[0.09757486 0.1264333  0.1780129  0.26768158]\n",
      " [0.09575984 0.11846694 0.15617231 0.21222435]\n",
      " [0.10349236 0.12147751 0.15061385 0.18764789]\n",
      " [0.15156758 0.16055393 0.17224881 0.17648804]]\n",
      "\n",
      "\n",
      "The MPCC for t+3 is \n",
      " [[0.05189287 0.07058626 0.12164173 0.23518509]\n",
      " [0.0443228  0.05911872 0.09555343 0.16747968]\n",
      " [0.04528129 0.05780748 0.0869063  0.13759402]\n",
      " [0.07761478 0.08769219 0.10879196 0.13198233]]\n",
      "\n",
      " I plot as an example the evolution of the MPC in the 2nd quartile of wealth and lottery win.\n"
     ]
    },
    {
     "data": {
      "image/png": "[encoded data removed]",
      "text/plain": [
       "<Figure size 432x288 with 1 Axes>"
      ]
     },
     "metadata": {
      "needs_background": "light"
     },
     "output_type": "display_data"
    }
   ],
   "source": [
    "def FagerengFutureObjFunc(center,spread,verbose=False):\n",
    "\n",
    "    # Give our consumer types the requested discount factor distribution\n",
    "    beta_set = approxUniform(N=TypeCount,bot=center-spread,top=center+spread)[1]\n",
    "    for j in range(TypeCount):\n",
    "        EstTypeList[j](DiscFac = beta_set[j])\n",
    "        # add tracking vars to each Type\n",
    "        EstTypeList[j].track_vars = ['aNrmNow','mNrmNow','cNrmNow','pLvlNow','PermShkNow','TranShkNow']\n",
    "\n",
    "    # Solve and simulate all consumer types, then gather their wealth levels\n",
    "    StartPeriod = 95;\n",
    "    multiThreadCommands(EstTypeList,['solve()','initializeSim()','simulate(95)','unpackcFunc()'])\n",
    "    WealthNow = np.concatenate([ThisType.aLvlNow for ThisType in EstTypeList])\n",
    "\n",
    "    # Get wealth quartile cutoffs and distribute them to each consumer type\n",
    "    quartile_cuts = getPercentiles(WealthNow,percentiles=[0.25,0.50,0.75])\n",
    "    for ThisType in EstTypeList:\n",
    "        WealthQ = np.zeros(ThisType.AgentCount,dtype=int)\n",
    "        for n in range(3):\n",
    "            WealthQ[ThisType.aLvlNow > quartile_cuts[n]] += 1\n",
    "        ThisType(WealthQ = WealthQ)\n",
    "\n",
    "    # Keep track of MPC sets in lists of lists of arrays\n",
    "    MPC_set_list = [ [[],[],[],[]],\n",
    "                     [[],[],[],[]],\n",
    "                     [[],[],[],[]],\n",
    "                     [[],[],[],[]] ]\n",
    "    MPC_set_list_t1 = deepcopy(MPC_set_list)\n",
    "    MPC_set_list_t2 = deepcopy(MPC_set_list)\n",
    "    MPC_set_list_t3 = deepcopy(MPC_set_list)\n",
    "\n",
    "    Rfree = base_params['Rfree']\n",
    "    # Calculate the MPC for each of the four lottery sizes for all agents\n",
    "    for ThisType in EstTypeList:\n",
    "        ThisType.simulate(4)\n",
    "        c_base_0 = ThisType.cNrmNow_hist[StartPeriod]\n",
    "        c_base_t1 = ThisType.cNrmNow_hist[StartPeriod+1]\n",
    "        c_base_t2 = ThisType.cNrmNow_hist[StartPeriod+2]\n",
    "        c_base_t3 = ThisType.cNrmNow_hist[StartPeriod+3]\n",
    "        \n",
    "        MPC_this_type = np.zeros((ThisType.AgentCount,4))\n",
    "        MPC_this_type_t1 = np.zeros((ThisType.AgentCount,4))\n",
    "        MPC_this_type_t2 = np.zeros((ThisType.AgentCount,4))\n",
    "        MPC_this_type_t3 = np.zeros((ThisType.AgentCount,4))\n",
    "    \n",
    "        for k in range(4): # Get MPC for all agents of this type       \n",
    "            Llvl = lottery_size[k]\n",
    "            Lnrm = Llvl/ThisType.pLvlNow_hist[StartPeriod]     \n",
    "            SplurgeNrm = Splurge/ThisType.pLvlNow_hist[StartPeriod]\n",
    "            mAdj = ThisType.mNrmNow_hist[StartPeriod] + Lnrm - SplurgeNrm\n",
    "            cAdj = ThisType.cFunc[0](mAdj) + SplurgeNrm\n",
    "            MPC_this_type[:,k] = (cAdj - c_base_0) /Lnrm\n",
    "            \n",
    "            # Calculate normalized market resources in t+1 (varnames t1)\n",
    "            #Llvl = lottery_size[k]\n",
    "            Lnrm = Llvl/ThisType.pLvlNow_hist[StartPeriod+1]\n",
    "            aNrm_t0 = ThisType.mNrmNow_hist[StartPeriod] + Lnrm - cAdj\n",
    "            aLvl_t0 = aNrm_t0*ThisType.pLvlNow_hist[StartPeriod]\n",
    "            mLvl_t1 = aLvl_t0*Rfree + ThisType.TranShkNow_hist[StartPeriod+1]*ThisType.pLvlNow_hist[StartPeriod+1]\n",
    "            mNrm_t1 = mLvl_t1/ThisType.pLvlNow_hist[StartPeriod+1]\n",
    "            cNrm_t1 = ThisType.cFunc[0](mNrm_t1)\n",
    "            MPC_this_type_t1[:,k] = (cNrm_t1 - c_base_t1) /Lnrm\n",
    "\n",
    "            # Calculate normalized market resources in t+2 (varnames t2)\n",
    "            Llvl = lottery_size[k]\n",
    "            Lnrm = Llvl/ThisType.pLvlNow_hist[StartPeriod+2]\n",
    "            aNrm_t1 = mNrm_t1 - cNrm_t1;\n",
    "            aLvl_t1 = aNrm_t1*ThisType.pLvlNow_hist[StartPeriod+1]\n",
    "            mLvl_t2 = aLvl_t1*Rfree + ThisType.TranShkNow_hist[StartPeriod+2]*ThisType.pLvlNow_hist[StartPeriod+2]\n",
    "            mNrm_t2 = mLvl_t2/ThisType.pLvlNow_hist[StartPeriod+2]\n",
    "            cNrm_t2 = ThisType.cFunc[0](mNrm_t2)\n",
    "            MPC_this_type_t2[:,k] = (cNrm_t2 - c_base_t2) /Lnrm\n",
    "\n",
    "            # Calculate normalized market resources in t+3 (varnames t3)\n",
    "            Llvl = lottery_size[k]\n",
    "            Lnrm = Llvl/ThisType.pLvlNow_hist[StartPeriod+3]\n",
    "            aNrm_t2 = mNrm_t2 - cNrm_t2;\n",
    "            aLvl_t2 = aNrm_t2*ThisType.pLvlNow_hist[StartPeriod+2]\n",
    "            mLvl_t3 = aLvl_t2*Rfree + ThisType.TranShkNow_hist[StartPeriod+3]*ThisType.pLvlNow_hist[StartPeriod+3]\n",
    "            mNrm_t3 = mLvl_t3/ThisType.pLvlNow_hist[StartPeriod+3]\n",
    "            cNrm_t3 = ThisType.cFunc[0](mNrm_t3)\n",
    "            MPC_this_type_t3[:,k] = (cNrm_t3 - c_base_t3) /Lnrm\n",
    "            \n",
    "\n",
    "        # Sort the MPCs into the proper MPC sets\n",
    "        for q in range(4):\n",
    "            these = ThisType.WealthQ == q\n",
    "            for k in range(4):\n",
    "                MPC_set_list[k][q].append(MPC_this_type[these,k])\n",
    "                MPC_set_list_t1[k][q].append(MPC_this_type_t1[these,k])\n",
    "                MPC_set_list_t2[k][q].append(MPC_this_type_t2[these,k])\n",
    "                MPC_set_list_t3[k][q].append(MPC_this_type_t3[these,k])\n",
    "\n",
    "    # Calculate average within each MPC set\n",
    "    simulated_MPC_means = np.zeros((4,4))\n",
    "    simulated_MPC_means_t1 = np.zeros((4,4))\n",
    "    simulated_MPC_means_t2 = np.zeros((4,4))\n",
    "    simulated_MPC_means_t3 = np.zeros((4,4))\n",
    "    for k in range(4):\n",
    "        for q in range(4):\n",
    "            MPC_array = np.concatenate(MPC_set_list[k][q])\n",
    "            simulated_MPC_means[k,q] = np.mean(MPC_array)\n",
    "            simulated_MPC_means_t1[k,q] = np.mean(np.concatenate(MPC_set_list_t1[k][q]))\n",
    "            simulated_MPC_means_t2[k,q] = np.mean(np.concatenate(MPC_set_list_t2[k][q]))\n",
    "            simulated_MPC_means_t3[k,q] = np.mean(np.concatenate(MPC_set_list_t3[k][q]))\n",
    "            \n",
    "    print('The MPC for t+0 is \\n', simulated_MPC_means)\n",
    "    print('\\n')\n",
    "    print('The MPCC for t+1 is \\n', simulated_MPC_means_t1)\n",
    "    print('\\n')\n",
    "    print('The MPCC for t+2 is \\n', simulated_MPC_means_t2)\n",
    "    print('\\n')\n",
    "    print('The MPCC for t+3 is \\n', simulated_MPC_means_t3)\n",
    "    \n",
    "    import matplotlib.pyplot as plt\n",
    "    print('\\n I plot as an example the evolution of the MPC in the 2nd quartile of wealth and lottery win.')\n",
    "    plt.plot([0, 1, 2, 3],[simulated_MPC_means[2,2],simulated_MPC_means_t1[2,2],simulated_MPC_means_t2[2,2],simulated_MPC_means_t3[2,2]])\n",
    "    plt.xlabel('Year')\n",
    "    plt.ylabel('MPCC')\n",
    "    plt.show(block=False)\n",
    "\n",
    "    # Calculate Euclidean distance between simulated MPC averages and Table 9 targets\n",
    "    diff = simulated_MPC_means - MPC_target\n",
    "    if drop_corner:\n",
    "        diff[0,0] = 0.0\n",
    "    distance = np.sqrt(np.sum((diff)**2))\n",
    "    return distance\n",
    "\n",
    "dist = FagerengFutureObjFunc(opt_params[0],opt_params[1],True)"
   ]
  },
  {
   "cell_type": "code",
   "execution_count": null,
   "metadata": {},
   "outputs": [],
   "source": []
  }
 ],
 "metadata": {
  "cite2c": {
   "citations": {
    "6202365/SUE56C4B": {
     "author": [
      {
       "family": "Fagereng",
       "given": "Andreas"
      },
      {
       "family": "Holm",
       "given": "Martin B."
      },
      {
       "family": "Natvik",
       "given": "Gisle J."
      }
     ],
     "genre": "discussion paper",
     "id": "6202365/SUE56C4B",
     "issued": {
      "year": 2017
     },
     "publisher": "Statistics Norway",
     "title": "MPC Heterogeneity and Household Balance Sheets",
     "type": "report"
    }
   }
  },
  "jupytext": {
   "cell_metadata_filter": "collapsed,code_folding",
   "formats": "ipynb,py:percent"
  },
  "kernelspec": {
   "display_name": "Python 3",
   "language": "python",
   "name": "python3"
  },
  "language_info": {
   "codemirror_mode": {
    "name": "ipython",
    "version": 3
   },
   "file_extension": ".py",
   "mimetype": "text/x-python",
   "name": "python",
   "nbconvert_exporter": "python",
   "pygments_lexer": "ipython3",
   "version": "3.7.4"
  },
  "toc": {
   "base_numbering": 1,
   "nav_menu": {},
   "number_sections": true,
   "sideBar": true,
   "skip_h1_title": false,
   "title_cell": "Table of Contents",
   "title_sidebar": "Contents",
   "toc_cell": false,
   "toc_position": {},
   "toc_section_display": true,
   "toc_window_display": false
  },
  "varInspector": {
   "cols": {
    "lenName": 16,
    "lenType": 16,
    "lenVar": 40
   },
   "kernels_config": {
    "python": {
     "delete_cmd_postfix": "",
     "delete_cmd_prefix": "del ",
     "library": "var_list.py",
     "varRefreshCmd": "print(var_dic_list())"
    },
    "r": {
     "delete_cmd_postfix": ") ",
     "delete_cmd_prefix": "rm(",
     "library": "var_list.r",
     "varRefreshCmd": "cat(var_dic_list()) "
    }
   },
   "types_to_exclude": [
    "module",
    "function",
    "builtin_function_or_method",
    "instance",
    "_Feature"
   ],
   "window_display": false
  }
 },
 "nbformat": 4,
 "nbformat_minor": 4
}
