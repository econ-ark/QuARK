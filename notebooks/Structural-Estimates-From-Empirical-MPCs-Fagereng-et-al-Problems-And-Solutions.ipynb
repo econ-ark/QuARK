{
 "cells": [
  {
   "cell_type": "markdown",
   "metadata": {},
   "source": [
    "# Making Structural Estimates From Empirical Results\n",
    "\n",
    "This notebook conducts a quick and dirty structural estimation based on Table 9 of \"MPC Heterogeneity and Household Balance Sheets\" by Fagereng, Holm, and Natvik <cite data-cite=\"6202365/SUE56C4B\"></cite>, who use Norweigian administrative data on income, household assets, and lottery winnings to examine the MPC from transitory income shocks (lottery prizes).  Their Table 9 reports an estimated MPC broken down by quartiles of bank deposits and\n",
    "prize size; this table is reproduced here as $\\texttt{MPC_target_base}$.  In this demo, we use the Table 9 estimates as targets in a simple structural estimation, seeking to minimize the sum of squared differences between simulated and estimated MPCs by changing the (uniform) distribution of discount factors.  The essential question is how well their results be rationalized by a simple one-asset consumption-saving model.  \n",
    "\n",
    "\n",
    "The function that estimates discount factors includes several options for estimating different specifications:\n",
    "\n",
    "1. TypeCount : Integer number of discount factors in discrete distribution; can be set to 1 to turn off _ex ante_ heterogeneity (and to discover that the model has no chance to fit the data well without such heterogeneity).\n",
    "2. AdjFactor : Scaling factor for the target MPCs; user can try to fit estimated MPCs scaled down by (e.g.) 50%.\n",
    "3. T_kill    : Maximum number of years the (perpetually young) agents are allowed to live.  Because this is quick and dirty, it's also the number of periods to simulate.\n",
    "4. Splurge   : Amount of lottery prize that an individual will automatically spend in a moment of excitement (perhaps ancient tradition in Norway requires a big party when you win the lottery), before beginning to behave according to the optimal consumption function.  The patterns in Table 9 can be fit much better when this is set around \\$700 --> 0.7.  That doesn't seem like an unreasonable amount of money to spend on a memorable party.\n",
    "5. do_secant : Boolean indicator for whether to use \"secant MPC\", which is average MPC over the range of the prize.  MNW believes authors' regressions are estimating this rather than point MPC.  When False, structural estimation uses point MPC after receiving prize.  NB: This is incompatible with Splurge > 0.\n",
    "6. drop_corner : Boolean for whether to include target MPC in the top left corner, which is greater than 1.  Authors discuss reasons why the MPC from a transitory shock *could* exceed 1.  Option is included here because this target tends to push the estimate around a bit."
   ]
  },
  {
   "cell_type": "code",
   "execution_count": 1,
   "metadata": {
    "code_folding": []
   },
   "outputs": [],
   "source": [
    "# Import python tools\n",
    "\n",
    "import sys\n",
    "import os\n",
    "\n",
    "import numpy as np\n",
    "from copy import deepcopy"
   ]
  },
  {
   "cell_type": "code",
   "execution_count": 2,
   "metadata": {
    "code_folding": []
   },
   "outputs": [],
   "source": [
    "# Import needed tools from HARK\n",
    "\n",
    "from HARK.utilities import approxUniform, getPercentiles\n",
    "from HARK.parallel import multiThreadCommands\n",
    "from HARK.estimation import minimizeNelderMead\n",
    "from HARK.ConsumptionSaving.ConsIndShockModel import *\n",
    "from HARK.cstwMPC.SetupParamsCSTW import init_infinite"
   ]
  },
  {
   "cell_type": "code",
   "execution_count": 3,
   "metadata": {
    "code_folding": []
   },
   "outputs": [],
   "source": [
    "# Set key problem-specific parameters\n",
    "\n",
    "TypeCount = 8    # Number of consumer types with heterogeneous discount factors\n",
    "AdjFactor = 1.0  # Factor by which to scale all of MPCs in Table 9\n",
    "T_kill = 100     # Don't let agents live past this age\n",
    "Splurge = 0.0    # Consumers automatically spend this amount of any lottery prize\n",
    "do_secant = True # If True, calculate MPC by secant, else point MPC\n",
    "drop_corner = False # If True, ignore upper left corner when calculating distance"
   ]
  },
  {
   "cell_type": "code",
   "execution_count": 4,
   "metadata": {
    "code_folding": []
   },
   "outputs": [],
   "source": [
    "# Set standard HARK parameter values\n",
    "\n",
    "base_params = deepcopy(init_infinite)\n",
    "base_params['LivPrb'] = [0.975]\n",
    "base_params['Rfree'] = 1.04/base_params['LivPrb'][0]\n",
    "base_params['PermShkStd'] = [0.1]\n",
    "base_params['TranShkStd'] = [0.1]\n",
    "base_params['T_age'] = T_kill # Kill off agents if they manage to achieve T_kill working years\n",
    "base_params['AgentCount'] = 10000\n",
    "base_params['pLvlInitMean'] = np.log(23.72) # From Table 1, in thousands of USD\n",
    "base_params['T_sim'] = T_kill  # No point simulating past when agents would be killed off"
   ]
  },
  {
   "cell_type": "code",
   "execution_count": 5,
   "metadata": {
    "code_folding": []
   },
   "outputs": [],
   "source": [
    "# Define the MPC targets from Fagereng et al Table 9; element i,j is lottery quartile i, deposit quartile j\n",
    "\n",
    "MPC_target_base = np.array([[1.047, 0.745, 0.720, 0.490],\n",
    "                            [0.762, 0.640, 0.559, 0.437],\n",
    "                            [0.663, 0.546, 0.390, 0.386],\n",
    "                            [0.354, 0.325, 0.242, 0.216]])\n",
    "MPC_target = AdjFactor*MPC_target_base"
   ]
  },
  {
   "cell_type": "code",
   "execution_count": 6,
   "metadata": {
    "code_folding": []
   },
   "outputs": [],
   "source": [
    "# Define the four lottery sizes, in thousands of USD; these are eyeballed centers/averages\n",
    "\n",
    "lottery_size = np.array([1.625, 3.3741, 7.129, 40.0])"
   ]
  },
  {
   "cell_type": "code",
   "execution_count": 7,
   "metadata": {
    "code_folding": [],
    "lines_to_next_cell": 1
   },
   "outputs": [],
   "source": [
    "# Make several consumer types to be used during estimation\n",
    "\n",
    "BaseType = IndShockConsumerType(**base_params)\n",
    "EstTypeList = []\n",
    "for j in range(TypeCount):\n",
    "    EstTypeList.append(deepcopy(BaseType))\n",
    "    EstTypeList[-1](seed = j)"
   ]
  },
  {
   "cell_type": "code",
   "execution_count": null,
   "metadata": {
    "code_folding": []
   },
   "outputs": [],
   "source": [
    "# Define the objective function\n",
    "\n",
    "def FagerengObjFunc(center,spread,verbose=False):\n",
    "    '''\n",
    "    Objective function for the quick and dirty structural estimation to fit\n",
    "    Fagereng, Holm, and Natvik's Table 9 results with a basic infinite horizon\n",
    "    consumption-saving model (with permanent and transitory income shocks).\n",
    "\n",
    "    Parameters\n",
    "    ----------\n",
    "    center : float\n",
    "        Center of the uniform distribution of discount factors.\n",
    "    spread : float\n",
    "        Width of the uniform distribution of discount factors.\n",
    "    verbose : bool\n",
    "        When True, print to screen MPC table for these parameters.  When False,\n",
    "        print (center, spread, distance).\n",
    "\n",
    "    Returns\n",
    "    -------\n",
    "    distance : float\n",
    "        Euclidean distance between simulated MPCs and (adjusted) Table 9 MPCs.\n",
    "    '''\n",
    "    # Give our consumer types the requested discount factor distribution\n",
    "    beta_set = approxUniform(N=TypeCount,bot=center-spread,top=center+spread)[1]\n",
    "    for j in range(TypeCount):\n",
    "        EstTypeList[j](DiscFac = beta_set[j])\n",
    "\n",
    "    # Solve and simulate all consumer types, then gather their wealth levels\n",
    "    multiThreadCommands(EstTypeList,['solve()','initializeSim()','simulate()','unpackcFunc()'])\n",
    "    WealthNow = np.concatenate([ThisType.aLvlNow for ThisType in EstTypeList])\n",
    "\n",
    "    # Get wealth quartile cutoffs and distribute them to each consumer type\n",
    "    quartile_cuts = getPercentiles(WealthNow,percentiles=[0.25,0.50,0.75])\n",
    "    for ThisType in EstTypeList:\n",
    "        WealthQ = np.zeros(ThisType.AgentCount,dtype=int)\n",
    "        for n in range(3):\n",
    "            WealthQ[ThisType.aLvlNow > quartile_cuts[n]] += 1\n",
    "        ThisType(WealthQ = WealthQ)\n",
    "\n",
    "    # Keep track of MPC sets in lists of lists of arrays\n",
    "    MPC_set_list = [ [[],[],[],[]],\n",
    "                     [[],[],[],[]],\n",
    "                     [[],[],[],[]],\n",
    "                     [[],[],[],[]] ]\n",
    "\n",
    "    # Calculate the MPC for each of the four lottery sizes for all agents\n",
    "    for ThisType in EstTypeList:\n",
    "        ThisType.simulate(1)\n",
    "        c_base = ThisType.cNrmNow\n",
    "        MPC_this_type = np.zeros((ThisType.AgentCount,4))\n",
    "        for k in range(4): # Get MPC for all agents of this type\n",
    "            Llvl = lottery_size[k]\n",
    "            Lnrm = Llvl/ThisType.pLvlNow\n",
    "            if do_secant:\n",
    "                SplurgeNrm = Splurge/ThisType.pLvlNow\n",
    "                mAdj = ThisType.mNrmNow + Lnrm - SplurgeNrm\n",
    "                cAdj = ThisType.cFunc[0](mAdj) + SplurgeNrm\n",
    "                MPC_this_type[:,k] = (cAdj - c_base)/Lnrm\n",
    "            else:\n",
    "                mAdj = ThisType.mNrmNow + Lnrm\n",
    "                MPC_this_type[:,k] = cAdj = ThisType.cFunc[0].derivative(mAdj)\n",
    "\n",
    "        # Sort the MPCs into the proper MPC sets\n",
    "        for q in range(4):\n",
    "            these = ThisType.WealthQ == q\n",
    "            for k in range(4):\n",
    "                MPC_set_list[k][q].append(MPC_this_type[these,k])\n",
    "\n",
    "    # Calculate average within each MPC set\n",
    "    simulated_MPC_means = np.zeros((4,4))\n",
    "    for k in range(4):\n",
    "        for q in range(4):\n",
    "            MPC_array = np.concatenate(MPC_set_list[k][q])\n",
    "            simulated_MPC_means[k,q] = np.mean(MPC_array)\n",
    "\n",
    "    # Calculate Euclidean distance between simulated MPC averages and Table 9 targets\n",
    "    diff = simulated_MPC_means - MPC_target\n",
    "    if drop_corner:\n",
    "        diff[0,0] = 0.0\n",
    "    distance = np.sqrt(np.sum((diff)**2))\n",
    "    if verbose:\n",
    "        print(simulated_MPC_means)\n",
    "    else:\n",
    "        print (center, spread, distance)\n",
    "    return distance"
   ]
  },
  {
   "cell_type": "code",
   "execution_count": null,
   "metadata": {
    "code_folding": []
   },
   "outputs": [],
   "source": [
    "# Conduct the estimation\n",
    "\n",
    "guess = [0.92,0.03]\n",
    "guess = [0.78981881,0.16098057]\n",
    "f_temp = lambda x : FagerengObjFunc(x[0],x[1])\n",
    "opt_params = minimizeNelderMead(f_temp, guess, verbose=True)\n",
    "print('Finished estimating for scaling factor of ' + str(AdjFactor) + ' and \"splurge amount\" of $' + str(1000*Splurge))\n",
    "print('Optimal (beta,nabla) is ' + str(opt_params) + ', simulated MPCs are:')\n",
    "dist = FagerengObjFunc(opt_params[0],opt_params[1],True)\n",
    "print('Distance from Fagereng et al Table 9 is ' + str(dist))"
   ]
  },
  {
   "cell_type": "markdown",
   "metadata": {},
   "source": [
    "### PROBLEM\n",
    "\n",
    "See what happens if you do not allow a splurge amount at all.  Hint: Think about how this question relates to the `drop_corner` option.\n",
    "\n",
    "Explain why you get the results you do, and comment on possible interpretations of the \"splurge\" that might be consistent with economic theory.    \n",
    "Hint: What the authors are able to measure is actually the marginal propensity to EXPEND, not the marginal propensity to CONSUME as it is defined in our benchmark model."
   ]
  },
  {
   "cell_type": "code",
   "execution_count": null,
   "metadata": {},
   "outputs": [],
   "source": [
    "FagerengObjFunc(0.78,0.16)"
   ]
  },
  {
   "cell_type": "code",
   "execution_count": 36,
   "metadata": {},
   "outputs": [
    {
     "name": "stdout",
     "output_type": "stream",
     "text": [
      "The given parameter values violate the Perfect Foresight Growth Impatience Condition for this consumer type; the GIFPF is: 1.0347 \n",
      "The given parameter values violate the Individual Growth Impatience Condition; the GIFInd is: 1.0440 \n",
      "The given parameter values violate the Aggregate Growth Impatience Condition; the GIFAgg is: 1.0088 \n",
      "[0.78896033 2.84055962 1.0888332  ... 0.99285433 1.26879196 1.4485906 ]\n"
     ]
    }
   ],
   "source": [
    "BaseType = IndShockConsumerType(**base_params)\n",
    "    \n",
    "BaseType.track_vars = ['mNrmNow','cNrmNow','pLvlNow']\n",
    "BaseType.solve()\n",
    "BaseType.initializeSim()\n",
    "BaseType.simulate(50)\n",
    "BaseType.unpackcFunc()  \n",
    "print(BaseType.cNrmNow)\n",
    "    \n",
    "BaseType.simulate(1)"
   ]
  },
  {
   "cell_type": "markdown",
   "metadata": {},
   "source": [
    "### PROBLEM\n",
    "\n",
    "Call the _Marginal Propensity to Continue Consuming_ (MPCC) in year `t+n` the proportion of lottery winnings that get spent in year `t+n`.  That is, if consumption is higher in year `t+2` by an amount corresponding to 14 percent of lottery winnings, we would say  _the MPCC in t+2 is 14 percent.\n",
    "\n",
    "For the baseline version of the model with the \"splurge\" component, calculate the MPCC's for years `t+1` through `t+3` and plot them together with the MPC in the first year (including the splurge component)\n"
   ]
  },
  {
   "cell_type": "code",
   "execution_count": 43,
   "metadata": {},
   "outputs": [
    {
     "name": "stdout",
     "output_type": "stream",
     "text": [
      "EstTypeList[1].cNrmNow= [1.08822299 1.20560498 1.01537602 ... 1.04548347 1.00789338 1.06301118]\n",
      "[0.93228042 1.107014   0.92136972 ... 1.12145668 1.18442796 1.01069509]\n",
      "[0.93228042 1.107014   0.92136972 ... 1.12145668 1.18442796 1.01069509]\n",
      "[1.08822299 1.0146687  0.97373526 ... 0.92136972 1.01611433 1.09820461]\n",
      "[1.08822299 1.0146687  0.97373526 ... 0.92136972 1.01611433 1.09820461]\n",
      "[1.06962055 1.01947244 1.09451708 ... 1.07168042 1.03360508 0.26452928]\n",
      "[1.06962055 1.01947244 1.09451708 ... 1.07168042 1.03360508 0.26452928]\n",
      "[0.97838285 1.07546596 1.17059841 ... 1.11282204 1.06078918 0.94036297]\n",
      "[0.97838285 1.07546596 1.17059841 ... 1.11282204 1.06078918 0.94036297]\n",
      "[1.09366699 1.06831342 1.12450128 ... 1.08121563 1.0796315  0.8900422 ]\n",
      "[1.09366699 1.06831342 1.12450128 ... 1.08121563 1.0796315  0.8900422 ]\n",
      "[1.08696846 1.01393431 1.0482489  ... 1.1693224  1.12838197 1.06074668]\n",
      "[1.08696846 1.01393431 1.0482489  ... 1.1693224  1.12838197 1.06074668]\n",
      "[1.01875305 1.18088535 1.01075699 ... 1.00779005 1.01221516 1.04208204]\n",
      "[1.01875305 1.18088535 1.01075699 ... 1.00779005 1.01221516 1.04208204]\n",
      "[1.09505764 1.11023415 0.92975187 ... 0.80563479 1.04492392 1.03284836]\n",
      "[1.09505764 1.11023415 0.92975187 ... 0.80563479 1.04492392 1.03284836]\n",
      "[[0.75252495 0.68044002 0.56051643 0.40724682]\n",
      " [0.54419681 0.49580343 0.41136369 0.29913997]\n",
      " [0.3438541  0.31497619 0.26271664 0.19115833]\n",
      " [0.137754   0.12477493 0.10213469 0.07388059]]\n"
     ]
    }
   ],
   "source": [
    "BaseType = IndShockConsumerType(**base_params)\n",
    "EstTypeList = []\n",
    "for j in range(TypeCount):\n",
    "    EstTypeList.append(deepcopy(BaseType))\n",
    "    EstTypeList[-1](seed = j)\n",
    "\n",
    "center = 0.78981881 \n",
    "spread = 0.16098057\n",
    "\n",
    "# Give our consumer types the requested discount factor distribution\n",
    "beta_set = approxUniform(N=TypeCount,bot=center-spread,top=center+spread)[1]\n",
    "for j in range(TypeCount):\n",
    "    EstTypeList[j](DiscFac = beta_set[j])\n",
    "    EstTypeList[j].track_vars = ['aNrmNow','mNrmNow','cNrmNow','pLvlNow','PermShk','TransShk']\n",
    "\n",
    "# Solve and simulate all consumer types, then gather their wealth levels\n",
    "multiThreadCommands(EstTypeList,['solve()','initializeSim()','simulate(95)','unpackcFunc()'])\n",
    "WealthNow = np.concatenate([ThisType.aLvlNow for ThisType in EstTypeList])\n",
    "\n",
    "# Get wealth quartile cutoffs and distribute them to each consumer type\n",
    "quartile_cuts = getPercentiles(WealthNow,percentiles=[0.25,0.50,0.75])\n",
    "for ThisType in EstTypeList:\n",
    "    WealthQ = np.zeros(ThisType.AgentCount,dtype=int)\n",
    "    for n in range(3):\n",
    "        WealthQ[ThisType.aLvlNow > quartile_cuts[n]] += 1\n",
    "    ThisType(WealthQ = WealthQ)\n",
    "\n",
    "# Keep track of MPC sets in lists of lists of arrays\n",
    "MPC_set_list = [ [[],[],[],[]],\n",
    "                 [[],[],[],[]],\n",
    "                 [[],[],[],[]],\n",
    "                 [[],[],[],[]] ]\n",
    "\n",
    "    \n",
    "# Calculate the MPC for each of the four lottery sizes for all agents\n",
    "Rfree=base_params['Rfree']\n",
    "for ThisType in EstTypeList:\n",
    "    \n",
    "    MPC_this_type = np.zeros((ThisType.AgentCount,4))   \n",
    "    ThisType.simulate(3)\n",
    "    c_base = ThisType.cNrmNow\n",
    "    print(ThisType.cNrmNow)\n",
    "    print(ThisType.cNrmNow_hist[97])\n",
    "    \n",
    "    for k in range(4): # Get MPC for all agents of this type\n",
    "        Llvl = lottery_size[k]\n",
    "        Lnrm = Llvl/ThisType.pLvlNow      \n",
    "        SplurgeNrm = Splurge/ThisType.pLvlNow\n",
    "        mAdj = ThisType.mNrmNow + Lnrm - SplurgeNrm\n",
    "        cAdj = ThisType.cFunc[0](mAdj) + SplurgeNrm\n",
    "        MPC_this_type[:,k] = (cAdj - c_base)/Lnrm\n",
    "            \n",
    "        # Sort the MPCs into the proper MPC sets\n",
    "        for q in range(4):\n",
    "            these = ThisType.WealthQ == q\n",
    "            for k in range(4):\n",
    "                MPC_set_list[k][q].append(MPC_this_type[these,k])\n",
    "                \n",
    "                \n",
    "# Calculate average within each MPC set\n",
    "simulated_MPC_means = np.zeros((4,4))\n",
    "for k in range(4):\n",
    "    for q in range(4):\n",
    "        MPC_array = np.concatenate(MPC_set_list[k][q])\n",
    "        simulated_MPC_means[k,q] = np.mean(MPC_array)\n",
    "        \n",
    "        \n",
    "print(simulated_MPC_means)"
   ]
  },
  {
   "cell_type": "code",
   "execution_count": 33,
   "metadata": {},
   "outputs": [
    {
     "name": "stdout",
     "output_type": "stream",
     "text": [
      "EstTypeList[1].cNrmNow= [1.08822299 1.00397448 1.05758082 ... 1.08822299 1.1001038  0.96365912]\n",
      "[[0.77361336 0.68317127 0.56461082 0.40476961]\n",
      " [0.55766231 0.49862064 0.41476164 0.29719539]\n",
      " [0.35176676 0.31756077 0.26527145 0.18965595]\n",
      " [0.14033095 0.12607201 0.10314832 0.07315312]]\n"
     ]
    }
   ],
   "source": [
    "BaseType = IndShockConsumerType(**base_params)\n",
    "EstTypeList = []\n",
    "for j in range(TypeCount):\n",
    "    EstTypeList.append(deepcopy(BaseType))\n",
    "    EstTypeList[-1](seed = j)\n",
    "\n",
    "center = 0.78981881 \n",
    "spread = 0.16098057\n",
    "\n",
    "# Give our consumer types the requested discount factor distribution\n",
    "beta_set = approxUniform(N=TypeCount,bot=center-spread,top=center+spread)[1]\n",
    "for j in range(TypeCount):\n",
    "    EstTypeList[j](DiscFac = beta_set[j])\n",
    "    #EstTypeList[j].track_vars = ['aNrmNow','mNrmNow','cNrmNow','pLvlNow']\n",
    "\n",
    "# Solve and simulate all consumer types, then gather their wealth levels\n",
    "multiThreadCommands(EstTypeList,['solve()','initializeSim()','simulate()','unpackcFunc()'])\n",
    "WealthNow = np.concatenate([ThisType.aLvlNow for ThisType in EstTypeList])\n",
    "\n",
    "# Get wealth quartile cutoffs and distribute them to each consumer type\n",
    "quartile_cuts = getPercentiles(WealthNow,percentiles=[0.25,0.50,0.75])\n",
    "for ThisType in EstTypeList:\n",
    "    WealthQ = np.zeros(ThisType.AgentCount,dtype=int)\n",
    "    for n in range(3):\n",
    "        WealthQ[ThisType.aLvlNow > quartile_cuts[n]] += 1\n",
    "    ThisType(WealthQ = WealthQ)\n",
    "\n",
    "# Keep track of MPC sets in lists of lists of arrays\n",
    "MPC_set_list = [ [[],[],[],[]],\n",
    "                 [[],[],[],[]],\n",
    "                 [[],[],[],[]],\n",
    "                 [[],[],[],[]] ]\n",
    "\n",
    "print('EstTypeList[1].cNrmNow=',EstTypeList[1].cNrmNow)\n",
    "    \n",
    "# Calculate the MPC for each of the four lottery sizes for all agents\n",
    "Rfree=base_params['Rfree']\n",
    "for ThisType in EstTypeList:\n",
    "    \n",
    "    MPC_this_type = np.zeros((ThisType.AgentCount,4))   \n",
    "    ThisType.simulate(1)\n",
    "    c_base = ThisType.cNrmNow\n",
    "    \n",
    "    for k in range(4): # Get MPC for all agents of this type\n",
    "        Llvl = lottery_size[k]\n",
    "        Lnrm = Llvl/ThisType.pLvlNow      \n",
    "        SplurgeNrm = Splurge/ThisType.pLvlNow\n",
    "        mAdj = ThisType.mNrmNow + Lnrm - SplurgeNrm\n",
    "        cAdj = ThisType.cFunc[0](mAdj) + SplurgeNrm\n",
    "        MPC_this_type[:,k] = (cAdj - c_base)/Lnrm\n",
    "            \n",
    "        # Sort the MPCs into the proper MPC sets\n",
    "        for q in range(4):\n",
    "            these = ThisType.WealthQ == q\n",
    "            for k in range(4):\n",
    "                MPC_set_list[k][q].append(MPC_this_type[these,k])\n",
    "                \n",
    "                \n",
    "# Calculate average within each MPC set\n",
    "simulated_MPC_means = np.zeros((4,4))\n",
    "for k in range(4):\n",
    "    for q in range(4):\n",
    "        MPC_array = np.concatenate(MPC_set_list[k][q])\n",
    "        simulated_MPC_means[k,q] = np.mean(MPC_array)\n",
    "        \n",
    "        \n",
    "print(simulated_MPC_means)"
   ]
  },
  {
   "cell_type": "code",
   "execution_count": null,
   "metadata": {},
   "outputs": [],
   "source": []
  }
 ],
 "metadata": {
  "cite2c": {
   "citations": {
    "6202365/SUE56C4B": {
     "author": [
      {
       "family": "Fagereng",
       "given": "Andreas"
      },
      {
       "family": "Holm",
       "given": "Martin B."
      },
      {
       "family": "Natvik",
       "given": "Gisle J."
      }
     ],
     "genre": "discussion paper",
     "id": "6202365/SUE56C4B",
     "issued": {
      "year": 2017
     },
     "publisher": "Statistics Norway",
     "title": "MPC Heterogeneity and Household Balance Sheets",
     "type": "report"
    }
   }
  },
  "jupytext": {
   "cell_metadata_filter": "collapsed,code_folding",
   "formats": "ipynb,py:percent"
  },
  "kernelspec": {
   "display_name": "Python 3",
   "language": "python",
   "name": "python3"
  },
  "language_info": {
   "codemirror_mode": {
    "name": "ipython",
    "version": 3
   },
   "file_extension": ".py",
   "mimetype": "text/x-python",
   "name": "python",
   "nbconvert_exporter": "python",
   "pygments_lexer": "ipython3",
   "version": "3.7.4"
  },
  "toc": {
   "base_numbering": 1,
   "nav_menu": {},
   "number_sections": true,
   "sideBar": true,
   "skip_h1_title": false,
   "title_cell": "Table of Contents",
   "title_sidebar": "Contents",
   "toc_cell": false,
   "toc_position": {},
   "toc_section_display": true,
   "toc_window_display": false
  },
  "varInspector": {
   "cols": {
    "lenName": 16,
    "lenType": 16,
    "lenVar": 40
   },
   "kernels_config": {
    "python": {
     "delete_cmd_postfix": "",
     "delete_cmd_prefix": "del ",
     "library": "var_list.py",
     "varRefreshCmd": "print(var_dic_list())"
    },
    "r": {
     "delete_cmd_postfix": ") ",
     "delete_cmd_prefix": "rm(",
     "library": "var_list.r",
     "varRefreshCmd": "cat(var_dic_list()) "
    }
   },
   "types_to_exclude": [
    "module",
    "function",
    "builtin_function_or_method",
    "instance",
    "_Feature"
   ],
   "window_display": false
  }
 },
 "nbformat": 4,
 "nbformat_minor": 4
}
