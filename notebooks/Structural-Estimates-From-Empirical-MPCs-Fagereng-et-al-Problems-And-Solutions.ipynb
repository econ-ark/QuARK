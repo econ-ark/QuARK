{
 "cells": [
  {
   "cell_type": "markdown",
   "metadata": {},
   "source": [
    "# Making Structural Estimates From Empirical Results\n",
    "\n",
    "This notebook conducts a quick and dirty structural estimation based on Table 9 of \"MPC Heterogeneity and Household Balance Sheets\" by Fagereng, Holm, and Natvik <cite data-cite=\"6202365/SUE56C4B\"></cite>, who use Norweigian administrative data on income, household assets, and lottery winnings to examine the MPC from transitory income shocks (lottery prizes).  Their Table 9 reports an estimated MPC broken down by quartiles of bank deposits and\n",
    "prize size; this table is reproduced here as $\\texttt{MPC_target_base}$.  In this demo, we use the Table 9 estimates as targets in a simple structural estimation, seeking to minimize the sum of squared differences between simulated and estimated MPCs by changing the (uniform) distribution of discount factors.  The essential question is how well their results be rationalized by a simple one-asset consumption-saving model.  \n",
    "\n",
    "\n",
    "The function that estimates discount factors includes several options for estimating different specifications:\n",
    "\n",
    "1. TypeCount : Integer number of discount factors in discrete distribution; can be set to 1 to turn off _ex ante_ heterogeneity (and to discover that the model has no chance to fit the data well without such heterogeneity).\n",
    "2. AdjFactor : Scaling factor for the target MPCs; user can try to fit estimated MPCs scaled down by (e.g.) 50%.\n",
    "3. T_kill    : Maximum number of years the (perpetually young) agents are allowed to live.  Because this is quick and dirty, it's also the number of periods to simulate.\n",
    "4. Splurge   : Amount of lottery prize that an individual will automatically spend in a moment of excitement (perhaps ancient tradition in Norway requires a big party when you win the lottery), before beginning to behave according to the optimal consumption function.  The patterns in Table 9 can be fit much better when this is set around \\$700 --> 0.7.  That doesn't seem like an unreasonable amount of money to spend on a memorable party.\n",
    "5. do_secant : Boolean indicator for whether to use \"secant MPC\", which is average MPC over the range of the prize.  MNW believes authors' regressions are estimating this rather than point MPC.  When False, structural estimation uses point MPC after receiving prize.  NB: This is incompatible with Splurge > 0.\n",
    "6. drop_corner : Boolean for whether to include target MPC in the top left corner, which is greater than 1.  Authors discuss reasons why the MPC from a transitory shock *could* exceed 1.  Option is included here because this target tends to push the estimate around a bit."
   ]
  },
  {
   "cell_type": "code",
   "execution_count": 1,
   "metadata": {
    "code_folding": []
   },
   "outputs": [],
   "source": [
    "# Import python tools\n",
    "\n",
    "import sys\n",
    "import os\n",
    "\n",
    "import numpy as np\n",
    "from copy import deepcopy"
   ]
  },
  {
   "cell_type": "code",
   "execution_count": 2,
   "metadata": {
    "code_folding": []
   },
   "outputs": [],
   "source": [
    "# Import needed tools from HARK\n",
    "\n",
    "from HARK.utilities import approxUniform, getPercentiles\n",
    "from HARK.parallel import multiThreadCommands\n",
    "from HARK.estimation import minimizeNelderMead\n",
    "from HARK.ConsumptionSaving.ConsIndShockModel import *\n",
    "from HARK.cstwMPC.SetupParamsCSTW import init_infinite"
   ]
  },
  {
   "cell_type": "code",
   "execution_count": 3,
   "metadata": {
    "code_folding": []
   },
   "outputs": [],
   "source": [
    "# Set key problem-specific parameters\n",
    "\n",
    "TypeCount = 8    # Number of consumer types with heterogeneous discount factors\n",
    "AdjFactor = 1.0  # Factor by which to scale all of MPCs in Table 9\n",
    "T_kill = 100     # Don't let agents live past this age\n",
    "Splurge = 0.7    # Consumers automatically spend this amount of any lottery prize\n",
    "do_secant = True # If True, calculate MPC by secant, else point MPC\n",
    "drop_corner = True # If True, ignore upper left corner when calculating distance"
   ]
  },
  {
   "cell_type": "code",
   "execution_count": 4,
   "metadata": {
    "code_folding": []
   },
   "outputs": [],
   "source": [
    "# Set standard HARK parameter values\n",
    "\n",
    "base_params = deepcopy(init_infinite)\n",
    "base_params['LivPrb'] = [0.975]\n",
    "base_params['Rfree'] = 1.04/base_params['LivPrb'][0]\n",
    "base_params['PermShkStd'] = [0.1]\n",
    "base_params['TranShkStd'] = [0.1]\n",
    "base_params['T_age'] = T_kill # Kill off agents if they manage to achieve T_kill working years\n",
    "base_params['AgentCount'] = 10000\n",
    "base_params['pLvlInitMean'] = np.log(23.72) # From Table 1, in thousands of USD\n",
    "base_params['T_sim'] = T_kill  # No point simulating past when agents would be killed off"
   ]
  },
  {
   "cell_type": "code",
   "execution_count": 5,
   "metadata": {
    "code_folding": []
   },
   "outputs": [],
   "source": [
    "# Define the MPC targets from Fagereng et al Table 9; element i,j is lottery quartile i, deposit quartile j\n",
    "\n",
    "MPC_target_base = np.array([[1.047, 0.745, 0.720, 0.490],\n",
    "                            [0.762, 0.640, 0.559, 0.437],\n",
    "                            [0.663, 0.546, 0.390, 0.386],\n",
    "                            [0.354, 0.325, 0.242, 0.216]])\n",
    "MPC_target = AdjFactor*MPC_target_base"
   ]
  },
  {
   "cell_type": "code",
   "execution_count": 6,
   "metadata": {
    "code_folding": []
   },
   "outputs": [],
   "source": [
    "# Define the four lottery sizes, in thousands of USD; these are eyeballed centers/averages\n",
    "\n",
    "lottery_size = np.array([1.625, 3.3741, 7.129, 40.0])"
   ]
  },
  {
   "cell_type": "code",
   "execution_count": 7,
   "metadata": {
    "code_folding": [],
    "lines_to_next_cell": 1
   },
   "outputs": [],
   "source": [
    "# Make several consumer types to be used during estimation\n",
    "\n",
    "BaseType = IndShockConsumerType(**base_params)\n",
    "EstTypeList = []\n",
    "for j in range(TypeCount):\n",
    "    EstTypeList.append(deepcopy(BaseType))\n",
    "    EstTypeList[-1](seed = j)"
   ]
  },
  {
   "cell_type": "code",
   "execution_count": 8,
   "metadata": {
    "code_folding": []
   },
   "outputs": [],
   "source": [
    "# Define the objective function\n",
    "\n",
    "def FagerengObjFunc(center,spread,verbose=False):\n",
    "    '''\n",
    "    Objective function for the quick and dirty structural estimation to fit\n",
    "    Fagereng, Holm, and Natvik's Table 9 results with a basic infinite horizon\n",
    "    consumption-saving model (with permanent and transitory income shocks).\n",
    "\n",
    "    Parameters\n",
    "    ----------\n",
    "    center : float\n",
    "        Center of the uniform distribution of discount factors.\n",
    "    spread : float\n",
    "        Width of the uniform distribution of discount factors.\n",
    "    verbose : bool\n",
    "        When True, print to screen MPC table for these parameters.  When False,\n",
    "        print (center, spread, distance).\n",
    "\n",
    "    Returns\n",
    "    -------\n",
    "    distance : float\n",
    "        Euclidean distance between simulated MPCs and (adjusted) Table 9 MPCs.\n",
    "    '''\n",
    "    # Give our consumer types the requested discount factor distribution\n",
    "    beta_set = approxUniform(N=TypeCount,bot=center-spread,top=center+spread)[1]\n",
    "    for j in range(TypeCount):\n",
    "        EstTypeList[j](DiscFac = beta_set[j])\n",
    "\n",
    "    # Solve and simulate all consumer types, then gather their wealth levels\n",
    "    multiThreadCommands(EstTypeList,['solve()','initializeSim()','simulate(95)','unpackcFunc()'])\n",
    "    WealthNow = np.concatenate([ThisType.aLvlNow for ThisType in EstTypeList])\n",
    "\n",
    "    # Get wealth quartile cutoffs and distribute them to each consumer type\n",
    "    quartile_cuts = getPercentiles(WealthNow,percentiles=[0.25,0.50,0.75])\n",
    "    for ThisType in EstTypeList:\n",
    "        WealthQ = np.zeros(ThisType.AgentCount,dtype=int)\n",
    "        for n in range(3):\n",
    "            WealthQ[ThisType.aLvlNow > quartile_cuts[n]] += 1\n",
    "        ThisType(WealthQ = WealthQ)\n",
    "\n",
    "    # Keep track of MPC sets in lists of lists of arrays\n",
    "    MPC_set_list = [ [[],[],[],[]],\n",
    "                     [[],[],[],[]],\n",
    "                     [[],[],[],[]],\n",
    "                     [[],[],[],[]] ]\n",
    "\n",
    "    # Calculate the MPC for each of the four lottery sizes for all agents\n",
    "    for ThisType in EstTypeList:\n",
    "        ThisType.simulate(1)\n",
    "        c_base = ThisType.cNrmNow\n",
    "        MPC_this_type = np.zeros((ThisType.AgentCount,4))\n",
    "        for k in range(4): # Get MPC for all agents of this type\n",
    "            Llvl = lottery_size[k]\n",
    "            Lnrm = Llvl/ThisType.pLvlNow\n",
    "            if do_secant:\n",
    "                SplurgeNrm = Splurge/ThisType.pLvlNow\n",
    "                mAdj = ThisType.mNrmNow + Lnrm - SplurgeNrm\n",
    "                cAdj = ThisType.cFunc[0](mAdj) + SplurgeNrm\n",
    "                MPC_this_type[:,k] = (cAdj - c_base)/Lnrm\n",
    "            else:\n",
    "                mAdj = ThisType.mNrmNow + Lnrm\n",
    "                MPC_this_type[:,k] = cAdj = ThisType.cFunc[0].derivative(mAdj)\n",
    "\n",
    "        # Sort the MPCs into the proper MPC sets\n",
    "        for q in range(4):\n",
    "            these = ThisType.WealthQ == q\n",
    "            for k in range(4):\n",
    "                MPC_set_list[k][q].append(MPC_this_type[these,k])\n",
    "\n",
    "    # Calculate average within each MPC set\n",
    "    simulated_MPC_means = np.zeros((4,4))\n",
    "    for k in range(4):\n",
    "        for q in range(4):\n",
    "            MPC_array = np.concatenate(MPC_set_list[k][q])\n",
    "            simulated_MPC_means[k,q] = np.mean(MPC_array)\n",
    "\n",
    "    # Calculate Euclidean distance between simulated MPC averages and Table 9 targets\n",
    "    diff = simulated_MPC_means - MPC_target\n",
    "    if drop_corner:\n",
    "        diff[0,0] = 0.0\n",
    "    distance = np.sqrt(np.sum((diff)**2))\n",
    "    if verbose:\n",
    "        print(simulated_MPC_means)\n",
    "    else:\n",
    "        print (center, spread, distance)\n",
    "    return distance"
   ]
  },
  {
   "cell_type": "code",
   "execution_count": 9,
   "metadata": {
    "code_folding": []
   },
   "outputs": [
    {
     "name": "stdout",
     "output_type": "stream",
     "text": [
      "0.78981881 0.16098057 0.48580048893979316\n",
      "0.8293097505 0.16098057 0.3313405262934448\n",
      "0.78981881 0.1690295985 0.47856230067166305\n",
      "0.8293097505000001 0.1690295985 0.34477770781230793\n",
      "0.868800691 0.16098057 0.3919051119568574\n",
      "0.84905522075 0.162992827125 0.34766503675642896\n",
      "0.80956428025 0.167017341375 0.39059276121654307\n",
      "0.839182485625 0.1639989556875 0.33006777250767005\n",
      "0.839182485625 0.1559499271875 0.3114573947400921\n",
      "0.8441188531874999 0.14941009153125 0.29759656997602174\n",
      "0.8539915883125 0.15242847721875002 0.32272265417221446\n",
      "0.8589279558749999 0.13783961306250003 0.2896970383427969\n",
      "0.8688006909999999 0.12475994175000005 0.28538450938568033\n",
      "0.8589279558749998 0.12174155606250003 0.2552805685429768\n",
      "0.8613961396562497 0.10639809548437507 0.23895645235891916\n",
      "0.8860779774687497 0.0817479457031251 0.27842013631444334\n",
      "0.8786734261249995 0.06338609943750012 0.29913161682865297\n",
      "0.8712688747812498 0.10941648117187507 0.25837997054375333\n",
      "0.8465870369687498 0.13406663095312504 0.27232460581536816\n",
      "0.8564597720937499 0.12098695964062506 0.2530032694577953\n",
      "0.8465870369687498 0.11796857395312506 0.2581379647895402\n",
      "0.8527574964218747 0.11583055075781257 0.24802360888570885\n",
      "0.8576938639843745 0.10124168660156257 0.24492008434188262\n",
      "0.8663325072187495 0.09180923132812507 0.24227823900906223\n",
      "0.8700347828906247 0.09696564021093756 0.24069501318279268\n",
      "0.8650984153281249 0.11155450436718756 0.24798204480204597\n",
      "0.8660239842460934 0.0967455495878907 0.23665788491545425\n",
      "0.8573853410117183 0.1061780048613282 0.23973677455150047\n",
      "0.8605477014814449 0.10387491369873053 0.23712336948335208\n",
      "0.8651755460712884 0.09422236780224616 0.2399321914129636\n",
      "0.8623409912600094 0.10335416356384283 0.23660541031596866\n",
      "0.8678172740246579 0.096224799453003 0.23726139845247388\n",
      "0.8623650946172481 0.10196238513729865 0.23644409794820342\n",
      "0.8586821016311642 0.10857099911325077 0.2398009838962758\n",
      "0.864188513592361 0.09970191196923071 0.23600718133937149\n",
      "0.8642126169495997 0.09831013354268653 0.23647344408371473\n",
      "0.8637447105272023 0.09957114104797561 0.2362159666394759\n",
      "0.8655681295023152 0.09731066787990768 0.23635060272711664\n",
      "0.8647673707810485 0.09847359719425541 0.23618797168172395\n",
      "0.8652111738462074 0.09860436811551053 0.23613292071033748\n",
      "0.8646323166575199 0.09983268289048583 0.23618206079428505\n",
      "0.8646660801884021 0.09949291146642822 0.23620399454819865\n",
      "0.8646998437192842 0.09915314004237062 0.23609202691925957\n",
      "0.8644779421867048 0.09908775458174307 0.23611825832893543\n",
      "0.8644104151249403 0.09976729742985826 0.23610281801095978\n",
      "0.8644272968903816 0.09959741171782946 0.2360431660507953\n",
      "0.8639159667634585 0.10014618364468954 0.2360757180701442\n",
      "0.864111936002415 0.0998979227441098 0.2359780723857939\n",
      "0.8638731527043945 0.10000242299551107 0.2360513272623322\n",
      "0.8642887608438847 0.09969866453724986 0.23599762994353402\n",
      "0.8642121832539387 0.09989467531212894 0.23606105519823586\n",
      "0.8641944310077554 0.09975010280495528 0.23600045075797765\n",
      "0.8642062658385443 0.09984648447640437 0.23603399455793697\n",
      "0.8641973897154527 0.09977419822281755 0.2360033380459037\n",
      "0.8642003484231499 0.09979829364067982 0.23599103479707295\n",
      "0.8641531835050852 0.09982401277453254 0.23602489132053955\n",
      "Optimization terminated successfully.\n",
      "         Current function value: 0.235978\n",
      "         Iterations: 29\n",
      "         Function evaluations: 56\n",
      "Time to estimate is 219.28957509994507 seconds.\n",
      "Finished estimating for scaling factor of 1.0 and \"splurge amount\" of $700.0\n",
      "Optimal (beta,nabla) is [0.86411194 0.09989792], simulated MPCs are:\n",
      "[[0.76337822 0.73536628 0.68953168 0.58213285]\n",
      " [0.65569708 0.62198032 0.56001686 0.41404097]\n",
      " [0.57835292 0.54831948 0.48126189 0.32426049]\n",
      " [0.40259267 0.38677506 0.33437532 0.21486836]]\n",
      "Distance from Fagereng et al Table 9 is 0.2359780723857939\n"
     ]
    }
   ],
   "source": [
    "# Conduct the estimation\n",
    "\n",
    "guess = [0.92,0.03]\n",
    "guess = [0.78981881,0.16098057]\n",
    "f_temp = lambda x : FagerengObjFunc(x[0],x[1])\n",
    "opt_params = minimizeNelderMead(f_temp, guess, verbose=True)\n",
    "print('Finished estimating for scaling factor of ' + str(AdjFactor) + ' and \"splurge amount\" of $' + str(1000*Splurge))\n",
    "print('Optimal (beta,nabla) is ' + str(opt_params) + ', simulated MPCs are:')\n",
    "dist = FagerengObjFunc(opt_params[0],opt_params[1],True)\n",
    "print('Distance from Fagereng et al Table 9 is ' + str(dist))"
   ]
  },
  {
   "cell_type": "markdown",
   "metadata": {},
   "source": [
    "### PROBLEM\n",
    "\n",
    "See what happens if you do not allow a splurge amount at all.  Hint: Think about how this question relates to the `drop_corner` option.\n",
    "\n",
    "Explain why you get the results you do, and comment on possible interpretations of the \"splurge\" that might be consistent with economic theory.    \n",
    "Hint: What the authors are able to measure is actually the marginal propensity to EXPEND, not the marginal propensity to CONSUME as it is defined in our benchmark model."
   ]
  },
  {
   "cell_type": "markdown",
   "metadata": {},
   "source": [
    "MPC distribution for `splurge=0.7` and `drop_corner=0` is  \n",
    "0.78058645 0.74852543 0.69758672  0.57062401  \n",
    "0.68077668 0.64027802 0.57082729  0.39800477  \n",
    "0.60892177 0.5696061 0.4929874   0.30577941  \n",
    "0.43708697 0.40971915 0.34376774  0.1947101  \n",
    "Estimation: beta-point =0.86, nabla =12   \n",
    "The distance is 0.36  \n",
    "The estimator choses a relatively low beta and high nabla when `drop_corner` is set to zero. This is because it puts high importance on matching the MPC value in the upper left corner of the target matrix as the distance to the target is large. The low beta, however, deteriorates matches with the MPC target in other lottery / wealth quartiles. \n",
    "\n",
    "\n",
    "MPC distribution for `splurge=0.7` and `drop_corner=1` is  \n",
    "0.76146837 0.73294988 0.68867587 0.58023753  \n",
    "0.65406631 0.61881131 0.55855225 0.41047637  \n",
    "0.5784164  0.54533118 0.47933813 0.31933032  \n",
    "0.4037176  0.38408734 0.33105934 0.20577312   \n",
    "Estimation: beta-point = 0.87, nabla = 0.10  \n",
    "The distance is 0.24  \n",
    "With `drop_corner` switched on, the distance is lower. This happens (i) mechanically since one difference is excluded from the euclidean distance, but also (ii) because the now higher beta-point value, allows to match other MPC targets of lower values much easier. The point estimate of beta-point is higher, the nabla becomes smaller, another indicator that the model does a better job to replicate the data as it needs less ex-ante heterogeneity. \n",
    "\n",
    "\n",
    "MPC distribution for `splurge=0.0` and `drop_corner=0` is  \n",
    "0.77363444 0.68301477 0.56440589 0.40411035  \n",
    "0.74357098 0.66467557 0.55281926 0.39561326  \n",
    "0.70355573 0.6349713  0.53035817 0.37868694  \n",
    "0.56134351 0.5041643  0.41242587 0.29210923    \n",
    "Estimation: beta-point = 0.79, nabla = 0.16  \n",
    "The distance is 0.50.  \n",
    "With both options set to zero, we obtain the worst fit. This indicates that removing the splurge makes it more difficult for the model to match the relative high MPC for lower wealth quartiles. This is compensated by a lower beta-point estimate. However, this goes at the cost of other, lower values of the MPC targets. \n",
    "\n"
   ]
  },
  {
   "cell_type": "markdown",
   "metadata": {},
   "source": [
    "### PROBLEM\n",
    "\n",
    "Call the _Marginal Propensity to Continue Consuming_ (MPCC) in year `t+n` the proportion of lottery winnings that get spent in year `t+n`.  That is, if consumption is higher in year `t+2` by an amount corresponding to 14 percent of lottery winnings, we would say  _the MPCC in t+2 is 14 percent.\n",
    "\n",
    "For the baseline version of the model with the \"splurge\" component, calculate the MPCC's for years `t+1` through `t+3` and plot them together with the MPC in the first year (including the splurge component)\n"
   ]
  },
  {
   "cell_type": "code",
   "execution_count": 15,
   "metadata": {},
   "outputs": [
    {
     "name": "stdout",
     "output_type": "stream",
     "text": [
      "The MPC for t+0 is \n",
      " [[0.7634 0.7354 0.6895 0.5821]\n",
      " [0.6557 0.622  0.56   0.414 ]\n",
      " [0.5784 0.5483 0.4813 0.3243]\n",
      " [0.4026 0.3868 0.3344 0.2149]]\n",
      "\n",
      "\n",
      "The MPCC for t+1 is \n",
      " [[0.1612 0.18   0.2003 0.2072]\n",
      " [0.2115 0.2229 0.2292 0.1974]\n",
      " [0.2413 0.2464 0.2431 0.1906]\n",
      " [0.2601 0.2583 0.2373 0.1682]]\n",
      "\n",
      "\n",
      "The MPCC for t+2 is \n",
      " [[0.0928 0.1189 0.1637 0.2392]\n",
      " [0.1083 0.1269 0.157  0.1879]\n",
      " [0.1242 0.1367 0.1576 0.1631]\n",
      " [0.17   0.1722 0.1721 0.1409]]\n",
      "\n",
      "\n",
      "The MPCC for t+3 is \n",
      " [[0.0656 0.0891 0.1396 0.2666]\n",
      " [0.0627 0.0793 0.1144 0.184 ]\n",
      " [0.0674 0.0792 0.1061 0.1446]\n",
      " [0.1069 0.1107 0.1225 0.119 ]]\n",
      "\n",
      " I plot as an example the evolution of the MPC in the 2nd quartile of wealth and lottery win.\n"
     ]
    },
    {
     "data": {
      "image/png": "[encoded data removed]",
      "text/plain": [
       "<Figure size 432x288 with 1 Axes>"
      ]
     },
     "metadata": {
      "needs_background": "light"
     },
     "output_type": "display_data"
    }
   ],
   "source": [
    "def FagerengFutureObjFunc(center,spread,verbose=False):\n",
    "\n",
    "    # Give our consumer types the requested discount factor distribution\n",
    "    beta_set = approxUniform(N=TypeCount,bot=center-spread,top=center+spread)[1]\n",
    "    for j in range(TypeCount):\n",
    "        EstTypeList[j](DiscFac = beta_set[j])\n",
    "        # add tracking vars to each Type\n",
    "        EstTypeList[j].track_vars = ['aNrmNow','mNrmNow','cNrmNow','pLvlNow','PermShkNow','TranShkNow']\n",
    "\n",
    "    # Solve and simulate all consumer types, then gather their wealth levels\n",
    "    StartPeriod = 95;\n",
    "    multiThreadCommands(EstTypeList,['solve()','initializeSim()','simulate(95)','unpackcFunc()'])\n",
    "    WealthNow = np.concatenate([ThisType.aLvlNow for ThisType in EstTypeList])\n",
    "\n",
    "    # Get wealth quartile cutoffs and distribute them to each consumer type\n",
    "    quartile_cuts = getPercentiles(WealthNow,percentiles=[0.25,0.50,0.75])\n",
    "    for ThisType in EstTypeList:\n",
    "        WealthQ = np.zeros(ThisType.AgentCount,dtype=int)\n",
    "        for n in range(3):\n",
    "            WealthQ[ThisType.aLvlNow > quartile_cuts[n]] += 1\n",
    "        ThisType(WealthQ = WealthQ)\n",
    "\n",
    "    # Keep track of MPC sets in lists of lists of arrays\n",
    "    MPC_set_list = [ [[],[],[],[]],\n",
    "                     [[],[],[],[]],\n",
    "                     [[],[],[],[]],\n",
    "                     [[],[],[],[]] ]\n",
    "    MPC_set_list_t1 = deepcopy(MPC_set_list)\n",
    "    MPC_set_list_t2 = deepcopy(MPC_set_list)\n",
    "    MPC_set_list_t3 = deepcopy(MPC_set_list)\n",
    "\n",
    "    Rfree = base_params['Rfree']\n",
    "    # Calculate the MPC for each of the four lottery sizes for all agents\n",
    "    for ThisType in EstTypeList:\n",
    "        ThisType.simulate(4)\n",
    "        c_base_0 = ThisType.cNrmNow_hist[StartPeriod]\n",
    "        c_base_t1 = ThisType.cNrmNow_hist[StartPeriod+1]\n",
    "        c_base_t2 = ThisType.cNrmNow_hist[StartPeriod+2]\n",
    "        c_base_t3 = ThisType.cNrmNow_hist[StartPeriod+3]\n",
    "        \n",
    "        MPC_this_type = np.zeros((ThisType.AgentCount,4))\n",
    "        MPC_this_type_t1 = np.zeros((ThisType.AgentCount,4))\n",
    "        MPC_this_type_t2 = np.zeros((ThisType.AgentCount,4))\n",
    "        MPC_this_type_t3 = np.zeros((ThisType.AgentCount,4))\n",
    "    \n",
    "        for k in range(4): # Get MPC for all agents of this type       \n",
    "            Llvl = lottery_size[k]\n",
    "            Lnrm = Llvl/ThisType.pLvlNow_hist[StartPeriod]     \n",
    "            SplurgeNrm = Splurge/ThisType.pLvlNow_hist[StartPeriod]\n",
    "            mAdj = ThisType.mNrmNow_hist[StartPeriod] + Lnrm - SplurgeNrm\n",
    "            cAdj = ThisType.cFunc[0](mAdj) + SplurgeNrm\n",
    "            MPC_this_type[:,k] = (cAdj - c_base_0) /Lnrm\n",
    "            \n",
    "            # Calculate normalized market resources in t+1 (varnames t1)\n",
    "            #Llvl = lottery_size[k]\n",
    "            Lnrm = Llvl/ThisType.pLvlNow_hist[StartPeriod+1]\n",
    "            aNrm_t0 = ThisType.mNrmNow_hist[StartPeriod] + Lnrm - cAdj\n",
    "            aLvl_t0 = aNrm_t0*ThisType.pLvlNow_hist[StartPeriod]\n",
    "            mLvl_t1 = aLvl_t0*Rfree + ThisType.TranShkNow_hist[StartPeriod+1]*ThisType.pLvlNow_hist[StartPeriod+1]\n",
    "            mNrm_t1 = mLvl_t1/ThisType.pLvlNow_hist[StartPeriod+1]\n",
    "            cNrm_t1 = ThisType.cFunc[0](mNrm_t1)\n",
    "            MPC_this_type_t1[:,k] = (cNrm_t1 - c_base_t1) /Lnrm\n",
    "\n",
    "            # Calculate normalized market resources in t+2 (varnames t2)\n",
    "            Llvl = lottery_size[k]\n",
    "            Lnrm = Llvl/ThisType.pLvlNow_hist[StartPeriod+2]\n",
    "            aNrm_t1 = mNrm_t1 - cNrm_t1;\n",
    "            aLvl_t1 = aNrm_t1*ThisType.pLvlNow_hist[StartPeriod+1]\n",
    "            mLvl_t2 = aLvl_t1*Rfree + ThisType.TranShkNow_hist[StartPeriod+2]*ThisType.pLvlNow_hist[StartPeriod+2]\n",
    "            mNrm_t2 = mLvl_t2/ThisType.pLvlNow_hist[StartPeriod+2]\n",
    "            cNrm_t2 = ThisType.cFunc[0](mNrm_t2)\n",
    "            MPC_this_type_t2[:,k] = (cNrm_t2 - c_base_t2) /Lnrm\n",
    "\n",
    "            # Calculate normalized market resources in t+3 (varnames t3)\n",
    "            Llvl = lottery_size[k]\n",
    "            Lnrm = Llvl/ThisType.pLvlNow_hist[StartPeriod+3]\n",
    "            aNrm_t2 = mNrm_t2 - cNrm_t2;\n",
    "            aLvl_t2 = aNrm_t2*ThisType.pLvlNow_hist[StartPeriod+2]\n",
    "            mLvl_t3 = aLvl_t2*Rfree + ThisType.TranShkNow_hist[StartPeriod+3]*ThisType.pLvlNow_hist[StartPeriod+3]\n",
    "            mNrm_t3 = mLvl_t3/ThisType.pLvlNow_hist[StartPeriod+3]\n",
    "            cNrm_t3 = ThisType.cFunc[0](mNrm_t3)\n",
    "            MPC_this_type_t3[:,k] = (cNrm_t3 - c_base_t3) /Lnrm\n",
    "            \n",
    "\n",
    "        # Sort the MPCs into the proper MPC sets\n",
    "        for q in range(4):\n",
    "            these = ThisType.WealthQ == q\n",
    "            for k in range(4):\n",
    "                MPC_set_list[k][q].append(MPC_this_type[these,k])\n",
    "                MPC_set_list_t1[k][q].append(MPC_this_type_t1[these,k])\n",
    "                MPC_set_list_t2[k][q].append(MPC_this_type_t2[these,k])\n",
    "                MPC_set_list_t3[k][q].append(MPC_this_type_t3[these,k])\n",
    "\n",
    "    # Calculate average within each MPC set\n",
    "    simulated_MPC_means = np.zeros((4,4))\n",
    "    simulated_MPC_means_t1 = np.zeros((4,4))\n",
    "    simulated_MPC_means_t2 = np.zeros((4,4))\n",
    "    simulated_MPC_means_t3 = np.zeros((4,4))\n",
    "    for k in range(4):\n",
    "        for q in range(4):\n",
    "            MPC_array = np.concatenate(MPC_set_list[k][q])\n",
    "            simulated_MPC_means[k,q] = np.mean(MPC_array)\n",
    "            simulated_MPC_means_t1[k,q] = np.mean(np.concatenate(MPC_set_list_t1[k][q]))\n",
    "            simulated_MPC_means_t2[k,q] = np.mean(np.concatenate(MPC_set_list_t2[k][q]))\n",
    "            simulated_MPC_means_t3[k,q] = np.mean(np.concatenate(MPC_set_list_t3[k][q]))\n",
    "            \n",
    "    print('The MPC for t+0 is \\n', np.round(simulated_MPC_means,4))\n",
    "    print('\\n')\n",
    "    print('The MPCC for t+1 is \\n', np.round(simulated_MPC_means_t1,4))\n",
    "    print('\\n')\n",
    "    print('The MPCC for t+2 is \\n', np.round(simulated_MPC_means_t2,4))\n",
    "    print('\\n')\n",
    "    print('The MPCC for t+3 is \\n', np.round(simulated_MPC_means_t3,4))\n",
    "    \n",
    "    \n",
    "    import matplotlib.pyplot as plt\n",
    "    print('\\n I plot as an example the evolution of the MPC in the 2nd quartile of wealth and lottery win.')\n",
    "    plt.plot([0, 1, 2, 3],[simulated_MPC_means[1,1],simulated_MPC_means_t1[1,1],simulated_MPC_means_t2[1,1],simulated_MPC_means_t3[1,1]])\n",
    "    plt.xlabel('Year')\n",
    "    plt.ylabel('MPCC')\n",
    "    plt.show(block=False)\n",
    "\n",
    "    # Calculate Euclidean distance between simulated MPC averages and Table 9 targets\n",
    "    diff = simulated_MPC_means - MPC_target\n",
    "    if drop_corner:\n",
    "        diff[0,0] = 0.0\n",
    "    distance = np.sqrt(np.sum((diff)**2))\n",
    "    return distance\n",
    "\n",
    "dist = FagerengFutureObjFunc(opt_params[0],opt_params[1],True)"
   ]
  },
  {
   "cell_type": "code",
   "execution_count": null,
   "metadata": {},
   "outputs": [],
   "source": []
  }
 ],
 "metadata": {
  "cite2c": {
   "citations": {
    "6202365/SUE56C4B": {
     "author": [
      {
       "family": "Fagereng",
       "given": "Andreas"
      },
      {
       "family": "Holm",
       "given": "Martin B."
      },
      {
       "family": "Natvik",
       "given": "Gisle J."
      }
     ],
     "genre": "discussion paper",
     "id": "6202365/SUE56C4B",
     "issued": {
      "year": 2017
     },
     "publisher": "Statistics Norway",
     "title": "MPC Heterogeneity and Household Balance Sheets",
     "type": "report"
    }
   }
  },
  "jupytext": {
   "cell_metadata_filter": "collapsed,code_folding",
   "formats": "ipynb,py:percent"
  },
  "kernelspec": {
   "display_name": "Python 3",
   "language": "python",
   "name": "python3"
  },
  "language_info": {
   "codemirror_mode": {
    "name": "ipython",
    "version": 3
   },
   "file_extension": ".py",
   "mimetype": "text/x-python",
   "name": "python",
   "nbconvert_exporter": "python",
   "pygments_lexer": "ipython3",
   "version": "3.7.4"
  },
  "toc": {
   "base_numbering": 1,
   "nav_menu": {},
   "number_sections": true,
   "sideBar": true,
   "skip_h1_title": false,
   "title_cell": "Table of Contents",
   "title_sidebar": "Contents",
   "toc_cell": false,
   "toc_position": {},
   "toc_section_display": true,
   "toc_window_display": false
  },
  "varInspector": {
   "cols": {
    "lenName": 16,
    "lenType": 16,
    "lenVar": 40
   },
   "kernels_config": {
    "python": {
     "delete_cmd_postfix": "",
     "delete_cmd_prefix": "del ",
     "library": "var_list.py",
     "varRefreshCmd": "print(var_dic_list())"
    },
    "r": {
     "delete_cmd_postfix": ") ",
     "delete_cmd_prefix": "rm(",
     "library": "var_list.r",
     "varRefreshCmd": "cat(var_dic_list()) "
    }
   },
   "types_to_exclude": [
    "module",
    "function",
    "builtin_function_or_method",
    "instance",
    "_Feature"
   ],
   "window_display": false
  }
 },
 "nbformat": 4,
 "nbformat_minor": 4
}
