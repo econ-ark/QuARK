{
 "cells": [
  {
   "cell_type": "markdown",
   "metadata": {},
   "source": [
    "# Making Structural Estimates From Empirical Results\n",
    "\n",
    "This notebook conducts a quick and dirty structural estimation based on Table 9 of \"MPC Heterogeneity and Household Balance Sheets\" by Fagereng, Holm, and Natvik <cite data-cite=\"6202365/SUE56C4B\"></cite>, who use Norweigian administrative data on income, household assets, and lottery winnings to examine the MPC from transitory income shocks (lottery prizes).  Their Table 9 reports an estimated MPC broken down by quartiles of bank deposits and\n",
    "prize size; this table is reproduced here as $\\texttt{MPC_target_base}$.  In this demo, we use the Table 9 estimates as targets in a simple structural estimation, seeking to minimize the sum of squared differences between simulated and estimated MPCs by changing the (uniform) distribution of discount factors.  The essential question is how well their results be rationalized by a simple one-asset consumption-saving model.  \n",
    "\n",
    "\n",
    "The function that estimates discount factors includes several options for estimating different specifications:\n",
    "\n",
    "1. TypeCount : Integer number of discount factors in discrete distribution; can be set to 1 to turn off _ex ante_ heterogeneity (and to discover that the model has no chance to fit the data well without such heterogeneity).\n",
    "2. AdjFactor : Scaling factor for the target MPCs; user can try to fit estimated MPCs scaled down by (e.g.) 50%.\n",
    "3. T_kill    : Maximum number of years the (perpetually young) agents are allowed to live.  Because this is quick and dirty, it's also the number of periods to simulate.\n",
    "4. Splurge   : Amount of lottery prize that an individual will automatically spend in a moment of excitement (perhaps ancient tradition in Norway requires a big party when you win the lottery), before beginning to behave according to the optimal consumption function.  The patterns in Table 9 can be fit much better when this is set around \\$700 --> 0.7.  That doesn't seem like an unreasonable amount of money to spend on a memorable party.\n",
    "5. do_secant : Boolean indicator for whether to use \"secant MPC\", which is average MPC over the range of the prize.  MNW believes authors' regressions are estimating this rather than point MPC.  When False, structural estimation uses point MPC after receiving prize.  NB: This is incompatible with Splurge > 0.\n",
    "6. drop_corner : Boolean for whether to include target MPC in the top left corner, which is greater than 1.  Authors discuss reasons why the MPC from a transitory shock *could* exceed 1.  Option is included here because this target tends to push the estimate around a bit."
   ]
  },
  {
   "cell_type": "code",
   "execution_count": 1,
   "metadata": {
    "code_folding": []
   },
   "outputs": [],
   "source": [
    "# Import python tools\n",
    "\n",
    "import sys\n",
    "import os\n",
    "\n",
    "import numpy as np\n",
    "from copy import deepcopy"
   ]
  },
  {
   "cell_type": "code",
   "execution_count": 2,
   "metadata": {
    "code_folding": []
   },
   "outputs": [],
   "source": [
    "# Import needed tools from HARK\n",
    "\n",
    "from HARK.utilities import approxUniform, getPercentiles\n",
    "from HARK.parallel import multiThreadCommands\n",
    "from HARK.estimation import minimizeNelderMead\n",
    "from HARK.ConsumptionSaving.ConsIndShockModel import *\n",
    "from HARK.cstwMPC.SetupParamsCSTW import init_infinite"
   ]
  },
  {
   "cell_type": "code",
   "execution_count": 3,
   "metadata": {
    "code_folding": []
   },
   "outputs": [],
   "source": [
    "# Set key problem-specific parameters\n",
    "\n",
    "TypeCount = 8    # Number of consumer types with heterogeneous discount factors\n",
    "AdjFactor = 1.0  # Factor by which to scale all of MPCs in Table 9\n",
    "T_kill = 100     # Don't let agents live past this age\n",
    "Splurge = 0.7    # Consumers automatically spend this amount of any lottery prize\n",
    "do_secant = True # If True, calculate MPC by secant, else point MPC\n",
    "drop_corner = False # If True, ignore upper left corner when calculating distance"
   ]
  },
  {
   "cell_type": "code",
   "execution_count": 4,
   "metadata": {
    "code_folding": []
   },
   "outputs": [],
   "source": [
    "# Set standard HARK parameter values\n",
    "\n",
    "base_params = deepcopy(init_infinite)\n",
    "base_params['LivPrb'] = [0.975]\n",
    "base_params['Rfree'] = 1.04/base_params['LivPrb'][0]\n",
    "base_params['PermShkStd'] = [0.1]\n",
    "base_params['TranShkStd'] = [0.1]\n",
    "base_params['T_age'] = T_kill # Kill off agents if they manage to achieve T_kill working years\n",
    "base_params['AgentCount'] = 10000\n",
    "base_params['pLvlInitMean'] = np.log(23.72) # From Table 1, in thousands of USD\n",
    "base_params['T_sim'] = T_kill  # No point simulating past when agents would be killed off"
   ]
  },
  {
   "cell_type": "code",
   "execution_count": 5,
   "metadata": {
    "code_folding": []
   },
   "outputs": [],
   "source": [
    "# Define the MPC targets from Fagereng et al Table 9; element i,j is lottery quartile i, deposit quartile j\n",
    "\n",
    "MPC_target_base = np.array([[1.047, 0.745, 0.720, 0.490],\n",
    "                            [0.762, 0.640, 0.559, 0.437],\n",
    "                            [0.663, 0.546, 0.390, 0.386],\n",
    "                            [0.354, 0.325, 0.242, 0.216]])\n",
    "MPC_target = AdjFactor*MPC_target_base"
   ]
  },
  {
   "cell_type": "code",
   "execution_count": 6,
   "metadata": {
    "code_folding": []
   },
   "outputs": [],
   "source": [
    "# Define the four lottery sizes, in thousands of USD; these are eyeballed centers/averages\n",
    "\n",
    "lottery_size = np.array([1.625, 3.3741, 7.129, 40.0])"
   ]
  },
  {
   "cell_type": "code",
   "execution_count": 7,
   "metadata": {
    "code_folding": [],
    "lines_to_next_cell": 1
   },
   "outputs": [],
   "source": [
    "# Make several consumer types to be used during estimation\n",
    "\n",
    "BaseType = IndShockConsumerType(**base_params)\n",
    "EstTypeList = []\n",
    "for j in range(TypeCount):\n",
    "    EstTypeList.append(deepcopy(BaseType))\n",
    "    EstTypeList[-1](seed = j)"
   ]
  },
  {
   "cell_type": "code",
   "execution_count": 8,
   "metadata": {
    "code_folding": []
   },
   "outputs": [],
   "source": [
    "# Define the objective function\n",
    "\n",
    "def FagerengObjFunc(center,spread,verbose=False):\n",
    "    '''\n",
    "    Objective function for the quick and dirty structural estimation to fit\n",
    "    Fagereng, Holm, and Natvik's Table 9 results with a basic infinite horizon\n",
    "    consumption-saving model (with permanent and transitory income shocks).\n",
    "\n",
    "    Parameters\n",
    "    ----------\n",
    "    center : float\n",
    "        Center of the uniform distribution of discount factors.\n",
    "    spread : float\n",
    "        Width of the uniform distribution of discount factors.\n",
    "    verbose : bool\n",
    "        When True, print to screen MPC table for these parameters.  When False,\n",
    "        print (center, spread, distance).\n",
    "\n",
    "    Returns\n",
    "    -------\n",
    "    distance : float\n",
    "        Euclidean distance between simulated MPCs and (adjusted) Table 9 MPCs.\n",
    "    '''\n",
    "    # Give our consumer types the requested discount factor distribution\n",
    "    beta_set = approxUniform(N=TypeCount,bot=center-spread,top=center+spread)[1]\n",
    "    for j in range(TypeCount):\n",
    "        EstTypeList[j](DiscFac = beta_set[j])\n",
    "\n",
    "    # Solve and simulate all consumer types, then gather their wealth levels\n",
    "    multiThreadCommands(EstTypeList,['solve()','initializeSim()','simulate()','unpackcFunc()'])\n",
    "    WealthNow = np.concatenate([ThisType.aLvlNow for ThisType in EstTypeList])\n",
    "\n",
    "    # Get wealth quartile cutoffs and distribute them to each consumer type\n",
    "    quartile_cuts = getPercentiles(WealthNow,percentiles=[0.25,0.50,0.75])\n",
    "    for ThisType in EstTypeList:\n",
    "        WealthQ = np.zeros(ThisType.AgentCount,dtype=int)\n",
    "        for n in range(3):\n",
    "            WealthQ[ThisType.aLvlNow > quartile_cuts[n]] += 1\n",
    "        ThisType(WealthQ = WealthQ)\n",
    "\n",
    "    # Keep track of MPC sets in lists of lists of arrays\n",
    "    MPC_set_list = [ [[],[],[],[]],\n",
    "                     [[],[],[],[]],\n",
    "                     [[],[],[],[]],\n",
    "                     [[],[],[],[]] ]\n",
    "\n",
    "    # Calculate the MPC for each of the four lottery sizes for all agents\n",
    "    for ThisType in EstTypeList:\n",
    "        ThisType.simulate(1)\n",
    "        c_base = ThisType.cNrmNow\n",
    "        MPC_this_type = np.zeros((ThisType.AgentCount,4))\n",
    "        for k in range(4): # Get MPC for all agents of this type\n",
    "            Llvl = lottery_size[k]\n",
    "            Lnrm = Llvl/ThisType.pLvlNow\n",
    "            if do_secant:\n",
    "                SplurgeNrm = Splurge/ThisType.pLvlNow\n",
    "                mAdj = ThisType.mNrmNow + Lnrm - SplurgeNrm\n",
    "                cAdj = ThisType.cFunc[0](mAdj) + SplurgeNrm\n",
    "                MPC_this_type[:,k] = (cAdj - c_base)/Lnrm\n",
    "            else:\n",
    "                mAdj = ThisType.mNrmNow + Lnrm\n",
    "                MPC_this_type[:,k] = cAdj = ThisType.cFunc[0].derivative(mAdj)\n",
    "\n",
    "        # Sort the MPCs into the proper MPC sets\n",
    "        for q in range(4):\n",
    "            these = ThisType.WealthQ == q\n",
    "            for k in range(4):\n",
    "                MPC_set_list[k][q].append(MPC_this_type[these,k])\n",
    "\n",
    "    # Calculate average within each MPC set\n",
    "    simulated_MPC_means = np.zeros((4,4))\n",
    "    for k in range(4):\n",
    "        for q in range(4):\n",
    "            MPC_array = np.concatenate(MPC_set_list[k][q])\n",
    "            simulated_MPC_means[k,q] = np.mean(MPC_array)\n",
    "\n",
    "    # Calculate Euclidean distance between simulated MPC averages and Table 9 targets\n",
    "    diff = simulated_MPC_means - MPC_target\n",
    "    if drop_corner:\n",
    "        diff[0,0] = 0.0\n",
    "    distance = np.sqrt(np.sum((diff)**2))\n",
    "    if verbose:\n",
    "        print(simulated_MPC_means)\n",
    "    else:\n",
    "        print (center, spread, distance)\n",
    "    return distance"
   ]
  },
  {
   "cell_type": "code",
   "execution_count": 9,
   "metadata": {
    "code_folding": []
   },
   "outputs": [
    {
     "name": "stdout",
     "output_type": "stream",
     "text": [
      "0.78981881 0.16098057 0.5289142048936715\n",
      "0.8293097505 0.16098057 0.39842984747475435\n",
      "0.78981881 0.1690295985 0.519897503335626\n",
      "0.8293097505000001 0.1690295985 0.4047067129003057\n",
      "0.868800691 0.16098057 0.45693525591570083\n",
      "0.84905522075 0.162992827125 0.4117540530692909\n",
      "0.80956428025 0.167017341375 0.4417065409648033\n",
      "0.839182485625 0.1639989556875 0.39789076494320036\n",
      "0.839182485625 0.1559499271875 0.386504859100039\n",
      "0.8441188531874999 0.14941009153125 0.37940279758722306\n",
      "0.8539915883125 0.15242847721875002 0.39786355812328267\n",
      "0.8589279558749999 0.13783961306250003 0.38192504796796584\n",
      "0.8490552207499997 0.13482122737500002 0.3687889846447872\n",
      "0.8465870369687498 0.126017602453125 0.36822679234297523\n",
      "0.8317779342812498 0.13758808092187497 0.3880883342775891\n",
      "0.8521404504765624 0.13777673002734375 0.37240003938776434\n",
      "0.8546086342578123 0.11438424094921873 0.36392176097541\n",
      "0.8598535247929684 0.09687131565820306 0.37831956545919454\n",
      "0.8490552207499997 0.10262511337499997 0.3927811536105689\n",
      "0.8513691430449217 0.1289888258642578 0.3660469503516704\n",
      "0.8593907403339842 0.11735546436035155 0.3637611935623477\n",
      "0.8657925920166014 0.1130243953139648 0.3675381959647884\n",
      "0.8626302315468748 0.10275087944531247 0.3666608038527274\n",
      "0.85418441517041 0.12242933925952147 0.363872721178737\n",
      "0.858966521246582 0.1254005626706543 0.36720100115453663\n",
      "0.8556981060050047 0.11713832137957762 0.36317220835904973\n",
      "0.8609044311685788 0.11206444648040771 0.3637253926334046\n",
      "0.8572117968395994 0.11184730349963379 0.363632056792349\n",
      "0.8520054716760254 0.11692117839880371 0.36468674972049886\n",
      "0.8586796912954404 0.11327862946000672 0.36329305834516984\n",
      "0.8571660004608457 0.11856964733995057 0.36324630298146615\n",
      "0.8541844151704101 0.12242933925952149 0.36387272117873687\n",
      "0.8575558722641828 0.11556630690988541 0.3628616180373392\n",
      "0.8560879778083419 0.11413498094951247 0.3634837059883238\n",
      "0.8568964947977198 0.11746098074234104 0.36293122654863297\n",
      "0.858754261056898 0.11588896627264884 0.3629374406192379\n",
      "0.8579902222939249 0.11620130504938103 0.36288181080800974\n",
      "0.858649599760388 0.11430663121692539 0.36315849681252826\n",
      "0.8573347710383868 0.11667239336098713 0.36289924555419345\n",
      "0.858211323519721 0.1150952185982793 0.3630066265566672\n",
      "0.8575539091587203 0.11627809967031016 0.36292552297672215\n",
      "0.8577730472790539 0.11588380597963321 0.36294183122442314\n",
      "0.8574453216512848 0.11611935013543627 0.3629670134350041\n",
      "0.8578835978919518 0.11533076275408234 0.36294431546861733\n",
      "0.857774028831785 0.11552790959942083 0.36288850109457094\n",
      "0.8575568538169138 0.11521041052967301 0.36303143032229307\n",
      "0.8577189989135189 0.11571545711714316 0.3628942316584399\n",
      "0.8576109021824488 0.11537875939216306 0.3629940980607689\n",
      "0.8576919747307514 0.11563128268589815 0.3628997841107059\n",
      "0.8576649505479839 0.11554710825465311 0.36288998709381276\n",
      "0.8576374355888509 0.11564088201351429 0.3628679634505405\n",
      "0.8575283573050498 0.11566008066874658 0.3628834157954364\n",
      "0.8575625056157833 0.1156318375652232 0.36285420328376083\n",
      "Optimization terminated successfully.\n",
      "         Current function value: 0.362854\n",
      "         Iterations: 27\n",
      "         Function evaluations: 53\n",
      "Time to estimate is 202.67708253860474 seconds.\n",
      "Finished estimating for scaling factor of 1.0 and \"splurge amount\" of $700.0\n",
      "Optimal (beta,nabla) is [0.85756251 0.11563184], simulated MPCs are:\n",
      "[[0.78058645 0.74852543 0.69758672 0.57062401]\n",
      " [0.68077668 0.64027802 0.57082729 0.39800477]\n",
      " [0.60892177 0.5696061  0.4929874  0.30577941]\n",
      " [0.43708697 0.40971915 0.34376774 0.19471014]]\n",
      "Distance from Fagereng et al Table 9 is 0.36285420328376083\n"
     ]
    }
   ],
   "source": [
    "# Conduct the estimation\n",
    "\n",
    "guess = [0.92,0.03]\n",
    "guess = [0.78981881,0.16098057]\n",
    "f_temp = lambda x : FagerengObjFunc(x[0],x[1])\n",
    "opt_params = minimizeNelderMead(f_temp, guess, verbose=True)\n",
    "print('Finished estimating for scaling factor of ' + str(AdjFactor) + ' and \"splurge amount\" of $' + str(1000*Splurge))\n",
    "print('Optimal (beta,nabla) is ' + str(opt_params) + ', simulated MPCs are:')\n",
    "dist = FagerengObjFunc(opt_params[0],opt_params[1],True)\n",
    "print('Distance from Fagereng et al Table 9 is ' + str(dist))"
   ]
  },
  {
   "cell_type": "markdown",
   "metadata": {},
   "source": [
    "### PROBLEM\n",
    "\n",
    "See what happens if you do not allow a splurge amount at all.  Hint: Think about how this question relates to the `drop_corner` option.\n",
    "\n",
    "Explain why you get the results you do, and comment on possible interpretations of the \"splurge\" that might be consistent with economic theory.    \n",
    "Hint: What the authors are able to measure is actually the marginal propensity to EXPEND, not the marginal propensity to CONSUME as it is defined in our benchmark model."
   ]
  },
  {
   "cell_type": "code",
   "execution_count": null,
   "metadata": {},
   "outputs": [],
   "source": []
  },
  {
   "cell_type": "markdown",
   "metadata": {},
   "source": [
    "### PROBLEM\n",
    "\n",
    "Call the _Marginal Propensity to Continue Consuming_ (MPCC) in year `t+n` the proportion of lottery winnings that get spent in year `t+n`.  That is, if consumption is higher in year `t+2` by an amount corresponding to 14 percent of lottery winnings, we would say  _the MPCC in t+2 is 14 percent.\n",
    "\n",
    "For the baseline version of the model with the \"splurge\" component, calculate the MPCC's for years `t+1` through `t+3` and plot them together with the MPC in the first year (including the splurge component)\n"
   ]
  },
  {
   "cell_type": "code",
   "execution_count": 13,
   "metadata": {},
   "outputs": [
    {
     "name": "stdout",
     "output_type": "stream",
     "text": [
      "The MPC for t+0 is \n",
      " [[0.77845132 0.74657034 0.6940777  0.56017388]\n",
      " [0.50753478 0.47805917 0.42471678 0.28831915]\n",
      " [0.30131789 0.28292907 0.24415916 0.14622008]\n",
      " [0.10733091 0.1014214  0.08528892 0.04744846]]\n",
      "\n",
      "\n",
      "The MPC for t+1 is \n",
      " [[0.15361672 0.1736394  0.20606077 0.26237937]\n",
      " [0.15457496 0.16409941 0.17320972 0.1579927 ]\n",
      " [0.11933193 0.12226312 0.12182224 0.09201281]\n",
      " [0.06696274 0.06591315 0.05982274 0.0378463 ]]\n",
      "\n",
      "\n",
      "The MPC for t+2 is \n",
      " [[0.08326682 0.10988962 0.17020442 0.34612699]\n",
      " [0.07387294 0.08945405 0.11888358 0.1733635 ]\n",
      " [0.05714139 0.06488917 0.07836067 0.08768752]\n",
      " [0.04108575 0.04227787 0.04285041 0.03312343]]\n",
      "\n",
      "\n",
      "The MPC for t+3 is \n",
      " [[0.05575813 0.07802466 0.15037965 0.4373718 ]\n",
      " [0.04020037 0.05328451 0.0887303  0.19601707]\n",
      " [0.02901662 0.03601671 0.05321019 0.08815205]\n",
      " [0.02409451 0.02610318 0.03025777 0.02947679]]\n"
     ]
    }
   ],
   "source": [
    "BaseType = IndShockConsumerType(**base_params)\n",
    "EstTypeList = []\n",
    "for j in range(TypeCount):\n",
    "    EstTypeList.append(deepcopy(BaseType))\n",
    "    EstTypeList[-1](seed = j)\n",
    "\n",
    "center = 0.85756251 \n",
    "spread = 0.11563184\n",
    "\n",
    "# Give our consumer types the requested discount factor distribution\n",
    "beta_set = approxUniform(N=TypeCount,bot=center-spread,top=center+spread)[1]\n",
    "for j in range(TypeCount):\n",
    "    EstTypeList[j](DiscFac = beta_set[j])\n",
    "    EstTypeList[j].track_vars = ['aNrmNow','mNrmNow','cNrmNow','pLvlNow','PermShkNow','TranShkNow']\n",
    "\n",
    "# Solve and simulate all consumer types, then gather their wealth levels\n",
    "multiThreadCommands(EstTypeList,['solve()','initializeSim()','simulate(95)','unpackcFunc()'])\n",
    "WealthNow = np.concatenate([ThisType.aLvlNow for ThisType in EstTypeList])\n",
    "\n",
    "# Get wealth quartile cutoffs and distribute them to each consumer type\n",
    "quartile_cuts = getPercentiles(WealthNow,percentiles=[0.25,0.50,0.75])\n",
    "for ThisType in EstTypeList:\n",
    "    WealthQ = np.zeros(ThisType.AgentCount,dtype=int)\n",
    "    for n in range(3):\n",
    "        WealthQ[ThisType.aLvlNow > quartile_cuts[n]] += 1\n",
    "    ThisType(WealthQ = WealthQ)\n",
    "\n",
    "# Keep track of MPC sets in lists of lists of arrays\n",
    "MPC_set_list = [ [[],[],[],[]],\n",
    "                 [[],[],[],[]],\n",
    "                 [[],[],[],[]],\n",
    "                 [[],[],[],[]] ]\n",
    "MPC_set_list_t1 = deepcopy(MPC_set_list)\n",
    "MPC_set_list_t2 = deepcopy(MPC_set_list)\n",
    "MPC_set_list_t3 = deepcopy(MPC_set_list)\n",
    "    \n",
    "# Calculate the MPC for each of the four lottery sizes for all agents\n",
    "Rfree=base_params['Rfree']\n",
    "for ThisType in EstTypeList:\n",
    "    \n",
    "    MPC_this_type = np.zeros((ThisType.AgentCount,4))\n",
    "    MPC_this_type_t1 = np.zeros((ThisType.AgentCount,4))\n",
    "    MPC_this_type_t2 = np.zeros((ThisType.AgentCount,4))\n",
    "    MPC_this_type_t3 = np.zeros((ThisType.AgentCount,4))\n",
    "    \n",
    "    ThisType.simulate(4)\n",
    "    StartPeriod=95\n",
    "    c_base_0 = ThisType.cNrmNow_hist[StartPeriod]\n",
    "    c_base_t1 = ThisType.cNrmNow_hist[StartPeriod+1]\n",
    "    c_base_t2 = ThisType.cNrmNow_hist[StartPeriod+2]\n",
    "    c_base_t3 = ThisType.cNrmNow_hist[StartPeriod+3]\n",
    "    \n",
    "    for k in range(4): # Get MPC for all agents of this type\n",
    "        Llvl = lottery_size[k]\n",
    "        Lnrm = Llvl/ThisType.pLvlNow_hist[StartPeriod]     \n",
    "        SplurgeNrm = Splurge/ThisType.pLvlNow_hist[StartPeriod]\n",
    "        mAdj = ThisType.mNrmNow_hist[StartPeriod] + Lnrm - SplurgeNrm\n",
    "        cAdj = ThisType.cFunc[0](mAdj) + SplurgeNrm\n",
    "        MPC_this_type[:,k] = (cAdj - c_base_0) /Lnrm\n",
    "        \n",
    "        # Calculate normalized market resources in t+1 (varnames t1)\n",
    "        aNrm_t0 = ThisType.mNrmNow_hist[StartPeriod] + Lnrm - cAdj\n",
    "        aLvl_t0 = aNrm_t0*ThisType.pLvlNow_hist[StartPeriod]\n",
    "        mLvl_t1 = aLvl_t0*Rfree + ThisType.TranShkNow_hist[StartPeriod+1]*ThisType.pLvlNow_hist[StartPeriod+1]\n",
    "        mNrm_t1 = mLvl_t1/ThisType.pLvlNow_hist[StartPeriod+1]\n",
    "        cNrm_t1 = ThisType.cFunc[0](mNrm_t1)\n",
    "        MPC_this_type_t1[:,k] = (cNrm_t1 - c_base_t1) /Lnrm\n",
    "        \n",
    "        # Calculate normalized market resources in t+2 (varnames t1)\n",
    "        aNrm_t1 = mNrm_t1 - cNrm_t1;\n",
    "        aLvl_t1 = aNrm_t1*ThisType.pLvlNow_hist[StartPeriod+1]\n",
    "        mLvl_t2 = aLvl_t1*Rfree + ThisType.TranShkNow_hist[StartPeriod+2]*ThisType.pLvlNow_hist[StartPeriod+2]\n",
    "        mNrm_t2 = mLvl_t2/ThisType.pLvlNow_hist[StartPeriod+2]\n",
    "        cNrm_t2 = ThisType.cFunc[0](mNrm_t2)\n",
    "        MPC_this_type_t2[:,k] = (cNrm_t2 - c_base_t2) /Lnrm\n",
    "        \n",
    "        # Calculate normalized market resources in t+3 (varnames t1)\n",
    "        aNrm_t2 = mNrm_t2 - cNrm_t2;\n",
    "        aLvl_t2 = aNrm_t2*ThisType.pLvlNow_hist[StartPeriod+2]\n",
    "        mLvl_t3 = aLvl_t2*Rfree + ThisType.TranShkNow_hist[StartPeriod+3]*ThisType.pLvlNow_hist[StartPeriod+3]\n",
    "        mNrm_t3 = mLvl_t3/ThisType.pLvlNow_hist[StartPeriod+3]\n",
    "        cNrm_t3 = ThisType.cFunc[0](mNrm_t3)\n",
    "        MPC_this_type_t3[:,k] = (cNrm_t3 - c_base_t3) /Lnrm\n",
    "        \n",
    "        # Sort the MPCs into the proper MPC sets\n",
    "        for q in range(4):\n",
    "            these = ThisType.WealthQ == q\n",
    "            for k in range(4):\n",
    "                MPC_set_list[k][q].append(MPC_this_type[these,k])\n",
    "                MPC_set_list_t1[k][q].append(MPC_this_type_t1[these,k])\n",
    "                MPC_set_list_t2[k][q].append(MPC_this_type_t2[these,k])\n",
    "                MPC_set_list_t3[k][q].append(MPC_this_type_t3[these,k])\n",
    "                \n",
    "# Calculate average within each MPC set\n",
    "simulated_MPC_means = np.zeros((4,4))\n",
    "simulated_MPC_means_t1 = np.zeros((4,4))\n",
    "simulated_MPC_means_t2 = np.zeros((4,4))\n",
    "simulated_MPC_means_t3 = np.zeros((4,4))\n",
    "for k in range(4):\n",
    "    for q in range(4):\n",
    "        simulated_MPC_means[k,q] = np.mean(np.concatenate(MPC_set_list[k][q]))\n",
    "        simulated_MPC_means_t1[k,q] = np.mean(np.concatenate(MPC_set_list_t1[k][q]))\n",
    "        simulated_MPC_means_t2[k,q] = np.mean(np.concatenate(MPC_set_list_t2[k][q]))\n",
    "        simulated_MPC_means_t3[k,q] = np.mean(np.concatenate(MPC_set_list_t3[k][q]))\n",
    "        \n",
    "        \n",
    "print('The MPC for t+0 is \\n', simulated_MPC_means)\n",
    "print('\\n')\n",
    "print('The MPC for t+1 is \\n', simulated_MPC_means_t1)\n",
    "print('\\n')\n",
    "print('The MPC for t+2 is \\n', simulated_MPC_means_t2)\n",
    "print('\\n')\n",
    "print('The MPC for t+3 is \\n', simulated_MPC_means_t3)"
   ]
  },
  {
   "cell_type": "code",
   "execution_count": null,
   "metadata": {},
   "outputs": [],
   "source": []
  }
 ],
 "metadata": {
  "cite2c": {
   "citations": {
    "6202365/SUE56C4B": {
     "author": [
      {
       "family": "Fagereng",
       "given": "Andreas"
      },
      {
       "family": "Holm",
       "given": "Martin B."
      },
      {
       "family": "Natvik",
       "given": "Gisle J."
      }
     ],
     "genre": "discussion paper",
     "id": "6202365/SUE56C4B",
     "issued": {
      "year": 2017
     },
     "publisher": "Statistics Norway",
     "title": "MPC Heterogeneity and Household Balance Sheets",
     "type": "report"
    }
   }
  },
  "jupytext": {
   "cell_metadata_filter": "collapsed,code_folding",
   "formats": "ipynb,py:percent"
  },
  "kernelspec": {
   "display_name": "Python 3",
   "language": "python",
   "name": "python3"
  },
  "language_info": {
   "codemirror_mode": {
    "name": "ipython",
    "version": 3
   },
   "file_extension": ".py",
   "mimetype": "text/x-python",
   "name": "python",
   "nbconvert_exporter": "python",
   "pygments_lexer": "ipython3",
   "version": "3.7.4"
  },
  "toc": {
   "base_numbering": 1,
   "nav_menu": {},
   "number_sections": true,
   "sideBar": true,
   "skip_h1_title": false,
   "title_cell": "Table of Contents",
   "title_sidebar": "Contents",
   "toc_cell": false,
   "toc_position": {},
   "toc_section_display": true,
   "toc_window_display": false
  },
  "varInspector": {
   "cols": {
    "lenName": 16,
    "lenType": 16,
    "lenVar": 40
   },
   "kernels_config": {
    "python": {
     "delete_cmd_postfix": "",
     "delete_cmd_prefix": "del ",
     "library": "var_list.py",
     "varRefreshCmd": "print(var_dic_list())"
    },
    "r": {
     "delete_cmd_postfix": ") ",
     "delete_cmd_prefix": "rm(",
     "library": "var_list.r",
     "varRefreshCmd": "cat(var_dic_list()) "
    }
   },
   "types_to_exclude": [
    "module",
    "function",
    "builtin_function_or_method",
    "instance",
    "_Feature"
   ],
   "window_display": false
  }
 },
 "nbformat": 4,
 "nbformat_minor": 4
}
