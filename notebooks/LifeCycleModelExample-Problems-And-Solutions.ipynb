{
 "cells": [
  {
   "cell_type": "markdown",
   "metadata": {},
   "source": [
    "\n",
    "# A Life Cycle Model: Data and Theory\n",
    "\n",
    "National registry data on income and wealth from Scandinavian countries (esp. Norway) have recently become available (with a lot of security) to some (lucky!) researchers.   These data offer a uniquely powerful tool for testing (and improving) our models of consumption and saving behavior over the life cycle.\n",
    "\n",
    "This notebook is an example of how to construct a life cycle model with the HARK toolkit that makes predictions that can be compared to the raw data statistics that now are becoming available.\n",
    "\n",
    "For example, existing papers have tabulated information about the **growth rate** of assets at different ages over the life cycle. \n",
    "\n",
    "The default parameters of the HARK life cycle model have not been optmized to match features of the Norwegian data; a first step in a real \"structural\" estimation would be to use Norwegian calibrate the inputs to the model (like the profile of income, and the magnitude of income shocks, over the life cycle), and then to find the values of parameters like the time preference rate that allow the model to fit the data best.  (See [SolvingMicroDSOPs](https://econ.jhu.edu/people/ccarroll/SolvingMicroDSOPs) for how this can be done, and search for the corresponding HARK content using [our documentation](https://hark.readthedocs.io))."
   ]
  },
  {
   "cell_type": "code",
   "execution_count": 1,
   "metadata": {
    "code_folding": [
     0
    ],
    "lines_to_next_cell": 2
   },
   "outputs": [
    {
     "name": "stdout",
     "output_type": "stream",
     "text": [
      "***NOTE: using a 'quick fix' for an attribute error. See 'Error Notes' in EstimationParameter.py for further discussion.***\n"
     ]
    }
   ],
   "source": [
    "# Initial imports and notebook setup, click arrow to show\n",
    "\n",
    "import HARK.ConsumptionSaving.ConsIndShockModel as cShksModl        # The consumption-saving micro model\n",
    "import HARK.SolvingMicroDSOPs.Calibration.EstimationParameters as Params    # Parameters for the consumer type and the estimation\n",
    "from HARK.utilities import plotFuncsDer, plotFuncs              # Some tools\n",
    "\n",
    "import numpy as np"
   ]
  },
  {
   "cell_type": "code",
   "execution_count": 2,
   "metadata": {
    "code_folding": [
     0
    ],
    "lines_to_next_cell": 2
   },
   "outputs": [],
   "source": [
    "# Set up default values for CRRA, DiscFac, and simulation variables in the dictionary \n",
    "Params.init_consumer_objects[\"CRRA\"]= 2.00            # Default coefficient of relative risk aversion (rho)\n",
    "Params.init_consumer_objects[\"DiscFac\"]= 0.97         # Default intertemporal discount factor (beta)\n",
    "Params.init_consumer_objects[\"PermGroFacAgg\"]= 1.0    # Aggregate permanent income growth factor \n",
    "Params.init_consumer_objects[\"aNrmInitMean\"]= -10.0   # Mean of log initial assets \n",
    "Params.init_consumer_objects[\"aNrmInitStd\"]= 1.0      # Standard deviation of log initial assets\n",
    "Params.init_consumer_objects[\"pLvlInitMean\"]= 0.0     # Mean of log initial permanent income \n",
    "Params.init_consumer_objects[\"pLvlInitStd\"]= 0.0      # Standard deviation of log initial permanent income"
   ]
  },
  {
   "cell_type": "code",
   "execution_count": 3,
   "metadata": {
    "lines_to_next_cell": 2
   },
   "outputs": [],
   "source": [
    "# Make an instance of a lifecycle consumer to be used for estimation\n",
    "LifeCyclePop = cShksModl.IndShockConsumerType(**Params.init_consumer_objects)"
   ]
  },
  {
   "cell_type": "code",
   "execution_count": 4,
   "metadata": {
    "code_folding": [
     0
    ],
    "lines_to_next_cell": 2
   },
   "outputs": [
    {
     "name": "stderr",
     "output_type": "stream",
     "text": [
      "/Volumes/Data/Code/ARK/HARKive/HARK/HARK/interpolation.py:1710: RuntimeWarning: All-NaN slice encountered\n",
      "  y = np.nanmin(fx,axis=1)\n"
     ]
    }
   ],
   "source": [
    "# Solve and simulate the model (ignore the \"warning\" message)\n",
    "LifeCyclePop.solve()                            # Obtain consumption rules by age \n",
    "LifeCyclePop.unpackcFunc()                      # Expose the consumption rules\n",
    "\n",
    "# Which variables do we want to track\n",
    "LifeCyclePop.track_vars = ['aNrmNow','pLvlNow','mNrmNow','cNrmNow','TranShkNow']\n",
    "\n",
    "LifeCyclePop.T_sim = 120                        # Nobody lives to be older than 145 years (=25+120)\n",
    "LifeCyclePop.initializeSim()                    # Construct the age-25 distribution of income and assets\n",
    "LifeCyclePop.simulate()                         # Simulate a population behaving according to this model"
   ]
  },
  {
   "cell_type": "code",
   "execution_count": 5,
   "metadata": {
    "code_folding": [
     0
    ]
   },
   "outputs": [
    {
     "name": "stdout",
     "output_type": "stream",
     "text": [
      "Consumption as a function of market resources while working:\n"
     ]
    },
    {
     "data": {
      "text/plain": [
       "<Figure size 640x480 with 1 Axes>"
      ]
     },
     "metadata": {},
     "output_type": "display_data"
    }
   ],
   "source": [
    "# Plot the consumption functions during working life\n",
    "\n",
    "print('Consumption as a function of market resources while working:')\n",
    "mMin = min([LifeCyclePop.solution[t].mNrmMin for t in range(LifeCyclePop.T_cycle)])\n",
    "plotFuncs(LifeCyclePop.cFunc[:LifeCyclePop.T_retire],mMin,5)"
   ]
  },
  {
   "cell_type": "code",
   "execution_count": 6,
   "metadata": {
    "code_folding": [
     0
    ]
   },
   "outputs": [],
   "source": [
    "# Define the saving rate function\n",
    "def savRteFunc(SomeType, m):\n",
    "    \"\"\"\n",
    "    Parameters:\n",
    "    ----------\n",
    "        SomeType: \n",
    "             Agent type that has been solved and simulated.\n",
    "        \n",
    "        \n",
    "    Returns:\n",
    "    --------\n",
    "        savRte: float\n",
    "    \n",
    "    \"\"\"\n",
    "    inc = (SomeType.Rfree -1.)*(m-1.)+1. # Normalized by permanent labor income\n",
    "    cns = SomeType.solution[0].cFunc(m)  # Consumption (normalized)\n",
    "    sav = inc - cns                      # Flow of saving this period\n",
    "    savRte = sav / inc                   # Saving Rate\n",
    "    return savRte  "
   ]
  },
  {
   "cell_type": "code",
   "execution_count": 7,
   "metadata": {
    "code_folding": []
   },
   "outputs": [],
   "source": [
    "# Create a giant matrix gathering useful data:\n",
    "# 't_now', 'aNrmNow_hist', 'cNrmNow_hist', employment-status in date t and date t-1,\n",
    "# aLvlGro_hist, Saving rate\n",
    "\n",
    "w, h = 1, LifeCyclePop.T_cycle\n",
    "giant_list = [[0 for x in range(w)] for y in range(h)]\n",
    "savRte_list = []\n",
    "\n",
    "import warnings\n",
    "warnings.filterwarnings(\"ignore\") # Suppress some disturbing but harmless warnings\n",
    "\n",
    "for t in range(1,LifeCyclePop.T_cycle+1):\n",
    "    #aLvlGro_hist[0] = 0 # set the first growth rate to 0, since there is no data for period 0\n",
    "    aLvlGroNow = np.log((LifeCyclePop.aNrmNow_hist[t]   *LifeCyclePop.pLvlNow_hist[t])/ \\\n",
    "                         LifeCyclePop.aNrmNow_hist[t-1] *LifeCyclePop.pLvlNow_hist[t-1]) # (10000,)\n",
    "\n",
    "    # Call the saving rate function defined above \n",
    "    savRte = savRteFunc(LifeCyclePop, LifeCyclePop.mNrmNow_hist[t] )\n",
    "      \n",
    "    savRte_list.append(savRte) # Add this period's saving rate to the list \n",
    "\n",
    "    # Create elements of matrix list\n",
    "    matrix_list = [0 for number in range(7)]\n",
    "    matrix_list[0] = t\n",
    "    matrix_list[1] = LifeCyclePop.aNrmNow_hist[t]\n",
    "    matrix_list[2] = LifeCyclePop.cNrmNow_hist[t]\n",
    "    matrix_list[3] = LifeCyclePop.TranShkNow_hist[t]\n",
    "    matrix_list[4] = LifeCyclePop.TranShkNow_hist[t-1]\n",
    "    matrix_list[5] = aLvlGroNow\n",
    "    matrix_list[6] = savRte\n",
    "    \n",
    "    giant_list[t-1] = matrix_list"
   ]
  },
  {
   "cell_type": "code",
   "execution_count": 8,
   "metadata": {
    "code_folding": [
     0
    ],
    "lines_to_next_cell": 2
   },
   "outputs": [],
   "source": [
    "# Construct the level of assets A from a*p where a is the ratio to permanent income p\n",
    "# Remember 41 is \"years after entering workforce\" (=age 25); 66 is the year right after retirement\n",
    "LifeCyclePop.aLvlNow_hist = LifeCyclePop.aNrmNow_hist*LifeCyclePop.pLvlNow_hist\n",
    "aGro41=LifeCyclePop.aLvlNow_hist[41]/LifeCyclePop.aLvlNow_hist[40]\n",
    "aGro41NoU=aGro41[aGro41[:]>0.2] # Throw out extreme outliers; don't want growth rates relative to 0 income!"
   ]
  },
  {
   "cell_type": "code",
   "execution_count": 9,
   "metadata": {
    "code_folding": [
     0
    ],
    "lines_to_next_cell": 2,
    "scrolled": true
   },
   "outputs": [
    {
     "data": {
      "image/png": "[encoded data removed]",
      "text/plain": [
       "<Figure size 432x288 with 1 Axes>"
      ]
     },
     "metadata": {
      "needs_background": "light"
     },
     "output_type": "display_data"
    }
   ],
   "source": [
    "# Plot the (truncated) distribution of growth rates of wealth between age 65 and 66 (=25 + 41)\n",
    "from matplotlib import pyplot as plt\n",
    "n, bins, patches = plt.hist(aGro41NoU,50,density=True)"
   ]
  },
  {
   "cell_type": "markdown",
   "metadata": {},
   "source": [
    "# PROBLEM : Distribution of aNrm and aLev\n",
    "\n",
    "Perhaps more interesting than the distribution of asset growth rates over the life cycle is the distribution of the level of assets, or the ratio of assets to permanent income.\n",
    "\n",
    "Construct a plot similar to the one above for the disributions of $\\texttt{aNrm}$ and $\\texttt{aLev}$ in the period just BEFORE retirement (44 periods from the start).\n"
   ]
  },
  {
   "cell_type": "code",
   "execution_count": 10,
   "metadata": {},
   "outputs": [],
   "source": [
    "# put your solution here"
   ]
  },
  {
   "cell_type": "markdown",
   "metadata": {},
   "source": [
    "# PROBLEM : \"Luck\" and Saving\n",
    "\n",
    "In this model, each consumer experiences a set of draws of permanent income shocks over their lifetime.  Some will be lucky and draw a mostly positive series of shocks (and unlucky people experience negative shocks).\n",
    "\n",
    "This problem asks you to examine the consequences of these shocks for the lifetime pattern of saving.\n",
    "\n",
    "The first step is to recalibrate the model so that there is no difference in initial assets, then reconstruct the initial conditions and simulate the model:"
   ]
  },
  {
   "cell_type": "code",
   "execution_count": 12,
   "metadata": {},
   "outputs": [],
   "source": [
    "# put your answer here"
   ]
  },
  {
   "cell_type": "markdown",
   "metadata": {},
   "source": [
    "# PROBLEM : \"Luck\" and Saving (cont)\n",
    "\n",
    "Now we are interested in comparing the people who were \"lucky\" vs those who were \"unlucky\"\n",
    "\n",
    "The easiest way to measure this is by the cumulated level of noncapital (labor) income they have experienced over their working life.\n",
    "\n",
    "For consumer in period 41 (age 66), calculate this object, then plot it against the $\\texttt{aNrm}$ ratio at age 66."
   ]
  },
  {
   "cell_type": "code",
   "execution_count": 13,
   "metadata": {},
   "outputs": [],
   "source": [
    "# put your answer here"
   ]
  },
  {
   "cell_type": "markdown",
   "metadata": {},
   "source": [
    "# PROBLEM : \"Luck\" and Saving (cont)\n",
    "\n",
    "You can have luck in transitory income shocks or in permanent income shocks.  Their consequences are quite different.  With a permanent shock, you expect your (noncapital) income to change forever, and (according to Friedman (1957)) you should adjust your consumption nearly one-for-one.  With a transitory shock, you expect your income to return to its \"permanent\" level so you do not consume. So if you get a positive transitory shock, you will mostly save it.\n",
    "\n",
    "The existence of transitory shocks therefore means that people who have on average experienced positive transitory shocks over their lifetimes should have higher saving rates.  That would bias the relationship between lifetime income and the $\\texttt{aNrm}$ ratio upward.\n",
    "\n",
    "To see how important this might be, redo the same exercise as before, but using the level of (noncapital) permanent income (rather than overall income including transitory and permanent) over the lifetime"
   ]
  },
  {
   "cell_type": "code",
   "execution_count": 15,
   "metadata": {},
   "outputs": [],
   "source": [
    "# put your solution here"
   ]
  },
  {
   "cell_type": "markdown",
   "metadata": {},
   "source": [
    "# PROBLEM : Saving Rates and Wealth Levels\n",
    "\n",
    "The Haig-Simons definition of \"saving\" is basically the amount by which your wealth changes from one period to the next. This definition includes the consequences of any capital gains (or losses) for your wealth.  \n",
    "\n",
    "In recent work, Faegering, Holm, Natvik, and Moll have proposed that instead households largely ignore the consequences of capital gains and losses.  That is, their consumption is largely unchanged by asset price movements.\n",
    "\n",
    "Specifically, they define \"active saving\" as the difference between income and consumption _neglecting_ any contriubutions from \"buy and hold\" assets like houses or stocks.  The \"active saving rate\" is the quantity of active saving divided by the level of income. They find that the \"active saving rate\" is remarkably stable over the range from roughly the 20th percentile to the 95th percentile of the wealth distribution.\n",
    "\n",
    "The basic model considered above does not allow for capital gains or losses, so it can be used to calculate directly the saving behavior of people who do not anticipate capital gains and losses.  So, the saving rate computed by the $\\texttt{savRte}$ function above should correspond to their \"active saving rate.\"\n",
    "\n",
    "Your problem is, for the entire population simulated above, to calculate what this predicts about the saving rate they measure.  You will do this by grouping the population into vigntile bins, and calculating the average active saving rate for all the households in each vigntile, and then plotting the wealth vigntiles against their saving rates.\n"
   ]
  },
  {
   "cell_type": "code",
   "execution_count": null,
   "metadata": {},
   "outputs": [],
   "source": [
    "# put your solution here"
   ]
  }
 ],
 "metadata": {
  "cite2c": {
   "citations": {
    "6202365/7MR8GUVS": {
     "DOI": "10.3982/QE694",
     "URL": "https://onlinelibrary.wiley.com/doi/abs/10.3982/QE694",
     "abstract": "In a model calibrated to match micro- and macroeconomic evidence on household income dynamics, we show that a modest degree of heterogeneity in household preferences or beliefs is sufficient to match empirical measures of wealth inequality in the United States. The heterogeneity-augmented model's predictions are consistent with microeconomic evidence that suggests that the annual marginal propensity to consume (MPC) is much larger than the roughly 0.04 implied by commonly used macroeconomic models (even ones including some heterogeneity). The high MPC arises because many consumers hold little wealth despite having a strong precautionary motive. Our model also plausibly predicts that the aggregate MPC can differ greatly depending on how the shock is distributed across households (depending, e.g., on their wealth, or employment status).",
     "accessed": {
      "day": 5,
      "month": 2,
      "year": 2019
     },
     "author": [
      {
       "family": "Carroll",
       "given": "Christopher"
      },
      {
       "family": "Slacalek",
       "given": "Jiri"
      },
      {
       "family": "Tokuoka",
       "given": "Kiichi"
      },
      {
       "family": "White",
       "given": "Matthew N."
      }
     ],
     "container-title": "Quantitative Economics",
     "id": "6202365/7MR8GUVS",
     "issue": "3",
     "issued": {
      "year": 2017
     },
     "language": "en",
     "note": "Citation Key: carrollDistributionWealthMarginal2017",
     "page": "977-1020",
     "page-first": "977",
     "title": "The distribution of wealth and the marginal propensity to consume",
     "type": "article-journal",
     "volume": "8"
    },
    "6202365/B9BGV9W3": {
     "URL": "http://www.nber.org/papers/w22822",
     "abstract": "We provide a systematic analysis of the properties of individual returns to wealth using twenty years of population data from Norway’s administrative tax records. We document a number of novel results. First, in a given cross-section, individuals earn markedly different returns on their assets, with a difference of 500 basis points between the 10th and the 90th percentile. Second, heterogeneity in returns does not arise merely from differences in the allocation of wealth between safe and risky assets: returns are heterogeneous even within asset classes. Third, returns are positively correlated with wealth. Fourth, returns have an individual permanent component that accounts for 60% of the explained variation. Fifth, for wealth below the 95th percentile, the individual permanent component accounts for the bulk of the correlation between returns and wealth; the correlation at the top reflects both compensation for risk and the correlation of wealth with the individual permanent component. Finally, the permanent component of the return to wealth is also (mildly) correlated across generations. We discuss the implications of these findings for several strands of the wealth inequality debate.",
     "accessed": {
      "day": 17,
      "month": 3,
      "year": 2019
     },
     "author": [
      {
       "family": "Fagereng",
       "given": "Andreas"
      },
      {
       "family": "Guiso",
       "given": "Luigi"
      },
      {
       "family": "Malacrino",
       "given": "Davide"
      },
      {
       "family": "Pistaferri",
       "given": "Luigi"
      }
     ],
     "genre": "Working Paper",
     "id": "6202365/B9BGV9W3",
     "issued": {
      "month": 11,
      "year": 2016
     },
     "note": "DOI: 10.3386/w22822",
     "number": "22822",
     "publisher": "National Bureau of Economic Research",
     "title": "Heterogeneity and Persistence in Returns to Wealth",
     "type": "report"
    }
   }
  },
  "jupytext": {
   "cell_metadata_filter": "collapsed,code_folding",
   "formats": "ipynb,py:percent"
  },
  "kernelspec": {
   "display_name": "Python 3",
   "language": "python",
   "name": "python3"
  },
  "language_info": {
   "codemirror_mode": {
    "name": "ipython",
    "version": 3
   },
   "file_extension": ".py",
   "mimetype": "text/x-python",
   "name": "python",
   "nbconvert_exporter": "python",
   "pygments_lexer": "ipython3",
   "version": "3.6.9"
  },
  "latex_envs": {
   "LaTeX_envs_menu_present": true,
   "autoclose": false,
   "autocomplete": false,
   "bibliofile": "biblio.bib",
   "cite_by": "apalike",
   "current_citInitial": 1,
   "eqLabelWithNumbers": true,
   "eqNumInitial": 1,
   "hotkeys": {
    "equation": "Ctrl-E",
    "itemize": "Ctrl-I"
   },
   "labels_anchors": false,
   "latex_user_defs": false,
   "report_style_numbering": false,
   "user_envs_cfg": false
  },
  "varInspector": {
   "cols": {
    "lenName": 16,
    "lenType": 16,
    "lenVar": 40
   },
   "kernels_config": {
    "python": {
     "delete_cmd_postfix": "",
     "delete_cmd_prefix": "del ",
     "library": "var_list.py",
     "varRefreshCmd": "print(var_dic_list())"
    },
    "r": {
     "delete_cmd_postfix": ") ",
     "delete_cmd_prefix": "rm(",
     "library": "var_list.r",
     "varRefreshCmd": "cat(var_dic_list()) "
    }
   },
   "types_to_exclude": [
    "module",
    "function",
    "builtin_function_or_method",
    "instance",
    "_Feature"
   ],
   "window_display": false
  }
 },
 "nbformat": 4,
 "nbformat_minor": 4
}
