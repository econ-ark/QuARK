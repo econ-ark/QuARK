{
 "cells": [
  {
   "cell_type": "markdown",
   "metadata": {},
   "source": [
    "# Spending on Nondurables During the Great \n",
    "\n",
    "<p style=\"text-align: center;\"><small><small><small>Generator: QuARK-make/notebooks_byname</small></small></small></p>"
   ]
  },
  {
   "cell_type": "code",
   "execution_count": 1,
   "metadata": {
    "code_folding": [
     0
    ]
   },
   "outputs": [],
   "source": [
    "# Initial imports and notebook setup, click arrow to show\n",
    "\n",
    "import matplotlib.pyplot as plt\n",
    "\n",
    "## Import some things from cstwMPC\n",
    "\n",
    "from tqdm import tqdm\n",
    "\n",
    "import numpy as np\n",
    "from copy import deepcopy\n",
    "\n",
    "import HARK # Prevents import error from Demos repo\n",
    "from HARK.utilities import plotFuncs"
   ]
  },
  {
   "cell_type": "markdown",
   "metadata": {},
   "source": [
    "### There Was a Big Drop in Consumption ... \n",
    "Between the second and fourth quarters of 2018, nondurables consumption spending in the U.S. dropped by an unprecedented 6.4 percent.  High frequency data show a drop in retail sales of something like 10 percent between the weekend before the Lehmann collapse and the weekend after Lehmann.  "
   ]
  },
  {
   "cell_type": "markdown",
   "metadata": {},
   "source": [
    "### ... and Uncertainty Could Induce A Drop In Consumption ...  \n",
    "Increased \"uncertainty\" has become a popular explanation of much of what happened in the Great Recession -- including this drop.  Qualitatively, it is well known that a perceived increase in labor income uncertainty should induce more saving (less consumption) for precautionary reasons.\n",
    "\n",
    "### ... But Is the Story _Quantitatively_ Plausible?\n",
    "But if explaining a 6.4 percent drop in consumption would require an implausibly large increase in uncertainty, the story that uncertainty explains the consumption drop is implausible.  \n",
    "\n",
    "### Transitory Shocks, Permanent Shocks, or Unemployment\n",
    "The $\\texttt{ConsIndShockConsumerType}$ model incorporates three kinds of uncertainty: Unemployment spells, during which income is reduced to some small proportion of its normal level; and, for consumers who remain employed, transitory and permanent shocks with standard deviations $\\sigma_{\\theta}$ and $\\sigma_{\\psi}$.  \n",
    "\n",
    "### The Question:\n",
    "How large an increase in the standard deviation of $\\sigma_{\\psi}$ would be necessary to induce a 6.4 percent drop in consumption in one quarter?  What about $\\sigma_{\\theta}$?  How high would the perceived unemployment probability have to be?\n",
    "\n",
    "The first step is to create the agents we want to solve the model for.\n",
    "\n",
    "Model set up:\n",
    "- \"Standard\" infinite horizon consumption/savings model, with mortality and permanent and temporary shocks to income\n",
    "- Ex-ante heterogeneity in consumers' discount factors\n",
    "    \n",
    "With this basic setup, HARK's IndShockConsumerType is the appropriate subclass of $\\texttt{AgentType}$. So we need to prepare the parameters to create instances of that class.\n"
   ]
  },
  {
   "cell_type": "code",
   "execution_count": 2,
   "metadata": {
    "code_folding": [
     1
    ]
   },
   "outputs": [],
   "source": [
    "# Choose some calibrated parameters that roughly match steady state \n",
    "init_infinite = {\n",
    "    \"CRRA\":1.0,                    # Coefficient of relative risk aversion \n",
    "    \"Rfree\":1.01/(1.0 - 1.0/240.0), # Survival probability,\n",
    "    \"PermGroFac\":[1.000**0.25], # Permanent income growth factor (no perm growth),\n",
    "    \"PermGroFacAgg\":1.0,\n",
    "    \"BoroCnstArt\":0.0,\n",
    "    \"CubicBool\":False,\n",
    "    \"vFuncBool\":False,\n",
    "    \"PermShkStd\":[(0.01*4/11)**0.5],  # Standard deviation of permanent shocks to income\n",
    "    \"PermShkCount\":7,  # Number of points in permanent income shock grid\n",
    "    \"TranShkStd\":[(0.01*4)**0.5],  # Standard deviation of transitory shocks to income,\n",
    "    \"TranShkCount\":5,  # Number of points in transitory income shock grid\n",
    "    \"UnempPrb\":0.07,  # Probability of unemployment while working\n",
    "    \"IncUnemp\":0.15,  # Unemployment benefit replacement rate\n",
    "    \"UnempPrbRet\":None,\n",
    "    \"IncUnempRet\":None,\n",
    "    \"aXtraMin\":0.00001,  # Minimum end-of-period assets in grid\n",
    "    \"aXtraMax\":20,  # Maximum end-of-period assets in grid\n",
    "    \"aXtraCount\":20,  # Number of points in assets grid,\n",
    "    \"aXtraExtra\":[None],\n",
    "    \"aXtraNestFac\":3,  # Number of times to 'exponentially nest' when constructing assets grid\n",
    "    \"LivPrb\":[1.0 - 1.0/240.0],  # Survival probability\n",
    "    \"DiscFac\":0.97,             # Default intertemporal discount factor, # dummy value, will be overwritten\n",
    "    \"cycles\":0,\n",
    "    \"T_cycle\":1,\n",
    "    \"T_retire\":0,\n",
    "    'T_sim':2000,  # Number of periods to simulate (idiosyncratic shocks model, perpetual youth)\n",
    "    'T_age':1000,\n",
    "    'IndL': 10.0/9.0,  # Labor supply per individual (constant),\n",
    "    'aNrmInitMean':np.log(0.00001),\n",
    "    'aNrmInitStd':0.0,\n",
    "    'pLvlInitMean':0.0,\n",
    "    'pLvlInitStd':0.0,\n",
    "    'AgentCount':10000,\n",
    "}"
   ]
  },
  {
   "cell_type": "markdown",
   "metadata": {},
   "source": [
    "Now we import the class itself and make a baseline type."
   ]
  },
  {
   "cell_type": "code",
   "execution_count": 3,
   "metadata": {},
   "outputs": [],
   "source": [
    "from HARK.ConsumptionSaving.ConsIndShockModel import IndShockConsumerType\n",
    "BaselineType = IndShockConsumerType(**init_infinite)"
   ]
  },
  {
   "cell_type": "markdown",
   "metadata": {},
   "source": [
    "For this exercise, we will introduce _ex ante_ heterogeneity, so the baseline type will be copied several times.\n",
    "\n",
    "First, let's create a list with seven copies of our baseline type."
   ]
  },
  {
   "cell_type": "code",
   "execution_count": 4,
   "metadata": {
    "code_folding": [
     0
    ]
   },
   "outputs": [],
   "source": [
    "# A list in python can contain anything -- including consumers\n",
    "num_consumer_types   = 7 # declare the number of types we want\n",
    "ConsumerTypes = [] # initialize an empty list\n",
    "\n",
    "for nn in range(num_consumer_types):\n",
    "    # Now create the types, and append them to the list ConsumerTypes\n",
    "    NewType = deepcopy(BaselineType)\n",
    "    NewType.seed = nn # give each consumer type a different RNG seed\n",
    "    ConsumerTypes.append(NewType)"
   ]
  },
  {
   "cell_type": "markdown",
   "metadata": {},
   "source": [
    "Now we can give each of the consumer types their own discount factor. (This approximates the distribution of parameters estimated in [\"The Distribution of Wealth and the Marginal Propensity to Consume\"](http://econ.jhu.edu/people/ccarroll/papers/cstwMPC)). "
   ]
  },
  {
   "cell_type": "code",
   "execution_count": 5,
   "metadata": {
    "code_folding": [
     0
    ]
   },
   "outputs": [],
   "source": [
    "# Seven types is enough to approximate the uniform distribution (5 is not quite enough)\n",
    "from HARK.utilities import approxUniform\n",
    "\n",
    "# Calibrations from cstwMPC\n",
    "bottomDiscFac  = 0.9800\n",
    "topDiscFac     = 0.9934\n",
    "DiscFac_list   = approxUniform(N=num_consumer_types,bot=bottomDiscFac,top=topDiscFac)[1]\n",
    "\n",
    "# Now, assign the discount factors\n",
    "for j in range(num_consumer_types):\n",
    "    ConsumerTypes[j].DiscFac = DiscFac_list[j]\n",
    "    ConsumerTypes[j].quiet   = True # Turn off some output"
   ]
  },
  {
   "cell_type": "markdown",
   "metadata": {},
   "source": [
    "Our agents now exist and have a concept of the problem they face, but we still need them to solve that problem.\n",
    "\n",
    "Once we have solved each type of consumer's individual problem, we need to know the distribution of wealth (and permanent income) that the population would achieve in the long run.\n",
    "\n",
    "The cell below does both of those tasks, looping through the consumer types. For each one, it solves that type's infinite horizon model, then simulates 1000 periods to generate an approximation to the long run distribution of wealth."
   ]
  },
  {
   "cell_type": "code",
   "execution_count": 6,
   "metadata": {
    "code_folding": [
     0
    ],
    "lines_to_next_cell": 1
   },
   "outputs": [
    {
     "name": "stderr",
     "output_type": "stream",
     "text": [
<<<<<<< HEAD
      "\r",
      "  0%|                                                                                            | 0/7 [00:00<?, ?it/s]"
     ]
    },
    {
     "name": "stdout",
     "output_type": "stream",
     "text": [
      "\n",
      "\n",
      "\n",
      "\n",
      "\n"
     ]
    },
    {
     "name": "stderr",
     "output_type": "stream",
     "text": [
      "\r",
      " 14%|████████████                                                                        | 1/7 [00:02<00:13,  2.25s/it]"
     ]
    },
    {
     "name": "stdout",
     "output_type": "stream",
     "text": [
      "\n",
      "\n",
      "\n",
      "\n",
      "\n"
     ]
    },
    {
     "name": "stderr",
     "output_type": "stream",
     "text": [
      "\r",
      " 29%|████████████████████████                                                            | 2/7 [00:04<00:11,  2.23s/it]"
     ]
    },
    {
     "name": "stdout",
     "output_type": "stream",
     "text": [
      "\n",
      "\n",
      "\n",
      "\n",
      "\n"
     ]
    },
    {
     "name": "stderr",
     "output_type": "stream",
     "text": [
      "\r",
      " 43%|████████████████████████████████████                                                | 3/7 [00:06<00:08,  2.22s/it]"
     ]
    },
    {
     "name": "stdout",
     "output_type": "stream",
     "text": [
      "\n",
      "\n",
      "\n",
      "\n",
      "\n"
     ]
    },
    {
     "name": "stderr",
     "output_type": "stream",
     "text": [
      "\r",
      " 57%|████████████████████████████████████████████████                                    | 4/7 [00:08<00:06,  2.23s/it]"
     ]
    },
    {
     "name": "stdout",
     "output_type": "stream",
     "text": [
      "\n",
      "\n",
      "\n",
      "\n",
      "\n"
     ]
    },
    {
     "name": "stderr",
     "output_type": "stream",
     "text": [
      "\r",
      " 71%|████████████████████████████████████████████████████████████                        | 5/7 [00:11<00:04,  2.29s/it]"
     ]
    },
    {
     "name": "stdout",
     "output_type": "stream",
     "text": [
      "The given type violates the Absolute Impatience Condition with the supplied parameter values; the AIF is 1.00043  \n",
      "The given parameter values violate the Growth Impatience Condition for this consumer type; the GIF is: 1.0004 \n",
      "\n",
      "\n",
      "\n"
     ]
    },
    {
     "name": "stderr",
     "output_type": "stream",
     "text": [
      "\r",
      " 86%|████████████████████████████████████████████████████████████████████████            | 6/7 [00:13<00:02,  2.34s/it]"
     ]
    },
    {
     "name": "stdout",
     "output_type": "stream",
     "text": [
      "The given type violates the Absolute Impatience Condition with the supplied parameter values; the AIF is 1.00237  \n",
      "The given parameter values violate the Growth Impatience Condition for this consumer type; the GIF is: 1.0024 \n",
      "\n",
      "\n",
      "\n"
     ]
    },
    {
     "name": "stderr",
     "output_type": "stream",
     "text": [
      "100%|████████████████████████████████████████████████████████████████████████████████████| 7/7 [00:16<00:00,  2.37s/it]\n"
=======
      "100%|█████████████████████████████████████████████████████████| 7/7 [00:32<00:00,  4.71s/it]\n"
>>>>>>> upstream/master
     ]
    }
   ],
   "source": [
    "# tqdm presents a pretty bar that interactively shows how far the calculations have gotten\n",
    "for ConsumerType in tqdm(ConsumerTypes):\n",
    "    ## We configured their discount factor above.  Now solve\n",
    "    ConsumerType.solve(verbose=False)\n",
    "    \n",
    "    # Now simulate many periods to get to the stationary distribution\n",
    "    ConsumerType.T_sim = 2000\n",
    "    ConsumerType.initializeSim()\n",
    "    ConsumerType.simulate()"
   ]
  },
  {
   "cell_type": "markdown",
   "metadata": {},
   "source": [
    "With all of that setup taken care of, let's write some functions to run our counterfactual exercise and extract the information we want.\n",
    "\n",
    "First, let's define a simple function that merely calculates the average consumption level across the entire population in the most recent simulated period."
   ]
  },
  {
   "cell_type": "code",
   "execution_count": 7,
   "metadata": {
    "code_folding": [
     0
    ],
    "lines_to_next_cell": 1
   },
   "outputs": [],
   "source": [
    "# We just merge the cNrm and pNrm lists already constructed for each ConsumerType\n",
    "def calcAvgC(ConsumerTypes):\n",
    "    \"\"\"\n",
    "    This function calculates average consumption in the economy in last simulated period,\n",
    "    averaging across ConsumerTypes.\n",
    "    \"\"\"\n",
    "    # Make arrays with all types' (normalized) consumption and permanent income level\n",
    "    # The brackets indicate that the contents will be a list (in this case, of lists)\n",
    "    cNrm = np.concatenate([ThisType.cNrmNow for ThisType in ConsumerTypes])\n",
    "    pLvl = np.concatenate([ThisType.pLvlNow for ThisType in ConsumerTypes])\n",
    "    \n",
    "    # Calculate and return average consumption level in the economy\n",
    "    avgC = np.mean(cNrm*pLvl) # c is the ratio to p, so C = c*p\n",
    "    return avgC"
   ]
  },
  {
   "cell_type": "markdown",
   "metadata": {},
   "source": [
    "Now let's create a function to run the experiment we want -- change income uncertainty, and see how consumption changes.\n",
    "To keep the code block below (mostly) clean, we'll describe the procedure below step by step here, with accompanying annotations in the codeblock.\n",
    "\n",
    "1. Initialize an empty list to hold the changes in consumption that happen after parameters change, and calculate average consumption before the change in uncertainty.\n",
    "2. Loop through the new uncertainty parameter values to assign. For each parameter value:\n",
    " 1. Assign the parameter value to the agents\n",
    " 2. Re-solve the agent's model under that degree of uncertainty\n",
    " 3. Construct a population of agents distributed according to the pre-crisis steady state\n",
    " 4. Simulate one more period-- the first period after the change in risk.\n",
    " 5. Calculate the population average consumption level given the new consumption rule\n",
    " 6. Calculate the new average consumption level as percentage change vs the prior level.\n",
    "3. Return the list of percentage changes"
   ]
  },
  {
   "cell_type": "code",
   "execution_count": 8,
   "metadata": {
    "code_folding": [
     0
    ],
    "lines_to_next_cell": 1
   },
   "outputs": [],
   "source": [
    "# Whenever you define a function, you should describe it (with a \"docstring\")\n",
    "def calcConsChangeAfterUncertaintyChange(OriginalTypes,NewVals,ParamToChange):\n",
    "    '''\n",
    "    Calculate the change in aggregate consumption for a list of values that a \n",
    "    parameter will take on.\n",
    "    \n",
    "    Parameters\n",
    "    ----------\n",
    "    OriginalTypes : [IndShockConsumerType]\n",
    "        List of consumer types, who have already had their \"pre-shock\" problem solved and simulated.\n",
    "    NewVals : np.array\n",
    "        List or array of new values that the parameter of interest will take on.\n",
    "    ParamToChange : str\n",
    "        Name of the income distribution parameter that will be changed.\n",
    "        \n",
    "    Returns\n",
    "    -------\n",
    "    ChangesInConsumption : [float]\n",
    "        List of changes in aggregate consumption corresponding to the values in NewVals, as a percentage\n",
    "        of the original aggregate consumption level.\n",
    "    '''\n",
    "    ChangesInConsumption = [] # Step 1\n",
    "    OldAvgC = calcAvgC(OriginalTypes)\n",
    "\n",
    "    # Step 2 (the loop over counterfactual parameter values)\n",
    "    for NewVal in tqdm(NewVals):\n",
    "        if ParamToChange in [\"PermShkStd\",\"TranShkStd\"]:\n",
    "            ThisVal = [NewVal]\n",
    "        else:\n",
    "            ThisVal = NewVal\n",
    "\n",
    "        ConsumerTypesNew = deepcopy(OriginalTypes)          \n",
    "        for index,ConsumerTypeNew in enumerate(ConsumerTypesNew):\n",
    "            setattr(ConsumerTypeNew,ParamToChange,ThisVal) # Step 2A   \n",
    "            ConsumerTypeNew.updateIncomeProcess()\n",
    "            ConsumerTypeNew.solve(verbose=False) # Step 2B\n",
    "            \n",
    "            ConsumerTypeNew.initializeSim() # Step 2C\n",
    "            ConsumerTypeNew.aNrmNow = OriginalTypes[index].aNrmNow\n",
    "            ConsumerTypeNew.pLvlNow = OriginalTypes[index].pLvlNow\n",
    "            \n",
    "            ConsumerTypeNew.simOnePeriod() # Step 2D\n",
    "\n",
    "        NewAvgC = calcAvgC(ConsumerTypesNew) # Step 2E\n",
    "        ChangeInConsumption = 100. * (NewAvgC - OldAvgC) / OldAvgC # Step 2F\n",
    "        ChangesInConsumption.append(ChangeInConsumption)\n",
    "\n",
    "    return ChangesInConsumption # Step 3, returning the output"
   ]
  },
  {
   "cell_type": "markdown",
   "metadata": {},
   "source": [
    "Our counterfactual experiment function takes three inputs-- consumer types, counterfactual values, and the name of the parameter we want to change. For the sake of convenience, let's define small functions to run the experiment for each parameter with just a single input."
   ]
  },
  {
   "cell_type": "code",
   "execution_count": 9,
   "metadata": {
    "code_folding": [
     0
    ],
    "lines_to_next_cell": 1
   },
   "outputs": [],
   "source": [
    "# Trivial functions can be useful in making the logic of your program clear\n",
    "def calcConsChangeAfterPermShkChange(newVals):\n",
    "    return calcConsChangeAfterUncertaintyChange(ConsumerTypes,newVals,\"PermShkStd\")\n",
    "\n",
    "def calcConsChangeAfterTranShkChange(newVals):\n",
    "    return calcConsChangeAfterUncertaintyChange(ConsumerTypes,newVals,\"TranShkStd\")\n",
    "\n",
    "def calcConsChangeAfterUnempPrbChange(newVals):\n",
    "    return calcConsChangeAfterUncertaintyChange(ConsumerTypes,newVals,\"UnempPrb\")"
   ]
  },
  {
   "cell_type": "markdown",
   "metadata": {},
   "source": [
    "Now we can finally run our experiment.  In the cell below, we generate a plot of the change in aggregate consumption vs the (underlying) standard deviation of permanent income shocks."
   ]
  },
  {
   "cell_type": "code",
   "execution_count": 10,
   "metadata": {
    "code_folding": [
     0
    ]
   },
   "outputs": [
    {
     "name": "stderr",
     "output_type": "stream",
     "text": [
<<<<<<< HEAD
      "\r",
      "  0%|                                                                                           | 0/10 [00:00<?, ?it/s]"
     ]
    },
    {
     "name": "stdout",
     "output_type": "stream",
     "text": [
      "\n",
      "\n",
      "\n",
      "\n",
      "\n",
      "\n",
      "\n",
      "\n",
      "\n",
      "\n",
      "\n",
      "\n",
      "\n",
      "\n",
      "\n",
      "\n",
      "\n",
      "\n",
      "\n",
      "\n",
      "\n",
      "\n",
      "\n",
      "\n",
      "\n",
      "The given type violates the Absolute Impatience Condition with the supplied parameter values; the AIF is 1.00043  \n",
      "The given parameter values violate the Growth Impatience Condition for this consumer type; the GIF is: 1.0004 \n",
      "\n",
      "\n",
      "\n",
      "The given type violates the Absolute Impatience Condition with the supplied parameter values; the AIF is 1.00237  \n",
      "The given parameter values violate the Growth Impatience Condition for this consumer type; the GIF is: 1.0024 \n",
      "\n",
      "\n",
      "The given parameter values violate the Growth Impatience Condition for this consumer type; the GIF is: 1.0003 \n"
     ]
    },
    {
     "name": "stderr",
     "output_type": "stream",
     "text": [
      "\r",
      " 10%|████████▎                                                                          | 1/10 [00:01<00:10,  1.17s/it]"
     ]
    },
    {
     "name": "stdout",
     "output_type": "stream",
     "text": [
      "\n",
      "\n",
      "\n",
      "\n",
      "\n",
      "\n",
      "\n",
      "\n",
      "\n",
      "\n",
      "\n",
      "\n",
      "\n",
      "\n",
      "\n",
      "\n",
      "\n",
      "\n",
      "\n",
      "\n",
      "\n",
      "\n",
      "\n",
      "\n",
      "\n",
      "The given type violates the Absolute Impatience Condition with the supplied parameter values; the AIF is 1.00043  \n",
      "The given parameter values violate the Growth Impatience Condition for this consumer type; the GIF is: 1.0004 \n",
      "\n",
      "\n",
      "\n",
      "The given type violates the Absolute Impatience Condition with the supplied parameter values; the AIF is 1.00237  \n",
      "The given parameter values violate the Growth Impatience Condition for this consumer type; the GIF is: 1.0024 \n",
      "\n",
      "\n",
      "\n"
     ]
    },
    {
     "name": "stderr",
     "output_type": "stream",
     "text": [
      "\r",
      " 20%|████████████████▌                                                                  | 2/10 [00:02<00:09,  1.17s/it]"
     ]
    },
    {
     "name": "stdout",
     "output_type": "stream",
     "text": [
      "\n",
      "\n",
      "\n",
      "\n",
      "\n",
      "\n",
      "\n",
      "\n",
      "\n",
      "\n",
      "\n",
      "\n",
      "\n",
      "\n",
      "\n",
      "\n",
      "\n",
      "\n",
      "\n",
      "\n",
      "\n",
      "\n",
      "\n",
      "\n",
      "\n",
      "The given type violates the Absolute Impatience Condition with the supplied parameter values; the AIF is 1.00043  \n",
      "The given parameter values violate the Growth Impatience Condition for this consumer type; the GIF is: 1.0004 \n",
      "\n",
      "\n",
      "\n",
      "The given type violates the Absolute Impatience Condition with the supplied parameter values; the AIF is 1.00237  \n",
      "The given parameter values violate the Growth Impatience Condition for this consumer type; the GIF is: 1.0024 \n",
      "\n",
      "\n",
      "\n"
     ]
    },
    {
     "name": "stderr",
     "output_type": "stream",
     "text": [
      "\r",
      " 30%|████████████████████████▉                                                          | 3/10 [00:03<00:08,  1.18s/it]"
     ]
    },
    {
     "name": "stdout",
     "output_type": "stream",
     "text": [
      "\n",
      "\n",
      "\n",
      "\n",
      "\n",
      "\n",
      "\n",
      "\n",
      "\n",
      "\n",
      "\n",
      "\n",
      "\n",
      "\n",
      "\n",
      "\n",
      "\n",
      "\n",
      "\n",
      "\n",
      "\n",
      "\n",
      "\n",
      "\n",
      "\n",
      "The given type violates the Absolute Impatience Condition with the supplied parameter values; the AIF is 1.00043  \n",
      "The given parameter values violate the Growth Impatience Condition for this consumer type; the GIF is: 1.0004 \n",
      "\n",
      "\n",
      "\n",
      "The given type violates the Absolute Impatience Condition with the supplied parameter values; the AIF is 1.00237  \n",
      "The given parameter values violate the Growth Impatience Condition for this consumer type; the GIF is: 1.0024 \n",
      "\n",
      "\n",
      "\n"
     ]
    },
    {
     "name": "stderr",
     "output_type": "stream",
     "text": [
      "\r",
      " 40%|█████████████████████████████████▏                                                 | 4/10 [00:04<00:07,  1.19s/it]"
     ]
    },
    {
     "name": "stdout",
     "output_type": "stream",
     "text": [
      "\n",
      "\n",
      "\n",
      "\n",
      "\n",
      "\n",
      "\n",
      "\n",
      "\n",
      "\n",
      "\n",
      "\n",
      "\n",
      "\n",
      "\n",
      "\n",
      "\n",
      "\n",
      "\n",
      "\n",
      "\n",
      "\n",
      "\n",
      "\n",
      "\n",
      "The given type violates the Absolute Impatience Condition with the supplied parameter values; the AIF is 1.00043  \n",
      "The given parameter values violate the Growth Impatience Condition for this consumer type; the GIF is: 1.0004 \n",
      "\n",
      "\n",
      "\n",
      "The given type violates the Absolute Impatience Condition with the supplied parameter values; the AIF is 1.00237  \n",
      "The given parameter values violate the Growth Impatience Condition for this consumer type; the GIF is: 1.0024 \n",
      "\n",
      "\n",
      "\n"
     ]
    },
    {
     "name": "stderr",
     "output_type": "stream",
     "text": [
      "\r",
      " 50%|█████████████████████████████████████████▌                                         | 5/10 [00:05<00:06,  1.20s/it]"
     ]
    },
    {
     "name": "stdout",
     "output_type": "stream",
     "text": [
      "\n",
      "\n",
      "\n",
      "\n",
      "\n",
      "\n",
      "\n",
      "\n",
      "\n",
      "\n",
      "\n",
      "\n",
      "\n",
      "\n",
      "\n",
      "\n",
      "\n",
      "\n",
      "\n",
      "\n",
      "\n",
      "\n",
      "\n",
      "\n",
      "\n",
      "The given type violates the Absolute Impatience Condition with the supplied parameter values; the AIF is 1.00043  \n",
      "The given parameter values violate the Growth Impatience Condition for this consumer type; the GIF is: 1.0004 \n",
      "\n",
      "\n",
      "\n",
      "The given type violates the Absolute Impatience Condition with the supplied parameter values; the AIF is 1.00237  \n",
      "The given parameter values violate the Growth Impatience Condition for this consumer type; the GIF is: 1.0024 \n",
      "\n",
      "\n",
      "\n"
     ]
    },
    {
     "name": "stderr",
     "output_type": "stream",
     "text": [
      "\r",
      " 60%|█████████████████████████████████████████████████▊                                 | 6/10 [00:07<00:04,  1.22s/it]"
     ]
    },
    {
     "name": "stdout",
     "output_type": "stream",
     "text": [
      "\n",
      "\n",
      "\n",
      "\n",
      "\n",
      "\n",
      "\n",
      "\n",
      "\n",
      "\n",
      "\n",
      "\n",
      "\n",
      "\n",
      "\n",
      "\n",
      "\n",
      "\n",
      "\n",
      "\n",
      "\n",
      "\n",
      "\n",
      "\n",
      "\n",
      "The given type violates the Absolute Impatience Condition with the supplied parameter values; the AIF is 1.00043  \n",
      "The given parameter values violate the Growth Impatience Condition for this consumer type; the GIF is: 1.0004 \n",
      "\n",
      "\n",
      "\n",
      "The given type violates the Absolute Impatience Condition with the supplied parameter values; the AIF is 1.00237  \n",
      "The given parameter values violate the Growth Impatience Condition for this consumer type; the GIF is: 1.0024 \n",
      "\n",
      "\n",
      "\n"
     ]
    },
    {
     "name": "stderr",
     "output_type": "stream",
     "text": [
      "\r",
      " 70%|██████████████████████████████████████████████████████████                         | 7/10 [00:08<00:03,  1.23s/it]"
     ]
    },
    {
     "name": "stdout",
     "output_type": "stream",
     "text": [
      "\n",
      "\n",
      "\n",
      "\n",
      "\n",
      "\n",
      "\n",
      "\n",
      "\n",
      "\n",
      "\n",
      "\n",
      "\n",
      "\n",
      "\n",
      "\n",
      "\n",
      "\n",
      "\n",
      "\n",
      "\n",
      "\n",
      "\n",
      "\n",
      "\n",
      "The given type violates the Absolute Impatience Condition with the supplied parameter values; the AIF is 1.00043  \n",
      "The given parameter values violate the Growth Impatience Condition for this consumer type; the GIF is: 1.0004 \n",
      "\n",
      "\n",
      "\n",
      "The given type violates the Absolute Impatience Condition with the supplied parameter values; the AIF is 1.00237  \n",
      "The given parameter values violate the Growth Impatience Condition for this consumer type; the GIF is: 1.0024 \n",
      "\n",
      "\n",
      "\n"
     ]
    },
    {
     "name": "stderr",
     "output_type": "stream",
     "text": [
      "\r",
      " 80%|██████████████████████████████████████████████████████████████████▍                | 8/10 [00:09<00:02,  1.24s/it]"
     ]
    },
    {
     "name": "stdout",
     "output_type": "stream",
     "text": [
      "\n",
      "\n",
      "\n",
      "\n",
      "\n",
      "\n",
      "\n",
      "\n",
      "\n",
      "\n",
      "\n",
      "\n",
      "\n",
      "\n",
      "\n",
      "\n",
      "\n",
      "\n",
      "\n",
      "\n",
      "\n",
      "\n",
      "\n",
      "\n",
      "\n",
      "The given type violates the Absolute Impatience Condition with the supplied parameter values; the AIF is 1.00043  \n",
      "The given parameter values violate the Growth Impatience Condition for this consumer type; the GIF is: 1.0004 \n",
      "\n",
      "\n",
      "\n",
      "The given type violates the Absolute Impatience Condition with the supplied parameter values; the AIF is 1.00237  \n",
      "The given parameter values violate the Growth Impatience Condition for this consumer type; the GIF is: 1.0024 \n",
      "\n",
      "\n",
      "\n"
     ]
    },
    {
     "name": "stderr",
     "output_type": "stream",
     "text": [
      "\r",
      " 90%|██████████████████████████████████████████████████████████████████████████▋        | 9/10 [00:11<00:01,  1.25s/it]"
     ]
    },
    {
     "name": "stdout",
     "output_type": "stream",
     "text": [
      "\n",
      "\n",
      "\n",
      "\n",
      "\n",
      "\n",
      "\n",
      "\n",
      "\n",
      "\n",
      "\n",
      "\n",
      "\n",
      "\n",
      "\n",
      "\n",
      "\n",
      "\n",
      "\n",
      "\n",
      "\n",
      "\n",
      "\n",
      "\n",
      "\n",
      "The given type violates the Absolute Impatience Condition with the supplied parameter values; the AIF is 1.00043  \n",
      "The given parameter values violate the Growth Impatience Condition for this consumer type; the GIF is: 1.0004 \n",
      "\n",
      "\n",
      "\n",
      "The given type violates the Absolute Impatience Condition with the supplied parameter values; the AIF is 1.00237  \n",
      "The given parameter values violate the Growth Impatience Condition for this consumer type; the GIF is: 1.0024 \n",
      "\n",
      "\n",
      "\n"
     ]
    },
    {
     "name": "stderr",
     "output_type": "stream",
     "text": [
      "100%|██████████████████████████████████████████████████████████████████████████████████| 10/10 [00:12<00:00,  1.26s/it]\n"
=======
      "100%|███████████████████████████████████████████████████████| 10/10 [00:15<00:00,  1.54s/it]\n"
>>>>>>> upstream/master
     ]
    },
    {
     "data": {
<<<<<<< HEAD
      "image/png": "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\n",
=======
      "image/png": "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\n",
>>>>>>> upstream/master
      "text/plain": [
       "<Figure size 432x288 with 1 Axes>"
      ]
     },
     "metadata": {
      "needs_background": "light"
     },
     "output_type": "display_data"
    }
   ],
   "source": [
    "# Calculate the consequences of an \"MIT shock\" to the standard deviation of permanent shocks\n",
    "ratio_min = 0.8 # minimum number to multiply uncertainty parameter by\n",
    "TargetChangeInC = -6.3 # Source: FRED\n",
    "num_points = 10 # number of parameter values to plot in graphs. More=slower\n",
    "\n",
    "# First change the variance of the permanent income shock\n",
    "perm_ratio_max = 2.5 # Put whatever value in you want!  maximum number to multiply var of perm income shock by\n",
    "\n",
    "perm_min = BaselineType.PermShkStd[0] * ratio_min\n",
    "perm_max = BaselineType.PermShkStd[0] * perm_ratio_max\n",
    "\n",
    "plt.ylabel('% Change in Consumption')\n",
    "plt.xlabel('Std. Dev. of Perm. Income Shock (Baseline = ' + str(round(BaselineType.PermShkStd[0],2)) + ')')\n",
    "plt.title('Change in Cons. Following Increase in Perm. Income Uncertainty')\n",
    "plt.ylim(-20.,5.)\n",
    "plt.hlines(TargetChangeInC,perm_min,perm_max)\n",
    "# The expression below shows the power of python\n",
    "plotFuncs([calcConsChangeAfterPermShkChange],perm_min,perm_max,N=num_points)"
   ]
  },
  {
   "cell_type": "markdown",
   "metadata": {},
   "source": [
    "The figure shows that if people's beliefs about the standard deviation of permanent shocks to their incomes had changed from 0.06 (the default value) to about 0.012, the model would predict an immediate drop in consumption spending of about the magnitude seen in 2008.  \n",
    "\n",
    "The question is whether this is a reasonable or an unreasonable magnitude for a change in uncertainty.  Some perspective on that question is offered by the large literature that attempts to estimate the magnitude of persistent or permanent shocks to household income.  The answer varies substantially across household types, countries, and time periods, but our sense of the literature is that the whole span of the territory between 0.04 and ranging nearly up to 0.20 is well populated (in the sense that substantial populations of people or countries have been estimated to experience shocks of this magnitude).\n",
    "\n",
    "So, the degree to which income uncertainty would have had to rise in order to explain the drop in consumption in the Great Recession is quite moderate, compared to the variation that is estimated already to exist across people, places, times, and countries."
   ]
  },
  {
   "cell_type": "markdown",
   "metadata": {},
   "source": [
    "### PROBLEM\n",
    "\n",
    "Compute the change in transitory uncertainty and of unemployment risk that would be sufficient to make consumption fall by the appropriate amount (by making a figure similar to the one above). Brifely explain your results in intuitive terms, and discuss the implications for the measurement and interpretation of measures of \"uncertainty\" in consumer surveys."
   ]
  }
 ],
 "metadata": {
  "jupytext": {
   "cell_metadata_filter": "collapsed,code_folding",
   "formats": "ipynb,py:percent"
  },
  "kernelspec": {
   "display_name": "Python 3",
   "language": "python",
   "name": "python3"
  },
  "language_info": {
   "codemirror_mode": {
    "name": "ipython",
    "version": 3
   },
   "file_extension": ".py",
   "mimetype": "text/x-python",
   "name": "python",
   "nbconvert_exporter": "python",
   "pygments_lexer": "ipython3",
   "version": "3.7.1"
  },
  "varInspector": {
   "cols": {
    "lenName": 16,
    "lenType": 16,
    "lenVar": 40
   },
   "kernels_config": {
    "python": {
     "delete_cmd_postfix": "",
     "delete_cmd_prefix": "del ",
     "library": "var_list.py",
     "varRefreshCmd": "print(var_dic_list())"
    },
    "r": {
     "delete_cmd_postfix": ") ",
     "delete_cmd_prefix": "rm(",
     "library": "var_list.r",
     "varRefreshCmd": "cat(var_dic_list()) "
    }
   },
   "types_to_exclude": [
    "module",
    "function",
    "builtin_function_or_method",
    "instance",
    "_Feature"
   ],
   "window_display": false
  }
 },
 "nbformat": 4,
 "nbformat_minor": 4
}
