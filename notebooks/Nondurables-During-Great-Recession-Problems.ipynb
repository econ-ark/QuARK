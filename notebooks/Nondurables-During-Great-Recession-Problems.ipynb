{
 "cells": [
  {
   "cell_type": "markdown",
   "metadata": {},
   "source": [
    "# Spending on Nondurables During the Great Recession\n",
    "\n",
    "<p style=\"text-align: center;\"><small><small><small>Generator: QuARK-make/notebooks_byname</small></small></small></p>"
   ]
  },
  {
   "cell_type": "code",
   "execution_count": 2,
   "metadata": {
    "code_folding": [
     0
    ]
   },
   "outputs": [
    {
     "ename": "ImportError",
     "evalue": "cannot import name 'plotFuncs' from 'HARK.utilities' (c:\\users\\user\\documents\\github\\bufferstocktheory\\src\\econ-ark\\HARK\\utilities.py)",
     "output_type": "error",
     "traceback": [
      "\u001b[1;31m---------------------------------------------------------------------------\u001b[0m",
      "\u001b[1;31mImportError\u001b[0m                               Traceback (most recent call last)",
      "\u001b[1;32m~\\AppData\\Local\\Temp/ipykernel_25772/170291243.py\u001b[0m in \u001b[0;36m<module>\u001b[1;34m\u001b[0m\n\u001b[0;32m     11\u001b[0m \u001b[1;33m\u001b[0m\u001b[0m\n\u001b[0;32m     12\u001b[0m \u001b[1;32mimport\u001b[0m \u001b[0mHARK\u001b[0m \u001b[1;31m# Prevents import error from Demos repo\u001b[0m\u001b[1;33m\u001b[0m\u001b[1;33m\u001b[0m\u001b[0m\n\u001b[1;32m---> 13\u001b[1;33m \u001b[1;32mfrom\u001b[0m \u001b[0mHARK\u001b[0m\u001b[1;33m.\u001b[0m\u001b[0mutilities\u001b[0m \u001b[1;32mimport\u001b[0m \u001b[0mplotFuncs\u001b[0m\u001b[1;33m\u001b[0m\u001b[1;33m\u001b[0m\u001b[0m\n\u001b[0m\u001b[0;32m     14\u001b[0m \u001b[1;31m# Choose some calibrated parameters that roughly match steady state\u001b[0m\u001b[1;33m\u001b[0m\u001b[1;33m\u001b[0m\u001b[0m\n",
      "\u001b[1;31mImportError\u001b[0m: cannot import name 'plotFuncs' from 'HARK.utilities' (c:\\users\\user\\documents\\github\\bufferstocktheory\\src\\econ-ark\\HARK\\utilities.py)"
     ]
    }
   ],
   "source": [
    "# Initial imports and notebook setup, click arrow to show\n",
    "\n",
    "import matplotlib.pyplot as plt\n",
    "\n",
    "## Import some things from cstwMPC\n",
    "\n",
    "from tqdm import tqdm\n",
    "\n",
    "import numpy as np\n",
    "from copy import deepcopy\n",
    "\n",
    "import HARK # Prevents import error from Demos repo\n",
    "from HARK.utilities import plotFuncs\n",
    "# Choose some calibrated parameters that roughly match steady state "
   ]
  },
  {
   "cell_type": "markdown",
   "metadata": {},
   "source": [
    "### There Was a Big Drop in Consumption ... \n",
    "Between the second and fourth quarters of 2018, \"discretionary\" spending on nondurables and services in the U.S. dropped by about 4 percent -- an unprecedented collapse.  Subsequent analyses of the Great Recession concluded that it was the large drop in consumption expenditures that turned what would otherwise have been a moderate downturn into the largest economic decline since the Great Depresssion.\n",
    "\n",
    "<!-- Following Blinder and Deaton (1987), we exclude clothing and shoes from the \"nondurables\" category.  By \"discretionary\" services, we mean those that are not mostly predetermined or imputed from other data: Specifically: recreation services, and food services and accommodations.  Data accessed on 2020-03-27 are from https://apps.bea.gov/iTable/iTable.cfm?ReqID=19&step=2#reqid=19&step=2&isuri=1&1921=underlying\n",
    "\n",
    "Q2: (770.703+789.047+421.153+621.281+391.462)\n",
    "Q4: (773.038+786.175+302.043+621.773+387.206)\n",
    "(Q4-Q2)/Q2=0.0412\n",
    "-->"
   ]
  },
  {
   "cell_type": "markdown",
   "metadata": {},
   "source": [
    "### ... and Uncertainty Could Induce A Drop In Consumption ...  \n",
    "Increased \"uncertainty\" has become a popular explanation of much of what happened in the Great Recession -- including this drop.  Qualitatively, it is well known that a perceived increase in labor income uncertainty should induce more saving (less consumption) for precautionary reasons.\n",
    "\n",
    "### ... But Is the Story _Quantitatively_ Plausible?\n",
    "But if explaining a 4 percent drop in discretionary consumption would require an implausibly large increase in uncertainty, the story that uncertainty explains the consumption drop is implausible.  \n",
    "\n",
    "### Transitory Shocks, Permanent Shocks, or Unemployment\n",
    "The $\\texttt{ConsIndShockConsumerType}$ model incorporates three kinds of uncertainty: Unemployment spells, during which income is reduced to some small proportion of its normal level; and, for consumers who remain employed, transitory and permanent shocks with standard deviations $\\sigma_{\\theta}$ and $\\sigma_{\\psi}$.  \n",
    "\n",
    "### The Question:\n",
    "How large an increase in the standard deviation of $\\sigma_{\\psi}$ would be necessary to induce a 6.4 percent drop in consumption in one quarter?  What about $\\sigma_{\\theta}$?  How high would the perceived unemployment probability have to be?\n",
    "\n",
    "The first step is to create the agents we want to solve the model for.\n",
    "\n",
    "Model set up:\n",
    "- \"Standard\" infinite horizon consumption/savings model, with mortality and permanent and temporary shocks to income\n",
    "- Ex-ante heterogeneity in consumers' discount factors\n",
    "    \n",
    "With this basic setup, HARK's IndShockConsumerType is the appropriate subclass of $\\texttt{AgentType}$. So we need to prepare the parameters to create instances of that class.\n"
   ]
  },
  {
   "cell_type": "code",
   "execution_count": 2,
   "metadata": {
    "code_folding": [
     1
    ]
   },
   "outputs": [],
   "source": [
    "from HARK.ConsumptionSaving.ConsIndShockModel import init_idiosyncratic_shocks\n",
    "init_idiosyncratic_shocks_agg_SS = deepcopy(init_idiosyncratic_shocks)"
   ]
  },
  {
   "cell_type": "code",
   "execution_count": 18,
   "metadata": {
    "code_folding": [
     1
    ]
   },
   "outputs": [],
   "source": [
    "# Calibrated and calculated parameters\n",
    "\n",
    "PermShkVarAnn   = 0.01 # var of annual perm shk from Carroll (1992)\n",
    "TranShkVarAnn   = 0.01 # var of annual tran shk from Carroll (1992)\n",
    "TranShkStd      = (0.01*4)**0.5         # Converts ann var to qtr std for tran\n",
    "PermShkStd      = (0.01*4/11)**0.5      # Converts ann var to qtr std for perm\n",
    "PermGroFacAnn   = 1.00                  # No underlying annual idiosyncratic permanent income growth\n",
    "PermGroFac      = PermGroFacAnn**0.25 # Quarterly idiosyncratic permanent income growth factor\n",
    "Rfree           = 1.01/(1.0 - 1.0/240.0)# Extra idiosyncratic interest comes from Blanchard (1985) insurance \n",
    "LivPrb          = 1.0 - 1.0/240.0       # Expected life of 240 quarters = 60 years + born at 25 = lifespan 85\n",
    "PermLogLevVarSS = (PermShkStd**2)/(1.0-(LivPrb**2.)*(PermGroFac**2.)) # Variance of SS dist of perm inc in levels"
   ]
  },
  {
   "cell_type": "code",
   "execution_count": 24,
   "metadata": {
    "code_folding": [
     1
    ]
   },
   "outputs": [],
   "source": [
    "init_idiosyncratic_shocks_agg_SS['CRRA']  = 1.0                       # Log utility\n",
    "init_idiosyncratic_shocks_agg_SS['Rfree'] = 1.01/(1.0 - 1.0/240.0)   # 240 quarters = 60 years + start life at 25\n",
    "init_idiosyncratic_shocks_agg_SS['PermGroFac'] = [PermGroFac]        # Calculated above\n",
    "init_idiosyncratic_shocks_agg_SS['PermGroFacAgg'] = 1.0              # No aggregate permanent growth\n",
    "init_idiosyncratic_shocks_agg_SS['PermShkStd'] = [PermShkStd]        # std perm shocks (cstwMPC; 0.01 annually)\n",
    "init_idiosyncratic_shocks_agg_SS['TranShkStd'] = [TranShkStd]        # std trans shocks to income,\n",
    "init_idiosyncratic_shocks_agg_SS['UnempPrb'] = 0.07                  # Prob becoming unemp if currently emp\n",
    "init_idiosyncratic_shocks_agg_SS['IncUnemp'] = 0.15                  # UI replacement rate\n",
    "init_idiosyncratic_shocks_agg_SS['UnempPrbRet'] = None              # Benefits cannot be taken away after retirement\n",
    "init_idiosyncratic_shocks_agg_SS['LivPrb'] = [LivPrb]                # Calculated above\n",
    "init_idiosyncratic_shocks_agg_SS['DiscFac'] = 0.97             # Default intertemporal discount factor, # dummy value, will be overwritten\n",
    "init_idiosyncratic_shocks_agg_SS['cycles'] = 0\n",
    "init_idiosyncratic_shocks_agg_SS['T_cycle'] = 1\n",
    "init_idiosyncratic_shocks_agg_SS['T_sim'] = 2000  # Number of periods to simulate (idiosyncratic shocks model, perpetual youth)\n",
    "init_idiosyncratic_shocks_agg_SS['T_retire'] = 0  # Kill people off if they live this many periods or more\n",
    "init_idiosyncratic_shocks_agg_SS['T_age'] = 1000  # Kill people off if they live this many periods or more\n",
    "init_idiosyncratic_shocks_agg_SS['IndL'] =  10.0/9.0# Labor supply per individual (constant)\n",
    "init_idiosyncratic_shocks_agg_SS['aNrmInitMean'] = np.log(0.00001), # Everyone starts with (nearly) zero assets\n",
    "init_idiosyncratic_shocks_agg_SS['aNrmInitStd'] = 0.0\n",
    "init_idiosyncratic_shocks_agg_SS['pLvlInitMean'] = 0.0\n",
    "init_idiosyncratic_shocks_agg_SS['pLvlInitStd'] = PermLogLevVarSS**0.5 # Variance of SS distribution of permanent income\n",
    "init_idiosyncratic_shocks_agg_SS['AgentCount'] = 10000 # Num people to sim"
   ]
  },
  {
   "cell_type": "markdown",
   "metadata": {},
   "source": [
    "Now we import the class itself and make a baseline type."
   ]
  },
  {
   "cell_type": "code",
   "execution_count": 25,
   "metadata": {},
   "outputs": [],
   "source": [
    "from HARK.ConsumptionSaving.ConsIndShockModel import IndShockConsumerType\n",
    "BaselineType = IndShockConsumerType(**init_idiosyncratic_shocks_agg_SS)"
   ]
  },
  {
   "cell_type": "markdown",
   "metadata": {},
   "source": [
    "For this exercise, we will introduce _ex ante_ heterogeneity, so the baseline type will be copied several times.\n",
    "\n",
    "First, let's create a list with seven copies of our baseline type."
   ]
  },
  {
   "cell_type": "code",
   "execution_count": 26,
   "metadata": {
    "code_folding": [
     0
    ]
   },
   "outputs": [],
   "source": [
    "# A list in python can contain anything -- including consumers\n",
    "num_consumer_types   = 7 # declare the number of types we want\n",
    "ConsumerTypes = [] # initialize an empty list\n",
    "\n",
    "for nn in range(num_consumer_types):\n",
    "    # Now create the types, and append them to the list ConsumerTypes\n",
    "    NewType = deepcopy(BaselineType)\n",
    "    NewType.seed = nn # give each consumer type a different RNG seed\n",
    "    ConsumerTypes.append(NewType)"
   ]
  },
  {
   "cell_type": "markdown",
   "metadata": {},
   "source": [
    "Now we can give each of the consumer types their own discount factor. (This approximates the distribution of parameters estimated in [\"The Distribution of Wealth and the Marginal Propensity to Consume\"](http://econ.jhu.edu/people/ccarroll/papers/cstwMPC)). "
   ]
  },
  {
   "cell_type": "code",
   "execution_count": 27,
   "metadata": {
    "code_folding": [
     0
    ]
   },
   "outputs": [],
   "source": [
    "# Seven types is enough to approximate the uniform distribution (5 is not quite enough)\n",
    "from HARK.utilities import approxUniform\n",
    "\n",
    "# Calibrations from cstwMPC, Table 3, http://www.econ2.jhu.edu/people/ccarroll/papers/cstwMPC/#TBL-4-1-1\n",
    "# are for the version of the modelt that matches the distribution of liquid assets\n",
    "bottomDiscFac  = 0.9637-0.0133\n",
    "topDiscFac     = 0.9637+0.0133\n",
    "DiscFac_list   = approxUniform(N=num_consumer_types,bot=bottomDiscFac,top=topDiscFac)[1]\n",
    "\n",
    "# Now, assign the discount factors\n",
    "for j in range(num_consumer_types):\n",
    "    ConsumerTypes[j].DiscFac = DiscFac_list[j]\n",
    "    ConsumerTypes[j].quiet   = True # Turn off some unwanted output"
   ]
  },
  {
   "cell_type": "markdown",
   "metadata": {},
   "source": [
    "Our agents now exist and have a concept of the problem they face, but we still need them to solve that problem.\n",
    "\n",
    "Once we have solved each type of consumer's individual problem, we need to know the distribution of wealth (and permanent income) that the population would achieve in the long run.\n",
    "\n",
    "The cell below does both of those tasks, looping through the consumer types. For each one, it solves that type's infinite horizon model, then simulates 1000 periods to generate an approximation to the long run distribution of wealth."
   ]
  },
  {
   "cell_type": "code",
   "execution_count": 29,
   "metadata": {
    "code_folding": [
     0
    ],
    "lines_to_next_cell": 1
   },
   "outputs": [
    {
     "name": "stderr",
     "output_type": "stream",
     "text": [
      "100%|███████████████████████████████████████████████████████████████████████████████████████| 7/7 [00:29<00:00,  4.17s/it]\n"
     ]
    }
   ],
   "source": [
    "# tqdm presents a pretty bar that interactively shows how far the calculations have gotten\n",
    "for ConsumerType in tqdm(ConsumerTypes):\n",
    "    ## We configured their discount factor above.  Now solve\n",
    "    ConsumerType.solve(verbose=False)\n",
    "    \n",
    "    # Now simulate many periods to get to the stationary distribution\n",
    "    ConsumerType.T_sim = 2000\n",
    "    ConsumerType.initializeSim()\n",
    "    ConsumerType.simulate()"
   ]
  },
  {
   "cell_type": "markdown",
   "metadata": {},
   "source": [
    "With all of that setup taken care of, let's write some functions to run our counterfactual exercise and extract the information we want.\n",
    "\n",
    "First, let's define a simple function that merely calculates the average consumption level across the entire population in the most recent simulated period."
   ]
  },
  {
   "cell_type": "code",
   "execution_count": 30,
   "metadata": {
    "code_folding": [
     0
    ],
    "lines_to_next_cell": 1
   },
   "outputs": [],
   "source": [
    "# We just merge the cNrm and pNrm lists already constructed for each ConsumerType\n",
    "def calcAvgC(ConsumerTypes):\n",
    "    \"\"\"\n",
    "    This function calculates average consumption in the economy in last simulated period,\n",
    "    averaging across ConsumerTypes.\n",
    "    \"\"\"\n",
    "    # Make arrays with all types' (normalized) consumption and permanent income level\n",
    "    # The brackets indicate that the contents will be a list (in this case, of lists)\n",
    "    cNrm = np.concatenate([ThisType.cNrmNow for ThisType in ConsumerTypes])\n",
    "    pLvl = np.concatenate([ThisType.pLvlNow for ThisType in ConsumerTypes])\n",
    "    \n",
    "    # Calculate and return average consumption level in the economy\n",
    "    avgC = np.mean(cNrm*pLvl) # c is the ratio to p, so C = c*p\n",
    "    return avgC"
   ]
  },
  {
   "cell_type": "markdown",
   "metadata": {},
   "source": [
    "Now let's create a function to run the experiment we want -- change income uncertainty, and see how consumption changes.\n",
    "To keep the code block below (mostly) clean, we'll describe the procedure below step by step here, with accompanying annotations in the codeblock.\n",
    "\n",
    "1. Initialize an empty list to hold the changes in consumption that happen after parameters change, and calculate average consumption before the change in uncertainty.\n",
    "2. Loop through the new uncertainty parameter values to assign. For each parameter value:\n",
    " 1. Assign the parameter value to the agents\n",
    " 2. Re-solve the agent's model under that degree of uncertainty\n",
    " 3. Construct a population of agents distributed according to the pre-crisis steady state\n",
    " 4. Simulate one more period-- the first period after the change in risk.\n",
    " 5. Calculate the population average consumption level given the new consumption rule\n",
    " 6. Calculate the new average consumption level as percentage change vs the prior level.\n",
    "3. Return the list of percentage changes"
   ]
  },
  {
   "cell_type": "code",
   "execution_count": 31,
   "metadata": {
    "code_folding": [
     0
    ],
    "lines_to_next_cell": 1
   },
   "outputs": [],
   "source": [
    "# Whenever you define a function, you should describe it (with a \"docstring\")\n",
    "def calcConsChangeAfterUncertaintyChange(OriginalTypes,NewVals,ParamToChange):\n",
    "    '''\n",
    "    Calculate the change in aggregate consumption for a list of values that a \n",
    "    parameter will take on.\n",
    "    \n",
    "    Parameters\n",
    "    ----------\n",
    "    OriginalTypes : [IndShockConsumerType]\n",
    "        List of consumer types, who have already had their \"pre-shock\" problem solved and simulated.\n",
    "    NewVals : np.array\n",
    "        List or array of new values that the parameter of interest will take on.\n",
    "    ParamToChange : str\n",
    "        Name of the income distribution parameter that will be changed.\n",
    "        \n",
    "    Returns\n",
    "    -------\n",
    "    ChangesInConsumption : [float]\n",
    "        List of changes in aggregate consumption corresponding to the values in NewVals, as a percentage\n",
    "        of the original aggregate consumption level.\n",
    "    '''\n",
    "    ChangesInConsumption = [] # Step 1\n",
    "    OldAvgC = calcAvgC(OriginalTypes)\n",
    "\n",
    "    # Step 2 (the loop over counterfactual parameter values)\n",
    "    for NewVal in tqdm(NewVals):\n",
    "        if ParamToChange in [\"PermShkStd\",\"TranShkStd\"]:\n",
    "            ThisVal = [NewVal]\n",
    "        else:\n",
    "            ThisVal = NewVal\n",
    "\n",
    "        ConsumerTypesNew = deepcopy(OriginalTypes)          \n",
    "        for index,ConsumerTypeNew in enumerate(ConsumerTypesNew):\n",
    "            setattr(ConsumerTypeNew,ParamToChange,ThisVal) # Step 2A   \n",
    "            ConsumerTypeNew.updateIncomeProcess()\n",
    "            ConsumerTypeNew.solve(verbose=False) # Step 2B\n",
    "            \n",
    "            ConsumerTypeNew.initializeSim() # Step 2C\n",
    "            ConsumerTypeNew.aNrmNow = OriginalTypes[index].aNrmNow\n",
    "            ConsumerTypeNew.pLvlNow = OriginalTypes[index].pLvlNow\n",
    "            \n",
    "            ConsumerTypeNew.simOnePeriod() # Step 2D\n",
    "\n",
    "        NewAvgC = calcAvgC(ConsumerTypesNew) # Step 2E\n",
    "        ChangeInConsumption = 100. * (NewAvgC - OldAvgC) / OldAvgC # Step 2F\n",
    "        ChangesInConsumption.append(ChangeInConsumption)\n",
    "\n",
    "    return ChangesInConsumption # Step 3, returning the output"
   ]
  },
  {
   "cell_type": "markdown",
   "metadata": {},
   "source": [
    "Our counterfactual experiment function takes three inputs-- consumer types, counterfactual values, and the name of the parameter we want to change. For the sake of convenience, let's define small functions to run the experiment for each parameter with just a single input."
   ]
  },
  {
   "cell_type": "code",
   "execution_count": 12,
   "metadata": {
    "code_folding": [
     0
    ],
    "lines_to_next_cell": 1
   },
   "outputs": [],
   "source": [
    "# Trivial functions can be useful in making the logic of your program clear\n",
    "def calcConsChangeAfterPermShkChange(newVals):\n",
    "    return calcConsChangeAfterUncertaintyChange(ConsumerTypes,newVals,\"PermShkStd\")\n",
    "\n",
    "def calcConsChangeAfterTranShkChange(newVals):\n",
    "    return calcConsChangeAfterUncertaintyChange(ConsumerTypes,newVals,\"TranShkStd\")\n",
    "\n",
    "def calcConsChangeAfterUnempPrbChange(newVals):\n",
    "    return calcConsChangeAfterUncertaintyChange(ConsumerTypes,newVals,\"UnempPrb\")"
   ]
  },
  {
   "cell_type": "markdown",
   "metadata": {},
   "source": [
    "Now we can finally run our experiment.  In the cell below, we generate a plot of the change in aggregate consumption vs the (underlying) standard deviation of permanent income shocks."
   ]
  },
  {
   "cell_type": "code",
   "execution_count": 32,
   "metadata": {
    "code_folding": [
     0
    ]
   },
   "outputs": [
    {
     "name": "stderr",
     "output_type": "stream",
     "text": [
      "100%|█████████████████████████████████████████████████████████████████████████████████████| 10/10 [00:05<00:00,  1.42it/s]\n"
     ]
    },
    {
     "data": {
      "image/png": "[encoded data removed]",
      "text/plain": [
       "<Figure size 432x288 with 1 Axes>"
      ]
     },
     "metadata": {
      "needs_background": "light"
     },
     "output_type": "display_data"
    }
   ],
   "source": [
    "# Calculate the consequences of an \"MIT shock\" to the standard deviation of permanent shocks\n",
    "ratio_min = 0.8 # minimum number to multiply uncertainty parameter by\n",
    "TargetChangeInC = -4.1 # Source: see comment above\n",
    "num_points = 10 # number of parameter values to plot in graphs. More=slower\n",
    "\n",
    "# First change the variance of the permanent income shock\n",
    "perm_ratio_max = 2.5 # Put whatever value in you want!  maximum number to multiply var of perm income shock by\n",
    "\n",
    "perm_min = BaselineType.PermShkStd[0] * ratio_min\n",
    "perm_max = BaselineType.PermShkStd[0] * perm_ratio_max\n",
    "\n",
    "plt.ylabel('% Change in Consumption')\n",
    "plt.xlabel('Std. Dev. of Perm. Income Shock (Baseline = ' + str(round(BaselineType.PermShkStd[0],2)) + ')')\n",
    "plt.title('Change in Cons. Following Increase in Perm. Income Uncertainty')\n",
    "plt.ylim(-20.,5.)\n",
    "plt.hlines(TargetChangeInC,perm_min,perm_max)\n",
    "# The expression below shows the power of python\n",
    "plotFuncs([calcConsChangeAfterPermShkChange],perm_min,perm_max,N=num_points)"
   ]
  },
  {
   "cell_type": "markdown",
   "metadata": {},
   "source": [
    "The figure shows that if people's beliefs about the standard deviation of permanent shocks to their incomes had changed from 0.06 (the default value) to about 0.014, the model would predict an immediate drop in consumption spending of about the magnitude seen in 2008.  \n",
    "\n",
    "The question at hand is whether this is a reasonable or an unreasonable magnitude for a change in uncertainty.  Some perspective on that question is offered by the large literature that attempts to estimate the magnitude of persistent or permanent shocks to household income.  The answer varies substantially across household types, countries, and time periods, but our sense of the literature is that the whole span of the territory between 0.04 and ranging nearly up perhaps 0.16 is well populated (in the sense that substantial numbers of people or countries have been estimated to experience shocks of this magnitude).\n",
    "\n",
    "The conclusion is that, in order for an increase in permanent income uncertainty to explain the entire drop in consumption spending, uncertainty in permanent income would have to have roughly doubled between Q2 and Q4 of 2008.  While this seems rather a large increase in uncertainty, it is by no means an absurdly large increase.  And, there is no reason to rule out the possibility that people perceived a likely change in the _level_ of their permanent income as well, which of course would translate one-for-one into a change in the appropriate level of consumption.  \n",
    "\n",
    "The point is that it is not at all implausible, as a quantitative proposition, that an increase in uncertainty could have been responsible for a substantial portion of the decline in nondurable expenditures in the Great Recesssion.  (And it is even easier for an increase in uncertainty to induce a decline in durable goods purchases."
   ]
  },
  {
   "cell_type": "markdown",
   "metadata": {},
   "source": [
    "### PROBLEM\n",
    "\n",
    "Compute the change in transitory uncertainty and of unemployment risk that would be sufficient to make consumption fall by the appropriate amount (by making a figure similar to the one above). Brifely explain your results in intuitive terms, and discuss the implications for the measurement and interpretation of measures of \"uncertainty\" in consumer surveys."
   ]
  },
  {
   "cell_type": "markdown",
   "metadata": {},
   "source": [
    "### PROBLEM\n",
    "\n",
    "During the Coronavirus pandemic of 2020, many governments issued \"lockdown\" orders to their populations to deter the spread of the disease.  A consequence was that many industries that require in-person interaction (like restaurants) had no work for their employees.  A number of governments passed \"stimulus\" packages that included one-time cash payments to their citizens, as a crude way to get money to people who might otherwise have faced severe financial distress.\n",
    "\n",
    "Use the toolkit to perform an exercise designed to make a rough calculation of how such stimulus payments might affect the dynamics of aggregate consumption expenditures.  To do this, you will want to use the `ConsPrefShock` model, which allows for a temporary shock to the utility from consumption that can be used to model a one-quarter closing of restaurants and other retail businesses (your marginal utility of spending money on restaurants goes to zero if the restaurants are closed!).  \n",
    "\n",
    "In more detail, you might incorporate a negative marginal utility shock of 10 percent in the quarter when the pandemic recession hits, followed by a full bounceback of marginal utility to its normal state one quarter later.  And, I suggest you incorporate a stimulus payment of about 5 percent of annual income for a typical consumer.  Your task is to show the path of consumer spending leading up to the pandemic quarter (which should be flat, since the pandemic is unanticipated), and then the path during the pandemic quarter and in the several quarters after it."
   ]
  }
 ],
 "metadata": {
  "jupytext": {
   "cell_metadata_filter": "collapsed,code_folding",
   "formats": "ipynb,py:percent"
  },
  "kernelspec": {
   "display_name": "Python 3 (ipykernel)",
   "language": "python",
   "name": "python3"
  },
  "language_info": {
   "codemirror_mode": {
    "name": "ipython",
    "version": 3
   },
   "file_extension": ".py",
   "mimetype": "text/x-python",
   "name": "python",
   "nbconvert_exporter": "python",
   "pygments_lexer": "ipython3",
   "version": "3.9.7"
  },
  "varInspector": {
   "cols": {
    "lenName": 16,
    "lenType": 16,
    "lenVar": 40
   },
   "kernels_config": {
    "python": {
     "delete_cmd_postfix": "",
     "delete_cmd_prefix": "del ",
     "library": "var_list.py",
     "varRefreshCmd": "print(var_dic_list())"
    },
    "r": {
     "delete_cmd_postfix": ") ",
     "delete_cmd_prefix": "rm(",
     "library": "var_list.r",
     "varRefreshCmd": "cat(var_dic_list()) "
    }
   },
   "types_to_exclude": [
    "module",
    "function",
    "builtin_function_or_method",
    "instance",
    "_Feature"
   ],
   "window_display": false
  }
 },
 "nbformat": 4,
 "nbformat_minor": 4
}
