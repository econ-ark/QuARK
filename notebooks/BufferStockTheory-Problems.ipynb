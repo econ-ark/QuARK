{
 "cells": [
  {
   "cell_type": "markdown",
   "metadata": {},
   "source": [
    "# Theoretical Foundations of Buffer Stock Saving\n",
    "\n",
    "<cite data-cite=\"6202365/8AH9AXN2\"></cite>\n",
    "\n",
    "<p style=\"text-align: center;\"><small><small><small>Generator: BufferStockTheory-make/notebooks_byname</small></small></small></p>\n",
    "\n",
    "[![econ-ark.org](https://img.shields.io/badge/Powered%20by-Econ--ARK-3e8acc.svg)](https://econ-ark.org/materials/BufferStockTheory)"
   ]
  },
  {
   "cell_type": "markdown",
   "metadata": {},
   "source": [
    "[This notebook](https://github.com/llorracc/BufferStockTheory/blob/master/Code/Python/BufferStockTheory.ipynb) uses the [Econ-ARK/HARK](https://github.com/econ-ark/hark) toolkit to reproduce and illustrate key results of the paper [Theoretical Foundations of Buffer Stock Saving](http://econ.jhu.edu/people/ccarroll/papers/BufferStockTheory).\n",
    "\n",
    "If you are not familiar with the HARK toolkit, you can browse [the documentation](https://hark.readthedocs.io).\n",
    "\n",
    "Options for interacting with this notebook:\n",
    "1. [View (noninteractively)](https://github.com/llorracc/BufferStockTheory/blob/master/Code/Python/BufferStockTheory.ipynb) on GitHub\n",
    "1. [Launch Online Interactive Version](https://econ-ark.org/materials/BufferStockTheory)\n",
    "1. For fast (local) execution, install [HARK](http://github.com/econ-ark/HARK) on your computer ([QUICK START GUIDE](https://github.com/econ-ark/HARK/blob/master/README.md)) then follow these instructions to retrieve the full contents of the `BufferStockTheory` REMARK:\n",
    "   1. At a command line, change the working directory to the one where you want to install\n",
    "       * On unix, if you install in the `/tmp` directory, the installation will disappear after a reboot:\n",
    "       * `cd /tmp`\n",
    "   1. `git clone https://github.com/econ-ark/REMARK`\n",
    "   1. `cd REMARK/REMARKs/BufferStockTheory/BufferStockTheory`\n",
    "   1. `git submodule update --recursive --remote`"
   ]
  },
  {
   "cell_type": "code",
   "execution_count": 1,
   "metadata": {
    "lines_to_next_cell": 1
   },
   "outputs": [],
   "source": [
    "# This cell does some standard python setup\n",
    "\n",
    "# Import related generic python packages\n",
    "import numpy as np\n",
    "from copy import deepcopy\n",
    "\n",
    "# Plotting tools\n",
    "import matplotlib.pyplot as plt\n",
    "from matplotlib.pyplot import plot, draw, show\n",
    "\n",
    "# The warnings package allows us to ignore some harmless but alarming warning messages\n",
    "import warnings\n",
    "warnings.filterwarnings(\"ignore\")\n",
    "\n",
    "\n",
    "# Code to allow a master \"Generator\" and derived \"Generated\" versions\n",
    "#   - allows \"$nb-Problems-And-Solutions → $nb-Problems → $nb\"\n",
    "Generator=False # Is this notebook the master or is it generated?\n",
    "\n",
    "# Whether to save the figures to Figures_dir\n",
    "saveFigs=True\n",
    "\n",
    "# Whether to draw the figures\n",
    "drawFigs=True\n",
    "\n",
    "import HARK\n",
    "if HARK.__version__ < '0.10.4':\n",
    "    raise ImportError('This notebook requires atleast econ-ark v0.10.4,  please update your installation pip install -U econ-ark or conda install -c conda-forge econ-ark')\n",
    "\n",
    "\n",
    "from HARK.utilities import find_gui, make_figs, determine_platform, test_latex_installation, setup_latex_env_notebook\n",
    "pf = determine_platform()\n",
    "try:\n",
    "    latexExists = test_latex_installation(pf)\n",
    "except ImportError: # windows and MacOS requires manual install\n",
    "    latexExists = False\n",
    "\n",
    "setup_latex_env_notebook(pf, latexExists)\n",
    "\n",
    "# check if GUI is present if not then switch drawFigs to False and force saveFigs to be True\n",
    "if not find_gui():\n",
    "    drawFigs = False\n",
    "    saveFigs = True\n",
    "\n",
    "# this can be removed if we pass in saveFigs and drawFigs in every call to make('figure')\n",
    "def make(figure_name, target_dir=\"Figures\"):\n",
    "    make_figs(figure_name, saveFigs, drawFigs, target_dir)"
   ]
  },
  {
   "cell_type": "code",
   "execution_count": 2,
   "metadata": {
    "lines_to_next_cell": 2
   },
   "outputs": [],
   "source": [
    "# Import HARK tools\n",
    "from HARK.ConsumptionSaving.ConsIndShockModel import IndShockConsumerType\n",
    "from HARK.utilities import plotFuncsDer, plotFuncs"
   ]
  },
  {
   "cell_type": "markdown",
   "metadata": {},
   "source": [
    "## [The Problem](http://econ.jhu.edu/people/ccarroll/papers/BufferStockTheory/#The-Problem)\n",
    "\n",
    "The paper defines and calibrates a small set of parameters:\n",
    "\n",
    "| Parameter | Description | Code | Value |\n",
    "|:---:| ---         | ---  | :---: |\n",
    "| $\\Gamma$ | Permanent Income Growth Factor | $\\texttt{PermGroFac}$ | 1.03 |\n",
    "| $\\mathsf{R}$ | Interest Factor | $\\texttt{Rfree}$ | 1.04 |\n",
    "| $\\beta$ | Time Preference Factor | $\\texttt{DiscFac}$ | 0.96 |\n",
    "| $\\rho$ | Coeﬃcient of Relative Risk Aversion| $\\texttt{CRRA}$ | 2 |\n",
    "| $\\wp$ | Probability of Unemployment | $\\texttt{UnempPrb}$ | 0.005 |\n",
    "| $\\mu$ | Income when Unemployed | $\\texttt{IncUnemp}$ | 0. |\n",
    "| $\\sigma_\\psi$ | Std Dev of Log Permanent Shock| $\\texttt{PermShkStd}$ | 0.1 |\n",
    "| $\\sigma_\\theta$ | Std Dev of Log Transitory Shock| $\\texttt{TranShkStd}$ | 0.1 |\n",
    "\n",
    "For a microeconomic consumer with 'Market Resources' (net worth plus current income) $M_{t}$, end-of-period assets $A_{t}$ will be the amount that remains after consumption of $C_{t}$.  <!-- Next period's 'Balances' $B_{t+1}$ reflect this period's $A_{t}$ augmented by return factor $R$:-->\n",
    "\\begin{eqnarray}\n",
    "A_{t}   &=&M_{t}-C_{t}\n",
    "\\end{eqnarray}\n",
    "\n",
    "The consumer's permanent noncapital income $P$ grows by a predictable factor $\\Gamma$ and is subject to an unpredictable lognormally-distributed multiplicative shock $\\mathbb{E}_{t}[\\psi_{t+1}]=1$,\n",
    "\\begin{eqnarray}\n",
    "P_{t+1} & = & P_{t} \\Gamma \\psi_{t+1}\n",
    "\\end{eqnarray}\n",
    "\n",
    "and, if the consumer is employed, actual income is permanent income multiplied by a logormal transitory shock $\\theta^{\\text{e}}$.  There is also a probability $\\wp$ that the consumer will be temporarily unemployed and experience income of $\\mu = 0$ (unemployment is nt a persistent state in this model; it is IID).  We construct $\\theta^{e}$ so that its mean value is $1/(1-\\wp)$ because in that case the mean level of the transitory shock (accounting for both unemployed and employed states) is exactly $1 = 0 \\times p + (1-p) \\times \\mathbb{E}_{t}[\\theta^{e}_{t+1}]$.  We can combine the unemployment shock $\\theta^{u}=0$ and the transitory shock to employment income $\\theta^{e}$ into $\\theta _{t+1}$, so that next period's market resources are\n",
    "\\begin{eqnarray}\n",
    "    M_{t+1} &=& A_{t}\\mathsf{R} +P_{t+1}\\theta_{t+1}.  \\notag\n",
    "\\end{eqnarray}\n",
    "\n",
    "When the consumer has a CRRA utility function $u(c)=\\frac{c^{1-\\rho}}{1-\\rho}$, the paper shows that the problem can be written in terms of ratios of money variables to permanent income, e.g. $m_{t} \\equiv M_{t}/P_{t}$, and the Bellman form of [the problem reduces to](http://econ.jhu.edu/people/ccarroll/papers/BufferStockTheory/#The-Related-Problem):\n",
    "\n",
    "\\begin{eqnarray*}\n",
    "v_t(m_t) &=& \\max_{c_t}~~ u(c_t) + \\beta~\\mathbb{E}_{t} [(\\Gamma\\psi_{t+1})^{1-\\rho} v_{t+1}(m_{t+1}) ] \\\\\n",
    "& s.t. & \\\\\n",
    "a_t &=& m_t - c_t \\\\\n",
    "m_{t+1} &=& a_t R/(\\Gamma \\psi_{t+1}) + \\theta_{t+1} \\\\\n",
    "\\end{eqnarray*}\n"
   ]
  },
  {
   "cell_type": "code",
   "execution_count": 3,
   "metadata": {
    "code_folding": [
     0
    ],
    "lines_to_next_cell": 0
   },
   "outputs": [],
   "source": [
    "# Define a parameter dictionary with baseline parameter values\n",
    "\n",
    "# Set the baseline parameter values\n",
    "PermGroFac = 1.03\n",
    "Rfree      = 1.04\n",
    "DiscFac    = 0.96\n",
    "CRRA       = 2.00\n",
    "UnempPrb   = 0.005\n",
    "IncUnemp   = 0.0\n",
    "PermShkStd = 0.1\n",
    "TranShkStd = 0.1\n",
    "# Import default parameter values\n",
    "import HARK.ConsumptionSaving.ConsumerParameters as Params\n",
    "\n",
    "# Make a dictionary containing all parameters needed to solve the model\n",
    "base_params = Params.init_idiosyncratic_shocks\n",
    "\n",
    "# Set the parameters for the baseline results in the paper\n",
    "# using the variable values defined in the cell above\n",
    "base_params['PermGroFac'] = [PermGroFac]   # Permanent income growth factor\n",
    "base_params['Rfree']      = Rfree          # Interest factor on assets\n",
    "base_params['DiscFac']    = DiscFac        # Time Preference Factor\n",
    "base_params['CRRA']       = CRRA           # Coefficient of relative risk aversion\n",
    "base_params['UnempPrb']   = UnempPrb       # Probability of unemployment (e.g. Probability of Zero Income in the paper)\n",
    "base_params['IncUnemp']   = IncUnemp       # Induces natural borrowing constraint\n",
    "base_params['PermShkStd'] = [PermShkStd]   # Standard deviation of log permanent income shocks\n",
    "base_params['TranShkStd'] = [TranShkStd]   # Standard deviation of log transitory income shocks\n",
    "\n",
    "# Some technical settings that are not interesting for our purposes\n",
    "base_params['LivPrb']       = [1.0]   # 100 percent probability of living to next period\n",
    "base_params['CubicBool']    = True    # Use cubic spline interpolation\n",
    "base_params['T_cycle']      = 1       # No 'seasonal' cycles\n",
    "base_params['BoroCnstArt']  = None    # No artificial borrowing constraint"
   ]
  },
  {
   "cell_type": "markdown",
   "metadata": {},
   "source": [
    "## Convergence of the Consumption Rules\n",
    "\n",
    "Under the given parameter values, [the paper's first figure](http://econ.jhu.edu/people/ccarroll/papers/BufferStockTheory/#Convergence-of-the-Consumption-Rules) depicts the successive consumption rules that apply in the last period of life $(c_{T}(m))$, the second-to-last period, and earlier periods $(c_{T-n})$.  $c(m)$ is the consumption function to which these converge:\n",
    "\n",
    "$$\n",
    "c(m) = \\lim_{n \\uparrow \\infty} c_{T-n}(m)\n",
    "$$\n"
   ]
  },
  {
   "cell_type": "code",
   "execution_count": 4,
   "metadata": {
    "code_folding": [
     0
    ],
    "lines_to_next_cell": 2
   },
   "outputs": [],
   "source": [
    "# Create a buffer stock consumer instance by passing the dictionary to the class.\n",
    "baseEx = IndShockConsumerType(**base_params)\n",
    "baseEx.cycles = 100   # Make this type have a finite horizon (Set T = 100)\n",
    "\n",
    "baseEx.solve()        # Solve the model\n",
    "baseEx.unpackcFunc()  # Make the consumption function easily accessible"
   ]
  },
  {
   "cell_type": "code",
   "execution_count": 5,
   "metadata": {},
   "outputs": [
    {
     "name": "stdout",
     "output_type": "stream",
     "text": [
      "Saving figure cFuncsConverge in Figures\n"
     ]
    },
    {
     "data": {
      "image/png": "[encoded data removed]",
      "text/plain": [
       "<Figure size 864x648 with 1 Axes>"
      ]
     },
     "metadata": {},
     "output_type": "display_data"
    }
   ],
   "source": [
    "# Plot the different consumption rules for the different periods\n",
    "\n",
    "m1 = np.linspace(0,9.5,1000) # Set the plot range of m\n",
    "m2 = np.linspace(0,6.5,500)\n",
    "c_m  = baseEx.cFunc[0](m1)   # c_m can be used to define the limiting inﬁnite-horizon consumption rule here\n",
    "c_t1 = baseEx.cFunc[-2](m1) # c_t1 defines the second-to-last period consumption rule\n",
    "c_t5 = baseEx.cFunc[-6](m1) # c_t5 defines the T-5 period consumption rule\n",
    "c_t10 = baseEx.cFunc[-11](m1)  # c_t10 defines the T-10 period consumption rule\n",
    "c_t0 = m2                            # c_t0 defines the last period consumption rule\n",
    "plt.figure(figsize = (12,9))\n",
    "plt.plot(m1,c_m,color=\"black\")\n",
    "plt.plot(m1,c_t1,color=\"black\")\n",
    "plt.plot(m1,c_t5,color=\"black\")\n",
    "plt.plot(m1,c_t10,color=\"black\")\n",
    "plt.plot(m2,c_t0,color=\"black\")\n",
    "plt.xlim(0,11)\n",
    "plt.ylim(0,7)\n",
    "plt.text(7,6,r'$c_{T}(m) = 45$ degree line',fontsize = 22,fontweight='bold')\n",
    "plt.text(9.6,5.3,r'$c_{T-1}(m)$',fontsize = 22,fontweight='bold')\n",
    "plt.text(9.6,2.6,r'$c_{T-5}(m)$',fontsize = 22,fontweight='bold')\n",
    "plt.text(9.6,2.1,r'$c_{T-10}(m)$',fontsize = 22,fontweight='bold')\n",
    "plt.text(9.6,1.7,r'$c(m)$',fontsize = 22,fontweight='bold')\n",
    "plt.arrow(6.9,6.05,-0.6,0,head_width= 0.1,width=0.001,facecolor='black',length_includes_head='True')\n",
    "plt.tick_params(labelbottom=False, labelleft=False,left='off',right='off',bottom='off',top='off')\n",
    "plt.text(0,7.05,\"$c$\",fontsize = 26)\n",
    "plt.text(11.1,0,\"$m$\",fontsize = 26)\n",
    "# Save the figures in several formats\n",
    "\n",
    "make('cFuncsConverge') # Change to False if you want to run uninterrupted"
   ]
  },
  {
   "cell_type": "markdown",
   "metadata": {},
   "source": [
    "### PROBLEM: Natural Borrowing Constraint Approaches Artificial Constraint\n",
    "\n",
    "Show numerically the result that is proven analytically in [The-Liquidity-Constrained-Solution-as-a-Limit](http://econ.jhu.edu/people/ccarroll/papers/BufferStockTheory/#The-Liquidity-Constrained-Solution-as-a-Limit), by solving the model for successively smaller values of $\\wp$.\n",
    "   * You need only to solve for the second-to-last period of life to do this\n",
    "      * `TwoPeriodModel = IndShockConsumerType(**base_params)`\n",
    "      * `TwoPeriodModel.cycles = 2   # Make this type have a two period horizon (Set T = 2)`\n",
    "\n",
    "   * You should show the consumption rules for different values of $\\wp$ on the same graph\n",
    "      * To make this easier, you will want to use the plotFuncs command:\n",
    "         * `from HARK.utilities import plotFuncsDer, plotFuncs`\n",
    "\n",
    "Create a cell or cells in the notebook below this cell and put your solution there; comment on the size of $\\wp$ needed to make the two models visually indistinguishable"
   ]
  },
  {
   "cell_type": "markdown",
   "metadata": {},
   "source": [
    "## Factors and Conditions\n",
    "\n",
    "### [The Finite Human Wealth Condition](http://econ.jhu.edu/people/ccarroll/papers/BufferStockTheory/#Human-Wealth)\n",
    "\n",
    "Human wealth for a perfect foresight consumer is defined as the present discounted value of future income:\n",
    "\n",
    "\\begin{eqnarray}\n",
    "H_{t} & = & \\mathbb{E}_{t}[P_{t} + \\mathsf{R}^{-1} P_{t+1} + \\mathsf{R}^{2} P_{t+2} ... ] \\\\\n",
    "      & = & P_{t} \\left(1 + (\\Gamma/\\mathsf{R}) + (\\Gamma/\\mathsf{R})^{2} ... \\right)\n",
    "\\end{eqnarray}\n",
    "which is an infinite number if $\\Gamma/\\mathsf{R} \\geq 1$.  We say that the 'Finite Human Wealth Condition' (FHWC) holds if\n",
    "$0 \\leq (\\Gamma/\\mathsf{R}) < 1$."
   ]
  },
  {
   "cell_type": "markdown",
   "metadata": {},
   "source": [
    "### [Absolute Patience and the AIC](http://econ.jhu.edu/people/ccarroll/papers/BufferStockTheory/#AIC)\n",
    "\n",
    "The paper defines the Absolute Patience Factor as being equal to the ratio $C_{t+1}/C_{t}$ for a perfect foresight consumer.  The Old English character <span style=\"font-size:larger;\">\"&#222;\"</span> is used for this object in the paper, but <span style=\"font-size:larger;\">\"&#222;\"</span> cannot currently be rendered conveniently in the mathematical displays in Jupyter notebooks, so we will substitute $\\Phi$ here:\n",
    "\n",
    "\\begin{equation}\n",
    "\\Phi = (\\mathsf{R} \\beta)^{1/\\rho}\n",
    "\\end{equation}\n",
    "\n",
    "If $\\Phi = 1$, a perfect foresight consumer will spend exactly the amount that can be sustained perpetually (given their current and future resources).  If $\\Phi < 1$ (the consumer is 'absolutely impatient'; or, 'the absolute impatience condition holds'), the consumer is consuming more than the sustainable amount, so consumption will fall, and if the consumer is 'absolutely patient' with $\\Phi > 1$ consumption will grow over time.\n",
    "\n"
   ]
  },
  {
   "cell_type": "markdown",
   "metadata": {},
   "source": [
    "### [Growth Patience and the GIC](http://econ.jhu.edu/people/ccarroll/papers/BufferStockTheory/#GIC)\n",
    "\n",
    "For a [perfect foresight consumer](http://econ.jhu.edu/people/ccarroll/public/lecturenotes/consumption/PerfForesightCRRA), whether the ratio of consumption to the permanent component of income $P$ is rising, constant, or falling depends on the relative growth rates of consumption and permanent income; that ratio is measured by the \"Perfect Foresight Growth Patience Factor\":\n",
    "\n",
    "\\begin{eqnarray}\n",
    "\\Phi_{\\Gamma} & = & \\Phi/\\Gamma\n",
    "\\end{eqnarray}\n",
    "and whether the ratio is falling or rising over time depends on whether $\\Phi_{\\Gamma}$ is below or above 1.\n",
    "\n",
    "An analogous condition can be defined when there is uncertainty about permanent income.  Defining $\\tilde{\\Gamma} = (\\mathbb{E}[\\psi^{-1}])^{-1}\\Gamma$, the 'Growth Impatience Condition' (GIC) is that\n",
    "\\begin{eqnarray}\n",
    "  \\Phi/\\tilde{\\Gamma} & < & 1\n",
    "\\end{eqnarray}"
   ]
  },
  {
   "cell_type": "markdown",
   "metadata": {
    "lines_to_next_cell": 2
   },
   "source": [
    "### [The Finite Value of Autarky Condition (FVAC)](http://econ.jhu.edu/people/ccarroll/papers/BufferStockTheory/#Autarky-Value)"
   ]
  },
  {
   "cell_type": "markdown",
   "metadata": {},
   "source": [
    "The paper [shows](http://econ.jhu.edu/people/ccarroll/papers/BufferStockTheory/#Autarky-Value) that a consumer who planned to spend his permanent income $\\{ p_{t}, p_{t+1}, ...\\} $ in every period would have value defined by\n",
    "\n",
    "\\begin{equation}\n",
    "v_{t}^{\\text{autarky}} = u(p_{t})\\left(\\frac{1}{1-\\beta \\Gamma^{1-\\rho} \\mathbb{E}[\\psi^{1-\\rho}]}\\right)\n",
    "\\end{equation}\n",
    "\n",
    "and defines the 'Finite Value of Autarky Condition' as the requirement that the denominator of this expression be a positive finite number:\n",
    "\n",
    "\\begin{equation}\n",
    "\\beta \\Gamma^{1-\\rho} \\mathbb{E}[\\psi^{1-\\rho}] < 1\n",
    "\\end{equation}"
   ]
  },
  {
   "cell_type": "markdown",
   "metadata": {},
   "source": [
    "### [The Weak Return Impatience Condition (WRIC)](http://www.econ2.jhu.edu/people/ccarroll/papers/BufferStockTheory/#WRIC)\n",
    "\n",
    "The 'Return Impatience Condition' $\\Phi/\\mathsf{R} < 1$ has long been understood to be required for the perfect foresight model to have a nondegenerate solution (when $\\rho=1$, this reduces to $\\beta < R$).  If the RIC does not hold, the consumer is so patient that the optimal consumption function approaches zero as the horizon extends indefinitely.\n",
    "\n",
    "When the probability of unemployment is $\\wp$, the paper articulates an analogous (but weaker) condition:\n",
    "\n",
    "\\begin{eqnarray}\n",
    " \\wp^{1/\\rho} \\Phi/\\mathsf{R} & < & 1\n",
    "\\end{eqnarray}"
   ]
  },
  {
   "cell_type": "markdown",
   "metadata": {},
   "source": [
    "# Key Results\n",
    "\n",
    "## [Nondegenerate Solution Requires FVAC and WRIC](http://econ.jhu.edu/people/ccarroll/papers/BufferStockTheory/#Sufficient-Conditions-For-Nondegenerate-Solution)\n",
    "\n",
    "A main result of the paper is that the conditions required for the model to have a nondegenerate solution ($0 < c(m) < \\infty$ for feasible $m$) are that the Finite Value of Autarky (FVAC) and Weak Return Impatience Condition (WRAC) hold."
   ]
  },
  {
   "cell_type": "markdown",
   "metadata": {},
   "source": [
    "## [Natural Borrowing Constraint limits to Artificial Borrowing Constraint](http://www.econ2.jhu.edu/people/ccarroll/papers/BufferStockTheory/#The-Liquidity-Constrained-Solution-as-a-Limit)"
   ]
  },
  {
   "cell_type": "markdown",
   "metadata": {},
   "source": [
    "Defining $\\chi(\\wp)$ as the consumption function associated with any particular value of $\\wp$, and defining $\\hat{\\chi}$ as the consumption function that would apply in the absence of the zero-income shocks but in the presence of an 'artificial' borrowing constraint requiring $a \\geq 0$, a la Deaton (1991), the paper shows that\n",
    "\n",
    "\\begin{eqnarray}\n",
    "\\lim_{\\wp \\downarrow 0}~\\chi(\\wp) & = & \\hat{\\chi}\n",
    "\\end{eqnarray}\n",
    "\n",
    "That is, as $\\wp$ approaches zero the problem with uncertainty becomes identical to the problem that instead has constraints.  (See [Precautionary Saving and Liquidity Constraints](http://econ.jhu.edu/people/ccarroll/papers/LiqConstr) for a full treatment of the relationship between precautionary saving and liquidity constraints)."
   ]
  },
  {
   "cell_type": "markdown",
   "metadata": {},
   "source": [
    "## [$c(m)$ is Finite Even When Human Wealth Is Infinite](http://econ.jhu.edu/people/ccarroll/papers/BufferStockTheory/#When-The-GIC-Fails)\n",
    "\n",
    "In the perfect foresight model, if $\\mathsf{R} < \\Gamma$ the PDV of future labor income is infinite and so the limiting consumption function is $c(m) = \\infty$ for all $m$.  Many models have no well-defined solution when human wealth is infinite.\n",
    "\n",
    "The presence of uncertainty changes this: Even when \"human wealth\" is infinite, the limiting consumption function is finite for all values of $m$.\n",
    "\n",
    "This is because uncertainty imposes a \"natural borrowing constraint\" that deters the consumer from borrowing against their unbounded (but uncertain) future labor income."
   ]
  },
  {
   "cell_type": "markdown",
   "metadata": {},
   "source": [
    "A [table](http://econ.jhu.edu/people/ccarroll/papers/BufferStockTheory/#Sufficient-Conditions-For-Nondegenerate-Solution) puts this result in the context of implications of other conditions and restrictions.\n",
    "\n"
   ]
  },
  {
   "cell_type": "markdown",
   "metadata": {},
   "source": [
    "## [If the GIC Holds, $\\exists$ a finite 'target' $m$](http://econ.jhu.edu/people/ccarroll/papers/BufferStockTheory/#onetarget)\n",
    "\n",
    "Section [There Is Exactly One Target $m$ Ratio, Which Is Stable](http://econ.jhu.edu/people/ccarroll/papers/BufferStockTheory/#onetarget) shows that, under parameter values for which the limiting consumption function exists, if the GIC holds then there will be a value $\\check{m}$ such that:\n",
    "\n",
    "\\begin{eqnarray}\n",
    "\\mathbb{E}[m_{t+1}] & > & m_{t}~\\text{if $m_{t} < \\check{m}$} \\\\\n",
    "\\mathbb{E}[m_{t+1}] & < & m_{t}~\\text{if $m_{t} > \\check{m}$} \\\\\n",
    "\\mathbb{E}[m_{t+1}] & = & m_{t}~\\text{if $m_{t} = \\check{m}$}\n",
    "\\end{eqnarray}"
   ]
  },
  {
   "cell_type": "markdown",
   "metadata": {},
   "source": [
    "## [If the GIC Fails, Target Wealth is Infinite ](http://econ.jhu.edu/people/ccarroll/papers/BufferStockTheory/#The-GIC)\n",
    "\n",
    "[A figure](http://econ.jhu.edu/people/ccarroll/papers/BufferStockTheory/#FVACnotGIC) depicts a solution when the **FVAC** (Finite Value of Autarky Condition) and **WRIC** hold (so that the model has a solution) but the **GIC** (Growth Impatience Condition) fails.  In this case the target wealth ratio is infinity.\n",
    "\n",
    "The parameter values in this specific example are:\n",
    "\n",
    "| Param | Description | Code | Value |\n",
    "| :---: | ---         | ---  | :---: |\n",
    "| $\\Gamma$ | Permanent Income Growth Factor | $\\texttt{PermGroFac}$ | 1.00 |\n",
    "| $\\mathrm{\\mathsf{R}}$ | Interest Factor | $\\texttt{Rfree}$ | 1.06 |\n",
    "\n",
    "The figure is reproduced below."
   ]
  },
  {
   "cell_type": "code",
   "execution_count": 7,
   "metadata": {
    "code_folding": [],
    "lines_to_next_cell": 2
   },
   "outputs": [],
   "source": [
    "# Construct the \"GIC fails\" example.\n",
    "\n",
    "GIC_fail_dictionary = dict(base_params)\n",
    "GIC_fail_dictionary['Rfree']      = 1.04\n",
    "GIC_fail_dictionary['PermGroFac'] = [1.00]\n",
    "\n",
    "GICFailExample = IndShockConsumerType(\n",
    "    cycles=0, # cycles=0 makes this an infinite horizon consumer\n",
    "    **GIC_fail_dictionary)"
   ]
  },
  {
   "cell_type": "markdown",
   "metadata": {},
   "source": [
    "The $\\mathtt{IndShockConsumerType}$ tool automatically checks various parametric conditions, and will give a warning as well as the values of the factors if key conditions fail to be met.\n",
    "\n",
    "We can also directly check the conditions, asking for the maximum verbosity:"
   ]
  },
  {
   "cell_type": "code",
   "execution_count": 8,
   "metadata": {
    "code_folding": []
   },
   "outputs": [
    {
     "name": "stdout",
     "output_type": "stream",
     "text": [
      "The value of the Growth Impatience Factor for the supplied parameter values satisfies the Perfect Foresight Growth Impatience Condition.  Therefore, for a perfect foresight consumer, the ratio of individual wealth to permanent income will fall indefinitely.\n",
      "\n",
      "The given parameter values violate the Individual Growth Impatience Condition; the GIFInd is: 1.0086 \n",
      "Therefore, a target ratio of individual market resources to individual permanent income does not exist.  (see http://econ.jhu.edu/people/ccarroll/papers/BufferStockTheory/#onetarget for more).\n",
      "\n",
      "The value of the Aggregate Growth Impatience Factor for the supplied parameter values satisfies the Aggregate Growth Impatience Condition. Therefore, it is possible that a target level of the ratio of aggregate market resources to aggregate permanent income exists.\n",
      "\n",
      "The Weak Return Impatience Factor value for the supplied parameter values satisfies the Weak Return Impatience Condition (see http://econ.jhu.edu/people/ccarroll/papers/BufferStockTheory/#WRIC for more).\n",
      "\n",
      "The Finite Value of Autarky Factor (FVAV) for the supplied parameter values satisfies the Finite Value of Autarky Condition.\n",
      "Since both WRIC and FVAC are satisfied, the problem has a nondegenerate solution\n",
      "\n",
      "[!] For more information on the conditions, see Tables 3 and 4 in \"Theoretical Foundations of Buffer Stock Saving\" at http://econ.jhu.edu/people/ccarroll/papers/BufferStockTheory/#Factors-Defined-And-Compared\n",
      "\n",
      "GIFPF            = 0.999200 \n",
      "GIFInd           = 1.008575 \n",
      "GIFAgg           = 0.999200 \n",
      "Thorn = AIF      = 0.999200 \n",
      "PermGroFacAdj    = 0.990704 \n",
      "uInvEpShkuInv    = 0.990704 \n",
      "FVAF             = 0.951076 \n",
      "WRIF             = 0.067937 \n",
      "DiscFacGIFIndMax = 0.943745 \n",
      "DiscFacGIFAggMax = 0.961538 \n"
     ]
    }
   ],
   "source": [
    "# The checkConditions method does what it sounds like it would\n",
    "GICFailExample.checkConditions(verbose=True)"
   ]
  },
  {
   "cell_type": "markdown",
   "metadata": {},
   "source": [
    "### The Sustainable Level of Consumption\n",
    "\n",
    "Next we define the function $\\mathrm{\\mathbb{E}}_{t}[\\Delta m_{t+1}]$ that shows the ‘sustainable’ level of spending at which $m$ is expected to remain unchanged."
   ]
  },
  {
   "cell_type": "code",
   "execution_count": 9,
   "metadata": {
    "lines_to_next_cell": 2
   },
   "outputs": [],
   "source": [
    "# Calculate \"Sustainable\" consumption that leaves expected m unchanged\n",
    "# In the perfect foresight case, this is just permanent income plus interest income\n",
    "# A small adjustment is required to take account of the consequences of uncertainty\n",
    "# See \"Growth Patience and the GIC\" above\n",
    "InvEpShkInvAct = np.dot(GICFailExample.PermShkDstn[0][0], GICFailExample.PermShkDstn[0][1]**(-1))\n",
    "InvInvEpShkInvAct = (InvEpShkInvAct) ** (-1)                      # $E[\\psi^{-1}]$\n",
    "PermGroFacAct = GICFailExample.PermGroFac[0] * InvInvEpShkInvAct # $(E[\\psi^{-1}])^{-1}$\n",
    "ERnrm   = GICFailExample.Rfree / PermGroFacAct # Interest factor normalized by uncertainty-adjusted growth\n",
    "Ernrm   = ERnrm - 1                            # Interest rate is interest factor - 1\n",
    "mSSfunc = lambda m : 1 + (m-1)*(Ernrm/ERnrm)   # \"sustainable\" consumption: consume your (discounted) interest income"
   ]
  },
  {
   "cell_type": "markdown",
   "metadata": {},
   "source": [
    "### PROBLEM: Target Wealth and Impatience\n",
    "\n",
    "Given the above results proving that there is a finite target $m$ if the Growth Impatience Factor is less than one ('the GIC holds'), but that $m \\uparrow \\infty$ if the GIC fails, it will not surprise you to learn that the target approaches infinity as the GIF approaches 1.\n",
    "\n",
    "This problem asks you to verify that proposition by calculating and plotting values of the GIF for a sequence of $\\beta$ values that cause the GIF to be closer and closer to 1.\n",
    "\n",
    "In doing this, it will be useful to know that the GIF is calculated in the $\\texttt{checkConditions}$ method.  (Look in $\\texttt{ConsIndShockModel.py}$)."
   ]
  },
  {
   "cell_type": "code",
   "execution_count": 11,
   "metadata": {
    "scrolled": true
   },
   "outputs": [
    {
     "name": "stdout",
     "output_type": "stream",
     "text": [
      "\n",
      "The given parameter values violate the Individual Growth Impatience Condition; the GIFInd is: 1.0086 \n",
      "\n",
      "Saving figure FVACnotGIC in Figures\n"
     ]
    },
    {
     "data": {
      "image/png": "[encoded data removed]",
      "text/plain": [
       "<Figure size 864x576 with 1 Axes>"
      ]
     },
     "metadata": {},
     "output_type": "display_data"
    }
   ],
   "source": [
    "# Plot GICFailExample consumption function against the sustainable level of consumption\n",
    "\n",
    "GICFailExample.solve() # Above, we set up the problem but did not solve it\n",
    "GICFailExample.unpackcFunc()  # Make the consumption function easily accessible for plotting\n",
    "m = np.linspace(0,5,1000)\n",
    "c_m = GICFailExample.cFunc[0](m)\n",
    "E_m = mSSfunc(m)\n",
    "plt.figure(figsize = (12,8))\n",
    "plt.plot(m,c_m,color=\"black\")\n",
    "plt.plot(m,E_m,color=\"black\")\n",
    "plt.xlim(0,5.5)\n",
    "plt.ylim(0,1.6)\n",
    "plt.text(0,1.63,\"$c$\",fontsize = 26)\n",
    "plt.text(5.55,0,\"$m$\",fontsize = 26)\n",
    "plt.tick_params(labelbottom=False, labelleft=False,left='off',right='off',bottom='off',top='off')\n",
    "plt.text(1,0.6,\"$c(m_{t})$\",fontsize = 18)\n",
    "if latexExists:\n",
    "    plt.text(1.5,1.2,\"$\\mathbb{E}_{t}[\\Delta m_{t+1}] = 0$\",fontsize = 22)\n",
    "else:\n",
    "    plt.text(1.5,1.2,\"$\\mathsf{E}_{t}[\\Delta m_{t+1}] = 0$\",fontsize = 22)\n",
    "\n",
    "plt.arrow(0.98,0.62,-0.2,0,head_width= 0.02,width=0.001,facecolor='black',length_includes_head='True')\n",
    "plt.arrow(2.2,1.2,0.3,-0.05,head_width= 0.02,width=0.001,facecolor='black',length_includes_head='True')\n",
    "\n",
    "make('FVACnotGIC')"
   ]
  },
  {
   "cell_type": "code",
   "execution_count": 12,
   "metadata": {
    "lines_to_next_cell": 2
   },
   "outputs": [
    {
     "name": "stdout",
     "output_type": "stream",
     "text": [
      "The value of the Growth Impatience Factor for the supplied parameter values satisfies the Perfect Foresight Growth Impatience Condition.  Therefore, for a perfect foresight consumer, the ratio of individual wealth to permanent income will fall indefinitely.\n",
      "\n",
      "The given parameter values violate the Individual Growth Impatience Condition; the GIFInd is: 1.0086 \n",
      "Therefore, a target ratio of individual market resources to individual permanent income does not exist.  (see http://econ.jhu.edu/people/ccarroll/papers/BufferStockTheory/#onetarget for more).\n",
      "\n",
      "The value of the Aggregate Growth Impatience Factor for the supplied parameter values satisfies the Aggregate Growth Impatience Condition. Therefore, it is possible that a target level of the ratio of aggregate market resources to aggregate permanent income exists.\n",
      "\n",
      "The Weak Return Impatience Factor value for the supplied parameter values satisfies the Weak Return Impatience Condition (see http://econ.jhu.edu/people/ccarroll/papers/BufferStockTheory/#WRIC for more).\n",
      "\n",
      "The Finite Value of Autarky Factor (FVAV) for the supplied parameter values satisfies the Finite Value of Autarky Condition.\n",
      "Since both WRIC and FVAC are satisfied, the problem has a nondegenerate solution\n",
      "\n",
      "[!] For more information on the conditions, see Tables 3 and 4 in \"Theoretical Foundations of Buffer Stock Saving\" at http://econ.jhu.edu/people/ccarroll/papers/BufferStockTheory/#Factors-Defined-And-Compared\n",
      "\n",
      "GIFPF            = 0.999200 \n",
      "GIFInd           = 1.008575 \n",
      "GIFAgg           = 0.999200 \n",
      "Thorn = AIF      = 0.999200 \n",
      "PermGroFacAdj    = 0.990704 \n",
      "uInvEpShkuInv    = 0.990704 \n",
      "FVAF             = 0.951076 \n",
      "WRIF             = 0.067937 \n",
      "DiscFacGIFIndMax = 0.943745 \n",
      "DiscFacGIFAggMax = 0.961538 \n"
     ]
    }
   ],
   "source": [
    "# Conditions can also be checked without solving the model\n",
    "GICFailExample.checkConditions(verbose=True)  # Make the consumption function easily accessible for plotting"
   ]
  },
  {
   "cell_type": "markdown",
   "metadata": {},
   "source": [
    "As a foundation for the remaining figures, we define another instance of the class $\\texttt{IndShockConsumerType}$, which has the same parameter values as the instance $\\texttt{baseEx}$ defined previously but is solved to convergence (our definition of an infinite horizon agent type) instead of only 100 periods\n"
   ]
  },
  {
   "cell_type": "code",
   "execution_count": 13,
   "metadata": {
    "code_folding": [
     0
    ]
   },
   "outputs": [
    {
     "name": "stdout",
     "output_type": "stream",
     "text": [
      "\n",
      "\n",
      "\n"
     ]
    }
   ],
   "source": [
    "# cycles=0 tells the solver to find the infinite horizon solution\n",
    "baseEx_inf = IndShockConsumerType(cycles=0,**base_params)\n",
    "\n",
    "baseEx_inf.solve()\n",
    "baseEx_inf.unpackcFunc()"
   ]
  },
  {
   "cell_type": "markdown",
   "metadata": {},
   "source": [
    "### [Target $m$, Expected Consumption Growth, and Permanent Income Growth](https://econ.jhu.edu/people/ccarroll/papers/BufferStockTheory/#AnalysisoftheConvergedConsumptionFunction)\n",
    "\n",
    "The next figure is shown in  [Analysis of the Converged Consumption Function](https://econ.jhu.edu/people/ccarroll/papers/BufferStockTheory/#cGroTargetFig), which shows the expected consumption growth factor $\\mathrm{\\mathbb{E}}_{t}[c_{t+1}/c_{t}]$ for a consumer behaving according to the converged consumption rule.\n"
   ]
  },
  {
   "cell_type": "code",
   "execution_count": 14,
   "metadata": {
    "code_folding": [
     0
    ]
   },
   "outputs": [],
   "source": [
    "# Define a function to calculate expected consumption\n",
    "def exp_consumption(a):\n",
    "    '''\n",
    "    Taking end-of-period assets a as input, return expectation of next period's consumption\n",
    "    Inputs:\n",
    "       a: end-of-period assets\n",
    "    Returns:\n",
    "       expconsump: next period's expected consumption\n",
    "    '''\n",
    "    GrowFac_tp1 = baseEx_inf.PermGroFac[0]* baseEx_inf.PermShkDstn[0][1]\n",
    "    Rnrm_tp1 = baseEx_inf.Rfree / GrowFac_tp1\n",
    "    # end-of-period assets plus normalized returns\n",
    "    b_tp1 = Rnrm_tp1*a\n",
    "    # expand dims of b_tp1 and use broadcasted sum of a column and a row vector\n",
    "    # to obtain a matrix of possible beginning-of-period assets next period\n",
    "    # This is much much faster than looping\n",
    "    m_tp1 = np.expand_dims(b_tp1, axis=1) + baseEx_inf.TranShkDstn[0][1]\n",
    "    part_expconsumption = GrowFac_tp1*baseEx_inf.cFunc[0](m_tp1).T\n",
    "    # finish expectation over perm shocks by right multiplying with weights\n",
    "    part_expconsumption = np.dot(part_expconsumption, baseEx_inf.PermShkDstn[0][0])\n",
    "    # finish expectation over trans shocks by right multiplying with prob weights\n",
    "    expconsumption = np.dot(part_expconsumption, baseEx_inf.TranShkDstn[0][0])\n",
    "    # return expected consumption\n",
    "    return expconsumption"
   ]
  },
  {
   "cell_type": "code",
   "execution_count": 15,
   "metadata": {
    "code_folding": [
     0
    ]
   },
   "outputs": [],
   "source": [
    "# Calculate the expected consumption growth factor\n",
    "m1 = np.linspace(1,baseEx_inf.solution[0].mNrmSS,50) # m1 defines the plot range on the left of target m value (e.g. m <= target m)\n",
    "c_m1 = baseEx_inf.cFunc[0](m1)\n",
    "a1 = m1-c_m1\n",
    "exp_consumption_l1 = [exp_consumption(i) for i in a1]\n",
    "\n",
    "# growth1 defines the plotted values consumption growth factor when m is less than target m\n",
    "growth1 = np.array(exp_consumption_l1)/c_m1\n",
    "\n",
    "# m2 defines the plot range on the right of target m value (e.g. m >= target m)\n",
    "m2 = np.linspace(baseEx_inf.solution[0].mNrmSS,1.9,50)\n",
    "\n",
    "c_m2 = baseEx_inf.cFunc[0](m2)\n",
    "a2 = m2-c_m2\n",
    "exp_consumption_l2 = [exp_consumption(i) for i in a2]\n",
    "\n",
    "# growth 2 constructs values to plot of expected consumption growth factor when m is bigger than target m\n",
    "growth2 = np.array(exp_consumption_l2)/c_m2"
   ]
  },
  {
   "cell_type": "code",
   "execution_count": 16,
   "metadata": {
    "code_folding": [
     0
    ]
   },
   "outputs": [],
   "source": [
    "# Define a function to construct the arrows on the consumption growth rate function\n",
    "def arrowplot(axes, x, y, narrs=15, dspace=0.5, direc='neg',\n",
    "              hl=0.01, hw=3, c='black'):\n",
    "    '''\n",
    "    The function is used to plot arrows given the data x and y.\n",
    "\n",
    "    Input:\n",
    "        narrs  :  Number of arrows that will be drawn along the curve\n",
    "\n",
    "        dspace :  Shift the position of the arrows along the curve.\n",
    "                  Should be between 0. and 1.\n",
    "\n",
    "        direc  :  can be 'pos' or 'neg' to select direction of the arrows\n",
    "\n",
    "        hl     :  length of the arrow head\n",
    "\n",
    "        hw     :  width of the arrow head\n",
    "\n",
    "        c      :  color of the edge and face of the arrow head\n",
    "    '''\n",
    "\n",
    "    # r is the distance spanned between pairs of points\n",
    "    r = np.sqrt(np.diff(x)**2+np.diff(y)**2)\n",
    "    r = np.insert(r, 0, 0.0)\n",
    "\n",
    "    # rtot is a cumulative sum of r, it's used to save time\n",
    "    rtot = np.cumsum(r)\n",
    "\n",
    "    # based on narrs set the arrow spacing\n",
    "    aspace = r.sum() / narrs\n",
    "\n",
    "    if direc is 'neg':\n",
    "        dspace = -1.*abs(dspace)\n",
    "    else:\n",
    "        dspace = abs(dspace)\n",
    "\n",
    "    arrowData = [] # will hold tuples of x,y,theta for each arrow\n",
    "    arrowPos = aspace*(dspace) # current point on walk along data\n",
    "                                 # could set arrowPos to 0 if you want\n",
    "                                 # an arrow at the beginning of the curve\n",
    "\n",
    "    ndrawn = 0\n",
    "    rcount = 1\n",
    "    while arrowPos < r.sum() and ndrawn < narrs:\n",
    "        x1,x2 = x[rcount-1],x[rcount]\n",
    "        y1,y2 = y[rcount-1],y[rcount]\n",
    "        da = arrowPos-rtot[rcount]\n",
    "        theta = np.arctan2((x2-x1),(y2-y1))\n",
    "        ax = np.sin(theta)*da+x1\n",
    "        ay = np.cos(theta)*da+y1\n",
    "        arrowData.append((ax,ay,theta))\n",
    "        ndrawn += 1\n",
    "        arrowPos+=aspace\n",
    "        while arrowPos > rtot[rcount+1]:\n",
    "            rcount+=1\n",
    "            if arrowPos > rtot[-1]:\n",
    "                break\n",
    "\n",
    "    for ax,ay,theta in arrowData:\n",
    "        # use aspace as a guide for size and length of things\n",
    "        # scaling factors were chosen by experimenting a bit\n",
    "\n",
    "        dx0 = np.sin(theta)*hl/2.0 + ax\n",
    "        dy0 = np.cos(theta)*hl/2.0 + ay\n",
    "        dx1 = -1.*np.sin(theta)*hl/2.0 + ax\n",
    "        dy1 = -1.*np.cos(theta)*hl/2.0 + ay\n",
    "\n",
    "        if direc is 'neg' :\n",
    "            ax0 = dx0\n",
    "            ay0 = dy0\n",
    "            ax1 = dx1\n",
    "            ay1 = dy1\n",
    "        else:\n",
    "            ax0 = dx1\n",
    "            ay0 = dy1\n",
    "            ax1 = dx0\n",
    "            ay1 = dy0\n",
    "\n",
    "        axes.annotate('', xy=(ax0, ay0), xycoords='data',\n",
    "                xytext=(ax1, ay1), textcoords='data',\n",
    "                arrowprops=dict( headwidth=hw, frac=1., ec=c, fc=c))"
   ]
  },
  {
   "cell_type": "code",
   "execution_count": 17,
   "metadata": {
    "code_folding": [
     0
    ],
    "lines_to_next_cell": 2
   },
   "outputs": [
    {
     "name": "stdout",
     "output_type": "stream",
     "text": [
      "Saving figure cGroTargetFig in Figures\n"
     ]
    },
    {
     "data": {
      "image/png": "[encoded data removed]",
      "text/plain": [
       "<Figure size 864x576 with 1 Axes>"
      ]
     },
     "metadata": {},
     "output_type": "display_data"
    }
   ],
   "source": [
    "# Plot consumption growth as a function of market resources\n",
    "# Calculate Absolute Patience Factor Phi = lower bound of consumption growth factor\n",
    "AbsPatientFac = (baseEx_inf.Rfree*baseEx_inf.DiscFac)**(1.0/baseEx_inf.CRRA)\n",
    "\n",
    "fig = plt.figure(figsize = (12,8))\n",
    "ax = fig.add_subplot(111)\n",
    "# Plot the Absolute Patience Factor line\n",
    "ax.plot([0,1.9],[AbsPatientFac,AbsPatientFac],color=\"black\")\n",
    "\n",
    "# Plot the Permanent Income Growth Factor line\n",
    "ax.plot([0,1.9],[baseEx_inf.PermGroFac[0],baseEx_inf.PermGroFac[0]],color=\"black\")\n",
    "\n",
    "# Plot the expected consumption growth factor on the left side of target m\n",
    "ax.plot(m1,growth1,color=\"black\")\n",
    "\n",
    "# Plot the expected consumption growth factor on the right side of target m\n",
    "ax.plot(m2,growth2,color=\"black\")\n",
    "\n",
    "# Plot the arrows\n",
    "arrowplot(ax, m1,growth1)\n",
    "arrowplot(ax, m2,growth2, direc='pos')\n",
    "\n",
    "# Plot the target m\n",
    "ax.plot([baseEx_inf.solution[0].mNrmSS,baseEx_inf.solution[0].mNrmSS],[0,1.4],color=\"black\",linestyle=\"--\")\n",
    "ax.set_xlim(1,2.10)\n",
    "ax.set_ylim(0.98,1.08)\n",
    "ax.text(1,1.082,\"Growth Rate\",fontsize = 26,fontweight='bold')\n",
    "ax.text(2.105,0.975,\"$m_{t}$\",fontsize = 26,fontweight='bold')\n",
    "if latexExists:\n",
    "    ax.text(1.91,1.01,\"$\\mathbb{E}_{t}[\\mathbf{c}_{t+1}/\\mathbf{c}_{t}]$\",fontsize = 22,fontweight='bold')\n",
    "else:\n",
    "    ax.text(1.91,1.01,\"$\\mathsf{E}_{t}[c_{t+1}/c_{t}]$\",fontsize = 22,fontweight='bold')\n",
    "ax.text(baseEx_inf.solution[0].mNrmSS-0.02,0.974, r'$\\check{m}$', fontsize = 26,fontweight='bold')\n",
    "ax.tick_params(labelbottom=False, labelleft=False,left='off',right='off',bottom='off',top='off')\n",
    "if latexExists:\n",
    "    ax.text(1.91,0.998,r'$\\pmb{\\text{\\TH}} = (\\mathrm{\\mathsf{R}}\\beta)^{1/\\rho}$',fontsize = 22,fontweight='bold')\n",
    "else:\n",
    "    ax.text(1.91,0.998,r'$\\Phi = (\\mathrm{\\mathsf{R}}\\beta)^{1/\\rho}$',fontsize = 22,fontweight='bold')\n",
    "\n",
    "ax.text(1.91,1.03, r'$\\Gamma$',fontsize = 22,fontweight='bold')\n",
    "make('cGroTargetFig')"
   ]
  },
  {
   "cell_type": "markdown",
   "metadata": {
    "code_folding": []
   },
   "source": [
    "### [Consumption Function Bounds](https://econ.jhu.edu/people/ccarroll/papers/BufferStockTheory/#AnalysisOfTheConvergedConsumptionFunction)\n",
    "[The next figure](https://econ.jhu.edu/people/ccarroll/papers/BufferStockTheory/#cFuncBounds)\n",
    "illustrates theoretical bounds for the consumption function.\n",
    "\n",
    "We define two useful variables: lower bound of $\\kappa$ (marginal propensity to consume) and limit of $h$ (Human wealth), along with some functions such as the limiting perfect foresight consumption function $\\bar{c}(m)$, the upper bound function $\\bar{\\bar c}(m)$, and the lower bound function \\underline{_c_}$(m)$."
   ]
  },
  {
   "cell_type": "code",
   "execution_count": 18,
   "metadata": {
    "code_folding": [
     0
    ],
    "lines_to_next_cell": 2
   },
   "outputs": [],
   "source": [
    "# Define k_lower, h_inf and perfect foresight consumption function, upper bound of consumption function and lower\n",
    "# bound of consumption function.\n",
    "k_lower = 1.0-(baseEx_inf.Rfree**(-1.0))*(baseEx_inf.Rfree*baseEx_inf.DiscFac)**(1.0/baseEx_inf.CRRA)\n",
    "h_inf = (1.0/(1.0-baseEx_inf.PermGroFac[0]/baseEx_inf.Rfree))\n",
    "conFunc_PF = lambda m: (h_inf -1)* k_lower + k_lower*m\n",
    "conFunc_upper = lambda m: (1 - baseEx_inf.UnempPrb ** (1.0/baseEx_inf.CRRA)*(baseEx_inf.Rfree*baseEx_inf.DiscFac)**(1.0/baseEx_inf.CRRA)/baseEx_inf.Rfree)*m\n",
    "conFunc_lower = lambda m: (1 -(baseEx_inf.Rfree*baseEx_inf.DiscFac)**(1.0/baseEx_inf.CRRA)/baseEx_inf.Rfree) * m\n",
    "intersect_m = ((h_inf-1)* k_lower)/((1 - baseEx_inf.UnempPrb\n",
    "            **(1.0/baseEx_inf.CRRA)*(baseEx_inf.Rfree*baseEx_inf.DiscFac)**(1.0/baseEx_inf.CRRA)/baseEx_inf.Rfree)-k_lower)"
   ]
  },
  {
   "cell_type": "code",
   "execution_count": 19,
   "metadata": {
    "code_folding": [
     0
    ],
    "lines_to_next_cell": 2
   },
   "outputs": [
    {
     "name": "stdout",
     "output_type": "stream",
     "text": [
      "Saving figure cFuncBounds in Figures\n"
     ]
    },
    {
     "data": {
      "image/png": "[encoded data removed]",
      "text/plain": [
       "<Figure size 864x576 with 1 Axes>"
      ]
     },
     "metadata": {},
     "output_type": "display_data"
    }
   ],
   "source": [
    "# Plot the consumption function and its bounds\n",
    "\n",
    "cMaxLabel=r'$\\overline{c}(m) = (m-1+h)\\underline{\\kappa}$'\n",
    "cMinLabel=r'$\\underline{c}(m)= (1-\\pmb{\\text{\\TH}}_{R})\\underline{\\kappa}m$'\n",
    "if not latexExists:\n",
    "    cMaxLabel=r'$\\overline{c}(m) = (m-1+h)κ̲' # Use unicode kludge\n",
    "    cMinLabel=r'c̲$(m)= (1-\\Phi_{R})m = κ̲ m$'\n",
    "\n",
    "x1 = np.linspace(0,25,1000)\n",
    "x3 = np.linspace(0,intersect_m,300)\n",
    "x4 = np.linspace(intersect_m,25,700)\n",
    "cfunc_m = baseEx_inf.cFunc[0](x1)\n",
    "cfunc_PF_1 = conFunc_PF(x3)\n",
    "cfunc_PF_2 = conFunc_PF(x4)\n",
    "cfunc_upper_1 = conFunc_upper(x3)\n",
    "cfunc_upper_2 = conFunc_upper(x4)\n",
    "cfunc_lower = conFunc_lower(x1)\n",
    "plt.figure(figsize = (12,8))\n",
    "plt.plot(x1,cfunc_m, color=\"black\")\n",
    "plt.plot(x1,cfunc_lower, color=\"black\",linewidth=2.5)\n",
    "plt.plot(x3,cfunc_upper_1, color=\"black\",linewidth=2.5)\n",
    "plt.plot(x4,cfunc_PF_2 , color=\"black\",linewidth=2.5)\n",
    "plt.plot(x4,cfunc_upper_2 , color=\"black\",linestyle=\"--\")\n",
    "plt.plot(x3,cfunc_PF_1 , color=\"black\",linestyle=\"--\")\n",
    "plt.tick_params(labelbottom=False, labelleft=False,left='off',right='off',bottom='off',top='off')\n",
    "plt.xlim(0,25)\n",
    "plt.ylim(0,1.12*conFunc_PF(25))\n",
    "plt.text(0,1.12*conFunc_PF(25)+0.05,\"$c$\",fontsize = 22)\n",
    "plt.text(25+0.1,0,\"$m$\",fontsize = 22)\n",
    "plt.text(2.5,1,r'$c(m)$',fontsize = 22,fontweight='bold')\n",
    "if latexExists:\n",
    "    plt.text(6,5,r'$\\overline{\\overline{c}}(m)= \\overline{\\kappa}m = (1-\\wp^{1/\\rho}\\pmb{\\text{\\TH}}_{R})m$',fontsize = 22,fontweight='bold')\n",
    "else:\n",
    "    plt.text(6,5,r'$\\overline{\\overline{c}}(m)= \\overline{\\kappa}m = (1-\\wp^{1/\\rho}\\Phi_{R})m$',fontsize = 22,fontweight='bold')\n",
    "plt.text(2.2,3.8, cMaxLabel,fontsize = 22,fontweight='bold')\n",
    "plt.text(9,4.1,r'Upper Bound $ = $ Min $[\\overline{\\overline{c}}(m),\\overline{c}(m)]$',fontsize = 22,fontweight='bold')\n",
    "plt.text(7,0.7,cMinLabel,fontsize = 22,fontweight='bold')\n",
    "plt.arrow(2.45,1.05,-0.5,0.02,head_width= 0.05,width=0.001,facecolor='black',length_includes_head='True')\n",
    "plt.arrow(2.15,3.88,-0.5,0.1,head_width= 0.05,width=0.001,facecolor='black',length_includes_head='True')\n",
    "plt.arrow(8.95,4.15,-0.8,0.05,head_width= 0.05,width=0.001,facecolor='black',length_includes_head='True')\n",
    "plt.arrow(5.95,5.05,-0.4,0,head_width= 0.05,width=0.001,facecolor='black',length_includes_head='True')\n",
    "plt.arrow(14,0.70,0.5,-0.1,head_width= 0.05,width=0.001,facecolor='black',length_includes_head='True')\n",
    "\n",
    "make('cFuncBounds')"
   ]
  },
  {
   "cell_type": "markdown",
   "metadata": {},
   "source": [
    "### [The Consumption Function and Target $m$](https://econ.jhu.edu/people/ccarroll/papers/BufferStockTheory/#cFuncBounds)\n",
    "\n",
    "This figure shows the $\\mathrm{\\mathbb{E}}_{t}[\\Delta m_{t+1}]$ and consumption function $c(m_{t})$, along with the intersection of these two functions, which defines the target value of $m$"
   ]
  },
  {
   "cell_type": "code",
   "execution_count": 20,
   "metadata": {
    "lines_to_next_cell": 2
   },
   "outputs": [
    {
     "name": "stdout",
     "output_type": "stream",
     "text": [
      "Saving figure cRatTargetFig in Figures\n"
     ]
    },
    {
     "data": {
      "image/png": "[encoded data removed]",
      "text/plain": [
       "<Figure size 864x576 with 1 Axes>"
      ]
     },
     "metadata": {},
     "output_type": "display_data"
    }
   ],
   "source": [
    "# This just plots objects that have already been constructed\n",
    "\n",
    "m1 = np.linspace(0,4,1000)\n",
    "cfunc_m = baseEx_inf.cFunc[0](m1)\n",
    "mSSfunc = lambda m:(baseEx_inf.PermGroFac[0]/baseEx_inf.Rfree)+(1.0-baseEx_inf.PermGroFac[0]/baseEx_inf.Rfree)*m\n",
    "mss = mSSfunc(m1)\n",
    "plt.figure(figsize = (12,8))\n",
    "plt.plot(m1,cfunc_m, color=\"black\")\n",
    "plt.plot(m1,mss, color=\"black\")\n",
    "plt.xlim(0,3)\n",
    "plt.ylim(0,1.45)\n",
    "plt.plot([baseEx_inf.solution[0].mNrmSS, baseEx_inf.solution[0].mNrmSS],[0,2.5],color=\"black\",linestyle=\"--\")\n",
    "plt.tick_params(labelbottom=False, labelleft=False,left='off',right='off',bottom='off',top='off')\n",
    "plt.text(0,1.47,r\"$c$\",fontsize = 26)\n",
    "plt.text(3.02,0,r\"$m$\",fontsize = 26)\n",
    "if latexExists:\n",
    "    plt.text(2.3,0.94,r'$\\mathbb{E}_{t}[\\Delta m_{t+1}] = 0$',fontsize = 22,fontweight='bold')\n",
    "else:\n",
    "    plt.text(2.3,0.94,r'$\\mathsf{E}_{t}[\\Delta m_{t+1}] = 0$',fontsize = 22,fontweight='bold')\n",
    "plt.text(2.3,1.1,r\"$c(m_{t})$\",fontsize = 22,fontweight='bold')\n",
    "plt.text(baseEx_inf.solution[0].mNrmSS-0.05,-0.1, r\"$\\check{m}$\",fontsize = 26)\n",
    "plt.arrow(2.28,1.12,-0.1,0.03,head_width= 0.02,width=0.001,facecolor='black',length_includes_head='True')\n",
    "plt.arrow(2.28,0.97,-0.1,0.02,head_width= 0.02,width=0.001,facecolor='black',length_includes_head='True')\n",
    "\n",
    "make('cRatTargetFig')"
   ]
  },
  {
   "cell_type": "markdown",
   "metadata": {},
   "source": [
    "### [Upper and Lower Limits of the Marginal Propensity to Consume](https://econ.jhu.edu/people/ccarroll/papers/BufferStockTheory/#MPCLimits)\n",
    "\n",
    "The paper shows that as $m_{t}~\\uparrow~\\infty$ the consumption function in the presence of risk gets arbitrarily close to the perfect foresight consumption function.  Defining \\underline{κ}\n",
    "as the perfect foresight model's MPC, this implies that $\\lim_{m_{t}~\\uparrow~\\infty} c^{\\prime}(m) = $ \\underline{κ}\n",
    ".\n",
    "\n",
    "The paper also derives an analytical limit $\\bar{\\kappa}$ for the MPC as $m$ approaches 0., its bounding value.  Strict concavity of the consumption function implies that the consumption function will be everywhere below a function $\\bar{\\kappa}m$, and strictly declining everywhere.  The last figure plots the MPC between these two limits."
   ]
  },
  {
   "cell_type": "code",
   "execution_count": 21,
   "metadata": {
    "lines_to_next_cell": 2
   },
   "outputs": [
    {
     "name": "stdout",
     "output_type": "stream",
     "text": [
      "Saving figure MPCLimits in Figures\n"
     ]
    },
    {
     "data": {
      "image/png": "[encoded data removed]",
      "text/plain": [
       "<Figure size 864x576 with 1 Axes>"
      ]
     },
     "metadata": {
      "needs_background": "light"
     },
     "output_type": "display_data"
    }
   ],
   "source": [
    "# The last figure shows the upper and lower limits of the MPC\n",
    "plt.figure(figsize = (12,8))\n",
    "# Set the plot range of m\n",
    "m = np.linspace(0.001,8,1000)\n",
    "\n",
    "# Use the HARK method derivative to get the derivative of cFunc, and the values are just the MPC\n",
    "MPC = baseEx_inf.cFunc[0].derivative(m)\n",
    "\n",
    "# Define the upper bound of MPC\n",
    "MPCUpper = (1 - baseEx_inf.UnempPrb ** (1.0/baseEx_inf.CRRA)*(baseEx_inf.Rfree*baseEx_inf.DiscFac)**(1.0/baseEx_inf.CRRA)/baseEx_inf.Rfree)\n",
    "\n",
    "# Define the lower bound of MPC\n",
    "MPCLower = k_lower\n",
    "\n",
    "kappaDef=r'$\\underline{\\kappa}\\equiv(1-\\pmb{\\text{\\TH}}_{R})$'\n",
    "if not latexExists:\n",
    "    kappaDef=r'κ̲$\\equiv(1-\\Phi_{R})$'\n",
    "\n",
    "plt.plot(m,MPC,color = 'black')\n",
    "plt.plot([0,8],[MPCUpper,MPCUpper],color = 'black')\n",
    "plt.plot([0,8],[MPCLower,MPCLower],color = 'black')\n",
    "plt.xlim(0,8)\n",
    "plt.ylim(0,1)\n",
    "plt.text(1.5,0.6,r'$\\kappa(m) \\equiv c^{\\prime}(m)$',fontsize = 26,fontweight='bold')\n",
    "if latexExists:\n",
    "    plt.text(5,0.87,r'$(1-\\wp^{1/\\rho}\\pmb{\\text{\\TH}}_{R})\\equiv \\overline{\\kappa}$',fontsize = 26,fontweight='bold') # Use Thorn character\n",
    "else:\n",
    "    plt.text(5,0.87,r'$(1-\\wp^{1/\\rho}\\Phi_{R})\\equiv \\overline{\\kappa}$',fontsize = 26,fontweight='bold') # Use Phi instead of Thorn (alas)\n",
    "\n",
    "plt.text(0.5,0.07,kappaDef,fontsize = 26,fontweight='bold')\n",
    "plt.text(8.05,0,\"$m$\",fontsize = 26)\n",
    "plt.arrow(1.45,0.61,-0.4,0,head_width= 0.02,width=0.001,facecolor='black',length_includes_head='True')\n",
    "plt.arrow(2.2,0.07,0.2,-0.01,head_width= 0.02,width=0.001,facecolor='black',length_includes_head='True')\n",
    "plt.arrow(4.95,0.895,-0.2,0.03,head_width= 0.02,width=0.001,facecolor='black',length_includes_head='True')\n",
    "\n",
    "make('MPCLimits')"
   ]
  },
  {
   "cell_type": "markdown",
   "metadata": {},
   "source": [
    "# Summary\n",
    "\n",
    "[Two tables in the paper](https://econ.jhu.edu/people/ccarroll/papers/BufferStockTheory/#Factors-Defined-And-Compared) summarize the various definitions, and then articulate conditions required for the problem to have a nondegenerate solution.  Among the nondegenerate cases, the most interesting result is that if the Growth Impatience Condition holds there will be a target level of wealth."
   ]
  }
 ],
 "metadata": {
  "@webio": {
   "lastCommId": "a8ab2762cccf499696a7ef0a86be4d18",
   "lastKernelId": "261999dd-7ee7-4ad4-9a26-99a84a77979b"
  },
  "cite2c": {
   "citations": {
    "6202365/8AH9AXN2": {
     "URL": "http://econ.jhu.edu/people/ccarroll/papers/BufferStockTheory.pdf",
     "author": [
      {
       "family": "Carroll",
       "given": "Christopher"
      }
     ],
     "container-title": "Manuscript, Department of Economics, Johns Hopkins University",
     "id": "6202365/8AH9AXN2",
     "issued": {
      "month": 2,
      "year": 2019
     },
     "note": "Available at http://econ.jhu.edu/people/ccarroll/papers/BufferStockTheory \nCitation Key: carrollBufferStockTheory \nbibtex*[extra=bibtex:carrollBufferStockTheory]",
     "title": "Theoretical Foundations of Buffer Stock Saving",
     "type": "article-journal"
    },
    "6202365/TGG4U7J4": {
     "author": [
      {
       "family": "Clarida",
       "given": "Richard H."
      }
     ],
     "container-title": "International Economic Review",
     "issued": {
      "date-parts": [
       [
        1987
       ]
      ]
     },
     "page": "339–351",
     "title": "Consumption, Liquidity Constraints, and Asset Accumulation in the Face of Random Fluctuations in Income",
     "type": "article-journal",
     "volume": "XXVIII"
    },
    "undefined": {
     "URL": "http://econ.jhu.edu/people/ccarroll/papers/BufferStockTheory.pdf",
     "author": [
      {
       "family": "Carroll",
       "given": "Christopher"
      }
     ],
     "container-title": "Manuscript, Department of Economics, Johns Hopkins University",
     "issued": {
      "date-parts": [
       [
        "2019",
        2
       ]
      ]
     },
     "note": "Available at http://econ.jhu.edu/people/ccarroll/papers/BufferStockTheory \nCitation Key: carrollBufferStockTheory \nbibtex*[extra=bibtex:carrollBufferStockTheory]",
     "title": "Theoretical Foundations of Buffer Stock Saving",
     "type": "article-journal"
    }
   }
  },
  "jupytext": {
   "cell_metadata_filter": "ExecuteTime,autoscroll,heading_collapsed,-hide_ouput,-code_folding",
   "encoding": "# -*- coding: utf-8 -*-",
   "formats": "ipynb,py:percent"
  },
  "kernelspec": {
   "display_name": "Python 3",
   "language": "python",
   "name": "python3"
  },
  "language_info": {
   "codemirror_mode": {
    "name": "ipython",
    "version": 3
   },
   "file_extension": ".py",
   "mimetype": "text/x-python",
   "name": "python",
   "nbconvert_exporter": "python",
   "pygments_lexer": "ipython3",
   "version": "3.6.9"
  },
  "latex_envs": {
   "LaTeX_envs_menu_present": true,
   "autoclose": false,
   "autocomplete": true,
   "bibliofile": "biblio.bib",
   "cite_by": "apalike",
   "current_citInitial": 1,
   "eqLabelWithNumbers": true,
   "eqNumInitial": 1,
   "hotkeys": {
    "equation": "Ctrl-E",
    "itemize": "Ctrl-I"
   },
   "labels_anchors": false,
   "latex_user_defs": true,
   "report_style_numbering": false,
   "user_envs_cfg": false
  },
  "toc": {
   "base_numbering": 1,
   "nav_menu": {},
   "number_sections": true,
   "sideBar": true,
   "skip_h1_title": false,
   "title_cell": "Table of Contents",
   "title_sidebar": "Contents",
   "toc_cell": false,
   "toc_position": {},
   "toc_section_display": true,
   "toc_window_display": true
  },
  "varInspector": {
   "cols": {
    "lenName": 16,
    "lenType": 16,
    "lenVar": 40
   },
   "kernels_config": {
    "python": {
     "delete_cmd_postfix": "",
     "delete_cmd_prefix": "del ",
     "library": "var_list.py",
     "varRefreshCmd": "print(var_dic_list())"
    },
    "r": {
     "delete_cmd_postfix": ") ",
     "delete_cmd_prefix": "rm(",
     "library": "var_list.r",
     "varRefreshCmd": "cat(var_dic_list()) "
    }
   },
   "types_to_exclude": [
    "module",
    "function",
    "builtin_function_or_method",
    "instance",
    "_Feature"
   ],
   "window_display": false
  }
 },
 "nbformat": 4,
 "nbformat_minor": 4
}
