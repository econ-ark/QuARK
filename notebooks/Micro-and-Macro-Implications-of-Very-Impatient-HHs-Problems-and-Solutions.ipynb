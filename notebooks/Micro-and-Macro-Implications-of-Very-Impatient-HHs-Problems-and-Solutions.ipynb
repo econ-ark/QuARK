{
 "cells": [
  {
   "cell_type": "markdown",
   "id": "107090de",
   "metadata": {},
   "source": [
    "# Micro- and Macroeconomic Implications of Very Impatient Households\n",
    "\n",
    "<p style=\"text-align: center;\"><small><small><small>Generator: QuARK-make/notebooks_byname</small></small></small></p>\n",
    "\n",
    "[![badge](https://img.shields.io/badge/Launch%20using%20-Econ--ARK-blue)](https://econ-ark.org/materials/micro-and-macro-implications-of-very-impatient-hhs#launch)"
   ]
  },
  {
   "cell_type": "markdown",
   "id": "39d60ef2",
   "metadata": {
    "incorrectly_encoded_metadata": "tags=[] jp-MarkdownHeadingCollapsed=true"
   },
   "source": [
    "## Introduction\n",
    "\n",
    "Buffer stock saving models of the kind implemented in $\\texttt{ConsIndShockType}$ say that, if a standard ['Growth Impatience Condition'](https://econ-ark.github.io/BufferStockTheory/#GICRaw), holds:\n",
    "\n",
    "\\begin{eqnarray}\n",
    "\\newcommand{\\Rfree}{\\mathsf{R}}\\newcommand{\\DiscFac}{\\beta}\\newcommand{\\PermGroFac}{\\Gamma}\\newcommand{\\PermShk}{\\psi}\\newcommand{\\CRRA}{\\rho}\n",
    "\\left(\\frac{(\\Rfree\\DiscFac)^{1/\\CRRA}\\mathbb{E}[\\PermShk^{-1}]}{\\PermGroFac}\\right) & < & 1\n",
    "\\end{eqnarray}\n",
    "\n",
    "then the _ratio_ of asets $\\newcommand{\\aLev}{\\mathbf{a}}\\aLev$ to permanent income $\\newcommand{\\pLev}{\\mathbf{p}}\\pLev$, $a=\\aLev/\\pLev$, has a target value $\\newcommand{\\aTarg}{\\check{a}}\\aTarg$ that depends on the consumer's preferences (relative risk aversion $\\CRRA$, time preference $\\DiscFac$) and circumstances (interest factor $\\Rfree$, growth factor $\\PermGroFac$, uncertainty about permanent income shocks $\\sigma^{2}_{\\PermShk}$).\n",
    "\n",
    "If everyone had identical preferences and everyone were at their target $\\check{a}$, then inequality in the level of $\\aLev$ would be exactly the same as inequality in $\\pLev$.\n",
    "\n",
    "[\"The Distribution of Wealth and the Marginal Propensity to Consume\"](https://www.econ2.jhu.edu/people/ccarroll/papers/cstwMPC) (Carroll, Slacalek, Tokuoka, and White 2017; hereafter: \"cstwMPC\") shows that, when such a model is simulated and agents draw their idiosyncratic shocks (so, agents are _ex post_ heterogeneous -- see the definition in [Intro-To-HARK](http://github.com/econ-ark/PARK/tree/master/Intro-To-HARK.pdf)) -- asset inequality is indeed close to $\\pLev$ inequality even though everyone is not always at exactly their target $a$.\n",
    "\n",
    "But a large body of evidence shows that _actual_ inequality in assets is much greater than _actual_ inequality in permanent income.  Thus, to make a model that qualifies as what cstwMPC call a 'serious' microfounded macro model of consumption (one that matches the key facts _theory says_ should be first-order important), the model must be modified to incorporate some form of _ex ante_ heterogeneity: That is, there must be differences across people in $\\DiscFac$ or $\\Rfree$ or $\\CRRA$ or $\\PermGroFac$ or $\\sigma^{2}_{\\PermShk}$.\n",
    "\n",
    "The most transparent and simplest of these to change is the time preference factor $\\beta$.  So that is what the paper does.  The main results are:\n",
    "\n",
    "1. The distribution of $\\beta$ need not be particularly wide to match the extreme concentration of wealth: roughly 0.91 to 0.98 (annual); that is, the most impatient person discounts the future about 6 percentage points more per year than the most patient agent agent\n",
    "2. With such a distribution of $\\beta$, simulated agents' (annual) marginal propensity to consume (MPC) from transitory income shocks to income matches large body of microeconomic evidence that typically finds evidence of MPC's in the range of 0.2 to 0.6.  This is much better than RA macro models that typically yield MPC's in the range of 0.01 to 0.05.\n",
    "\n",
    "While the most impatient agents in the cstwMPC model have fairly high MPCs (~0.6 annual), there is microeconomic evidence that a significant fraction of households have *even higher* MPCs than the model predicts, especially at the quarterly frequency.  This group of households is commonly referred to as \"hand-to-mouth\" -- they consume most of their transitory shocks to income not too long after they receive them (mostly within a quarter).  There are several reasons why a household could be hand-to-mouth, but one plausible explanation is that these households are *even more impatient* than estimated by cstwMPC for the most impatient agent.\n"
   ]
  },
  {
   "cell_type": "markdown",
   "id": "ce778e10",
   "metadata": {},
   "source": [
    "### PROBLEM \n",
    "In this exercise, you will explore the micro- and macroeconomic implications of some households being *very impatient*. Specifically, you will address the following questions:\n",
    "\n",
    "1. How does the distribution of the MPC change (relative to cstwMPC's baseline) if some simulated households are extremely impatient?  Do we observe a significant portion of hand-to-mouth households?\n",
    "2. How does the distribution (and aggregate level) of wealth change if some households are extremely impatient?  Does this distribution of $\\beta$ still generate a wealth distribution like the one seen in U.S. data?"
   ]
  },
  {
   "cell_type": "code",
   "execution_count": 1,
   "id": "087108b7",
   "metadata": {
    "code_folding": [
     25
    ]
   },
   "outputs": [],
   "source": [
    "# This cell does some setup and imports generic tools used to produce the figures\n",
    "\n",
    "from tqdm import tqdm\n",
    "\n",
    "import numpy as np\n",
    "from copy import deepcopy\n",
    "\n",
    "import HARK # Prevents import error from Demos repo\n",
    "from HARK.utilities import plot_funcs\n",
    "\n",
    "\n",
    "Generator=False # Is this notebook the master or is it generated?\n",
    "# Import related generic python packages\n",
    "\n",
    "# Set how many digits past the decimal point should be printed?\n",
    "mystr   = lambda number : \"{:.4f}\".format(number)\n",
    "decfmt4 = lambda number : \"{:.4f}\".format(number)\n",
    "decfmt3 = lambda number : \"{:.3f}\".format(number)\n",
    "decfmt2 = lambda number : \"{:.2f}\".format(number)\n",
    "decfmt1 = lambda number : \"{:.1f}\".format(number)\n",
    "\n",
    "# This is a jupytext paired notebook that autogenerates BufferStockTheory.py\n",
    "# which can be executed from a terminal command line via \"ipython BufferStockTheory.py\"\n",
    "# But a terminal does not permit inline figures, so we need to test jupyter vs terminal\n",
    "# Google \"how can I check if code is executed in the ipython notebook\"\n",
    "\n",
    "from IPython import get_ipython # In case it was run from python instead of ipython\n",
    "def in_ipynb():\n",
    "    try:\n",
    "        if str(type(get_ipython())) == \"<class 'ipykernel.zmqshell.ZMQInteractiveShell'>\":\n",
    "            return True\n",
    "        else:\n",
    "            return False\n",
    "    except NameError:\n",
    "        return False\n",
    "\n",
    "# Determine whether to make the figures inline (for spyder or jupyter)\n",
    "# vs whatever is the automatic setting that will apply if run from the terminal\n",
    "if in_ipynb():\n",
    "    # %matplotlib inline generates a syntax error when run from the shell\n",
    "    # so do this instead\n",
    "    get_ipython().run_line_magic('matplotlib', 'inline')\n",
    "else:\n",
    "    get_ipython().run_line_magic('matplotlib', 'auto')\n",
    "\n",
    "# Import the plot-figure library matplotlib\n",
    "\n",
    "import matplotlib.pyplot as plt\n",
    "\n",
    "# In order to use LaTeX to manage all text layout in our figures, we import rc settings from matplotlib.\n",
    "from matplotlib import rc\n",
    "plt.rc('font', family='serif')\n",
    "\n",
    "# LaTeX is huge and takes forever to install on mybinder\n",
    "# so if it is not installed then do not use it \n",
    "from distutils.spawn import find_executable\n",
    "iflatexExists=False\n",
    "if find_executable('latex'):\n",
    "    iflatexExists=True\n",
    "    \n",
    "plt.rc('text', usetex=iflatexExists)\n",
    "\n",
    "# The warnings package allows us to ignore some harmless but alarming warning messages\n",
    "import warnings\n",
    "warnings.filterwarnings(\"ignore\")\n",
    "\n",
    "from copy import copy, deepcopy"
   ]
  },
  {
   "cell_type": "markdown",
   "id": "03d908c2",
   "metadata": {},
   "source": [
    "## Calibrating a Basic Version of cstwMPC\n",
    "\n",
    "To get started, let's reproduce a simplified version of the main results from cstwMPC.  \n",
    "\n",
    "In cstwMPC, the authors calibrated nearly all of the model parameters-- risk aversion, income shock process, etc-- to commonly used or previously estimated values.  The only parameter to be estimated is the distribution of $\\beta$.  cstwMPC assumed that $\\beta$ is uniformly distributed on $[\\grave{\\beta}-\\nabla,\\grave{\\beta}+\\nabla]$, approximated by a seven point distribution.\n",
    "\n",
    "Their estimation procedure seeks the values of $\\grave{\\beta}$ and $\\nabla$ that generate a simulated distribution of wealth that best matches empirical U.S. data.  Their definition of \"best match\" has two aspects:\n",
    "\n",
    "1. The simulated aggregate capital-to-income ratio matches the true U.S. value.\n",
    "2. The sum of squared distances between the simulated and empirical Lorenz curves (at the 20th, 40th, 60th, and 80th percentiles) is minimized (conditional on item 1).\n",
    "\n",
    "cstwMPC's target empirical moments are a capital-to-income ratio of 10.26 and cumulative wealth shares as given in the table below.  Yes, you are reading the table correctly: The \"poorest\" 80 percent of households own 17.5 percent of wealth. \n",
    "\n",
    "| Net worth percentile | Cumulative wealth share |\n",
    "|:---:|:---:|\n",
    "|  20th  | -0.2% |\n",
    "|  40th  | 1.0% |\n",
    "|  60th  | 5.5% |\n",
    "|  80th  | 17.5% |\n",
    "\n",
    "To reproduce their basic results, we must import an $\\texttt{AgentType}$ subclass and define a dictionary with calibrated parameters identical to those in the paper."
   ]
  },
  {
   "cell_type": "code",
   "execution_count": 2,
   "id": "b6339a1b-b47d-4ee4-b69f-13fcb85ddb37",
   "metadata": {
    "code_folding": [
     0,
     4
    ]
   },
   "outputs": [],
   "source": [
    "# Import IndShockConsumerType\n",
    "from HARK.ConsumptionSaving.ConsIndShockModel import IndShockConsumerType\n",
    "\n",
    "# Define a dictionary with calibrated parameters\n",
    "cstwMPC_calibrated_parameters = {\n",
    "    \"CRRA\":1.0,                    # Coefficient of relative risk aversion \n",
    "    \"Rfree\":1.01/(1.0 - 1.0/160.0), # Survival probability,\n",
    "    \"PermGroFac\":[1.000**0.25], # Permanent income growth factor (no perm growth),\n",
    "    \"PermGroFacAgg\":1.0,\n",
    "    \"BoroCnstArt\":0.0,\n",
    "    \"CubicBool\":False,\n",
    "    \"vFuncBool\":False,\n",
    "    \"PermShkStd\":[(0.01*4/11)**0.5],  # Standard deviation of permanent shocks to income\n",
    "    \"PermShkCount\":5,  # Number of points in permanent income shock grid\n",
    "    \"TranShkStd\":[(0.01*4)**0.5],  # Standard deviation of transitory shocks to income,\n",
    "    \"TranShkCount\":5,  # Number of points in transitory income shock grid\n",
    "    \"UnempPrb\":0.07,  # Probability of unemployment while working\n",
    "    \"IncUnemp\":0.15,  # Unemployment benefit replacement rate\n",
    "    \"UnempPrbRet\":0.07,\n",
    "    \"IncUnempRet\":0.15,\n",
    "    \"aXtraMin\":0.00001,  # Minimum end-of-period assets in grid\n",
    "    \"aXtraMax\":40,  # Maximum end-of-period assets in grid\n",
    "    \"aXtraCount\":32,  # Number of points in assets grid\n",
    "    \"aXtraExtra\":[None],\n",
    "    \"aXtraNestFac\":3,  # Number of times to 'exponentially nest' when constructing assets grid\n",
    "    \"LivPrb\":[1.0 - 1.0/160.0],  # Survival probability\n",
    "    \"DiscFac\":0.97,             # Default intertemporal discount factor; dummy value, will be overwritten\n",
    "    \"cycles\":0,\n",
    "    \"T_cycle\":1,\n",
    "    \"T_retire\":0,\n",
    "    'T_sim':1200,  # Number of periods to simulate (idiosyncratic shocks model, perpetual youth)\n",
    "    'T_age': 400,\n",
    "    'IndL': 10.0/9.0,  # Labor supply per individual (constant),\n",
    "    'aNrmInitMean':np.log(0.00001),\n",
    "    'aNrmInitStd':0.0,\n",
    "    'pLvlInitMean':0.0,\n",
    "    'pLvlInitStd':0.0,\n",
    "    'AgentCount':10000\n",
    "}"
   ]
  },
  {
   "cell_type": "markdown",
   "id": "5dbf21f3",
   "metadata": {},
   "source": [
    "Now let's make several instances of our class of agents and give them different values of $\\beta$, following cstwMPC's estimated distribution.  In our specification of interest, we will use $\\grave{\\beta}=0.9855583$ and $\\nabla = 0.0085$.\n",
    "\n",
    "NB: Reported parameter estimates in cstwMPC use a model with aggregate shocks and wage and interest rates determined dynamically (a heterogeneous agents DSGE model); this is the $\\texttt{AggShockConsumerType}$ in HARK.  The estimated parameters are slightly different in this exercise, as we are ignoring general equilibrium aspects and only using the $\\texttt{IndShockConsumerType}$"
   ]
  },
  {
   "cell_type": "code",
   "execution_count": 3,
   "id": "be2e945c-7965-46df-8382-f29e1abe6eda",
   "metadata": {},
   "outputs": [],
   "source": [
    "# This cell constructs seven instances of IndShockConsumerType with different discount factors\n",
    "from HARK.distribution import Uniform\n",
    "BaselineType = IndShockConsumerType(**cstwMPC_calibrated_parameters)\n",
    "\n",
    "# Specify the distribution of the discount factor\n",
    "num_types = 7              # number of types we want\n",
    "DiscFac_mean   = 0.9855583 # center of beta distribution \n",
    "DiscFac_spread = 0.0085    # spread of beta distribution\n",
    "DiscFac_dstn = Uniform(DiscFac_mean-DiscFac_spread, DiscFac_mean+DiscFac_spread).approx(num_types).X\n",
    "\n",
    "MyTypes = [] # initialize an empty list to hold our consumer types\n",
    "for nn in range(num_types):\n",
    "    # Now create the types, and append them to the list MyTypes\n",
    "    NewType = deepcopy(BaselineType)\n",
    "    NewType.DiscFac = DiscFac_dstn[nn]\n",
    "    NewType.seed = nn # give each consumer type a different RNG seed\n",
    "    MyTypes.append(NewType)"
   ]
  },
  {
   "cell_type": "markdown",
   "id": "07ab3df4",
   "metadata": {},
   "source": [
    "## Solving and Simulating the Baseline Agents\n",
    "\n",
    "Now let's solve and simulate each of our types of agents.  If you look in the parameter dictionary (or at any of the agent objects themselves), you will see that each one has an $\\texttt{AgentCount}$ attribute of 10000. That is, these seven ex ante heterogeneous types each represent ten thousand individual agents that will experience ex post heterogeneity when they draw different income (and mortality) shocks over time.\n",
    "\n",
    "In the code block below, fill in the contents of the loop to solve and simulate each agent type for many periods.  To do this, you should invoke the methods $\\texttt{solve}$, $\\texttt{initialize_sim}$, and $\\texttt{simulate}$ in that order.  Simulating for 1200 quarters (300 years) will approximate the long run distribution of wealth in the population. "
   ]
  },
  {
   "cell_type": "code",
   "execution_count": 4,
   "id": "e00769c1",
   "metadata": {},
   "outputs": [
    {
     "name": "stderr",
     "output_type": "stream",
     "text": [
      "  0%|                                                                                            | 0/7 [00:00<?, ?it/s]GPFRaw                 = 0.994269 \n",
      "GPFNrm                 = 0.997517 \n",
      "GPFAggLivPrb           = 0.988055 \n",
      "Thorn = APF            = 0.994269 \n",
      "PermGroFacAdj          = 0.996744 \n",
      "uInvEpShkuInv          = 1.000000 \n",
      "VAF                    = 0.972158 \n",
      "WRPF                   = 0.068051 \n",
      "DiscFacGPFNrmMax       = 0.980708 \n",
      "DiscFacGPFAggLivPrbMax = 0.990099 \n",
      " 14%|████████████                                                                        | 1/7 [00:05<00:30,  5.12s/it]GPFRaw                 = 0.996738 \n",
      "GPFNrm                 = 0.999994 \n",
      "GPFAggLivPrb           = 0.990508 \n",
      "Thorn = APF            = 0.996738 \n",
      "PermGroFacAdj          = 0.996744 \n",
      "uInvEpShkuInv          = 1.000000 \n",
      "VAF                    = 0.974572 \n",
      "WRPF                   = 0.068220 \n",
      "DiscFacGPFNrmMax       = 0.980708 \n",
      "DiscFacGPFAggLivPrbMax = 0.990099 \n",
      " 29%|████████████████████████                                                            | 2/7 [00:10<00:25,  5.06s/it]GPFRaw                 = 0.999206 \n",
      "GPFNrm                 = 1.002470 \n",
      "GPFAggLivPrb           = 0.992961 \n",
      "Thorn = APF            = 0.999206 \n",
      "PermGroFacAdj          = 0.996744 \n",
      "uInvEpShkuInv          = 1.000000 \n",
      "VAF                    = 0.976985 \n",
      "WRPF                   = 0.068389 \n",
      "DiscFacGPFNrmMax       = 0.980708 \n",
      "DiscFacGPFAggLivPrbMax = 0.990099 \n",
      " 43%|████████████████████████████████████                                                | 3/7 [00:15<00:20,  5.19s/it]GPFRaw                 = 1.001674 \n",
      "GPFNrm                 = 1.004946 \n",
      "GPFAggLivPrb           = 0.995414 \n",
      "Thorn = APF            = 1.001674 \n",
      "PermGroFacAdj          = 0.996744 \n",
      "uInvEpShkuInv          = 1.000000 \n",
      "VAF                    = 0.979399 \n",
      "WRPF                   = 0.068558 \n",
      "DiscFacGPFNrmMax       = 0.980708 \n",
      "DiscFacGPFAggLivPrbMax = 0.990099 \n",
      " 57%|████████████████████████████████████████████████                                    | 4/7 [00:21<00:16,  5.49s/it]GPFRaw                 = 1.004143 \n",
      "GPFNrm                 = 1.007423 \n",
      "GPFAggLivPrb           = 0.997867 \n",
      "Thorn = APF            = 1.004143 \n",
      "PermGroFacAdj          = 0.996744 \n",
      "uInvEpShkuInv          = 1.000000 \n",
      "VAF                    = 0.981812 \n",
      "WRPF                   = 0.068727 \n",
      "DiscFacGPFNrmMax       = 0.980708 \n",
      "DiscFacGPFAggLivPrbMax = 0.990099 \n",
      " 71%|████████████████████████████████████████████████████████████                        | 5/7 [00:29<00:13,  6.51s/it]GPFRaw                 = 1.006611 \n",
      "GPFNrm                 = 1.009899 \n",
      "GPFAggLivPrb           = 1.000320 \n",
      "Thorn = APF            = 1.006611 \n",
      "PermGroFacAdj          = 0.996744 \n",
      "uInvEpShkuInv          = 1.000000 \n",
      "VAF                    = 0.984225 \n",
      "WRPF                   = 0.068896 \n",
      "DiscFacGPFNrmMax       = 0.980708 \n",
      "DiscFacGPFAggLivPrbMax = 0.990099 \n",
      " 86%|████████████████████████████████████████████████████████████████████████            | 6/7 [00:38<00:07,  7.43s/it]GPFRaw                 = 1.009079 \n",
      "GPFNrm                 = 1.012375 \n",
      "GPFAggLivPrb           = 1.002772 \n",
      "Thorn = APF            = 1.009079 \n",
      "PermGroFacAdj          = 0.996744 \n",
      "uInvEpShkuInv          = 1.000000 \n",
      "VAF                    = 0.986639 \n",
      "WRPF                   = 0.069065 \n",
      "DiscFacGPFNrmMax       = 0.980708 \n",
      "DiscFacGPFAggLivPrbMax = 0.990099 \n",
      "100%|████████████████████████████████████████████████████████████████████████████████████| 7/7 [00:49<00:00,  7.06s/it]\n"
     ]
    }
   ],
   "source": [
    "# Progress bar keeps track interactively of how many have been made\n",
    "for ThisType in tqdm(MyTypes):\n",
    "    ThisType.solve()\n",
    "    ThisType.initialize_sim()\n",
    "    ThisType.simulate()"
   ]
  },
  {
   "cell_type": "markdown",
   "id": "c2559a7b",
   "metadata": {},
   "source": [
    "To verify that you wrote that code correctly, let's check that the aggregate level of capital (total assets held by all households) to income ratio equals what we expected it would be.  To do that, let's combine the asset holdings of all types, take the mean, and see if we get the desired capital to income ratio of 10.26.\n",
    "\n",
    "NB: Because there is no permanent income growth in this model, all shocks are mean one and idiosyncratic, and we have many agents, aggregate or average income is 1.0. "
   ]
  },
  {
   "cell_type": "code",
   "execution_count": 5,
   "id": "583bd477",
   "metadata": {},
   "outputs": [
    {
     "name": "stdout",
     "output_type": "stream",
     "text": [
      "The ratio of aggregate capital to permanent income is 10.16\n"
     ]
    }
   ],
   "source": [
    "aLvl_all = np.concatenate([ThisType.state_now[\"aLvl\"] for ThisType in MyTypes])\n",
    "print('The ratio of aggregate capital to permanent income is ' + decfmt2(np.mean(aLvl_all)))"
   ]
  },
  {
   "cell_type": "markdown",
   "id": "fc82e19a",
   "metadata": {},
   "source": [
    "## Plotting the Lorenz Curve"
   ]
  },
  {
   "cell_type": "code",
   "execution_count": 6,
   "id": "453c0487",
   "metadata": {},
   "outputs": [
    {
     "data": {
      "image/png": "[encoded data removed]",
      "text/plain": [
       "<Figure size 432x288 with 1 Axes>"
      ]
     },
     "metadata": {
      "needs_background": "light"
     },
     "output_type": "display_data"
    }
   ],
   "source": [
    "# Plot Lorenz curves for model with uniform distribution of time preference\n",
    "from HARK.datasets import load_SCF_wealth_weights\n",
    "from HARK.utilities import get_lorenz_shares, get_percentiles\n",
    "\n",
    "SCF_wealth, SCF_weights = load_SCF_wealth_weights()\n",
    "\n",
    "pctiles = np.linspace(0.001,0.999,200)\n",
    "sim_wealth = np.concatenate([ThisType.state_now[\"aLvl\"] for ThisType in MyTypes])\n",
    "SCF_Lorenz_points = get_lorenz_shares(SCF_wealth,weights=SCF_weights,percentiles=pctiles)\n",
    "sim_Lorenz_points = get_lorenz_shares(sim_wealth,percentiles=pctiles)\n",
    "plt.plot(pctiles,SCF_Lorenz_points,'--k')\n",
    "plt.plot(pctiles,sim_Lorenz_points,'-b')\n",
    "plt.xlabel('Percentile of net worth')\n",
    "plt.ylabel('Cumulative share of wealth')\n",
    "plt.show(block=False)"
   ]
  },
  {
   "cell_type": "markdown",
   "id": "d853253c",
   "metadata": {},
   "source": [
    "## Calculating the Lorenz Distance at Targets\n",
    "\n",
    "Now we want to construct a function that calculates the Euclidean distance between simulated and actual Lorenz curves at the four percentiles of interest: 20, 40, 60, and 80.  "
   ]
  },
  {
   "cell_type": "markdown",
   "id": "2d6c123a",
   "metadata": {},
   "source": [
    "### PROBLEM - Create a Function to Calculate Lorenz Distance\n",
    "\n",
    "Now you should write a function `calcLorenzDistance(SomeTypes)` that calculates the  distance (the square root of the sum of the squared distances) between simulated and actual Lorenz curves at the four percentiles of interest: 20, 40, 60, and 80.  \n",
    "\n",
    "\\begin{align}\n",
    "d = \\left((1/4)\\sum_{i=0}^{3} (\\text{SCF}_{i} - \\text{sim}_{i})^{2}\\right)^{1/2}\n",
    "\\end{align}\n",
    "\n",
    "where $\\text{SCF}_{0}$, for example, is the fraction of wealth the SCF measures as being held by people in the bottom 20 percent of the wealth distribution.\n",
    "\n",
    "The function will just systematize what we did by hand to calculate `sim_Lorenz_points` in the prior cell.  Fill in the skeleton of the function below, and then test your function using the input $\\texttt{MyTypes}$.  If you did it correctly, the Lorenz distance should be about 0.015.\n",
    "\n",
    "Hint 0: You may find it useful to check out some documentation for $\\texttt{HARK.utilities}$ [at this link](https://hark.readthedocs.io/en/latest/reference/tools/utilities.html?highlight=utilities#module-HARK.utilities).\n",
    "\n",
    "Hint 1: You will probably find it useful to use the following tools from the `numpy` library (imported above via `import numpy as np`): `np.array`, `np.concatenate`, `np.sum`, `np.sqrt`.  The first two of these are used above; the use of the latter two should become apparent as you work your way through the exercise."
   ]
  },
  {
   "cell_type": "code",
   "execution_count": 32,
   "id": "9cc841a5",
   "metadata": {
    "code_folding": []
   },
   "outputs": [
    {
     "name": "stdout",
     "output_type": "stream",
     "text": [
      "The baseline Lorenz distance is 0.0868\n"
     ]
    }
   ],
   "source": [
    "### PROBLEM:\n",
    "\n",
    "# Finish filling in this function to calculate the Euclidean distance \n",
    "# between the simulated and actual Lorenz curves.\n",
    "def calcLorenzDistance(SomeTypes):\n",
    "    '''\n",
    "    Calculates the Euclidean distance between the simulated and actual (from SCF data) Lorenz curves at the\n",
    "    20th, 40th, 60th, and 80th percentiles.\n",
    "    \n",
    "    Parameters\n",
    "    ----------\n",
    "    SomeTypes : [AgentType]\n",
    "        List of AgentTypes that have been solved and simulated.  Current levels of individual assets should\n",
    "        be stored in the attribute aLvl.\n",
    "        \n",
    "    Returns\n",
    "    -------\n",
    "    lorenz_distance : float\n",
    "        Euclidean distance (square root of sum of squared differences) between simulated and actual Lorenz curves.\n",
    "    '''\n",
    "    # Define empirical Lorenz curve points\n",
    "    lorenz_SCF = np.array([-0.00183091,  0.0104425 ,  0.0552605 ,  0.1751907 ])\n",
    "    \n",
    "    # Extract asset holdings from all consumer types\n",
    "    # Hints:\n",
    "    #   you will want to use numpy's concatenate command, as above\n",
    "    sim_wealth = np.concatenate([ThisType.state_now[\"aLvl\"] for ThisType in SomeTypes])\n",
    "    \n",
    "    # Calculate simulated Lorenz curve points (as above)\n",
    "    SCF_Lorenz_points = get_lorenz_shares(SCF_wealth,weights=SCF_weights,percentiles=[0.2]) # take 0.2 to have 4 values\n",
    "    sim_Lorenz_points = get_lorenz_shares(sim_wealth,percentiles=[0.2]) \n",
    "    \n",
    "    # Calculate the Euclidean distance between the simulated and actual Lorenz curves\n",
    "    # Hint: you will want to use numpy's sqrt and sum commands: np.sqrt and np.sum\n",
    "    lorenz_distance = np.sqrt((1/4) * np.sum((lorenz_SCF - sim_Lorenz_points)**2))\n",
    "    \n",
    "    # Return the Lorenz distance (uncomment the following line)\n",
    "    return lorenz_distance\n",
    "\n",
    "# Test your function:\n",
    "# (uncomment line below)\n",
    "print('The baseline Lorenz distance is ' + decfmt4(calcLorenzDistance(MyTypes)))"
   ]
  },
  {
   "cell_type": "markdown",
   "id": "23e88596",
   "metadata": {},
   "source": [
    "## The Distribution Of the Marginal Propensity to Consume\n",
    "\n",
    "For many macroeconomic purposes, the distribution of the MPC $\\kappa$ is more important than the distribution of wealth.  Ours is a quarterly model, and MPC's are typically reported on an annual basis; we can compute a (very) approximate annual MPC from the quraterly ones as $\\kappa_{Y} \\approx 1.0 - (1.0 - \\kappa_{Q})^4$\n",
    "\n",
    "In the cell below, we retrieve the MPCs from our simulated consumers and show that the 10th percentile in the MPC distribution is only about 6 percent, while at the 90th percentile it is almost 0.5"
   ]
  },
  {
   "cell_type": "code",
   "execution_count": 8,
   "id": "944ad9c4",
   "metadata": {},
   "outputs": [
    {
     "name": "stdout",
     "output_type": "stream",
     "text": [
      "The MPC at the 10th percentile of the distribution is 0.06\n",
      "The MPC at the 50th percentile of the distribution is 0.20\n",
      "The MPC at the 90th percentile of the distribution is 0.51\n"
     ]
    }
   ],
   "source": [
    "# Retrieve the MPC's\n",
    "percentiles=np.linspace(0.1,0.9,9)\n",
    "MPC_sim = np.concatenate([ThisType.MPCnow for ThisType in MyTypes])\n",
    "MPCpercentiles_quarterly = get_percentiles(MPC_sim,percentiles=percentiles)\n",
    "MPCpercentiles_annual = 1.0 - (1.0 - MPCpercentiles_quarterly)**4\n",
    "\n",
    "print('The MPC at the 10th percentile of the distribution is '+str(decfmt2(MPCpercentiles_annual[0])))\n",
    "print('The MPC at the 50th percentile of the distribution is '+str(decfmt2(MPCpercentiles_annual[4])))\n",
    "print('The MPC at the 90th percentile of the distribution is '+str(decfmt2(MPCpercentiles_annual[-1])))"
   ]
  },
  {
   "cell_type": "markdown",
   "id": "09ac6d04",
   "metadata": {},
   "source": [
    "### PROBLEM\n",
    "\n",
    "Now let's look in more detail at the distribution of the MPC.  In the code block below, write a function that produces text output of the following form:\n",
    "\n",
    "$\\texttt{The 35th percentile of the MPC is [whatever is the right number]}$\n",
    "\n",
    "Your function should take two inputs: a list of types of consumers and an array of percentiles (numbers between 0 and 1). It should return no outputs, merely print to screen one line of text for each requested percentile.  The model is calibrated at a quarterly frequency, but Carroll et al report MPCs at an annual frequency. To convert, use the formula:\n",
    "\n",
    "$\\kappa_{Y} \\approx 1.0 - (1.0 - \\kappa_{Q})^4$"
   ]
  },
  {
   "cell_type": "code",
   "execution_count": 21,
   "id": "684ba7e5-d817-4308-a325-b360423d15b4",
   "metadata": {},
   "outputs": [],
   "source": [
    "# PROBLEM: soln here \n",
    "# (rename all-caps PROBLEM in line above to all-caps solution)\n",
    "def describeMPCdstn(SomeTypes,percentiles):\n",
    "    # Body of function here\n",
    "    MPC_sim = np.concatenate([ThisType.MPCnow for ThisType in SomeTypes])\n",
    "    MPCpercentiles_quarterly = get_percentiles(MPC_sim,percentiles=percentiles)\n",
    "    MPCpercentiles_annual = 1.0 - (1.0 - MPCpercentiles_quarterly)**4\n",
    "    print('The', str(decfmt2(percentiles[0])), 'th percentile of the MPC is '+str(decfmt2(MPCpercentiles_annual[0])))\n",
    "    return"
   ]
  },
  {
   "cell_type": "code",
   "execution_count": 22,
   "id": "e968615c-759d-48cd-9ecc-dd7c446564a0",
   "metadata": {},
   "outputs": [
    {
     "name": "stdout",
     "output_type": "stream",
     "text": [
      "The 0.35 th percentile of the MPC is 0.08\n"
     ]
    }
   ],
   "source": [
    "describeMPCdstn(MyTypes,[0.35])"
   ]
  },
  {
   "cell_type": "markdown",
   "id": "75f0587c",
   "metadata": {},
   "source": [
    "## Adding Very Impatient Households\n",
    "\n",
    "Now that we have some tools for examining both microeconomic (the MPC across the population) and macroeconomic (the distribution and overall level of wealth) outcomes from our model, we are all set to conduct our experiment.\n",
    "\n",
    "In this exercise, we are going to add very impatient households to the economy in a very direct way: by replacing the *most impatient consumer type* with an *even more impatient type*.  Specifically, we will have these agents have a discount factor of $\\beta = 0.80$ at a quarterly frequency, which corresponds to $\\beta \\approx 0.41$ annual.\n",
    "\n",
    "In the code block below, we:\n",
    "\n",
    "1. Replicate the list of agents using $\\texttt{deepcopy}$.\n",
    "2. Set the $\\beta$ of the most impatient type to $0.80$ (for the copied set of agents).\n",
    "3. Solve and simulate the most impatient type (for the copied set of agents)."
   ]
  },
  {
   "cell_type": "code",
   "execution_count": 11,
   "id": "7fb52937",
   "metadata": {},
   "outputs": [
    {
     "name": "stderr",
     "output_type": "stream",
     "text": [
      "GPFRaw                 = 0.813082 \n",
      "GPFNrm                 = 0.815738 \n",
      "GPFAggLivPrb           = 0.808000 \n",
      "Thorn = APF            = 0.813082 \n",
      "PermGroFacAdj          = 0.996744 \n",
      "uInvEpShkuInv          = 1.000000 \n",
      "VAF                    = 0.795000 \n",
      "WRPF                   = 0.055650 \n",
      "DiscFacGPFNrmMax       = 0.980708 \n",
      "DiscFacGPFAggLivPrbMax = 0.990099 \n"
     ]
    },
    {
     "name": "stdout",
     "output_type": "stream",
     "text": [
      "The MPC at the 10th percentile of the distribution is 0.06\n",
      "The MPC at the 50th percentile of the distribution is 0.20\n",
      "The MPC at the 90th percentile of the distribution is 0.97\n"
     ]
    }
   ],
   "source": [
    "# Follow the instructions above to make another list of agents that includes *very* impatient households.\n",
    "NewTypes = deepcopy(MyTypes)\n",
    "NewTypes[0].DiscFac = 0.8\n",
    "NewTypes[0].solve()\n",
    "NewTypes[0].initialize_sim()\n",
    "NewTypes[0].simulate()\n",
    "\n",
    "# Retrieve the MPC's\n",
    "percentiles=np.linspace(0.1,0.9,9)\n",
    "MPC_sim = np.concatenate([ThisType.MPCnow for ThisType in NewTypes])\n",
    "MPCpercentiles_quarterly = get_percentiles(MPC_sim,percentiles=percentiles)\n",
    "MPCpercentiles_annual = 1.0 - (1.0 - MPCpercentiles_quarterly)**4\n",
    "\n",
    "print('The MPC at the 10th percentile of the distribution is '+str(decfmt2(MPCpercentiles_annual[0])))\n",
    "print('The MPC at the 50th percentile of the distribution is '+str(decfmt2(MPCpercentiles_annual[4])))\n",
    "print('The MPC at the 90th percentile of the distribution is '+str(decfmt2(MPCpercentiles_annual[-1])))"
   ]
  },
  {
   "cell_type": "markdown",
   "id": "5ca81307",
   "metadata": {
    "jp-MarkdownHeadingCollapsed": true,
    "tags": []
   },
   "source": [
    "### PROBLEM\n",
    "## Testing the Implications of Very Impatient Households\n",
    "\n",
    "Now that we have the baseline set of simulated agents (in $\\texttt{MyTypes}$) and the altered set of simulated agents (in whatever you named your copied version), let's investigate what this means for micro- and macroeconomic outcomes.  In the code block below, use both lists of agents and the data tools you wrote above to investigate the following questions:\n",
    "\n",
    "1. Did introducing very impatient households generate a substantial proportion of hand-to-mouth households?\n",
    "   - Define 'hand to mouth' as households whose annual MPC is greater than 0.7\n",
    "2. Did introducing very impatient households affect the simulated model's ability to match the empirical distribution of wealth and its aggregate level?\n",
    "3. Much of the \"behavioral\" consumption literature concludes, when consumers are found to have very high MPC's, that the standard optimal consumption model \"doesn't work\" \n",
    "   * Given what you have found, can you reject the hypothesis that hand-to-mouth households arise in the data because they are very impatient?\n",
    "\n",
    "Use the markdown block below the code block to briefly answer those questions."
   ]
  },
  {
   "cell_type": "code",
   "execution_count": 17,
   "id": "7474bc3a-bdf4-4e00-85c6-f9fe1c7f3e3e",
   "metadata": {},
   "outputs": [],
   "source": [
    "# PROBLEM: soln here \n",
    "# (rename all-caps problem in line above to all-caps solution)\n",
    "\n",
    "# 1. Did introducing very impatient households generate a substantial proportion of hand-to-mouth households?\n",
    "# eg search for percentile with MPC = 0.7\n",
    "def findMPCpercentile(SomeTypes,MPC):\n",
    "    # Body of function here\n",
    "    percentiles_new = np.round(np.linspace(0.01,0.99,99),2)\n",
    "    percentiles_new = percentiles_new.tolist()\n",
    "    MPC_sim = np.concatenate([ThisType.MPCnow for ThisType in SomeTypes])\n",
    "    MPCpercentiles_quarterly = get_percentiles(MPC_sim,percentiles=percentiles_new)\n",
    "    MPCpercentiles_annual = 1.0 - (1.0 - MPCpercentiles_quarterly)**4\n",
    "    \n",
    "    # Find the position\n",
    "    solprecentile = np.argwhere(MPCpercentiles_annual >= MPC) + 1 #next((x for x in MPCpercentiles_annual if MPCpercentiles_annual == 0.7), None)\n",
    "    \n",
    "    print('The MPC of', MPC, 'marks the', str(solprecentile[0]), 'th percentile of the distribution')\n",
    "    return"
   ]
  },
  {
   "cell_type": "code",
   "execution_count": 23,
   "id": "bb7fd931-4eb2-439d-bc54-bb39c9685f81",
   "metadata": {},
   "outputs": [
    {
     "name": "stdout",
     "output_type": "stream",
     "text": [
      "The MPC of 0.7 marks the [96] th percentile of the distribution\n",
      "The MPC of 0.7 marks the [84] th percentile of the distribution\n"
     ]
    }
   ],
   "source": [
    "findMPCpercentile(MyTypes, 0.7)\n",
    "findMPCpercentile(NewTypes, 0.7)\n",
    "\n",
    "# We get a higher share of households who are HtM"
   ]
  },
  {
   "cell_type": "code",
   "execution_count": 33,
   "id": "63abf291-a92b-4c2f-85d8-eccb2d44b2f8",
   "metadata": {},
   "outputs": [
    {
     "name": "stdout",
     "output_type": "stream",
     "text": [
      "The baseline Lorenz distance is 0.0868\n",
      "The baseline Lorenz distance is 0.0902\n"
     ]
    }
   ],
   "source": [
    "# Did introducing very impatient households affect the simulated model's ability to match the empirical distribution of wealth and its aggregate level?\n",
    "print('The baseline Lorenz distance is ' + decfmt4(calcLorenzDistance(MyTypes)))\n",
    "print('The baseline Lorenz distance is ' + decfmt4(calcLorenzDistance(NewTypes)))\n",
    "\n",
    "# New Types are getting worse"
   ]
  },
  {
   "cell_type": "markdown",
   "id": "0f8b2f1a-13c1-4b94-8ee4-3fea3aaaa01b",
   "metadata": {},
   "source": [
    "#### 3\n",
    "Q: Much of the \"behavioral\" consumption literature concludes, when consumers are found to have very high MPC's, that the standard optimal consumption model \"doesn't work\"\n",
    "\n",
    "A: With very impatient households, we get a higher share of HtM households however, the distance to the lorenz curve gets a bit worse. The difference could be that the very impatient households have high MPCs, but little net worth. An alternative explanation are the wealthy HtM which have high net worth (eg a house), but high MPC as they are credit constraint. Hence, to match the share of HtM households, adding the very impatient households is a useful trick. But, if we want to match MPC and level of net worth, maybe not so much."
   ]
  },
  {
   "cell_type": "markdown",
   "id": "15e75a28",
   "metadata": {},
   "source": [
    "### PROBLEM -- Plot the new distribution of wealth\n",
    "\n",
    "The $\\texttt{matplotlib}$ library provides plotting functionality that replicates Matlab's plot features (more or less). As an example of how to use it, we have written a few lines of code that plot the empirical vs simulated Lorenz curves.  Write some code that plots the CDF of the MPC before and after adding very impatient households, and plots the DIFFERENCES between the Lorenz curves across the two populations.  Interpret the two graphs."
   ]
  },
  {
   "cell_type": "code",
   "execution_count": 44,
   "id": "8f669698-582e-426b-947b-45778a7b3fb7",
   "metadata": {},
   "outputs": [
    {
     "data": {
      "image/png": "[encoded data removed]",
      "text/plain": [
       "<Figure size 432x288 with 1 Axes>"
      ]
     },
     "metadata": {
      "needs_background": "light"
     },
     "output_type": "display_data"
    }
   ],
   "source": [
    "# PROBLEM: soln here \n",
    "# (rename all-caps problem in line above to all-caps solution)\n",
    "\n",
    "# 1. CDF of MPCs\n",
    "percentiles_new = np.round(np.linspace(0.01,0.99,99),2)\n",
    "percentiles_new = percentiles_new.tolist()\n",
    "    \n",
    "MPC_sim_base = np.concatenate([ThisType.MPCnow for ThisType in MyTypes])\n",
    "MPCpercentiles_quarterly_base = get_percentiles(MPC_sim_base,percentiles=percentiles_new)\n",
    "MPCpercentiles_annual_base = 1.0 - (1.0 - MPCpercentiles_quarterly_base)**4\n",
    "\n",
    "MPC_sim_pat = np.concatenate([ThisType.MPCnow for ThisType in NewTypes])\n",
    "MPCpercentiles_quarterly_pat = get_percentiles(MPC_sim_pat,percentiles=percentiles_new)\n",
    "MPCpercentiles_annual_pat = 1.0 - (1.0 - MPCpercentiles_quarterly_pat)**4\n",
    "\n",
    "pctiles = np.round(np.linspace(0.01,0.99,99),2)\n",
    "\n",
    "plt.plot(pctiles,MPCpercentiles_annual_base,'--k')\n",
    "plt.plot(pctiles,MPCpercentiles_annual_pat,'-b')\n",
    "plt.xlabel('Percentile of MPC')\n",
    "plt.ylabel('MPCs')\n",
    "plt.show(block=False)"
   ]
  },
  {
   "cell_type": "code",
   "execution_count": 45,
   "id": "8ce44021-23ed-493a-83eb-af5e3509c01a",
   "metadata": {},
   "outputs": [
    {
     "data": {
      "image/png": "[encoded data removed]",
      "text/plain": [
       "<Figure size 432x288 with 1 Axes>"
      ]
     },
     "metadata": {
      "needs_background": "light"
     },
     "output_type": "display_data"
    }
   ],
   "source": [
    "### Plotting the two lorenz curves together\n",
    "SCF_wealth, SCF_weights = load_SCF_wealth_weights()\n",
    "\n",
    "pctiles = np.linspace(0.001,0.999,200)\n",
    "sim_wealth_base = np.concatenate([ThisType.state_now[\"aLvl\"] for ThisType in MyTypes])\n",
    "sim_wealth_pat = np.concatenate([ThisType.state_now[\"aLvl\"] for ThisType in NewTypes])\n",
    "\n",
    "SCF_Lorenz_points = get_lorenz_shares(SCF_wealth,weights=SCF_weights,percentiles=pctiles)\n",
    "sim_Lorenz_points_base = get_lorenz_shares(sim_wealth_base,percentiles=pctiles)\n",
    "sim_Lorenz_points_pat = get_lorenz_shares(sim_wealth_pat,percentiles=pctiles)\n",
    "\n",
    "plt.plot(pctiles,SCF_Lorenz_points,'--k')\n",
    "plt.plot(pctiles,sim_Lorenz_points_base,'-b')\n",
    "plt.plot(pctiles,sim_Lorenz_points_pat,'-r')\n",
    "plt.xlabel('Percentile of net worth')\n",
    "plt.ylabel('Cumulative share of wealth')\n",
    "plt.show(block=False)\n"
   ]
  },
  {
   "cell_type": "code",
   "execution_count": 36,
   "id": "29142294-28e1-47a2-8e80-76b80a1572ef",
   "metadata": {},
   "outputs": [
    {
     "data": {
      "image/png": "[encoded data removed]",
      "text/plain": [
       "<Figure size 432x288 with 1 Axes>"
      ]
     },
     "metadata": {
      "needs_background": "light"
     },
     "output_type": "display_data"
    }
   ],
   "source": [
    "# Plotting their Difference\n",
    "sim_Lorenz_points_diff = sim_Lorenz_points_base - sim_Lorenz_points_pat\n",
    "plt.plot(pctiles,sim_Lorenz_points_diff,'-b')\n",
    "plt.xlabel('Percentile of net worth')\n",
    "plt.ylabel('Difference')\n",
    "plt.show(block=False)"
   ]
  },
  {
   "cell_type": "markdown",
   "id": "cbd271d3-bbbe-4da9-a128-8329a6df7e5d",
   "metadata": {},
   "source": [
    "#### Interpretation:\n",
    "Adding the impatient households, we get more HtM households with high MPCs. The biggest difference in the Lorenz curve is for the 60th percentile"
   ]
  },
  {
   "cell_type": "code",
   "execution_count": null,
   "id": "6c3cce06-6125-462a-8ce0-3837bd381375",
   "metadata": {},
   "outputs": [],
   "source": []
  }
 ],
 "metadata": {
  "jupytext": {
   "cell_metadata_filter": "ExecuteTime,collapsed,incorrectly_encoded_metadata,code_folding,-autoscroll",
   "formats": "ipynb,py:percent",
   "notebook_metadata_filter": "all,-widgets,-varInspector"
  },
  "kernelspec": {
   "display_name": "Python 3",
   "language": "python",
   "name": "python3"
  },
  "language_info": {
   "codemirror_mode": {
    "name": "ipython",
    "version": 3
   },
   "file_extension": ".py",
   "mimetype": "text/x-python",
   "name": "python",
   "nbconvert_exporter": "python",
   "pygments_lexer": "ipython3",
   "version": "3.8.8"
  },
  "latex_envs": {
   "LaTeX_envs_menu_present": true,
   "autoclose": false,
   "autocomplete": true,
   "bibliofile": "biblio.bib",
   "cite_by": "apalike",
   "current_citInitial": 1,
   "eqLabelWithNumbers": true,
   "eqNumInitial": 1,
   "hotkeys": {
    "equation": "Ctrl-E",
    "itemize": "Ctrl-I"
   },
   "labels_anchors": false,
   "latex_user_defs": false,
   "report_style_numbering": false,
   "user_envs_cfg": false
  }
 },
 "nbformat": 4,
 "nbformat_minor": 5
}
